{
 "cells": [
  {
   "cell_type": "markdown",
   "id": "a74215cb",
   "metadata": {},
   "source": [
    "[![Open In Colab](https://colab.research.google.com/assets/colab-badge.svg)](https://colab.research.google.com/github/m-durand/propedeutico_python/blob/main/notebooks/7_SQL.ipynb)"
   ]
  },
  {
   "cell_type": "markdown",
   "id": "6a3ef43f",
   "metadata": {},
   "source": [
    "# Propedéutico a programación con Python.\n",
    "\n",
    "**Verano 2023, por el Centro de Ciencia de Datos, EGobiernoyTP.**\n",
    "\n",
    "### Sesión 5: Más de pandas\n",
    "\n",
    "1. Series vs DataFrame"
   ]
  },
  {
   "cell_type": "markdown",
   "id": "207ffba4",
   "metadata": {},
   "source": [
    "### 1. Series vs DataFrame\n",
    "\n",
    "Pandas soporta dos tipos de estructura de datos Series y DataFrame. La diferencia es que Pandas Series es un arreglo unidimensional etiquetado, es decir, un arreglo con nombre o una columna. De hecho, Pandas Series se construye sobre arreglos de numpy. \n",
    "\n",
    "Por otro lado Pandas DataFrame son estructuras con dos dimensiones (columnas y renglones). Básicamente, cada columna en un DataFrame de pandas es una Serie de pandas. "
   ]
  },
  {
   "cell_type": "code",
   "execution_count": null,
   "id": "5b25f4d0",
   "metadata": {},
   "outputs": [],
   "source": []
  },
  {
   "cell_type": "code",
   "execution_count": null,
   "id": "2a983146",
   "metadata": {},
   "outputs": [],
   "source": []
  },
  {
   "cell_type": "code",
   "execution_count": null,
   "id": "6d65b31e",
   "metadata": {},
   "outputs": [],
   "source": []
  },
  {
   "cell_type": "code",
   "execution_count": null,
   "id": "2f8709bc",
   "metadata": {},
   "outputs": [],
   "source": []
  },
  {
   "cell_type": "code",
   "execution_count": null,
   "id": "ae1c3431",
   "metadata": {},
   "outputs": [],
   "source": [
    "df.to_numpy()"
   ]
  },
  {
   "cell_type": "code",
   "execution_count": null,
   "id": "f117ca44",
   "metadata": {},
   "outputs": [],
   "source": [
    "df.values"
   ]
  },
  {
   "cell_type": "code",
   "execution_count": null,
   "id": "c6c80fdf",
   "metadata": {},
   "outputs": [],
   "source": [
    "df.sort_values(by='column')"
   ]
  },
  {
   "cell_type": "code",
   "execution_count": null,
   "id": "bc1cd0bd",
   "metadata": {},
   "outputs": [],
   "source": [
    "grupos[(['etiquetas','cantidad'])].sort_values('cantidad')"
   ]
  },
  {
   "cell_type": "code",
   "execution_count": null,
   "id": "05b19505",
   "metadata": {},
   "outputs": [],
   "source": [
    "df2.groupby(\"grupos\")[\"usuarios\"].count()"
   ]
  },
  {
   "cell_type": "code",
   "execution_count": null,
   "id": "747d4033",
   "metadata": {},
   "outputs": [],
   "source": [
    "df2['dia_semana'] = df2['fechas'].dt.day_name()\n",
    "df2['dia_mes'] = df2['fechas'].dt.day"
   ]
  },
  {
   "cell_type": "code",
   "execution_count": null,
   "id": "df3a4e31",
   "metadata": {},
   "outputs": [],
   "source": [
    "hola"
   ]
  },
  {
   "cell_type": "markdown",
   "id": "0342d3f8",
   "metadata": {},
   "source": [
    "We have several methods on lists here are few examples.\n",
    "\n",
    "list_methods.py"
   ]
  },
  {
   "cell_type": "code",
   "execution_count": null,
   "id": "51201fac",
   "metadata": {},
   "outputs": [],
   "source": [
    "stationery_list = [\"Pen\", \"Pencil\", \"Notepad\"]\n",
    "stationery_list.append(\"Eraser\")\n",
    "# Adds new item at the end of the list\n",
    "print(stationery_list)\n",
    "stationery_list.insert(2, \"Files\")\n",
    "\n",
    "\"\"\"\n",
    "Insert method inserts a single element into a list.It takes two arguments one is \n",
    "the numerical index at which the data is to be inserted and the other is value.\n",
    "\"\"\"\n",
    "\n",
    "print(stationery_list)\n",
    "stationery_list.index(\"Pen\")"
   ]
  },
  {
   "cell_type": "code",
   "execution_count": null,
   "id": "f711b85b",
   "metadata": {},
   "outputs": [],
   "source": [
    "\n",
    "temperature = 27\n",
    "if temperature <= 30:\n",
    "    print(\"Let’s go to the party!\")"
   ]
  },
  {
   "cell_type": "code",
   "execution_count": null,
   "id": "89f531c9",
   "metadata": {},
   "outputs": [],
   "source": [
    "\n",
    "movie_tickets = 4\n",
    "if(movie_tickets >= 4):\n",
    "    print(\"Tickets are available, Let’s go to the movie.\")\n",
    "else:\n",
    "    print(\"Let’s have a drink, tickets are not available.\")"
   ]
  },
  {
   "cell_type": "code",
   "execution_count": null,
   "id": "8ae5aa02",
   "metadata": {},
   "outputs": [],
   "source": [
    "\n",
    "weight = 77\n",
    "height = 180\n",
    "bmi = (weight / (height**2)) * 10000\n",
    "print(\"Computing…\")\n",
    "print(\"Your bmi is {}\\n\".format(bmi))\n",
    "if bmi < 18.5:\n",
    "    print(\"Underweight\")\n",
    "elif 18.5 <= bmi <= 24.99:\n",
    "    print(\"Perfect ! Normal weight\")\n",
    "elif 25.00 <= bmi <= 30.00:\n",
    "    print(\"Overweight\")\n",
    "elif bmi > 30.00:\n",
    "    print(\"Obese\")"
   ]
  },
  {
   "cell_type": "code",
   "execution_count": null,
   "id": "7edacf11",
   "metadata": {},
   "outputs": [],
   "source": [
    "Lambda Functions to modify a column in the dataframe\n",
    "Suppose if the columns in our dataframe are not in the correct format means, we need to modify the column. We can apply lambda functions on a column in a dataframe using the apply() method.\n",
    "\n",
    "“Price” column is in object datatype. We need to change it to int data type so that we can perform mathematical operations.\n",
    "\n",
    "“Price” column has $ symbol laso. We need to remove that and then convert it to int datatype.\n",
    "\n",
    "Have to write lambda functions to remove the $ sign and to convert it to int datatype\n",
    "\n",
    "lambda x: int(x[1:]) → This lambda function will remove $ sign (which is in index 0 in the “Price” column) and convert it to int datatype.\n",
    "\n",
    "Let’s apply this lambda function using apply() method on “Price” column\n",
    "\n",
    "df3[“Price”].apply(lambda x: int(x[1:]))\n",
    "df3[“Price”]=df3[“Price”].apply(lambda x: int(x[1:]))\n"
   ]
  },
  {
   "cell_type": "code",
   "execution_count": null,
   "id": "5144d1d2",
   "metadata": {},
   "outputs": [],
   "source": [
    "# merge\n",
    "\n",
    "pd.merge()"
   ]
  }
 ],
 "metadata": {
  "kernelspec": {
   "display_name": "Python 3 (ipykernel)",
   "language": "python",
   "name": "python3"
  },
  "language_info": {
   "codemirror_mode": {
    "name": "ipython",
    "version": 3
   },
   "file_extension": ".py",
   "mimetype": "text/x-python",
   "name": "python",
   "nbconvert_exporter": "python",
   "pygments_lexer": "ipython3",
   "version": "3.8.13"
  }
 },
 "nbformat": 4,
 "nbformat_minor": 5
}

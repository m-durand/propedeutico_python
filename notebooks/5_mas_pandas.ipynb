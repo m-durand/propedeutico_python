{
 "cells": [
  {
   "cell_type": "markdown",
   "id": "a74215cb",
   "metadata": {},
   "source": [
    "[![Open In Colab](https://colab.research.google.com/assets/colab-badge.svg)](https://colab.research.google.com/github/m-durand/propedeutico_python/blob/main/notebooks/5_mas_pandas.ipynb)"
   ]
  },
  {
   "cell_type": "markdown",
   "id": "6a3ef43f",
   "metadata": {},
   "source": [
    "# Propedéutico a programación con Python.\n",
    "\n",
    "**Verano 2023, por el Centro de Ciencia de Datos, EGobiernoyTP.**\n",
    "\n",
    "## Sesión 5: Más de pandas\n",
    "\n",
    "1. Arrays y Dataframes\n",
    "2. Operaciones básicas en Dataframes\n",
    "    * Creación de columnas nuevas\n",
    "        * Suma, resta, multiplicación o divisón\n",
    "        * Comandos básicos de texto\n",
    "    * Agrupación\n",
    "3. Operaciones avanzadas en Dataframes\n",
    "    * Funciones Lambda\n",
    "4. Combinación de Dataframes\n",
    "    * Tipos de joins\n",
    "    * Merge"
   ]
  },
  {
   "cell_type": "code",
   "execution_count": 3,
   "id": "5b25f4d0",
   "metadata": {},
   "outputs": [],
   "source": [
    "# Paquetes\n",
    "import numpy as np\n",
    "import pandas as pd"
   ]
  },
  {
   "cell_type": "markdown",
   "id": "1fac0bbb",
   "metadata": {},
   "source": [
    "Dos maneras de cargar los datos, descomenta la que te funcione:"
   ]
  },
  {
   "cell_type": "code",
   "execution_count": 4,
   "id": "bc84a364",
   "metadata": {},
   "outputs": [],
   "source": [
    "#from google.colab import drive\n",
    "#drive.mount('/content/drive', force_remount=True) \n",
    "#my_path = '/content/drive/MyDrive/propedeutico_python-main' \n",
    "\n",
    "## Datos\n",
    "#df = pd.read_csv(my_path + '/datos/indicadores.csv', dtype='str')"
   ]
  },
  {
   "cell_type": "code",
   "execution_count": 5,
   "id": "f586f6c6",
   "metadata": {},
   "outputs": [],
   "source": [
    "# Datos\n",
    "#df = pd.read_csv('https://raw.githubusercontent.com/m-durand/propedeutico_python/main/datos/indicadores.csv', dtype='str')"
   ]
  },
  {
   "cell_type": "markdown",
   "id": "207ffba4",
   "metadata": {},
   "source": [
    "## 1. ¿Qué es un _array_ y por qué es diferente a un dataframe?\n",
    "\n",
    "Vamos a crear dos tablas con datos, una será un array y la otra un dataframe:"
   ]
  },
  {
   "cell_type": "code",
   "execution_count": 6,
   "id": "6d65b31e",
   "metadata": {},
   "outputs": [],
   "source": [
    "# Declaremos tres listas\n",
    "a = [1, 2, 3] \n",
    "b = [2, 2, 2] \n",
    "c = [\"a\", \"b\", \"c\"] \n",
    "\n",
    "array_example = np.array([a,b,c])\n",
    "dataframe_example = pd.DataFrame(list(zip(a, b, c)))"
   ]
  },
  {
   "cell_type": "code",
   "execution_count": null,
   "id": "2f8709bc",
   "metadata": {},
   "outputs": [],
   "source": [
    "print(array_example)\n",
    "print(\" \")\n",
    "print(type(array_example))"
   ]
  },
  {
   "cell_type": "code",
   "execution_count": null,
   "id": "75be7670",
   "metadata": {},
   "outputs": [],
   "source": [
    "print(dataframe_example)\n",
    "print(\" \")\n",
    "print(type(dataframe_example))"
   ]
  },
  {
   "cell_type": "markdown",
   "id": "73c8779c",
   "metadata": {},
   "source": [
    "Además del tipo de objeto - que obtuvimos con el `print(type(*))` -, ¿cuáles son las diferencias entre las dos tablas anteriores?"
   ]
  },
  {
   "cell_type": "code",
   "execution_count": null,
   "id": "373c09a2",
   "metadata": {},
   "outputs": [],
   "source": [
    "dataframe_example_coln = pd.DataFrame(list(zip(a, b, c)),\n",
    "              columns=['secuencial','constante', 'letras'])"
   ]
  },
  {
   "cell_type": "code",
   "execution_count": null,
   "id": "2fc898fd",
   "metadata": {},
   "outputs": [],
   "source": [
    "print(dataframe_example_coln)"
   ]
  },
  {
   "cell_type": "markdown",
   "id": "1d8a0be4",
   "metadata": {},
   "source": [
    "¿Cuál es la diferencia entre `dataframe_example` y `dataframe_example_coln`?"
   ]
  },
  {
   "cell_type": "markdown",
   "id": "7c4a4aaf",
   "metadata": {},
   "source": [
    "## 2. Operaciones básicas en Dataframes"
   ]
  },
  {
   "cell_type": "code",
   "execution_count": null,
   "id": "a5cb2b40",
   "metadata": {},
   "outputs": [],
   "source": [
    "df.head()"
   ]
  },
  {
   "cell_type": "markdown",
   "id": "d11cc12e",
   "metadata": {},
   "source": [
    "¿Qué pasa si lo convertimos a un array?"
   ]
  },
  {
   "cell_type": "code",
   "execution_count": null,
   "id": "ae1c3431",
   "metadata": {},
   "outputs": [],
   "source": [
    "df.to_numpy()"
   ]
  },
  {
   "cell_type": "markdown",
   "id": "2ab87696",
   "metadata": {},
   "source": [
    "### Creación de columnas nuevas\n",
    "\n",
    "Una de las principales acciones necesarias al trabajar con datos, sea para la fase de exploración o la de ingeniería de variables, es crear columnas nuevas basadas en otras ya existentes dentro del dataframe.\n",
    "\n",
    "Como un primer ejemplo, muy sencillo, creemos una nueva variable `region` que contenga una de las 8 regiones de México con base en el siguiente diccionario:"
   ]
  },
  {
   "cell_type": "code",
   "execution_count": null,
   "id": "e29435fc",
   "metadata": {},
   "outputs": [],
   "source": [
    "# fuente: https://es.wikipedia.org/wiki/Regiones_de_M%C3%A9xico\n",
    "region_entidad = {'Noroeste': ['Baja California', 'Baja California Sur', 'Chihuahua', 'Durango', 'Sinaloa', 'Sonora'], \n",
    "                   'Noreste': ['Coahuila', 'Nuevo León', 'Tamaulipas'], \n",
    "                   'Occidente': ['Colima', 'Jalisco', 'Michoacán', 'Nayarit'], \n",
    "                   'Oriente': ['Hidalgo', 'Puebla', 'Tlaxcala', 'Veracruz'], \n",
    "                   'Centronorte': ['Aguascalientes', 'Guanajuato', 'Querétaro', 'San Luis Potosí', 'Zacatecas'], \n",
    "                   'Centrosur': ['Ciudad de México', 'México', 'Morelos'], \n",
    "                   'Suroeste': ['Chiapas', 'Guerrero', 'Oaxaca'], \n",
    "                   'Sureste': ['Campeche', 'Quintana Roo', 'Tabasco', 'Yucatán']\n",
    "                  }"
   ]
  },
  {
   "cell_type": "markdown",
   "id": "4835b6e3",
   "metadata": {},
   "source": [
    "Recordemos cómo funcionan los diccionarios, con su estructura key->value. Con el diccionario en este formato, no podemos buscar cada entidad y asignarle una región. Convirtámoslo en un diccionario que sí nos sirva:"
   ]
  },
  {
   "cell_type": "code",
   "execution_count": null,
   "id": "0f5c471b",
   "metadata": {},
   "outputs": [],
   "source": [
    "entidad_region = {ent:region for (region, ents) in region_entidad.items() for ent in ents}"
   ]
  },
  {
   "cell_type": "code",
   "execution_count": null,
   "id": "63e6e73c",
   "metadata": {},
   "outputs": [],
   "source": [
    "entidad_region"
   ]
  },
  {
   "cell_type": "code",
   "execution_count": null,
   "id": "7e3ffdbd",
   "metadata": {},
   "outputs": [],
   "source": [
    "df[\"region\"] = df['entidad'].map(entidad_region)"
   ]
  },
  {
   "cell_type": "markdown",
   "id": "500a3bb5",
   "metadata": {},
   "source": [
    "Verifiquemos que el mapeo se hizo correctamente:"
   ]
  },
  {
   "cell_type": "code",
   "execution_count": null,
   "id": "f99b252d",
   "metadata": {},
   "outputs": [],
   "source": [
    "df[['entidad', 'region']].drop_duplicates()"
   ]
  },
  {
   "cell_type": "markdown",
   "id": "30ca01f4",
   "metadata": {},
   "source": [
    "La entidad \"Republica Mexicana\" no tiene región. Es normal."
   ]
  },
  {
   "cell_type": "markdown",
   "id": "12af3aa4",
   "metadata": {},
   "source": [
    "### Suma, resta, multiplicación o divisón\n",
    "\n",
    "Ahora utilicemos otras columnas del mismo dataframe para crear una nueva. Por ejemplo, obtengamos una columna con el total de mujeres:"
   ]
  },
  {
   "cell_type": "code",
   "execution_count": null,
   "id": "9f309248",
   "metadata": {},
   "outputs": [],
   "source": [
    "df[\"muj_total\"] = df[\"muj_3_5\"] + df[\"muj_6_11\"] + df[\"muj_12_14\"] + df[\"muj_15_29\"] + df[\"muj_30_64\"] + df[\"muj_65_mas\"]\n",
    "\n",
    "# Verifiquemos con algunas filas aleatorias que la suma funcionó\n",
    "\n",
    "df[[\"muj_3_5\", \"muj_6_11\", \"muj_12_14\", \"muj_15_29\", \"muj_30_64\", \"muj_65_mas\", \"muj_total\"]].sample(n=10,replace=False)"
   ]
  },
  {
   "cell_type": "markdown",
   "id": "ff8574cd",
   "metadata": {},
   "source": [
    "¡No funcionó!\n",
    "\n",
    "**¿Qué pasó?**"
   ]
  },
  {
   "cell_type": "code",
   "execution_count": null,
   "id": "2626b369",
   "metadata": {},
   "outputs": [],
   "source": [
    "# Transformemos las variables que deberían ser numéricas, a numéricas\n",
    "columnas_num = ['edad_med', 'evh', 'evm', 'ev', 'ind_env', 'raz_dep_adu', 'raz_dep_inf', \n",
    "                'raz_dep','t_bru_mor', 't_bru_nat', 't_cre_nat', 'tmih', 'tmim', 'tmi', \n",
    "                'tef_ado', 'tgf', 'año','cve_geo','cre_nat','def','hom_mit_año','muj_mit_año',\n",
    "                'nac','pob_mit_año','muj_12_14','muj_15_29', 'muj_15_49','muj_18_24',\n",
    "                'muj_3_5','muj_30_64','muj_6_11', 'muj_65_mas','hom_12_14','hom_15_29',\n",
    "                'hom_15_49','hom_18_24', 'hom_3_5','hom_30_64','hom_6_11','hom_65_mas',\n",
    "                'pob_12_14', 'pob_15_29','pob_15_49','pob_18_24','pob_3_5','pob_30_64',\n",
    "                'pob_6_11','pob_65_mas']\n",
    "\n",
    "df[columnas_num] = df[columnas_num].astype('float64')"
   ]
  },
  {
   "cell_type": "code",
   "execution_count": null,
   "id": "2674de74",
   "metadata": {},
   "outputs": [],
   "source": [
    "# Reescribamos la variable que habíamos creado \n",
    "df[\"muj_total\"] = df[\"muj_3_5\"] + df[\"muj_6_11\"] + df[\"muj_12_14\"] + df[\"muj_15_29\"] + df[\"muj_30_64\"] + df[\"muj_65_mas\"]\n",
    "\n",
    "# Verifiquemos con algunas filas aleatorias que la suma funcionó\n",
    "\n",
    "df[[\"muj_3_5\", \"muj_6_11\", \"muj_12_14\", \"muj_15_29\", \"muj_30_64\", \"muj_65_mas\", \"muj_total\"]].sample(n=10,replace=False)"
   ]
  },
  {
   "cell_type": "markdown",
   "id": "78702b3d",
   "metadata": {},
   "source": [
    "### Comandos básicos de texto\n",
    "\n",
    "Aprovechemos que el formato de `fecha_registro` se encuentra en un formato homogéneo y limpio (y que no planeamos hacer operaciones numéricas con ella), para extraer sus componentes solamente del texto original. "
   ]
  },
  {
   "cell_type": "code",
   "execution_count": null,
   "id": "50e87aec",
   "metadata": {},
   "outputs": [],
   "source": [
    "df[\"anio_reg\"] = df[\"fecha_reg\"].str[:4]\n",
    "df[\"mes_reg\"] = df[\"fecha_reg\"].str[5:7]\n",
    "df[\"dia_reg\"] = df[\"fecha_reg\"].str[8:10]\n",
    "\n",
    "# Verifiquemos con algunas filas aleatorias que la suma funcionó\n",
    "\n",
    "df[[\"fecha_reg\", \"anio_reg\", \"mes_reg\", \"dia_reg\"]].sample(n=10,replace=False)"
   ]
  },
  {
   "cell_type": "markdown",
   "id": "21264c61",
   "metadata": {},
   "source": [
    "Si quisiéramos reconstruir la fecha, teniendo solamente las columnas de año, mes y día:"
   ]
  },
  {
   "cell_type": "code",
   "execution_count": null,
   "id": "79f51ff3",
   "metadata": {},
   "outputs": [],
   "source": [
    "df[\"fecha_reg_reconstruida\"] = df[\"mes_reg\"].str[:4]\n",
    "df[\"mes_reg\"] = df[\"fecha_reg\"].str[5:7]\n",
    "df[\"dia_reg\"] = df[\"fecha_reg\"].str[8:10]\n",
    "\n",
    "# Verifiquemos con algunas filas aleatorias que la suma funcionó\n",
    "\n",
    "df[[\"fecha_reg\", \"anio_reg\", \"mes_reg\", \"dia_reg\", \"fecha_reg_reconstruida\"]].sample(n=10,replace=False)"
   ]
  },
  {
   "cell_type": "markdown",
   "id": "0b8641e1",
   "metadata": {},
   "source": [
    "### Agrupación\n",
    "\n",
    "Seguramente todos han usado tablas dinámicas antes, por ejemplo, para obtener el promedio de una variable para cada una de las categorías existentes en los datos. \n",
    "\n",
    "En realidad, las operaciones que están realizando para obtener estos npumeros son _agrupar_ y después _agregar_ con alguna función, que puede ser suma, promedio, máximo, mínimo, etc. Entonces, para escribirlo en python, usaremos `groupby` y las funciones relacionadas a cada una de esas operaciones (e.g. `min()` , `mean()` , `median()` , `count()`, `std()`)\n",
    "\n",
    "Por ejemplo, utilicemos la variable de región que creamos hace unas líneas, y obtengamos algunos estadísticos para varaibles interesantes. "
   ]
  },
  {
   "cell_type": "code",
   "execution_count": null,
   "id": "22a6a2b6",
   "metadata": {},
   "outputs": [],
   "source": [
    "df.groupby(\"region\", as_index=True)[['edad_med', 'tmi', 'tgf']].mean()"
   ]
  },
  {
   "cell_type": "markdown",
   "id": "307607de",
   "metadata": {},
   "source": [
    "¿Cuáles _insights_ podemos obtener de estos datos? ¿Qué le harían ustedes a la tabla dinámica para poder identificar visualmente posibles relaciones entre las variables o jerarquías entre las regiones?"
   ]
  },
  {
   "cell_type": "code",
   "execution_count": null,
   "id": "25e03adb",
   "metadata": {},
   "outputs": [],
   "source": [
    "df.groupby(\"region\", as_index=True)[['edad_med', 'tmi', 'tgf']].mean().sort_values(by='edad_med')"
   ]
  },
  {
   "cell_type": "markdown",
   "id": "3627a226",
   "metadata": {},
   "source": [
    "## 3. Operaciones avanzadas en Dataframes\n",
    "\n",
    "Hasta ahora hemos aprendido cómo aplicar funciones muy sencillas para crear nuevas columnas. ¿Cómo haríamos si quisiéramos crear una columna `tipo_de_dato` que tuviera los valores \"Histórico\" si el año es menor a 2020 y \"Proyección\" si es mayor?\n",
    "\n",
    "El acercamiento salvaje sería escribir un iterador que funcionara más o menos así:"
   ]
  },
  {
   "cell_type": "code",
   "execution_count": null,
   "id": "7edacf11",
   "metadata": {},
   "outputs": [],
   "source": [
    "# crear una lista temporal que guarde los valores\n",
    "lista_temporal_para_columna = []\n",
    "\n",
    "# iterar en cada fila del df, e ir guardando los valores en la lista\n",
    "for fila in range(len(df)):\n",
    "    # condicion\n",
    "    if df[\"año\"][fila] < 2020:\n",
    "        valor = \"Histórico\"\n",
    "    else:\n",
    "        valor = \"Proyección\"\n",
    "    # guardar en la lista\n",
    "    lista_temporal_para_columna.append(valor)\n",
    "\n",
    "df[\"tipo_de_dato\"] = lista_temporal_para_columna"
   ]
  },
  {
   "cell_type": "code",
   "execution_count": null,
   "id": "5144d1d2",
   "metadata": {},
   "outputs": [],
   "source": [
    "# Verifiquemos con algunas filas aleatorias que funcionó\n",
    "\n",
    "df[[\"año\", \"tipo_de_dato\"]].sample(n=10,replace=False)"
   ]
  },
  {
   "cell_type": "markdown",
   "id": "0d9b96b9",
   "metadata": {},
   "source": [
    "Sin embargo, hay una manera mucho más fácil (y optimizada computacionalmente) de hacer esto, con una función lambda:"
   ]
  },
  {
   "cell_type": "code",
   "execution_count": null,
   "id": "e32e8b2f",
   "metadata": {},
   "outputs": [],
   "source": [
    "df[\"tipo_de_dato_lambda\"] = df.apply(lambda x: \"Histórico\" if x[\"año\"]<2020 else \"Proyección\", axis=1)"
   ]
  },
  {
   "cell_type": "code",
   "execution_count": null,
   "id": "cddcb98b",
   "metadata": {},
   "outputs": [],
   "source": [
    "# Verifiquemos con algunas filas aleatorias que funcionó\n",
    "\n",
    "df[[\"año\", \"tipo_de_dato\", \"tipo_de_dato_lambda\"]].sample(n=10,replace=False)"
   ]
  },
  {
   "cell_type": "markdown",
   "id": "7affb0b5",
   "metadata": {},
   "source": [
    "En lugar de la función lambda se puede usar cualquier otra función que se quiera aplicar a toda la columna."
   ]
  },
  {
   "cell_type": "markdown",
   "id": "a1f7408c",
   "metadata": {},
   "source": [
    "## 4. Combinación de Dataframes\n",
    "\n",
    "Recordemos las operaciones básicas que se pueden hacer con dos conjuntos: unión e intersección.\n",
    "\n",
    "**Unión** devuelve la totalidad de los elementos en ambos conjuntos, contados una sola vez. En programación, en general se le llama \"full join\".\n",
    "\n",
    "**Intersección** devuelve aquellos elementos que se encuentran en ambos conjuntos . En programación, en general se le llama \"inner join\".\n",
    "\n",
    "Existen dos combinaciones de estas operaciones que nos dan \"left join\" y \"right join\":\n",
    "\n",
    "![Join types on pandas.](https://datacomy.com/data_analysis/pandas/merge/types-of-joins.png 'Tipos de joins - fuente: datacomy')\n",
    "\n",
    "Si se quieren combinar más de dos conjuntos de datos, esto debe hacerse a pares. Por ejemplo, si nuestros conjuntos se llaman `df_a`, `df_b` y `df_c`, primero obtendríamos un join de `df_a` y `df_b`, al cual podemos llamar `df_ab`, y después obtendríamos el join de `df_ab` con `df_c`. **¡Ojo¡** el orden de los factores puede alterar el producto."
   ]
  },
  {
   "cell_type": "markdown",
   "id": "c9bf79f5",
   "metadata": {},
   "source": [
    "**Ejercicio** \n",
    "\n",
    "Imaginemos a todos los ciudadanos de México (digamos, unos 125 millones) y a todos los ciudadanos de Estados Unidos (digamos, unos 340 millones). Llamémoslos mexicanos y estadounidenses. Ninguno de los dos países requiere reportar una segunda nacionalidad, ni publica cifras acerca de doble nacionalidad, así que supongamos que existen 5 millones de mexicanos-estadounidenses con ambos pasaportes.\n",
    "\n",
    "[**Liga para el ejercicio**](www.PollEv.com/mariafernandaalcaladurand096)\n",
    "\n",
    "Ahora veamos un ejemplo con dos dataframes de juguete:"
   ]
  },
  {
   "cell_type": "code",
   "execution_count": null,
   "id": "70f22e16",
   "metadata": {},
   "outputs": [],
   "source": [
    "nombres = ['Carlos', 'Ana', 'Pedro', 'Maria', 'Luis', 'Isabel', 'Javier', 'Carmen', 'Pablo', 'Laura']\n",
    "colores = ['Rojo', 'Azul', 'Verde', 'Amarillo', 'Naranja', 'Morado', 'Negro', 'Blanco', 'Gris', 'Rosa']\n",
    "frutas = ['Manzana', 'Naranja', 'Plátano', 'Piña', 'Mango', 'Fresa', 'Uva', 'Melón', 'Cereza', 'Kiwi']\n",
    "\n",
    "filas = 7\n",
    "\n",
    "# creamos dos dataframe con una selección aletoria de 7 nombres y características\n",
    "\n",
    "# este es un paquete nuevo, lo usaremos para fijar una semilla aleatoria\n",
    "import random\n",
    "\n",
    "# fijar una semilla permite obtener aleatoriedad, pero poder replicar en experimentos posteriores con los mismos resultados\n",
    "random.seed(42)\n",
    "\n",
    "df_a = pd.DataFrame({\n",
    "    'nombre': random.sample(nombres, filas),\n",
    "    'color_favorito': random.sample(colores, filas)\n",
    "})\n",
    "\n",
    "df_b = pd.DataFrame({\n",
    "    'nombre': random.sample(nombres, filas),\n",
    "    'fruta_favorita': random.sample(frutas, filas)\n",
    "})\n",
    "\n",
    "print(\"Primer dataframe:\")\n",
    "print(\" \")\n",
    "print(df_a)\n",
    "print(\" \")\n",
    "print(\"Segundo dataframe:\")\n",
    "print(\" \")\n",
    "print(df_b)"
   ]
  },
  {
   "cell_type": "markdown",
   "id": "618cc896",
   "metadata": {},
   "source": [
    "¿Que pasará con cada uno de los 4 tipos de join?"
   ]
  },
  {
   "cell_type": "code",
   "execution_count": null,
   "id": "bdc34718",
   "metadata": {},
   "outputs": [],
   "source": [
    "inner_merged = pd.merge(df_a, df_b, on='nombre')\n",
    "\n",
    "print(inner_merged)"
   ]
  },
  {
   "cell_type": "code",
   "execution_count": null,
   "id": "01a9dd9f",
   "metadata": {},
   "outputs": [],
   "source": [
    "left_merged = pd.merge(df_a, df_b, on='nombre', how='left')\n",
    "\n",
    "print(left_merged)"
   ]
  },
  {
   "cell_type": "code",
   "execution_count": null,
   "id": "6e2b9dbb",
   "metadata": {},
   "outputs": [],
   "source": [
    "right_merged = pd.merge(df_a, df_b, on='nombre', how='right')\n",
    "\n",
    "print(right_merged)"
   ]
  },
  {
   "cell_type": "code",
   "execution_count": null,
   "id": "0d838d48",
   "metadata": {},
   "outputs": [],
   "source": [
    "outer_merged = pd.merge(df_a, df_b, on='nombre', how='outer')\n",
    "\n",
    "print(outer_merged)"
   ]
  },
  {
   "cell_type": "markdown",
   "id": "3102b20d",
   "metadata": {},
   "source": [
    "**Ejercicio**\n",
    "\n",
    "\n",
    "\n",
    "\n"
   ]
  },
  {
   "cell_type": "code",
   "execution_count": null,
   "id": "a7565cae",
   "metadata": {},
   "outputs": [],
   "source": [
    "# TODO ejercicio"
   ]
  }
 ],
 "metadata": {
  "kernelspec": {
   "display_name": "Python 3 (ipykernel)",
   "language": "python",
   "name": "python3"
  },
  "language_info": {
   "codemirror_mode": {
    "name": "ipython",
    "version": 3
   },
   "file_extension": ".py",
   "mimetype": "text/x-python",
   "name": "python",
   "nbconvert_exporter": "python",
   "pygments_lexer": "ipython3",
   "version": "3.8.13"
  }
 },
 "nbformat": 4,
 "nbformat_minor": 5
}

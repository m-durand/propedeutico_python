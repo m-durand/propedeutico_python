{
 "cells": [
  {
   "cell_type": "markdown",
   "id": "a74215cb",
   "metadata": {},
   "source": [
    "[![Open In Colab](https://colab.research.google.com/assets/colab-badge.svg)](https://colab.research.google.com/github/m-durand/propedeutico_python/blob/main/notebooks/7_SQL.ipynb)"
   ]
  },
  {
   "cell_type": "code",
   "execution_count": null,
   "id": "f2354fed",
   "metadata": {},
   "outputs": [],
   "source": [
    "# cosas de pandas"
   ]
  },
  {
   "cell_type": "code",
   "execution_count": null,
   "id": "bc1cd0bd",
   "metadata": {},
   "outputs": [],
   "source": [
    "grupos[(['etiquetas','cantidad'])].sort_values('cantidad')"
   ]
  },
  {
   "cell_type": "code",
   "execution_count": null,
   "id": "05b19505",
   "metadata": {},
   "outputs": [],
   "source": [
    "df2.groupby(\"grupos\")[\"usuarios\"].count()"
   ]
  },
  {
   "cell_type": "code",
   "execution_count": null,
   "id": "747d4033",
   "metadata": {},
   "outputs": [],
   "source": [
    "df2['dia_semana'] = df2['fechas'].dt.day_name()\n",
    "df2['dia_mes'] = df2['fechas'].dt.day"
   ]
  },
  {
   "cell_type": "code",
   "execution_count": null,
   "id": "df3a4e31",
   "metadata": {},
   "outputs": [],
   "source": [
    "hola"
   ]
  },
  {
   "cell_type": "markdown",
   "id": "0342d3f8",
   "metadata": {},
   "source": [
    "We have several methods on lists here are few examples.\n",
    "\n",
    "list_methods.py"
   ]
  },
  {
   "cell_type": "code",
   "execution_count": null,
   "id": "51201fac",
   "metadata": {},
   "outputs": [],
   "source": [
    "stationery_list = [\"Pen\", \"Pencil\", \"Notepad\"]\n",
    "stationery_list.append(\"Eraser\")\n",
    "# Adds new item at the end of the list\n",
    "print(stationery_list)\n",
    "stationery_list.insert(2, \"Files\")\n",
    "\n",
    "\"\"\"\n",
    "Insert method inserts a single element into a list.It takes two arguments one is \n",
    "the numerical index at which the data is to be inserted and the other is value.\n",
    "\"\"\"\n",
    "\n",
    "print(stationery_list)\n",
    "stationery_list.index(\"Pen\")"
   ]
  },
  {
   "cell_type": "code",
   "execution_count": null,
   "id": "f711b85b",
   "metadata": {},
   "outputs": [],
   "source": [
    "\n",
    "temperature = 27\n",
    "if temperature <= 30:\n",
    "    print(\"Let’s go to the party!\")"
   ]
  },
  {
   "cell_type": "code",
   "execution_count": null,
   "id": "89f531c9",
   "metadata": {},
   "outputs": [],
   "source": [
    "\n",
    "movie_tickets = 4\n",
    "if(movie_tickets >= 4):\n",
    "    print(\"Tickets are available, Let’s go to the movie.\")\n",
    "else:\n",
    "    print(\"Let’s have a drink, tickets are not available.\")"
   ]
  },
  {
   "cell_type": "code",
   "execution_count": null,
   "id": "8ae5aa02",
   "metadata": {},
   "outputs": [],
   "source": [
    "\n",
    "weight = 77\n",
    "height = 180\n",
    "bmi = (weight / (height**2)) * 10000\n",
    "print(\"Computing…\")\n",
    "print(\"Your bmi is {}\\n\".format(bmi))\n",
    "if bmi < 18.5:\n",
    "    print(\"Underweight\")\n",
    "elif 18.5 <= bmi <= 24.99:\n",
    "    print(\"Perfect ! Normal weight\")\n",
    "elif 25.00 <= bmi <= 30.00:\n",
    "    print(\"Overweight\")\n",
    "elif bmi > 30.00:\n",
    "    print(\"Obese\")"
   ]
  }
 ],
 "metadata": {
  "kernelspec": {
   "display_name": "Python 3 (ipykernel)",
   "language": "python",
   "name": "python3"
  },
  "language_info": {
   "codemirror_mode": {
    "name": "ipython",
    "version": 3
   },
   "file_extension": ".py",
   "mimetype": "text/x-python",
   "name": "python",
   "nbconvert_exporter": "python",
   "pygments_lexer": "ipython3",
   "version": "3.8.13"
  }
 },
 "nbformat": 4,
 "nbformat_minor": 5
}

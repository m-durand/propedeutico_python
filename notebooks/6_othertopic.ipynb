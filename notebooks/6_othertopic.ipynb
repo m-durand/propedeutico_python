{
 "cells": [
  {
   "cell_type": "markdown",
   "id": "a74215cb",
   "metadata": {},
   "source": [
    "[![Open In Colab](https://colab.research.google.com/assets/colab-badge.svg)](https://colab.research.google.com/github/m-durand/propedeutico_python/blob/main/notebooks/7_SQL.ipynb)"
   ]
  },
  {
   "cell_type": "code",
   "execution_count": null,
   "id": "b1ab45b3",
   "metadata": {},
   "outputs": [],
   "source": [
    "# cosas de pandas"
   ]
  },
  {
   "cell_type": "code",
   "execution_count": null,
   "id": "bc1cd0bd",
   "metadata": {},
   "outputs": [],
   "source": [
    "grupos[(['etiquetas','cantidad'])].sort_values('cantidad')"
   ]
  },
  {
   "cell_type": "code",
   "execution_count": null,
   "id": "05b19505",
   "metadata": {},
   "outputs": [],
   "source": [
    "df2.groupby(\"grupos\")[\"usuarios\"].count()"
   ]
  },
  {
   "cell_type": "code",
   "execution_count": null,
   "id": "747d4033",
   "metadata": {},
   "outputs": [],
   "source": [
    "df2['dia_semana'] = df2['fechas'].dt.day_name()\n",
    "df2['dia_mes'] = df2['fechas'].dt.day"
   ]
  },
  {
   "cell_type": "code",
   "execution_count": null,
   "id": "9a74c0bc",
   "metadata": {},
   "outputs": [],
   "source": [
    "hola"
   ]
  }
 ],
 "metadata": {
  "kernelspec": {
   "display_name": "Python 3 (ipykernel)",
   "language": "python",
   "name": "python3"
  },
  "language_info": {
   "codemirror_mode": {
    "name": "ipython",
    "version": 3
   },
   "file_extension": ".py",
   "mimetype": "text/x-python",
   "name": "python",
   "nbconvert_exporter": "python",
   "pygments_lexer": "ipython3",
   "version": "3.8.13"
  }
 },
 "nbformat": 4,
 "nbformat_minor": 5
}

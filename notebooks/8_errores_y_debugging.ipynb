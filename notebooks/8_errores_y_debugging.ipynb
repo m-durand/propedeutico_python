{
 "cells": [
  {
   "cell_type": "markdown",
   "id": "566c22a0",
   "metadata": {},
   "source": [
    "[![Open In Colab](https://colab.research.google.com/assets/colab-badge.svg)](https://colab.research.google.com/github/m-durand/propedeutico_python/blob/main/notebooks/8_errores_y_debugging.ipynb)"
   ]
  },
  {
   "cell_type": "markdown",
   "id": "a6aad395",
   "metadata": {},
   "source": [
    "# Propedéutico a programación con Python.\n",
    "\n",
    "**Verano 2023, por el Centro de Ciencia de Datos, EGobiernoyTP.**\n",
    "\n",
    "## Sesión 8: Errores y _debugging_\n",
    "\n",
    "1. Errores comunes\n",
    "    * Signos faltantes (e.g. paréntesis, dos puntos, comas, etc.)\n",
    "    * Indentación\n",
    "    * Typos\n",
    "    * Tipo incorrecto de variable\n",
    "2. _Debugging_\n",
    "3. Herramientas útiles\n",
    "    * Stack Overflow\n",
    "    * ChatGPT\n",
    "    "
   ]
  },
  {
   "cell_type": "markdown",
   "id": "86c577fc",
   "metadata": {},
   "source": [
    "Todos los programadores, independientemente de nuestro nivel de experiencia, se enfrentan a errores y contratiempos cuando escribimos código. La mejor manera de aprender es cometiendo errores y corrigiéndolos, además de que es sumamente útil familiarizarse con ellos y aprender a leer los mensajes de error para poder diagnosticar el problema correctamente.\n",
    "\n",
    "Además, exploraremos herramientas esenciales que pueden ayudarnos en este proceso. Herramientas como Stack Overflow, un foro donde millones de programadores comparten soluciones a problemas de codificación, y ChatGPT, un asistente de inteligencia artificial que puede responder a consultas de código y ayudar a solucionar problemas de programación.\n",
    "\n",
    "\n",
    "### Errores comunes\n",
    "\n",
    "**Signos faltantes**"
   ]
  },
  {
   "cell_type": "code",
   "execution_count": null,
   "id": "e848360c",
   "metadata": {},
   "outputs": [],
   "source": [
    "# Incorrecto\n",
    "print \"Hola Mundo\""
   ]
  },
  {
   "cell_type": "code",
   "execution_count": null,
   "id": "fb076d24",
   "metadata": {},
   "outputs": [],
   "source": [
    "# Correcto\n",
    "print(\"Hola Mundo\")"
   ]
  },
  {
   "cell_type": "code",
   "execution_count": null,
   "id": "da842fd6",
   "metadata": {},
   "outputs": [],
   "source": [
    "# Incorrecto\n",
    "def di_hola()\n",
    "    print(\"Hola\")"
   ]
  },
  {
   "cell_type": "code",
   "execution_count": null,
   "id": "88aef8e9",
   "metadata": {},
   "outputs": [],
   "source": [
    "# Correcto\n",
    "def di_hola():\n",
    "    print(\"Hola\")"
   ]
  },
  {
   "cell_type": "markdown",
   "id": "276514a9",
   "metadata": {},
   "source": [
    "**Indentación**"
   ]
  },
  {
   "cell_type": "code",
   "execution_count": null,
   "id": "43e0ed0c",
   "metadata": {},
   "outputs": [],
   "source": [
    "# Incorrecto\n",
    "def di_hola():\n",
    "print(\"Hola\")"
   ]
  },
  {
   "cell_type": "code",
   "execution_count": null,
   "id": "c50fb6f2",
   "metadata": {},
   "outputs": [],
   "source": [
    "# Correcto\n",
    "def di_hola():\n",
    "    print(\"Hola\")"
   ]
  },
  {
   "cell_type": "markdown",
   "id": "e55a75b3",
   "metadata": {},
   "source": [
    "**Typos**"
   ]
  },
  {
   "cell_type": "code",
   "execution_count": null,
   "id": "35ef1e32",
   "metadata": {},
   "outputs": [],
   "source": [
    "saludo = \"Hola\"\n",
    "print(sauldo)"
   ]
  },
  {
   "cell_type": "code",
   "execution_count": null,
   "id": "9ead96ff",
   "metadata": {},
   "outputs": [],
   "source": [
    "saludo = \"Hola\"\n",
    "print(saludo)"
   ]
  },
  {
   "cell_type": "markdown",
   "id": "6cf17ec5",
   "metadata": {},
   "source": [
    "**Tipo incorrecto de variable**"
   ]
  },
  {
   "cell_type": "code",
   "execution_count": null,
   "id": "580b227d",
   "metadata": {},
   "outputs": [],
   "source": [
    "edad = input(\"Ingresa tu edad: \")\n",
    "if edad < 18:\n",
    "    print(\"No tienes la edad suficiente para votar.\")"
   ]
  },
  {
   "cell_type": "code",
   "execution_count": null,
   "id": "83476bc8",
   "metadata": {},
   "outputs": [],
   "source": [
    "edad = int(input(\"Ingresa tu edad: \"))\n",
    "if edad < 18:\n",
    "    print(\"No tienes la edad suficiente para votar.\")"
   ]
  },
  {
   "cell_type": "markdown",
   "id": "76d23d22",
   "metadata": {},
   "source": [
    "## _Debugging_\n",
    "\n",
    "El término _debugging_ en realidad se utiliza para el proceso de buscar errores/problemas en el código y solucionarlos, y por lo tanto puede ser tan sencillo o complejo como el mismo código. En general, lo que a mí em viene a la cabeza cuando pienso en _debugging_ es una de dos situaciones:\n",
    "\n",
    "1. Mi código no funciona, así que necesito encontrar el error o inconsistencia para arreglarlo y que no me marque errores\n",
    "2. Mi código \"corre\", pero devuelve resultados que no son consistentes con lo que o esperaría, así que necesito encontrar el error o inconsistencia para arreglarlo y que sí de resultados correctos\n",
    "\n",
    "La recomendación es partir el problema grande en problemas pequeños \n",
    "\n",
    "...\n",
    "\n",
    "\n",
    "...\n",
    "\n",
    "...\n",
    "\n",
    "TODO escribir más aquí\n"
   ]
  },
  {
   "cell_type": "markdown",
   "id": "b6567b77",
   "metadata": {},
   "source": [
    "## Herramientas útiles\n",
    "\n",
    "### ¿Qué es y para qué es Stack Overflow?\n",
    "\n",
    "Stack Overflow es un sitio web de preguntas y respuestas para profesionales y entusiastas de la programación. \n",
    "\n",
    "Los usuarios pueden hacer preguntas sobre problemas de código específicos que encuentran y otros usuarios (desde principiantes hasta expertos en la materia) pueden proporcionar respuestas. Las respuestas pueden ser votadas por la comunidad, y las respuestas con más votos se mueven hacia arriba en la lista de respuestas para una pregunta dada. \n",
    "\n",
    "En general, Stack Overflow sirve como un repositorio de soluciones a problemas de programación. Muchas veces, los problemas que los programadores encuentran ya han sido resueltos por otros.\n",
    "\n",
    "Stack Overflow es un sitio en inglés. En general, mi recomendación es que siempre Googleen (o ChatGPT-een, ya llegaremos a esto) sus dudas de código en inglés, pues los manuales de las librerías o las perguntas/respuestas en Stack Overflow estarán en ese idioma, y en general hay mucho más recursos respecto a código en inglés.\n",
    "\n",
    "Usemos Stack Overflow para resolver los siguientes problemas:\n",
    "\n",
    "**Buscar mensajes de error**"
   ]
  },
  {
   "cell_type": "code",
   "execution_count": null,
   "id": "6bf9a856",
   "metadata": {},
   "outputs": [],
   "source": [
    "# Creamos un rango de fechas de enero a diciembre\n",
    "fechas = pd.date_range(start='1/1/2023', end='12/31/2023')\n",
    "\n",
    "# Generamos datos de ventas aleatorios\n",
    "ventas = pd.Series(data=np.random.randint(100, 500, len(fechas)), index=fechas)\n",
    "\n",
    "# Creamos el DataFrame\n",
    "df = pd.DataFrame(ventas, columns=['Ventas'])\n",
    "\n",
    "# Graficamos\n",
    "plt.figure(figsize=(10,6))\n",
    "plt.plot(df.index, df['Ventas'])\n",
    "plt.title('Ventas a lo largo del tiempo')\n",
    "plt.xlabel('Fecha')\n",
    "plt.ylabel('Ventas')\n",
    "plt.grid(True)\n",
    "plt.show()"
   ]
  },
  {
   "cell_type": "markdown",
   "id": "4a9e8f33",
   "metadata": {},
   "source": [
    "Aquí hay una respuesta de Stack Overflow:\n",
    "\n",
    "https://stackoverflow.com/questions/40407090/nameerror-name-pd-is-not-defined\n",
    "\n",
    "**Hacer preguntas completas de cómo realizar una actividad específica con código*\n",
    "\n",
    "Al escribir una pregunta en Google, generalmente Stack Overflow se encontrará en los primeros resultados. Por ejemplo, para la búsqueda:\n",
    "\n",
    "`how to show points in a map python`\n",
    "\n",
    "Se obtiene:\n",
    "\n",
    "https://stackoverflow.com/questions/53233228/plot-latitude-longitude-from-csv-in-python-3-6"
   ]
  },
  {
   "cell_type": "markdown",
   "id": "442d07de",
   "metadata": {},
   "source": [
    "## ¿Qué es y para qué es ChatGPT?\n",
    "\n",
    "GPT puede ayudar a sugerirles dónde se encuentra el error en un código que no corre, pasos para solucionar un mensaje de error desconocido o cambiar partes específicas de un código que ya tengan escrito."
   ]
  },
  {
   "cell_type": "code",
   "execution_count": null,
   "id": "53172373",
   "metadata": {},
   "outputs": [],
   "source": [
    "def print_board(board):\n",
    "    print('---------')\n",
    "    for row in board:\n",
    "        print('|', end='')\n",
    "        for cell in row:\n",
    "            print(cell, end=' ')\n",
    "        print('|')\n",
    "    print('---------')\n",
    "\n",
    "def get_move(player):\n",
    "    while True:\n",
    "        move = input(f\"Jugador {player}, ingresa tu jugada como 'fila,columna': \")\n",
    "        try:\n",
    "            row, col = map(int, movesplit(','))\n",
    "            if row in [0, 1, 2] and col in [0, 1, 2]:\n",
    "                return row, col\n",
    "            else:\n",
    "                print(\"Las coordenadas deben estar entre 0 y 2.\")\n",
    "        except ValueError:\n",
    "            print(\"Entrada no válida. Usa el formato 'fila,columna'.\")\n",
    "\n",
    "def game():\n",
    "    # Crear el tablero\n",
    "    board = [[' ' for _ in range(3)] for _ in range(3)]\n",
    "    current_player = 'X'\n",
    "\n",
    "    while True:\n",
    "        # Mostrar el tablero\n",
    "        print_board(board)\n",
    "\n",
    "        # Solicitar jugada\n",
    "        row, col = get_move(current_player)\n",
    "        if board[row][col] != ' ':\n",
    "            print(\"Esa celda ya está ocupada, elige otra.\")\n",
    "            continue\n",
    "\n",
    "        # Realizar jugada\n",
    "        board[row][col] = current_player\n",
    "\n",
    "        # Verificar si el jugador actual ha ganado\n",
    "        if (any(all(cell == current_player for cell in row) for row in board) or  # filas\n",
    "            any(all(row[i] == current_player for row in board) for i in range(3)) or  # columnas\n",
    "            all(board[i][i] == current_player for i in range(3)) or  # diagonal principal\n",
    "            all(board[i][2 - i] == current_player for i in range(3))):  # diagonal secundaria\n",
    "            print_board(board)\n",
    "            print(f\"¡Jugador {current_player} ha ganado!\")\n",
    "            break\n",
    "\n",
    "        # Cambiar de jugador\n",
    "        current_player = 'O' if current_player == 'X' else 'X'\n",
    "\n",
    "    # Preguntar si quieren jugar de nuevo\n",
    "    again = input(\"¿Quieres jugar de nuevo? (sí/no): \")\n",
    "    if again.lower().startswith('s'):\n",
    "        game()\n",
    "\n",
    "# Iniciar el juego\n",
    "game()\n"
   ]
  },
  {
   "cell_type": "markdown",
   "id": "447f19ae",
   "metadata": {},
   "source": [
    "Usando el prompt:\n",
    "    \n",
    "`Hey! This code doesn't run, could you help me find the error? ______`\n",
    "\n",
    "Se obtiene la respuesta:\n",
    "        \n",
    "        ![Respuesta GPT](../src/img/gpt_debug.png)\n",
    "        \n",
    "TODO insertar imagen :(\n",
    "\n",
    "**Ejercicio**\n",
    "\n",
    "Corrige el error con la sugerencia de ChatGPT y describe qué hace el código."
   ]
  },
  {
   "cell_type": "code",
   "execution_count": null,
   "id": "d554e6e1",
   "metadata": {},
   "outputs": [],
   "source": [
    "Ejemplo 2: un error malvado"
   ]
  },
  {
   "cell_type": "markdown",
   "id": "fc93a569",
   "metadata": {},
   "source": [
    "**Ejemplo 3: editar código existente*\n",
    "    \n",
    "Tenemos un histograma, pero el formato de las etiquetas del eje x es feo. Podemos pedirle a ChatGPT que edite nuestro código tal que le agregue lo necesario para que slas etiquetas muestren solamente el mes."
   ]
  },
  {
   "cell_type": "code",
   "execution_count": null,
   "id": "3e1d3d93",
   "metadata": {},
   "outputs": [],
   "source": [
    "import pandas as pd\n",
    "import numpy as np\n",
    "import matplotlib.pyplot as plt\n",
    "\n",
    "# Creamos un rango de fechas para los 12 meses de 2023\n",
    "meses = pd.date_range('2023-01-01', periods=12, freq='M')\n",
    "\n",
    "# Generamos algunos datos de ventas aleatorios para 3 diferentes categorías de productos\n",
    "np.random.seed(42)  # Para resultados reproducibles\n",
    "ventas_A = np.random.randint(20, 50, size=len(meses))\n",
    "ventas_B = np.random.randint(10, 30, size=len(meses))\n",
    "ventas_C = np.random.randint(5, 20, size=len(meses))\n",
    "\n",
    "# Ponemos estos datos en un DataFrame\n",
    "df = pd.DataFrame({\n",
    "    'Mes': meses,\n",
    "    'Ventas_A': ventas_A,\n",
    "    'Ventas_B': ventas_B,\n",
    "    'Ventas_C': ventas_C\n",
    "}).set_index('Mes')\n",
    "\n",
    "# Creamos un gráfico de barras apiladas\n",
    "df.plot(kind='bar', stacked=True, figsize=(10, 6))\n",
    "\n",
    "plt.title('Ventas Mensuales por Categoría de Producto')\n",
    "plt.xlabel('Mes')\n",
    "plt.ylabel('Ventas')\n",
    "plt.tight_layout()\n",
    "plt.show()    \n",
    "    "
   ]
  },
  {
   "cell_type": "markdown",
   "id": "4f3d4636",
   "metadata": {},
   "source": [
    "Usando el prompt:\n",
    "    \n",
    "`Could you help me edit the next code, so that the x axis tags are show in the format \"yyyy-mm\"? ______`"
   ]
  },
  {
   "cell_type": "code",
   "execution_count": null,
   "id": "62f5659c",
   "metadata": {},
   "outputs": [],
   "source": [
    "import matplotlib.pyplot as plt\n",
    "import matplotlib.dates as mdates\n",
    "\n",
    "# Creamos un gráfico de barras apiladas\n",
    "df.plot(kind='bar', stacked=True, figsize=(10, 6))\n",
    "\n",
    "# Formateamos el eje x\n",
    "plt.gca().xaxis.set_major_formatter(mdates.DateFormatter('%Y-%m'))\n",
    "plt.gca().xaxis.set_major_locator(mdates.MonthLocator())\n",
    "\n",
    "plt.title('Ventas Mensuales por Categoría de Producto')\n",
    "plt.xlabel('Mes')\n",
    "plt.ylabel('Ventas')\n",
    "plt.tight_layout()\n",
    "plt.show()"
   ]
  },
  {
   "cell_type": "markdown",
   "id": "7fd65f52",
   "metadata": {},
   "source": [
    "**Ejercicio**\n",
    "\n",
    "Encuentra la pregunta adecuada a hacerle a ChatGPT para resolver el problema de los formatos de fechas."
   ]
  },
  {
   "cell_type": "code",
   "execution_count": null,
   "id": "c90bc9bc",
   "metadata": {},
   "outputs": [],
   "source": []
  }
 ],
 "metadata": {
  "kernelspec": {
   "display_name": "Python 3 (ipykernel)",
   "language": "python",
   "name": "python3"
  },
  "language_info": {
   "codemirror_mode": {
    "name": "ipython",
    "version": 3
   },
   "file_extension": ".py",
   "mimetype": "text/x-python",
   "name": "python",
   "nbconvert_exporter": "python",
   "pygments_lexer": "ipython3",
   "version": "3.9.6"
  }
 },
 "nbformat": 4,
 "nbformat_minor": 5
}

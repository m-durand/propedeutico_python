{
 "cells": [
  {
   "cell_type": "markdown",
   "id": "566c22a0",
   "metadata": {},
   "source": [
    "[![Open In Colab](https://colab.research.google.com/assets/colab-badge.svg)](https://colab.research.google.com/github/m-durand/propedeutico_python/blob/main/notebooks/8_errores_y_debugging.ipynb)"
   ]
  },
  {
   "cell_type": "markdown",
   "id": "a6aad395",
   "metadata": {},
   "source": [
    "# Propedéutico a programación con Python.\n",
    "\n",
    "**Verano 2024, por el Centro de Ciencia de Datos, EGobiernoyTP.**\n",
    "\n",
    "## Sesión 8: Errores y _debugging_\n",
    "\n",
    "1. Errores comunes\n",
    "    * Signos faltantes (e.g. paréntesis, dos puntos, comas, etc.)\n",
    "    * Indentación\n",
    "    * Typos\n",
    "    * Tipo incorrecto de variable\n",
    "2. Debugging\n",
    "   * Recomendaciones generales\n",
    "   * Buenas prácticas de programación\n",
    "3. Herramientas útiles\n",
    "    * Stack Overflow\n",
    "    * ChatGPT\n",
    "    * Documentación oficial\n",
    "    \n",
    "    "
   ]
  },
  {
   "cell_type": "markdown",
   "id": "b647c161",
   "metadata": {},
   "source": [
    "Todos los programadores, independientemente de nuestro nivel de experiencia, se enfrentan a errores y contratiempos cuando escribimos código. La mejor manera de aprender es cometiendo errores y corrigiéndolos, además de que es sumamente útil familiarizarse con ellos y aprender a leer los mensajes de error para poder diagnosticar el problema correctamente.\n",
    "\n",
    "Además, exploraremos herramientas esenciales que pueden ayudarnos en este proceso. Herramientas como Stack Overflow, un foro donde millones de programadores comparten soluciones a problemas de codificación, y ChatGPT, un asistente de inteligencia artificial que puede responder a consultas de código y ayudar a solucionar problemas de programación. Asimismo, es bueno familiarizarse con la documentación oficial de Python o de las librerías que utilices, ésta se encuentra en el sitio oficial de Python y describe con detalle el funcionamiento, características y los requisitos de las funciones u objetos de Python.\n"
   ]
  },
  {
   "cell_type": "markdown",
   "id": "86c577fc",
   "metadata": {},
   "source": [
    "# Errores comunes\n",
    "\n",
    "**Signos faltantes**"
   ]
  },
  {
   "cell_type": "code",
   "execution_count": null,
   "id": "e848360c",
   "metadata": {},
   "outputs": [],
   "source": [
    "# Incorrecto\n",
    "print \"Hola Mundo\""
   ]
  },
  {
   "cell_type": "code",
   "execution_count": null,
   "id": "fb076d24",
   "metadata": {},
   "outputs": [],
   "source": [
    "# Correcto\n",
    "print(\"Hola Mundo\")"
   ]
  },
  {
   "cell_type": "code",
   "execution_count": null,
   "id": "da842fd6",
   "metadata": {},
   "outputs": [],
   "source": [
    "# Incorrecto\n",
    "def di_hola()\n",
    "    print(\"Hola\")"
   ]
  },
  {
   "cell_type": "code",
   "execution_count": null,
   "id": "88aef8e9",
   "metadata": {},
   "outputs": [],
   "source": [
    "# Correcto\n",
    "def di_hola():\n",
    "    print(\"Hola\")"
   ]
  },
  {
   "cell_type": "markdown",
   "id": "276514a9",
   "metadata": {},
   "source": [
    "**Indentación**"
   ]
  },
  {
   "cell_type": "code",
   "execution_count": null,
   "id": "43e0ed0c",
   "metadata": {},
   "outputs": [],
   "source": [
    "# Incorrecto\n",
    "def di_hola():\n",
    "print(\"Hola\")"
   ]
  },
  {
   "cell_type": "code",
   "execution_count": null,
   "id": "c50fb6f2",
   "metadata": {},
   "outputs": [],
   "source": [
    "# Correcto\n",
    "def di_hola():\n",
    "    print(\"Hola\")"
   ]
  },
  {
   "cell_type": "markdown",
   "id": "e55a75b3",
   "metadata": {},
   "source": [
    "**Typos**"
   ]
  },
  {
   "cell_type": "code",
   "execution_count": null,
   "id": "35ef1e32",
   "metadata": {},
   "outputs": [],
   "source": [
    "saludo = \"Hola\"\n",
    "print(sauldo)"
   ]
  },
  {
   "cell_type": "code",
   "execution_count": null,
   "id": "9ead96ff",
   "metadata": {},
   "outputs": [],
   "source": [
    "saludo = \"Hola\"\n",
    "print(saludo)"
   ]
  },
  {
   "cell_type": "markdown",
   "id": "6cf17ec5",
   "metadata": {},
   "source": [
    "**Tipo incorrecto de variable**"
   ]
  },
  {
   "cell_type": "code",
   "execution_count": null,
   "id": "580b227d",
   "metadata": {},
   "outputs": [],
   "source": [
    "edad = input(\"Ingresa tu edad: \")\n",
    "if edad < 18:\n",
    "    print(\"No tienes la edad suficiente para votar.\")"
   ]
  },
  {
   "cell_type": "code",
   "execution_count": null,
   "id": "83476bc8",
   "metadata": {},
   "outputs": [],
   "source": [
    "edad = int(input(\"Ingresa tu edad: \"))\n",
    "if edad < 18:\n",
    "    print(\"No tienes la edad suficiente para votar.\")"
   ]
  },
  {
   "cell_type": "markdown",
   "id": "76d23d22",
   "metadata": {},
   "source": [
    "# _Debugging_\n",
    "\n",
    "El término _debugging_ en realidad se utiliza para el proceso de buscar errores/problemas en el código y solucionarlos, y por lo tanto puede ser tan sencillo o complejo como el mismo código. En general, lo que a mí em viene a la cabeza cuando pienso en _debugging_ es una de dos situaciones:\n",
    "\n",
    "1. Mi código no \"corre\", así que necesito encontrar el error o inconsistencia para arreglarlo y que no me marque errores.\n",
    "2. Mi código \"corre\" pero devuelve resultados que no son consistentes con lo que o esperaría, así que necesito encontrar el error o inconsistencia para arreglarlo y que sí de resultados correctos.\n",
    "\n",
    "\n",
    "El paso uno es respirar y aceptar que una gran parte de la programación es corregir errores. Para los casos del tipo 1, lo primero que debes hacer es leer el error, muchas veces las descripciones son muy explícitas y ayudan a aclaralo rápidamente, y cuando no sean expícitas igualmente son la pista principal para comenzar la solución; normalmente la usarás junto con las herramientas de la sección *Herramientas útiles*. Mientras que para los casos del tipo 2, puedes dividir el problema grande en partes pequeñas y probar que cada parte pequeña esté funcionado como se espera.\n",
    "\n",
    "---\n",
    "\n",
    "## Buenas prácticas de programación\n",
    "\n",
    "Cuando tienes un error no queda más que solucionarlo pero lo mejor es evitar que ocurra en primer lugar, para ello se sugiere mantener buenas prácticas de programación, éstas incluyen: documentar el código, dividir en tareas simples, hacer pruebas de cada sección, utilizar nombres de variables que revelen información útil, etc. Revisemos con mayor detalle algunas: \n",
    "\n",
    " - documentar/comentar tu código: es común que tu yo del futuro no recuerde lo que tu yo del pasado quería hacer al programar cierta sección código, además, la documentación es esencial si haces proyectos en equipo.\n",
    " - construir tu código con funciones/secciones aisladas, probar que cada una funcione de manera adecuada y unirlas al final. Hacer las tareas de manera aislada permite que hagas distintas pruebas en cada parte simplificando mucho la tarea de encontrar errores en el funcionamiento.\n",
    " - nombrar las variables de manera descriptiva: puedes incluir palabras que describan el contenido y el tipo de datos. Trata de encontrar un equilibrio entre que no sean abreviaciones difíciles de descifrar pero que tampoco sean nombres muy largos; hacer ambas permite leer y entender el funcionamiento del código más fácilmente.\n",
    " - hacer condicionales que te \"avisen\" (impriman una leyenda, detengan el código, regresen un valor especial) si hay una situación/dato/formato no esperado.\n",
    " - tratar de hacer códigos lo más pequeños posibles: si hay menos líneas de código hay menos errores potenciales.\n",
    " - evitar repetir partes de tu código -va en la línea de minimizar el tamaño de tu código. Si hay una sección de código que estés copiando y pegando con ligeras modificaciones es indicativo de que en lugar de ello podrías crear una función que tenga como argumentos las partes que modificas.\n",
    " - utilizar tipos adecuados para tus datos, por ejemplo, si hay datos que no quieras que se modifiquen en ningún escenario guárdalo en tuplas (que son inmutables).\n",
    "- aprovechar funciones ya programadas en librerías de Python: antes de decidir construir una función por tu cuenta investiga si hay una función incluída en Python o en una librería no estándar (una librería que debes instalar) para hacer la tarea o una parte de la tarea que buscas. Dichas funciones ya están probadas y suelen estar programadas de manera eficiente.\n",
    "- hacer tu código legible: se dice que un código se lee muchas más veces de las que se escribe, para procurar hacerlo más amigable a la vista, consistente y para seguir convenciones de la comunidad de Python, existe un estándar llamado PEP. Las guías las puedes encontrar en https://peps.python.org/pep-0008/."
   ]
  },
  {
   "cell_type": "markdown",
   "id": "989fec14",
   "metadata": {},
   "source": [
    "# Herramientas útiles"
   ]
  },
  {
   "cell_type": "markdown",
   "id": "b6567b77",
   "metadata": {},
   "source": [
    "## ¿Qué es y para qué es Stack Overflow?\n",
    "\n",
    "Stack Overflow es un sitio web de preguntas y respuestas para profesionales y entusiastas de la programación. \n",
    "\n",
    "Los usuarios pueden hacer preguntas sobre problemas de código específicos que encuentran y otros usuarios (desde principiantes hasta expertos en la materia) pueden proporcionar respuestas. Las respuestas pueden ser votadas por la comunidad, y las respuestas con más votos se mueven hacia arriba en la lista de respuestas para una pregunta dada. \n",
    "\n",
    "En general, Stack Overflow sirve como un repositorio de soluciones a problemas de programación. Muchas veces, los problemas que los programadores encuentran ya han sido resueltos por otros.\n",
    "\n",
    "Stack Overflow es un sitio en inglés. En general, mi recomendación es que siempre Googleen (o ChatGPT-een, ya llegaremos a esto) sus dudas de código en inglés, pues los manuales de las librerías o las perguntas/respuestas en Stack Overflow estarán en ese idioma, y en general hay mucho más recursos respecto a código en inglés.\n",
    "\n",
    "Usemos Stack Overflow para resolver los siguientes problemas:\n",
    "\n",
    "**Buscar mensajes de error**"
   ]
  },
  {
   "cell_type": "code",
   "execution_count": null,
   "id": "6bf9a856",
   "metadata": {},
   "outputs": [],
   "source": [
    "# Creamos un rango de fechas de enero a diciembre\n",
    "fechas = pd.date_range(start='1/1/2023', end='12/31/2023')\n",
    "\n",
    "# Generamos datos de ventas aleatorios\n",
    "ventas = pd.Series(data=np.random.randint(100, 500, len(fechas)), index=fechas)\n",
    "\n",
    "# Creamos el DataFrame\n",
    "df = pd.DataFrame(ventas, columns=['Ventas'])\n",
    "\n",
    "# Graficamos\n",
    "plt.figure(figsize=(10,6))\n",
    "plt.plot(df.index, df['Ventas'])\n",
    "plt.title('Ventas a lo largo del tiempo')\n",
    "plt.xlabel('Fecha')\n",
    "plt.ylabel('Ventas')\n",
    "plt.grid(True)\n",
    "plt.show()"
   ]
  },
  {
   "cell_type": "markdown",
   "id": "4a9e8f33",
   "metadata": {},
   "source": [
    "Aquí hay una respuesta de Stack Overflow:\n",
    "\n",
    "https://stackoverflow.com/questions/40407090/nameerror-name-pd-is-not-defined\n",
    "\n",
    "**Hacer preguntas completas de cómo realizar una actividad específica con código*\n",
    "\n",
    "Al escribir una pregunta en Google, generalmente Stack Overflow se encontrará en los primeros resultados. Por ejemplo, para la búsqueda:\n",
    "\n",
    "`how to show points in a map python`\n",
    "\n",
    "Se obtiene:\n",
    "\n",
    "https://stackoverflow.com/questions/53233228/plot-latitude-longitude-from-csv-in-python-3-6"
   ]
  },
  {
   "cell_type": "markdown",
   "id": "442d07de",
   "metadata": {},
   "source": [
    "## ¿Qué es y para qué es ChatGPT?\n",
    "\n",
    "GPT puede ayudar a sugerirles dónde se encuentra el error en un código que no corre, pasos para solucionar un mensaje de error desconocido o cambiar partes específicas de un código que ya tengan escrito."
   ]
  },
  {
   "cell_type": "code",
   "execution_count": null,
   "id": "53172373",
   "metadata": {},
   "outputs": [],
   "source": [
    "def print_board(board):\n",
    "    print('---------')\n",
    "    for row in board:\n",
    "        print('|', end='')\n",
    "        for cell in row:\n",
    "            print(cell, end=' ')\n",
    "        print('|')\n",
    "    print('---------')\n",
    "\n",
    "def get_move(player):\n",
    "    while True:\n",
    "        move = input(f\"Jugador {player}, ingresa tu jugada como 'fila,columna': \")\n",
    "        try:\n",
    "            row, col = map(int, movesplit(','))\n",
    "            if row in [0, 1, 2] and col in [0, 1, 2]:\n",
    "                return row, col\n",
    "            else:\n",
    "                print(\"Las coordenadas deben estar entre 0 y 2.\")\n",
    "        except ValueError:\n",
    "            print(\"Entrada no válida. Usa el formato 'fila,columna'.\")\n",
    "\n",
    "def game():\n",
    "    # Crear el tablero\n",
    "    board = [[' ' for _ in range(3)] for _ in range(3)]\n",
    "    current_player = 'X'\n",
    "\n",
    "    while True:\n",
    "        # Mostrar el tablero\n",
    "        print_board(board)\n",
    "\n",
    "        # Solicitar jugada\n",
    "        row, col = get_move(current_player)\n",
    "        if board[row][col] != ' ':\n",
    "            print(\"Esa celda ya está ocupada, elige otra.\")\n",
    "            continue\n",
    "\n",
    "        # Realizar jugada\n",
    "        board[row][col] = current_player\n",
    "\n",
    "        # Verificar si el jugador actual ha ganado\n",
    "        if (any(all(cell == current_player for cell in row) for row in board) or  # filas\n",
    "            any(all(row[i] == current_player for row in board) for i in range(3)) or  # columnas\n",
    "            all(board[i][i] == current_player for i in range(3)) or  # diagonal principal\n",
    "            all(board[i][2 - i] == current_player for i in range(3))):  # diagonal secundaria\n",
    "            print_board(board)\n",
    "            print(f\"¡Jugador {current_player} ha ganado!\")\n",
    "            break\n",
    "\n",
    "        # Cambiar de jugador\n",
    "        current_player = 'O' if current_player == 'X' else 'X'\n",
    "\n",
    "    # Preguntar si quieren jugar de nuevo\n",
    "    again = input(\"¿Quieres jugar de nuevo? (sí/no): \")\n",
    "    if again.lower().startswith('s'):\n",
    "        game()\n",
    "\n",
    "# Iniciar el juego\n",
    "game()\n"
   ]
  },
  {
   "cell_type": "markdown",
   "id": "447f19ae",
   "metadata": {},
   "source": [
    "Usando el prompt:\n",
    "    \n",
    "`Hey! This code doesn't run, could you help me find the error? ______`\n",
    "\n",
    "Se obtiene la respuesta:\n",
    "        \n",
    "        ![Respuesta GPT](../src/img/gpt_debug.png)\n",
    "        \n",
    "TODO insertar imagen :(\n",
    "\n",
    "**Ejercicio**\n",
    "\n",
    "Corrige el error con la sugerencia de ChatGPT y describe qué hace el código."
   ]
  },
  {
   "cell_type": "markdown",
   "id": "d3c88c46",
   "metadata": {},
   "source": [
    "* Ejemplo 2: un error malvado\n",
    "\n",
    "Para hacer cálculos de manera óptima la librería más utilizada es numpy. Con ella puedes crear arreglos en los que las funciones de numpy están diseñadas para ser eficientes en memoria y tiempo de cálculo.\n",
    "Por otro lado, es común que algunos valores de tus datos sean desconocidos. En el siguiente ejemplo podemos pedir a ChatGPT que solucione el error y que nos explique por qué no se puede asignar un valor desconocido (NaN) a un arreglo simple. "
   ]
  },
  {
   "cell_type": "code",
   "execution_count": null,
   "id": "4ac21e97",
   "metadata": {},
   "outputs": [],
   "source": [
    "import numpy as np\n",
    "\n",
    "a = np.array([10, 20, 30, 40, 50, 60, 70])\n",
    "\n",
    "a[0] = np.NaN"
   ]
  },
  {
   "cell_type": "markdown",
   "id": "fc93a569",
   "metadata": {},
   "source": [
    "**Ejemplo 3: editar código existente*\n",
    "    \n",
    "Tenemos un histograma, pero el formato de las etiquetas del eje x es feo. Podemos pedirle a ChatGPT que edite nuestro código tal que le agregue lo necesario para que slas etiquetas muestren solamente el mes."
   ]
  },
  {
   "cell_type": "code",
   "execution_count": null,
   "id": "3e1d3d93",
   "metadata": {},
   "outputs": [],
   "source": [
    "import pandas as pd\n",
    "import numpy as np\n",
    "import matplotlib.pyplot as plt\n",
    "\n",
    "# Creamos un rango de fechas para los 12 meses de 2023\n",
    "meses = pd.date_range('2023-01-01', periods=12, freq='M')\n",
    "\n",
    "# Generamos algunos datos de ventas aleatorios para 3 diferentes categorías de productos\n",
    "np.random.seed(42)  # Para resultados reproducibles\n",
    "ventas_A = np.random.randint(20, 50, size=len(meses))\n",
    "ventas_B = np.random.randint(10, 30, size=len(meses))\n",
    "ventas_C = np.random.randint(5, 20, size=len(meses))\n",
    "\n",
    "# Ponemos estos datos en un DataFrame\n",
    "df = pd.DataFrame({\n",
    "    'Mes': meses,\n",
    "    'Ventas_A': ventas_A,\n",
    "    'Ventas_B': ventas_B,\n",
    "    'Ventas_C': ventas_C\n",
    "}).set_index('Mes')\n",
    "\n",
    "# Creamos un gráfico de barras apiladas\n",
    "df.plot(kind='bar', stacked=True, figsize=(10, 6))\n",
    "\n",
    "plt.title('Ventas Mensuales por Categoría de Producto')\n",
    "plt.xlabel('Mes')\n",
    "plt.ylabel('Ventas')\n",
    "plt.tight_layout()\n",
    "plt.show()    \n",
    "    "
   ]
  },
  {
   "cell_type": "markdown",
   "id": "4f3d4636",
   "metadata": {},
   "source": [
    "Usando el prompt:\n",
    "    \n",
    "`Could you help me edit the next code, so that the x axis tags are show in the format \"yyyy-mm\"? ______`"
   ]
  },
  {
   "cell_type": "code",
   "execution_count": null,
   "id": "62f5659c",
   "metadata": {},
   "outputs": [],
   "source": [
    "import matplotlib.pyplot as plt\n",
    "import matplotlib.dates as mdates\n",
    "\n",
    "# Creamos un gráfico de barras apiladas\n",
    "df.plot(kind='bar', stacked=True, figsize=(10, 6))\n",
    "\n",
    "# Formateamos el eje x\n",
    "plt.gca().xaxis.set_major_formatter(mdates.DateFormatter('%Y-%m'))\n",
    "plt.gca().xaxis.set_major_locator(mdates.MonthLocator())\n",
    "\n",
    "plt.title('Ventas Mensuales por Categoría de Producto')\n",
    "plt.xlabel('Mes')\n",
    "plt.ylabel('Ventas')\n",
    "plt.tight_layout()\n",
    "plt.show()"
   ]
  },
  {
   "cell_type": "markdown",
   "id": "7fd65f52",
   "metadata": {},
   "source": [
    "**Ejercicio**\n",
    "\n",
    "Encuentra la pregunta adecuada a hacerle a ChatGPT para resolver el problema de los formatos de fechas."
   ]
  },
  {
   "cell_type": "markdown",
   "id": "156f421c",
   "metadata": {},
   "source": [
    "## ¿Dónde buscar documentación oficial, cómo leerla y por qué es útil?"
   ]
  },
  {
   "cell_type": "markdown",
   "id": "dda7a5b1",
   "metadata": {},
   "source": [
    "La **documentación oficial de Python** se encuentra en el sitio oficial: https://docs.python.org/. En ella puedes encontrar tutoriales, descripciones y ejemplos de uso de las funciones (e.g. max, min, len) y objetos (e.g. arreglos, diccionarios, funciones, enteros) incluidas por default en Python. Específicamente están en el apartado _Library Reference: keep this under your pillow_.\n",
    "\n",
    "--- \n",
    "\n",
    "La documentación suele estar escrita de manera sucinta. En el caso de descripción de **funciones** suele contener los siguientes puntos:\n",
    "* salida o acción de la función\n",
    "* argumentos requeridos por la función y los tipos permitidos\n",
    "* argumentos opcionales y el valor default que toman si no eliges ninguno\n",
    "* ejemplos de uso de la función\n",
    "\n",
    "Puedes explorar el sitio oficial para darte una idea de cuáles funciones ya existen, ejemplos de funciones útiles descritas en https://docs.python.org/3/library/functions.html son:\n",
    "\n",
    "* `len(s)` recibe un objeto `s` iterable (una lista, tupla o rango) y regresa su longitud (la cantidad de items dentro del objeto).\n",
    "* `sorted(s, reverse=False)` recibe un objeto `s` iterable (una lista, tupla o rango) y regresa una nueva lista ordenada de menor a mayor. El `reverse=False` significa que hay un argumento opcional (puedes no introducirlo) que se llama `reverse` y que su valor default es `False`. En la documentación puedes encontrar que `reverse` es un booleano (sólo puede tomar los valores True o False) y que si eliges el valor `True` entonces la lista de salida es ordenada de mayor a menor.\n",
    "\n",
    "----\n",
    "\n",
    "En el caso de **tipos de objetos** la documentación suele tener los siguientes puntos:\n",
    "* qué los distingue\n",
    "* cómo hacer operaciones entre ellos\n",
    "* cómo modificarlos\n",
    "\n",
    "Los tipos de objetos que más utilizarás son los numéricos, booleanos, secuencias, textos, diccionarios y funciones pero puedes encontrar el resto de objetos ya definidos en Python en: https://docs.python.org/3/library/stdtypes.html.\n",
    "\n",
    "\n",
    "---\n",
    "\n",
    "También existe **documentación para librerías no incluidas**, por ejemplo, `pandas`; para encontrarlas puedes simplemente escribir \"<`nombre de la librería`> _documentation_\" en tu motor de búsqueda y normalmente el primer sitio (usualmente terminado por .org) contienen la documentación. En el caso de pandas el sitio es https://pandas.pydata.org/docs/. En la práctica, cuando busques detalles y ejemplos de una función simplemente escribe en el motor \"<`nombre de la funcion`> <`libreria donde se encuentra`> _documentation_\" y elige el vínculo a la documentación del sitio oficial de la librería.\n",
    "\n",
    "    \n",
    "---\n",
    "\n",
    "Aunque existen herramientas como Stack Overflow o ChatGPT, la documentación es siempre un lugar seguro si éstas fallan. También leyendo la documentación puedes descrubrir características muy útiles para tareas futuras, o maneras de mejorar o simplificar lo que ya hayas programado. Por lo anterior, consultar documentación resulta especialmente útil para personas interesadas en adentrarse más al mundo de la programación."
   ]
  }
 ],
 "metadata": {
  "kernelspec": {
   "display_name": "Python 3 (ipykernel)",
   "language": "python",
   "name": "python3"
  },
  "language_info": {
   "codemirror_mode": {
    "name": "ipython",
    "version": 3
   },
   "file_extension": ".py",
   "mimetype": "text/x-python",
   "name": "python",
   "nbconvert_exporter": "python",
   "pygments_lexer": "ipython3",
   "version": "3.8.6"
  }
 },
 "nbformat": 4,
 "nbformat_minor": 5
}

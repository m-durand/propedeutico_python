{
 "cells": [
  {
   "cell_type": "markdown",
   "id": "98cea5af",
   "metadata": {},
   "source": [
    "[![Open In Colab](https://colab.research.google.com/assets/colab-badge.svg)](https://colab.research.google.com/github/m-durand/propedeutico_python/blob/main/notebooks/3_paquetes_envs.ipynb)"
   ]
  },
  {
   "cell_type": "markdown",
   "id": "large-integer",
   "metadata": {},
   "source": [
    "# Propedéutico a programación con Python.\n",
    "\n",
    "**Agosto 2025, por el Centro de Ciencia de Datos e IA, EGobiernoyTP.**\n",
    "\n",
    "### Sesión 3: Paquetes, archivos y arreglos en Python\n",
    "\n",
    "En esta sesión aprenderemos a **usar paquetes**, **cargar archivos** y **trabajar con arreglos**.  \n",
    "Estos temas son esenciales para el análisis de datos en Python."
   ]
  },
  {
   "cell_type": "markdown",
   "id": "7b00a231",
   "metadata": {},
   "source": [
    "## 1. Paquetes\n",
    "\n",
    "En Python, un paquete es una colección de funciones, módulos y herramientas que se agrupan para realizar tareas específicas.  \n",
    "Pueden ser creados por ti o por otros desarrolladores y **se instalan** en tu entorno de trabajo.\n",
    "\n",
    "\n",
    "### 1.1 Pip\n",
    "\n",
    "Pip es el sistema de gestión de paquetes de Python.  Sirve para **instalar** y **administrar** librerías externas.\n",
    "\n",
    "``pip install <package_name>``\n",
    "\n",
    "Ejemplo:\n",
    "\n",
    "``pip install pandas``\n",
    "\n",
    "De los paquetes más utilizados en análisis de datos son: \n",
    "\n",
    "- pandas → Manejo y análisis de datos tabulares.\n",
    "\n",
    "- numpy → Operaciones numéricas y arreglos.\n",
    "\n",
    "- matplotlib → Visualización de datos.\n",
    "\n",
    "- seaborn → Visualizaciones estadísticas.\n",
    "\n",
    "### 1.3 Importar paquetes\n",
    "\n",
    "Una vez instalados los paquetes hay que importarlos antes de usarlos:"
   ]
  },
  {
   "cell_type": "code",
   "execution_count": null,
   "id": "97a1137f",
   "metadata": {},
   "outputs": [],
   "source": [
    "import numpy as np  \n",
    "import pandas as pd"
   ]
  },
  {
   "cell_type": "markdown",
   "id": "a3fdbc18",
   "metadata": {},
   "source": [
    "#### Ojo:\n",
    "\n",
    "- `import numpy as np` → Importa la librería numpy y la asigna al alias np.\n",
    "\n",
    "- `import pandas as pd` → Importa la librería pandas y la asigna al alias pd."
   ]
  },
  {
   "cell_type": "markdown",
   "id": "9bab3dec",
   "metadata": {},
   "source": [
    "### 1.3 Ambientes virtuales\n",
    "\n",
    "Cuando trabajas en python con diferentes paquetes, te darás cuenta que unos paquetes dependen de otros. A veces, estos paquetes requieren multiples versiones que si se conjuntan con otros paquetes comenzarás a tener problemas de instalación. \n",
    "\n",
    "Lo que se debe de realizar para no tener este problema es utilizar lo que se conoce como **ambientes virtuales**. Lo que hacen los ambientes virtuales es empaquetar o juntar los paquetes y separarlos de otros. Se recomienda tener un ambiente por cada proyecto diferente que tengas. \n",
    "\n",
    "Python tiene por default  `venv`. Que simplemente se crea con:\n",
    "\n",
    "``python -m venv mi_entorno``\n",
    "\n",
    "Para activarlo en Mac/Linux:\n",
    "\n",
    "``source mi_entorno/bin/activate``\n",
    "\n",
    "Para activarlo en Windows:\n",
    "\n",
    "``mi_entorno\\Scripts\\activate``\n",
    "\n",
    "Para desactivarlo con:\n",
    "\n",
    "``deactivate``\n",
    "\n",
    "Para este curso propedéutico no se utilizarán ambientes virtuales, pero durante tu maestría los utilizarás comúnmente, por lo que te recomendamos conocer de esta herramienta."
   ]
  },
  {
   "cell_type": "markdown",
   "id": "1e3140c5",
   "metadata": {},
   "source": [
    "## 2. Cargar archivos\n",
    "   \n",
    "En Colab, podemos interactuar con archivos de tu unidad de Google Drive pero deben (1) deben de estar en tu drive y debes conocer su directorio y (2) debemos ejecutar un comando que diga a Colab que utlizaremos archivos de tu Drive. Para ello sigamos los siguientes pasos:\n",
    "\n",
    "1. Descarga los datos y súbelos a tu Drive dentro de una carpeta que se llame datos.\n",
    "2. Corre la siguiente celda. Con la función `mount` de la librería `google`  indicamos a Colab que utlizaremos archivos de nuestra unidad de Google Drive.\n"
   ]
  },
  {
   "cell_type": "code",
   "execution_count": null,
   "id": "93a79aeb",
   "metadata": {},
   "outputs": [],
   "source": [
    "from google.colab import drive  # google es una librería/paquete tiene un módulo que se llama colab y de ese módulo importamos la función drive\n",
    "drive.mount('/content/drive', force_remount=True)  # indicamos que utlizaremos archivos de nuestra unidad de Google Drive\n",
    "\n",
    "# usaremos una ruta absoluta\n",
    "my_path = '/content/drive/MyDrive/datos/'  # guardamos una ruta que utilizaremos a menudo"
   ]
  },
  {
   "cell_type": "markdown",
   "id": "a6baf2be",
   "metadata": {},
   "source": [
    "Ahora estamos listos para cargar archivos. "
   ]
  },
  {
   "cell_type": "markdown",
   "id": "c6e25675",
   "metadata": {},
   "source": [
    "### 2.2 Cargar csv con pandas\n",
    "\n",
    "Ahora cargaremos archivos del tipo \"csv\" que son los archivos que se suelen utilizar en hojas de cálculo. Las siglas csv significan **\"_comma separated values_\"**, un archivo de ese tipo es simplemente un archivo de texto que busca representar tablas, para ello los valores/palabras de un renglón se separan por comas. Un ejemplo del contenido de un archivo sería:\n",
    "\n",
    "    nombre, edad, país\n",
    "    Amparo, 18, México\n",
    "    Rogelio, 67, México\n",
    "    Elisa, 28, España\n",
    "    \n",
    "Son muy útiles y se cargan con pandas, observa que antes de la palabra `read_csv` está la palabra de `pd`, el cual ya habíamos cargado previamente. En general, para acceder a una función de una librería/paquete se utliza la forma:\n",
    "\n",
    "`<nombre de la librería> . <nombre de la función>`"
   ]
  },
  {
   "cell_type": "code",
   "execution_count": null,
   "id": "8bc4f3dd",
   "metadata": {},
   "outputs": [],
   "source": [
    "import pandas as pd"
   ]
  },
  {
   "cell_type": "code",
   "execution_count": null,
   "id": "6bec43f5",
   "metadata": {},
   "outputs": [],
   "source": [
    "df = pd.read_csv(my_path + 'indicadores.csv')"
   ]
  },
  {
   "cell_type": "code",
   "execution_count": null,
   "id": "50800f83",
   "metadata": {},
   "outputs": [],
   "source": [
    "df_excel = pd.read_excel(my_path+'panes.xlsx')"
   ]
  },
  {
   "cell_type": "markdown",
   "id": "ffd970be",
   "metadata": {},
   "source": [
    "## 3. Arreglos\n",
    "\n",
    "En las sesiones anteriores hablamos de estructuras de almacenamiento de valores como listas, tuplas, etc. En este caso hablaremos de **arreglos** que son un tipo de estructura de dato que requiere paqueterías externas como **numpy (np)**. Cosas a considerar de los arreglos: \n",
    "\n",
    "\n",
    "- Los arregos son homogéneos, en el sentido de que solo pueden almacenar elementos de un solo tipo de dato (ya sea float, int o str). \n",
    "- Los arreglos tienden a ser más eficiencies para cómputo numérico y grandes cantidades de datos por la manera en la que se almacenan. \n",
    "- Permiten realizar operaciones vectoriales por lo que puedes hacer operaciones matemáticas sobre el arreglo completo. \n",
    "- Sus funciones y operaciones están especialmente optimizadas para cómputo numérico.\n",
    "\n"
   ]
  },
  {
   "cell_type": "code",
   "execution_count": null,
   "id": "a53059ee",
   "metadata": {},
   "outputs": [],
   "source": [
    "# mandamos a llamar numpy\n",
    "import numpy as np"
   ]
  },
  {
   "cell_type": "code",
   "execution_count": null,
   "id": "6feca479",
   "metadata": {},
   "outputs": [],
   "source": [
    "# Crear un arreglo\n",
    "mi_arreglo = np.array([1, 2, 3, 4, 5])\n",
    "print(\"Arreglo original:\", mi_arreglo)"
   ]
  },
  {
   "cell_type": "code",
   "execution_count": null,
   "id": "368efe7f",
   "metadata": {},
   "outputs": [],
   "source": [
    "# Realizamos operaciones con el arreglo que creamos\n",
    "arreglo_cuadrado = mi_arreglo ** 2\n",
    "print(\"Los valores del arreglo al cuadrado:\", arreglo_cuadrado)"
   ]
  },
  {
   "cell_type": "code",
   "execution_count": null,
   "id": "56646a4e",
   "metadata": {},
   "outputs": [],
   "source": [
    "suma_arreglo = np.sum(mi_arreglo)\n",
    "print(\"Suma del arreglo:\", suma_arreglo)"
   ]
  },
  {
   "cell_type": "code",
   "execution_count": null,
   "id": "e750087b",
   "metadata": {},
   "outputs": [],
   "source": [
    "media_arreglo = np.mean(mi_arreglo)\n",
    "print(\"Media del arreglo:\", media_arreglo)"
   ]
  },
  {
   "cell_type": "code",
   "execution_count": null,
   "id": "c4f72322",
   "metadata": {},
   "outputs": [],
   "source": [
    "a_1 = np.array([8, 2, 9, 25, 4])\n",
    "a_2 = np.array([66, 9, 17, 30, 5])"
   ]
  },
  {
   "cell_type": "code",
   "execution_count": null,
   "id": "00a91367",
   "metadata": {},
   "outputs": [],
   "source": [
    "result = a_2 - a_1\n",
    "result"
   ]
  },
  {
   "cell_type": "markdown",
   "id": "5ab10029",
   "metadata": {},
   "source": [
    "Un par de funciones útiles extra "
   ]
  },
  {
   "cell_type": "code",
   "execution_count": null,
   "id": "dbd6d090",
   "metadata": {},
   "outputs": [],
   "source": [
    "# Generador de números aleatorios\n",
    "aleatorios = np.random.choice(10,20)  # Genera hasta el número 9, 20 números random\n",
    "aleatorios"
   ]
  },
  {
   "cell_type": "code",
   "execution_count": null,
   "id": "5e7f10bc",
   "metadata": {},
   "outputs": [],
   "source": [
    "# Generador de fechas \n",
    "dias_enero = pd.date_range('2017-01-01', '2017-01-31')\n",
    "dias_enero"
   ]
  },
  {
   "cell_type": "markdown",
   "id": "27ace06c",
   "metadata": {},
   "source": [
    "**Ejercicio**\n",
    "\n",
    "1. Haz una **lista** de los cuadrados de los números del 1 al 7, sin utilizar `numpy` y utilizando un ciclo `for`.\n",
    "\n",
    "2. Haz un **arreglo** de cuadrados de los números del 1 al 7, pero utilizando `numpy` y sin utilizar un ciclo."
   ]
  },
  {
   "cell_type": "code",
   "execution_count": null,
   "id": "a28c6126",
   "metadata": {},
   "outputs": [],
   "source": [
    "# respuesta 1"
   ]
  },
  {
   "cell_type": "code",
   "execution_count": null,
   "id": "859d9da9",
   "metadata": {},
   "outputs": [],
   "source": [
    "# respuesta 2"
   ]
  }
 ],
 "metadata": {
  "kernelspec": {
   "display_name": "Python 3 (ipykernel)",
   "language": "python",
   "name": "python3"
  },
  "language_info": {
   "codemirror_mode": {
    "name": "ipython",
    "version": 3
   },
   "file_extension": ".py",
   "mimetype": "text/x-python",
   "name": "python",
   "nbconvert_exporter": "python",
   "pygments_lexer": "ipython3",
   "version": "3.10.6"
  }
 },
 "nbformat": 4,
 "nbformat_minor": 5
}

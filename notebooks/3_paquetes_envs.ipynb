{
 "cells": [
  {
   "cell_type": "markdown",
   "id": "98cea5af",
   "metadata": {},
   "source": [
    "[![Open In Colab](https://colab.research.google.com/assets/colab-badge.svg)](https://colab.research.google.com/github/m-durand/propedeutico_python/blob/main/notebooks/3_if_for_loops.ipynb)"
   ]
  },
  {
   "cell_type": "markdown",
   "id": "large-integer",
   "metadata": {},
   "source": [
    "# Propedéutico a programación con Python.\n",
    "\n",
    "**Verano 2023, por el Centro de Ciencia de Datos, EGobiernoyTP.**\n",
    "\n",
    "### Sesión 3: Paquetes, archivos, más intro python\n",
    "\n",
    "1. Paquetes\n",
    "   - pip\n",
    "   - Importar paquetes\n",
    "   - Ambientes Virtuales\n",
    "2. Cargar archivos\n",
    "    - open\n",
    "    - csv con pandas\n",
    "    - sql con pandas\n",
    "3. Arreglos (numpy)"
   ]
  },
  {
   "cell_type": "markdown",
   "id": "7b00a231",
   "metadata": {},
   "source": [
    "## 1. Paquetes\n",
    "\n",
    "Un paquete en python es una colección de funciones y módulos que se colocan juntas para realizar una cierta tarea. Es básicamente un directorio con archivos de python, tu puedes crear los tuyos o utilizar paquetes por otros desarrolladores. \n",
    "\n",
    "### 1.1 Pip\n",
    "\n",
    "Pip es un sistema de administración de paquetes que se utiliza para instalar y administrar librerías externas en python.\n",
    "\n",
    "``pip install <package_name>``\n",
    "\n",
    "Ejemplo:\n",
    "\n",
    "``pip install pandas``\n",
    "\n",
    "De los paquetes más utilizados en análisis de datos es pandas y numpy. \n",
    "\n",
    "### 1.2 Importar paquetes\n",
    "\n",
    "Una vez instalados los paquetes para hacer uso de ellos debes de importarlos de la siguiente manera:"
   ]
  },
  {
   "cell_type": "code",
   "execution_count": null,
   "id": "97a1137f",
   "metadata": {},
   "outputs": [],
   "source": [
    "import numpy as np  \n",
    "import pandas as pd"
   ]
  },
  {
   "cell_type": "markdown",
   "id": "a3fdbc18",
   "metadata": {},
   "source": [
    "Lo que quiere decir esas líneas de código es: importa numpy como np, es decir todo lo que venga con prefijo np viene \n",
    "del paquete numpy, e igual con pandas como pd."
   ]
  },
  {
   "cell_type": "markdown",
   "id": "9bab3dec",
   "metadata": {},
   "source": [
    "### 1.3 Ambientes virtuales\n",
    "\n",
    "Cuando trabajas en python con diferentes paquetes, te darás cuenta que unos paquetes dependen de otros. A veces, estos paquetes requieren multiples versiones que si se conjuntan con otros paquetes comenzarás a tener problemas de instalación. \n",
    "\n",
    "Lo que se debe de realizar para no tener este problema es utilizar lo que se conoce como **ambientes virtuales**. Lo que hacen los ambientes virtuales es empaquetar o juntar los paquetes y separarlos de otros. Se recomienda tener un ambiente por cada proyecto diferente que tengas. \n",
    "\n",
    "Uno de los ambientes virtuales más utilizados es `virtualenv`. Que simplemente se crea con:\n",
    "\n",
    "``virtualenv <my_env_name>``\n",
    "\n",
    "Para activarlo con:\n",
    "\n",
    "``source <my_env_name>/bin/activate``\n",
    "\n",
    "Para desactivarlo con:\n",
    "\n",
    "``deactivate``\n",
    "\n",
    "Para este curso propedéutico no se utilizarán ambientes virtuales, pero durante tu maestría los utilizarás comúnmente, por lo que te recomendamos conocer de esta herramienta."
   ]
  },
  {
   "cell_type": "markdown",
   "id": "deaff931",
   "metadata": {},
   "source": [
    "## 2. Cargar archivos\n",
    "\n",
    "Existen diferentes maneras en las que se pueden cargar archivos o bases de datos a python:\n",
    "\n",
    "### 2.1 Cargar con Open()\n",
    "\n",
    "Una manera de abrir archivos en python es con la operación ``open()``. Existen diferentes maneras en las que puedes abrir un archivo como: write(w), read(r), append(a), etc.\n",
    "\n",
    "Revisa que el directorio de trabajo se va a la carpeta de datos, si quitas los puntitos [`../`] de la siguiente línea de código estarías tomando la dirección dentro de la carpeta de notebooks. "
   ]
  },
  {
   "cell_type": "code",
   "execution_count": null,
   "id": "b54e5e97",
   "metadata": {},
   "outputs": [],
   "source": [
    "with open('../datos/alice.txt') as f:  \n",
    "    lines = f.readlines()"
   ]
  },
  {
   "cell_type": "code",
   "execution_count": null,
   "id": "62f00e7e",
   "metadata": {},
   "outputs": [],
   "source": [
    "lines"
   ]
  },
  {
   "cell_type": "markdown",
   "id": "c6e25675",
   "metadata": {},
   "source": [
    "### 2.2 Cargar csv con pandas\n",
    "\n",
    "Los csv son archivos para bases de datos que se separan por comas. Son muy útiles y se cargan con pandas, observa que antes del argumento de `read_csv` está el argumento de `pd`, el cual ya habíamos cargado previamente. "
   ]
  },
  {
   "cell_type": "code",
   "execution_count": null,
   "id": "8bc4f3dd",
   "metadata": {},
   "outputs": [],
   "source": [
    "import pandas as pd"
   ]
  },
  {
   "cell_type": "code",
   "execution_count": null,
   "id": "6bec43f5",
   "metadata": {},
   "outputs": [],
   "source": [
    "df = pd.read_csv('../datos/edades.csv')"
   ]
  },
  {
   "cell_type": "code",
   "execution_count": null,
   "id": "50800f83",
   "metadata": {},
   "outputs": [],
   "source": [
    "df"
   ]
  },
  {
   "cell_type": "markdown",
   "id": "32ae465a",
   "metadata": {},
   "source": [
    "#### Guardar archivos cvs"
   ]
  },
  {
   "cell_type": "code",
   "execution_count": null,
   "id": "f294fbf7",
   "metadata": {},
   "outputs": [],
   "source": [
    "# Función de pandas para cambiar los nombres de las columnas a minúsculas\n",
    "# Aquí hacemos un cambio en la base que tenemos para gardarlo \n",
    "df.rename(str.lower, axis='columns', inplace=True)"
   ]
  },
  {
   "cell_type": "code",
   "execution_count": null,
   "id": "7e017fc8",
   "metadata": {},
   "outputs": [],
   "source": [
    "df"
   ]
  },
  {
   "cell_type": "code",
   "execution_count": null,
   "id": "b97290ea",
   "metadata": {},
   "outputs": [],
   "source": [
    "# Para guardar cambios en un csv\n",
    "df.to_csv('../datos/edades_min.csv', index=False)"
   ]
  },
  {
   "cell_type": "code",
   "execution_count": null,
   "id": "c0ee557a",
   "metadata": {},
   "outputs": [],
   "source": [
    "df"
   ]
  },
  {
   "cell_type": "markdown",
   "id": "0541ded5",
   "metadata": {},
   "source": [
    "### 2.3 Cargar tablas de bases de datos con sql\n",
    "\n",
    "Las bases de datos relacionales es otra manera en la que se pueden almacenar, manejar, consultar o analizar información. Generalmente, las bases de datos de esta naturaleza se guardan en servidores (computadoras en la nube) dedicados exclusivamente para el mantenimiento y manejo de datos tabulares (columna-renglón), y el lenguaje que se utiliza para interactuar con estas bases es SQL (Structured Query Language). \n",
    "\n",
    "Las bases de datos relacionales son de gran ayuda sobre todo cuando se manejan grandes cantidades de datos. Los paquetes para interactuar entre python y bases de datos relacionales es `psycopg2` y/o `sqlite`. El que se utilizará más durante la maestría es `psycopg2`, sin embargo, para enseñarte el funcionamiento utilizaremos `sqlite`. \n",
    "\n",
    "Para establecer la conexión a bases de datos (PSQL) necesitas las siguientes líneas de código, así como la información que se enumera:\n",
    "\n",
    "\n",
    "```\n",
    "# Importas paquete\n",
    "import psycopg2\n",
    "\n",
    "# Estableces conexión: \n",
    "psconn = psycopg2.connect(host=\"mouse.db.elephantsql.com\", # 1. Dirección de la base\n",
    "                          port = 5432,                     # 2. Puerto de conexión\n",
    "                          database=\"base_mouse\",           # 3. Nombre de la base\n",
    "                          user=\"usuario-n\",                # 4. Nombre de usuario\n",
    "                          password=\"your-password\")        # 5. Contraseña\n",
    "                          \n",
    "\n",
    "```\n",
    "\n",
    "\n",
    "La información numerada se asigna y proporciona generalmente por el administrador/dueño de la base de datos. Esto es para tener mayor seguridad y control de la información. \n",
    "\n",
    "Para fines de la sesión de hoy guardamos una pequeña base de datos para mostrar cómo puedes cargar datos con pandas y sql. \n",
    "\n",
    "Primero cargamos el paquete:"
   ]
  },
  {
   "cell_type": "code",
   "execution_count": null,
   "id": "3e9ad7e7",
   "metadata": {},
   "outputs": [],
   "source": [
    "import sqlite3"
   ]
  },
  {
   "cell_type": "code",
   "execution_count": null,
   "id": "7c215791",
   "metadata": {},
   "outputs": [],
   "source": [
    "gdrv_file = '../datos/flights.db'"
   ]
  },
  {
   "cell_type": "code",
   "execution_count": null,
   "id": "adf22380",
   "metadata": {},
   "outputs": [],
   "source": [
    "conn = sqlite3.connect(gdrv_file)   # aquí pondrías la información de la base con psycopg2.connect"
   ]
  },
  {
   "cell_type": "markdown",
   "id": "249bf5a8",
   "metadata": {},
   "source": [
    "Una vez que tienes asignada la conexión utilizas lenguaje sql para mandar a llamar la tabla `airlines` que está dentro de la base de datos que se llama flights: \n",
    "\n",
    "- `select` : selecciona\n",
    "- `*` : todo\n",
    "- `from` : de \n",
    "- `airlines` : tabla llamada airlines\n",
    "- `;` : así se cierran los queries en sql\n",
    "\n",
    "\n",
    "En este caso estamos cargando la tabla a python sin modificar la base de datos original. "
   ]
  },
  {
   "cell_type": "code",
   "execution_count": null,
   "id": "6c5279f1",
   "metadata": {},
   "outputs": [],
   "source": [
    "q = '''\n",
    "    select \n",
    "        * \n",
    "    from \n",
    "        airlines\n",
    "        ;\n",
    "    '''"
   ]
  },
  {
   "cell_type": "code",
   "execution_count": null,
   "id": "a404c857",
   "metadata": {},
   "outputs": [],
   "source": [
    "df_sql = pd.read_sql_query(q, conn)  # Nota como utilizamos pandas para cargar el query con la conexión en conn"
   ]
  },
  {
   "cell_type": "code",
   "execution_count": null,
   "id": "599ef879",
   "metadata": {},
   "outputs": [],
   "source": [
    "df_sql "
   ]
  },
  {
   "cell_type": "markdown",
   "id": "ffd970be",
   "metadata": {},
   "source": [
    "## 3. Arreglos\n",
    "\n",
    "En las sesiones anteriores hablamos de estructuras de almacenamiento de valores como listas, tuplas, etc. En este caso hablaremos de **arreglos** que son un tipo de estructura de dato que requiere paqueterías externas como **numpy (np)**. Cosas a considerar de los arreglos: \n",
    "\n",
    "\n",
    "- Los arregos son homogéneos, en el sentido de que solo pueden almacenar elementos de un solo tipo de dato (ya sea float, int o str). \n",
    "- Los arreglos tienden a ser más eficiencies para cómputo numérico y grandes cantidades de datos por la manera en la que se almacenan. \n",
    "- Permiten realizar operaciones vectoriales por lo que puedes hacer operaciones matemáticas sobre el arreglo completo. \n",
    "- Sus funciones y operaciones están especialmente optimizadas para cómputo numérico.\n",
    "\n"
   ]
  },
  {
   "cell_type": "code",
   "execution_count": null,
   "id": "a53059ee",
   "metadata": {},
   "outputs": [],
   "source": [
    "# mandamos a llamar numpy\n",
    "import numpy as np"
   ]
  },
  {
   "cell_type": "code",
   "execution_count": null,
   "id": "6feca479",
   "metadata": {},
   "outputs": [],
   "source": [
    "# Crear un arreglo\n",
    "mi_arreglo = np.array([1, 2, 3, 4, 5])\n",
    "print(\"Arreglo original:\", mi_arreglo)"
   ]
  },
  {
   "cell_type": "code",
   "execution_count": null,
   "id": "368efe7f",
   "metadata": {},
   "outputs": [],
   "source": [
    "# Realizamos operaciones con el arreglo que creamos\n",
    "arreglo_cuadrado = mi_arreglo ** 2\n",
    "print(\"Los valores del arreglo al cuadrado:\", arreglo_cuadrado)"
   ]
  },
  {
   "cell_type": "code",
   "execution_count": null,
   "id": "56646a4e",
   "metadata": {},
   "outputs": [],
   "source": [
    "suma_arreglo = np.sum(mi_arreglo)\n",
    "print(\"Suma del arreglo:\", suma_arreglo)"
   ]
  },
  {
   "cell_type": "code",
   "execution_count": null,
   "id": "e750087b",
   "metadata": {},
   "outputs": [],
   "source": [
    "media_arreglo = np.mean(mi_arreglo)\n",
    "print(\"Media del arreglo:\", media_arreglo)"
   ]
  },
  {
   "cell_type": "code",
   "execution_count": null,
   "id": "c4f72322",
   "metadata": {},
   "outputs": [],
   "source": [
    "a_1 = np.array([8, 2, 9, 25, 4])\n",
    "a_2 = np.array([66, 9, 17, 30, 5])"
   ]
  },
  {
   "cell_type": "code",
   "execution_count": null,
   "id": "00a91367",
   "metadata": {},
   "outputs": [],
   "source": [
    "result = a_2 - a_1\n",
    "result"
   ]
  },
  {
   "cell_type": "markdown",
   "id": "5ab10029",
   "metadata": {},
   "source": [
    "Un par de funciones útiles extra "
   ]
  },
  {
   "cell_type": "code",
   "execution_count": null,
   "id": "dbd6d090",
   "metadata": {},
   "outputs": [],
   "source": [
    "# Generador de números aleatorios\n",
    "aleatorios = np.random.choice(10,20)  # Genera hasta el número 9, 20 números random\n",
    "aleatorios"
   ]
  },
  {
   "cell_type": "code",
   "execution_count": null,
   "id": "5e7f10bc",
   "metadata": {},
   "outputs": [],
   "source": [
    "# Generador de fechas \n",
    "dias_enero = pd.date_range('2017-01-01', '2017-01-31')\n",
    "dias_enero"
   ]
  }
 ],
 "metadata": {
  "kernelspec": {
   "display_name": "Python 3 (ipykernel)",
   "language": "python",
   "name": "python3"
  },
  "language_info": {
   "codemirror_mode": {
    "name": "ipython",
    "version": 3
   },
   "file_extension": ".py",
   "mimetype": "text/x-python",
   "name": "python",
   "nbconvert_exporter": "python",
   "pygments_lexer": "ipython3",
   "version": "3.8.13"
  }
 },
 "nbformat": 4,
 "nbformat_minor": 5
}

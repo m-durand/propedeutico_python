{
 "cells": [
  {
   "cell_type": "markdown",
   "id": "98cea5af",
   "metadata": {},
   "source": [
    "[![Open In Colab](https://colab.research.google.com/assets/colab-badge.svg)](https://colab.research.google.com/github/m-durand/propedeutico_python/blob/main/notebooks/3_if_for_loops.ipynb)"
   ]
  },
  {
   "cell_type": "markdown",
   "id": "large-integer",
   "metadata": {},
   "source": [
    "# Propedéutico a programación con Python.\n",
    "\n",
    "**Verano 2023, por el Centro de Ciencia de Datos, EGobiernoyTP.**\n",
    "\n",
    "### Sesión 3: Paquetes, ambientes virtuales.\n",
    "\n",
    "1. Paquetes\n",
    "   - pip\n",
    "   - Ambientes Virtuales\n",
    "2. Cargar archivos"
   ]
  },
  {
   "cell_type": "markdown",
   "id": "7b00a231",
   "metadata": {},
   "source": [
    "## 1. Paquetes\n",
    "\n",
    "Un paquete en python es una colección de módulos y funciones que se colocan juntas para realizar una cierta tarea. Es básicamente un directorio con archivos de python, tu puedes crear los tuyos o utilizar paquetes por otros desarrolladores. \n",
    "\n",
    "### 1.1 Pip\n",
    "\n",
    "Pip es un sistema de administración de paquetes que se utiliza para instalar y administrar librerías externas en python.\n",
    "\n",
    "``pip install <package_name>``\n",
    "\n",
    "Ejemplo:\n",
    "\n",
    "``pip install pandas``\n",
    "\n",
    "Para importar entonces los paquetes que utilizaremos a lo largo del propedético te recomendamos colocar los siguientes paquetes más utilizados.\n",
    "\n",
    "### 1.2 Importar paquetes\n",
    "\n",
    "Una vez instalados los paquetes para hacer uso de ellos debes de importarlos de la siguiente manera:"
   ]
  },
  {
   "cell_type": "code",
   "execution_count": 3,
   "id": "97a1137f",
   "metadata": {},
   "outputs": [],
   "source": [
    "import numpy as np\n",
    "import pandas as pd"
   ]
  },
  {
   "cell_type": "markdown",
   "id": "9bab3dec",
   "metadata": {},
   "source": [
    "### 1.2 Ambientes virtuales\n",
    "\n",
    "Cuando trabajas en python con diferentes paquetes, te darás cuenta que unos paquetes dependen de otros. A veces, estos paquetes requieren multiples versiones que si se conjuntan con otros paquetes comenzarás a tener problemas de instalación. \n",
    "\n",
    "Lo que se debe de realizar para no tener este problema es utilizar lo que se conoce como ambientes virtuales. Lo que hacen los ambientes virtuales es enpaquetar o juntar los paquetes que tu quieras y los separa de otros paquetes. Se recomienda tener un ambiente por cada proyecto diferente que tengas. \n",
    "\n",
    "Uno de los ambientes virtuales más utilizados es `virtualenv`. Que simplemente se crea con:\n",
    "\n",
    "``virtualenv <my_env_name>``\n",
    "\n",
    "Para activarlo con:\n",
    "\n",
    "``source <my_env_name>/bin/activate``\n",
    "\n",
    "Para desactivarlo con:\n",
    "\n",
    "``deactivate``\n",
    "\n",
    "Para este curso propedéutico no se utilizarán ambientes virtuales, pero durante tu maestría los utilizarás comúnmente, por lo que te recomendamos conocer de esta herramienta."
   ]
  },
  {
   "cell_type": "markdown",
   "id": "deaff931",
   "metadata": {},
   "source": [
    "## 2. Cargar archivos\n",
    "\n",
    "Una manera de abrir archivos en python es con la operación ``open()`` y para cerrarlos es con ``close()``. Existen diferentes maneras en las que puedes abrir un archivo como: write(w), read(r), append(a), etc."
   ]
  },
  {
   "cell_type": "code",
   "execution_count": 24,
   "id": "b54e5e97",
   "metadata": {},
   "outputs": [],
   "source": [
    "with open('../datos/edades.txt') as f:\n",
    "    lines = f.readlines()"
   ]
  },
  {
   "cell_type": "code",
   "execution_count": 25,
   "id": "62f00e7e",
   "metadata": {},
   "outputs": [
    {
     "data": {
      "text/plain": [
       "['id,nombre,edad\\n',\n",
       " 'd01,pablo,25\\n',\n",
       " 'd02,miguel,26\\n',\n",
       " 'd03,karla,23\\n',\n",
       " 'd04,carolina,25']"
      ]
     },
     "execution_count": 25,
     "metadata": {},
     "output_type": "execute_result"
    }
   ],
   "source": [
    "lines"
   ]
  }
 ],
 "metadata": {
  "kernelspec": {
   "display_name": "Python 3 (ipykernel)",
   "language": "python",
   "name": "python3"
  },
  "language_info": {
   "codemirror_mode": {
    "name": "ipython",
    "version": 3
   },
   "file_extension": ".py",
   "mimetype": "text/x-python",
   "name": "python",
   "nbconvert_exporter": "python",
   "pygments_lexer": "ipython3",
   "version": "3.8.13"
  }
 },
 "nbformat": 4,
 "nbformat_minor": 5
}

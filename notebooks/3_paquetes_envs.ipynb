{
 "cells": [
  {
   "cell_type": "markdown",
   "id": "98cea5af",
   "metadata": {},
   "source": [
    "[![Open In Colab](https://colab.research.google.com/assets/colab-badge.svg)](https://colab.research.google.com/github/m-durand/propedeutico_python/blob/main/notebooks/3_if_for_loops.ipynb)"
   ]
  },
  {
   "cell_type": "markdown",
   "id": "large-integer",
   "metadata": {},
   "source": [
    "# Propedéutico a programación con Python.\n",
    "\n",
    "**Verano 2023, por el Centro de Ciencia de Datos, EGobiernoyTP.**\n",
    "\n",
    "### Sesión 3: Paquetes, ambientes virtuales.\n",
    "\n",
    "1. Paquetes\n",
    "   - pip\n",
    "   - Ambientes Virtuales\n",
    "2. Cargar archivos"
   ]
  },
  {
   "cell_type": "markdown",
   "id": "7b00a231",
   "metadata": {},
   "source": [
    "## 1. Paquetes\n",
    "\n",
    "Un paquete en python es una colección de módulos y funciones que se colocan juntas para realizar una cierta tarea. Es básicamente un directorio con archivos de python, tu puedes crear los tuyos o utilizar paquetes por otros desarrolladores. \n",
    "\n",
    "### 1.1 Pip\n",
    "\n",
    "Pip es un sistema de administración de paquetes que se utiliza para instalar y administrar librerías externas en python.\n",
    "\n",
    "``pip install <package_name>``\n",
    "\n",
    "Ejemplo:\n",
    "\n",
    "``pip install pandas``\n",
    "\n",
    "Para importar entonces los paquetes que utilizaremos a lo largo del propedético te recomendamos colocar los siguientes paquetes más utilizados.\n",
    "\n",
    "### 1.2 Importar paquetes\n",
    "\n",
    "Una vez instalados los paquetes para hacer uso de ellos debes de importarlos de la siguiente manera:"
   ]
  },
  {
   "cell_type": "code",
   "execution_count": 1,
   "id": "97a1137f",
   "metadata": {},
   "outputs": [],
   "source": [
    "import numpy as np\n",
    "import pandas as pd"
   ]
  },
  {
   "cell_type": "markdown",
   "id": "9bab3dec",
   "metadata": {},
   "source": [
    "### 1.3 Ambientes virtuales\n",
    "\n",
    "Cuando trabajas en python con diferentes paquetes, te darás cuenta que unos paquetes dependen de otros. A veces, estos paquetes requieren multiples versiones que si se conjuntan con otros paquetes comenzarás a tener problemas de instalación. \n",
    "\n",
    "Lo que se debe de realizar para no tener este problema es utilizar lo que se conoce como ambientes virtuales. Lo que hacen los ambientes virtuales es enpaquetar o juntar los paquetes que tu quieras y los separa de otros paquetes. Se recomienda tener un ambiente por cada proyecto diferente que tengas. \n",
    "\n",
    "Uno de los ambientes virtuales más utilizados es `virtualenv`. Que simplemente se crea con:\n",
    "\n",
    "``virtualenv <my_env_name>``\n",
    "\n",
    "Para activarlo con:\n",
    "\n",
    "``source <my_env_name>/bin/activate``\n",
    "\n",
    "Para desactivarlo con:\n",
    "\n",
    "``deactivate``\n",
    "\n",
    "Para este curso propedéutico no se utilizarán ambientes virtuales, pero durante tu maestría los utilizarás comúnmente, por lo que te recomendamos conocer de esta herramienta."
   ]
  },
  {
   "cell_type": "markdown",
   "id": "deaff931",
   "metadata": {},
   "source": [
    "## 2. Cargar archivos\n",
    "\n",
    "Una manera de abrir archivos en python es con la operación ``open()`` y para cerrarlos es con ``close()``. Existen diferentes maneras en las que puedes abrir un archivo como: write(w), read(r), append(a), etc.\n",
    "\n",
    "Revisa que el directorio de trabajo se va a la carpeta de datos, si quitas los puntitos estarías tomando la dirección dentro de la carpeta de notebooks pero ahí no están los datos. "
   ]
  },
  {
   "cell_type": "code",
   "execution_count": 2,
   "id": "b54e5e97",
   "metadata": {},
   "outputs": [],
   "source": [
    "with open('../datos/alice.txt') as f:  \n",
    "    lines = f.readlines()"
   ]
  },
  {
   "cell_type": "code",
   "execution_count": 3,
   "id": "62f00e7e",
   "metadata": {},
   "outputs": [
    {
     "data": {
      "text/plain": [
       "[\"Alice opened the door and found that it led into a small passage, not much larger than a rat-hole: she knelt down and looked along the passage into the loveliest garden you ever saw. How she longed to get out of that dark hall, and wander about among those beds of bright flowers and those cool fountains, but she could not even get her head though the doorway; `and even if my head would go through,' thought poor Alice, `it would be of very little use without my shoulders. Oh, how I wish I could shut up like a telescope! I think I could, if I only know how to begin.' For, you see, so many out-of-the-way things had happened lately, that Alice had begun to think that very few things indeed were really impossible.\"]"
      ]
     },
     "execution_count": 3,
     "metadata": {},
     "output_type": "execute_result"
    }
   ],
   "source": [
    "lines"
   ]
  },
  {
   "cell_type": "markdown",
   "id": "4f117fb6",
   "metadata": {},
   "source": [
    "#### Cargar csv con pandas"
   ]
  },
  {
   "cell_type": "code",
   "execution_count": 4,
   "id": "a8f88149",
   "metadata": {},
   "outputs": [],
   "source": [
    "df = pd.read_csv('../datos/edades.csv')"
   ]
  },
  {
   "cell_type": "code",
   "execution_count": 5,
   "id": "86c6989f",
   "metadata": {},
   "outputs": [
    {
     "data": {
      "text/html": [
       "<div>\n",
       "<style scoped>\n",
       "    .dataframe tbody tr th:only-of-type {\n",
       "        vertical-align: middle;\n",
       "    }\n",
       "\n",
       "    .dataframe tbody tr th {\n",
       "        vertical-align: top;\n",
       "    }\n",
       "\n",
       "    .dataframe thead th {\n",
       "        text-align: right;\n",
       "    }\n",
       "</style>\n",
       "<table border=\"1\" class=\"dataframe\">\n",
       "  <thead>\n",
       "    <tr style=\"text-align: right;\">\n",
       "      <th></th>\n",
       "      <th>ID</th>\n",
       "      <th>Name</th>\n",
       "      <th>Edad</th>\n",
       "    </tr>\n",
       "  </thead>\n",
       "  <tbody>\n",
       "    <tr>\n",
       "      <th>0</th>\n",
       "      <td>d01</td>\n",
       "      <td>Pablo</td>\n",
       "      <td>26</td>\n",
       "    </tr>\n",
       "    <tr>\n",
       "      <th>1</th>\n",
       "      <td>d02</td>\n",
       "      <td>Karla</td>\n",
       "      <td>27</td>\n",
       "    </tr>\n",
       "    <tr>\n",
       "      <th>2</th>\n",
       "      <td>d03</td>\n",
       "      <td>Juan</td>\n",
       "      <td>29</td>\n",
       "    </tr>\n",
       "    <tr>\n",
       "      <th>3</th>\n",
       "      <td>d04</td>\n",
       "      <td>Carolina</td>\n",
       "      <td>28</td>\n",
       "    </tr>\n",
       "    <tr>\n",
       "      <th>4</th>\n",
       "      <td>d05</td>\n",
       "      <td>Pedro</td>\n",
       "      <td>40</td>\n",
       "    </tr>\n",
       "  </tbody>\n",
       "</table>\n",
       "</div>"
      ],
      "text/plain": [
       "    ID      Name  Edad\n",
       "0  d01     Pablo    26\n",
       "1  d02     Karla    27\n",
       "2  d03      Juan    29\n",
       "3  d04  Carolina    28\n",
       "4  d05     Pedro    40"
      ]
     },
     "execution_count": 5,
     "metadata": {},
     "output_type": "execute_result"
    }
   ],
   "source": [
    "df"
   ]
  },
  {
   "cell_type": "code",
   "execution_count": 6,
   "id": "c881e3b5",
   "metadata": {},
   "outputs": [],
   "source": [
    "# Función de pandas para cambiar los nombres de las columnas a minúsculas\n",
    "df.rename(str.lower, axis='columns', inplace=True)"
   ]
  },
  {
   "cell_type": "code",
   "execution_count": 7,
   "id": "8b22ba21",
   "metadata": {},
   "outputs": [
    {
     "data": {
      "text/html": [
       "<div>\n",
       "<style scoped>\n",
       "    .dataframe tbody tr th:only-of-type {\n",
       "        vertical-align: middle;\n",
       "    }\n",
       "\n",
       "    .dataframe tbody tr th {\n",
       "        vertical-align: top;\n",
       "    }\n",
       "\n",
       "    .dataframe thead th {\n",
       "        text-align: right;\n",
       "    }\n",
       "</style>\n",
       "<table border=\"1\" class=\"dataframe\">\n",
       "  <thead>\n",
       "    <tr style=\"text-align: right;\">\n",
       "      <th></th>\n",
       "      <th>id</th>\n",
       "      <th>name</th>\n",
       "      <th>edad</th>\n",
       "    </tr>\n",
       "  </thead>\n",
       "  <tbody>\n",
       "    <tr>\n",
       "      <th>0</th>\n",
       "      <td>d01</td>\n",
       "      <td>Pablo</td>\n",
       "      <td>26</td>\n",
       "    </tr>\n",
       "    <tr>\n",
       "      <th>1</th>\n",
       "      <td>d02</td>\n",
       "      <td>Karla</td>\n",
       "      <td>27</td>\n",
       "    </tr>\n",
       "    <tr>\n",
       "      <th>2</th>\n",
       "      <td>d03</td>\n",
       "      <td>Juan</td>\n",
       "      <td>29</td>\n",
       "    </tr>\n",
       "    <tr>\n",
       "      <th>3</th>\n",
       "      <td>d04</td>\n",
       "      <td>Carolina</td>\n",
       "      <td>28</td>\n",
       "    </tr>\n",
       "    <tr>\n",
       "      <th>4</th>\n",
       "      <td>d05</td>\n",
       "      <td>Pedro</td>\n",
       "      <td>40</td>\n",
       "    </tr>\n",
       "  </tbody>\n",
       "</table>\n",
       "</div>"
      ],
      "text/plain": [
       "    id      name  edad\n",
       "0  d01     Pablo    26\n",
       "1  d02     Karla    27\n",
       "2  d03      Juan    29\n",
       "3  d04  Carolina    28\n",
       "4  d05     Pedro    40"
      ]
     },
     "execution_count": 7,
     "metadata": {},
     "output_type": "execute_result"
    }
   ],
   "source": [
    "df"
   ]
  },
  {
   "cell_type": "code",
   "execution_count": 8,
   "id": "bf214bc8",
   "metadata": {},
   "outputs": [],
   "source": [
    "# Para guardar cambios en un csv\n",
    "df.to_csv('../datos/edades.csv', index=False)"
   ]
  },
  {
   "cell_type": "code",
   "execution_count": 9,
   "id": "afb8a6a0",
   "metadata": {},
   "outputs": [
    {
     "data": {
      "text/html": [
       "<div>\n",
       "<style scoped>\n",
       "    .dataframe tbody tr th:only-of-type {\n",
       "        vertical-align: middle;\n",
       "    }\n",
       "\n",
       "    .dataframe tbody tr th {\n",
       "        vertical-align: top;\n",
       "    }\n",
       "\n",
       "    .dataframe thead th {\n",
       "        text-align: right;\n",
       "    }\n",
       "</style>\n",
       "<table border=\"1\" class=\"dataframe\">\n",
       "  <thead>\n",
       "    <tr style=\"text-align: right;\">\n",
       "      <th></th>\n",
       "      <th>id</th>\n",
       "      <th>name</th>\n",
       "      <th>edad</th>\n",
       "    </tr>\n",
       "  </thead>\n",
       "  <tbody>\n",
       "    <tr>\n",
       "      <th>0</th>\n",
       "      <td>d01</td>\n",
       "      <td>Pablo</td>\n",
       "      <td>26</td>\n",
       "    </tr>\n",
       "    <tr>\n",
       "      <th>1</th>\n",
       "      <td>d02</td>\n",
       "      <td>Karla</td>\n",
       "      <td>27</td>\n",
       "    </tr>\n",
       "    <tr>\n",
       "      <th>2</th>\n",
       "      <td>d03</td>\n",
       "      <td>Juan</td>\n",
       "      <td>29</td>\n",
       "    </tr>\n",
       "    <tr>\n",
       "      <th>3</th>\n",
       "      <td>d04</td>\n",
       "      <td>Carolina</td>\n",
       "      <td>28</td>\n",
       "    </tr>\n",
       "    <tr>\n",
       "      <th>4</th>\n",
       "      <td>d05</td>\n",
       "      <td>Pedro</td>\n",
       "      <td>40</td>\n",
       "    </tr>\n",
       "  </tbody>\n",
       "</table>\n",
       "</div>"
      ],
      "text/plain": [
       "    id      name  edad\n",
       "0  d01     Pablo    26\n",
       "1  d02     Karla    27\n",
       "2  d03      Juan    29\n",
       "3  d04  Carolina    28\n",
       "4  d05     Pedro    40"
      ]
     },
     "execution_count": 9,
     "metadata": {},
     "output_type": "execute_result"
    }
   ],
   "source": [
    "df"
   ]
  }
 ],
 "metadata": {
  "kernelspec": {
   "display_name": "Python 3 (ipykernel)",
   "language": "python",
   "name": "python3"
  },
  "language_info": {
   "codemirror_mode": {
    "name": "ipython",
    "version": 3
   },
   "file_extension": ".py",
   "mimetype": "text/x-python",
   "name": "python",
   "nbconvert_exporter": "python",
   "pygments_lexer": "ipython3",
   "version": "3.8.13"
  }
 },
 "nbformat": 4,
 "nbformat_minor": 5
}

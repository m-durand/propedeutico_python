{
 "cells": [
  {
   "cell_type": "markdown",
   "id": "da52b667",
   "metadata": {},
   "source": [
    "[![Open In Colab](https://colab.research.google.com/assets/colab-badge.svg)](https://colab.research.google.com/github/m-durand/propedeutico_python/blob/main/notebooks/4_pandas_exploracion.ipynb)"
   ]
  },
  {
   "cell_type": "markdown",
   "id": "c24dbfb0",
   "metadata": {},
   "source": [
    "# Propedéutico a programación con Python.\n",
    "\n",
    "**Agosto 2025, por el Centro de Ciencia de Datos e IA, EGobiernoyTP.**\n",
    "\n",
    "### Sesión 4: Exploración de bases de datos (pandas 1)\n",
    "\n",
    "1. Generalidades de bases de datos\n",
    "    - ¿Cuántas variables y observaciones tenemos?\n",
    "    - Diccionario de variables\n",
    "    - Explorando más\n",
    "2. Tipos de datos en db\n",
    "    - Cambiar tipos de datos\n",
    "        - str\n",
    "        - float\n",
    "        - int\n",
    "        - datetime\n",
    "3. Variables categóricas\n",
    "4. Variables numéricas\n",
    "5. Variables temporales\n",
    "6. NA's\n",
    "    - Drop\n",
    "    - Replace\n",
    "7. Subconjuntos de bases\n",
    "    - Quitar columnas\n",
    "    - Seleccionar subconjuntos de la base\n",
    "    - Seleccionar subconjuntos basados en condiciones\n",
    "8. Reset index\n"
   ]
  },
  {
   "cell_type": "code",
   "execution_count": null,
   "id": "92ec61dc",
   "metadata": {},
   "outputs": [],
   "source": [
    "# Paquetes\n",
    "import numpy as np\n",
    "import pandas as pd"
   ]
  },
  {
   "cell_type": "markdown",
   "id": "0150470a",
   "metadata": {},
   "source": [
    "Dos maneras de cargar los datos, descomenta la que te funcione:"
   ]
  },
  {
   "cell_type": "code",
   "execution_count": null,
   "id": "5c8d4a64",
   "metadata": {},
   "outputs": [],
   "source": [
    "#from google.colab import drive\n",
    "#drive.mount('/content/drive', force_remount=True) \n",
    "#my_path = '/content/drive/MyDrive/datos/' \n",
    "\n",
    "## Datos\n",
    "#df = pd.read_csv(my_path + 'indicadores.csv', dtype='str')"
   ]
  },
  {
   "cell_type": "code",
   "execution_count": null,
   "id": "1b28ed78",
   "metadata": {},
   "outputs": [],
   "source": [
    "# Datos\n",
    "df = pd.read_csv('https://raw.githubusercontent.com/m-durand/propedeutico_python/main/datos/indicadores.csv', dtype='str')"
   ]
  },
  {
   "cell_type": "markdown",
   "id": "4697b28a",
   "metadata": {},
   "source": [
    "### Algunas líneas de set-up útiles"
   ]
  },
  {
   "cell_type": "markdown",
   "id": "c9fef905",
   "metadata": {},
   "source": [
    "**Para ver 200 filas en el notebook**"
   ]
  },
  {
   "cell_type": "code",
   "execution_count": null,
   "id": "6c41fa57",
   "metadata": {},
   "outputs": [],
   "source": [
    "pd.set_option('display.max_rows', 200)"
   ]
  },
  {
   "cell_type": "markdown",
   "id": "7f2d6a5f",
   "metadata": {},
   "source": [
    "**Para ver 10 columnas en el notebook**"
   ]
  },
  {
   "cell_type": "code",
   "execution_count": null,
   "id": "11128bed",
   "metadata": {},
   "outputs": [],
   "source": [
    "pd.set_option('display.max_columns', 10)"
   ]
  },
  {
   "cell_type": "markdown",
   "id": "fc2b8e0a",
   "metadata": {},
   "source": [
    "## 1. Generalidades de bases de datos"
   ]
  },
  {
   "cell_type": "code",
   "execution_count": null,
   "id": "7b1295c7",
   "metadata": {},
   "outputs": [],
   "source": [
    "df"
   ]
  },
  {
   "cell_type": "markdown",
   "id": "bed2849b",
   "metadata": {},
   "source": [
    "### 1.1 ¿Cuántas variables y observaciones tenemos?"
   ]
  },
  {
   "cell_type": "code",
   "execution_count": null,
   "id": "e47f5113",
   "metadata": {},
   "outputs": [],
   "source": [
    "df.shape"
   ]
  },
  {
   "cell_type": "code",
   "execution_count": null,
   "id": "94e37915",
   "metadata": {},
   "outputs": [],
   "source": [
    "# Renglones\n",
    "df.shape[0]"
   ]
  },
  {
   "cell_type": "code",
   "execution_count": null,
   "id": "a24ffd37",
   "metadata": {},
   "outputs": [],
   "source": [
    "# Columnas\n",
    "df.shape[1]"
   ]
  },
  {
   "cell_type": "code",
   "execution_count": null,
   "id": "9a222a44",
   "metadata": {},
   "outputs": [],
   "source": [
    "# Nombre de columnas\n",
    "df.columns"
   ]
  },
  {
   "cell_type": "markdown",
   "id": "81ce35b2",
   "metadata": {},
   "source": [
    "### 1.2 Diccionario de variables\n",
    "\n",
    "Con cada base de datos con la que trabajes DEBES tener el significado de cada variable para poder trabajar adecuadamente. \n",
    "\n",
    "Pregunta a ustedes: ¿por qué?\n",
    "\n",
    "A continuación el diccionario de la base con la que estaremos mostrando pandas.\n",
    "\n",
    "1. `renglon`\n",
    "2. `año`\n",
    "3. `entidad`\n",
    "4. `cve_geo`\n",
    "5. `cre_nat` = Crecimiento natural\n",
    "6. `cre_soc` = Crecimiento social\n",
    "7. `cre_tot` = Crecimiento total\n",
    "8. `def` = Defunciones\n",
    "9. `edad_med` = Edad Mediana\n",
    "10. `emi_est` = Emigrantes interestatales\n",
    "11. `emi_int` = Emigrantes internacionales\n",
    "12. `evh` = Esperanza de vida al nacimiento de hombres\n",
    "13. `evm` = Esperanza de vida al nacimiento de mujeres\n",
    "14. `ev` = Esperanza de vida al nacimiento total\n",
    "15. `hom_mit_año` = Hombres mitad de año\n",
    "16. `ind_env` = Índice de Envejecimiento\n",
    "17. `inm_est` = Inmigrantes interestatales\n",
    "18. `inm_int` = Inmigrantes internacionales\n",
    "19. `mig_net_est` = Migración neta interestatal\n",
    "20. `mig_net_int` = Migración neta internacional\n",
    "21. `muj_mit_año` = Mujeres mitad de año\n",
    "22. `nac` = Nacimientos\n",
    "23. `pob_mit_año` = Población mitad de año\n",
    "24. `muj_12_14` = Mujeres edad entre 12 y 14\n",
    "25. `muj_15_29` = Mujeres edad entre 15 y 29\n",
    "26. `muj_15_49` = Mujeres edad entre 15 y 49\n",
    "27. `muj_18_24` = Mujeres edad entre 18 y 24\n",
    "28. `muj_3_5` = Mujeres edad entre 3 y 5\n",
    "29. `muj_30_64` = Mujeres edad entre 30 y 64\n",
    "30. `muj_6_11` = Mujeres edad entre 6 y 11\n",
    "31. `muj_65_mas` = Mujeres de 65 años y más\n",
    "32. `hom_12_14` = Hombres edad entre 12 y 14\n",
    "33. `hom_15_29` = Hombres edad entre 15 y 29\n",
    "34. `hom_15_49` = Hombres edad entre 15 y 49\n",
    "35. `hom_18_24` = Hombres edad entre 18 y 24\n",
    "36. `hom_3_5` = Hombres edad entre 3 y 5\n",
    "37. `hom_30_64` = Hombres edad entre 30 y 64\n",
    "38. `hom_6_11` = Hombres edad entre 6 y 11\n",
    "39. `hom_65_mas` = Hombres de 65 años y más\n",
    "40. `pob_12_14` = Población edad entre 12 y 14\n",
    "41. `pob_15_29` = Población edad entre 15 y 29\n",
    "42. `pob_15_49` = Población edad entre 15 y 49\n",
    "43. `pob_18_24` = Población edad entre 18 y 24\n",
    "44. `pob_3_5` = Población edad entre 3 y 5\n",
    "45. `pob_30_64` = Población edad entre 30 y 64\n",
    "46. `pob_6_11` = Población edad entre 6 y 11\n",
    "47. `pob_65_mas` = Población de 65 años y más\n",
    "48. `raz_dep_adu` = Razón de dependencia adulta\n",
    "49. `raz_dep_inf` = Razón de dependencia infantil\n",
    "50. `raz_dep` = Razón dependencia total\n",
    "51. `t_bru_mor` = Tasa bruta de mortalidad\n",
    "52. `t_bru_nat` = Tasa de natalidad\n",
    "53. `t_cre_nat` = Tasa de crecimiento natural\n",
    "54. `t_cre_soc` = Tasa de crecimiento social\n",
    "55. `t_cre_tot` = Tasa de crecimiento total\n",
    "56. `t_emi_est` = Tasa de emigración interestatal\n",
    "57. `t_inm_est` = Tasa de inmigración neta interestatal\n",
    "58. `t_mig_net_est` = Tasa de migración neta interestatal\n",
    "59. `t_mig_net_int` = Tasa de migración neta internacional\n",
    "60. `tmih` = Tasa de mortalidad infantil hombres\n",
    "61. `tmim` = Tasa de mortalidad infantil mujeres\n",
    "62. `tmi` = Tasa de mortalidad infantil\n",
    "63. `tef_ado` = Tasa específica de fecundidad adolescente\n",
    "64. `tgf` = Tasa global de fecundidad\n",
    "65. `fecha_reg`= Fecha registro\n",
    "\n",
    "\n",
    "### 1.3 Explorando más:"
   ]
  },
  {
   "cell_type": "code",
   "execution_count": null,
   "id": "5ca3e768",
   "metadata": {},
   "outputs": [],
   "source": [
    "# Las primeras 5 observaciones\n",
    "df.head(5)"
   ]
  },
  {
   "cell_type": "code",
   "execution_count": null,
   "id": "cc3a8591",
   "metadata": {},
   "outputs": [],
   "source": [
    "# Las últimas 5 observaciones\n",
    "df.tail(5)"
   ]
  },
  {
   "cell_type": "code",
   "execution_count": null,
   "id": "4d0d5975",
   "metadata": {},
   "outputs": [],
   "source": [
    "# Muestra aleatoria de 5 observaciones, con semilla para que sea reproducible.\n",
    "df.sample(5, random_state=123)"
   ]
  },
  {
   "cell_type": "code",
   "execution_count": null,
   "id": "c84eec2a",
   "metadata": {},
   "outputs": [],
   "source": [
    "# Muestra aleatoria del 1% de las observaciones con semilla para que sea reproducible.\n",
    "df.sample(frac=0.01, random_state=123)"
   ]
  },
  {
   "cell_type": "code",
   "execution_count": null,
   "id": "8764f23c",
   "metadata": {},
   "outputs": [],
   "source": [
    "# Para mandar a llamar una columna específica de la base se puede de las siguientes dos maneras:"
   ]
  },
  {
   "cell_type": "code",
   "execution_count": null,
   "id": "222641d7",
   "metadata": {},
   "outputs": [],
   "source": [
    "df['entidad']"
   ]
  },
  {
   "cell_type": "code",
   "execution_count": null,
   "id": "4ad916e9",
   "metadata": {},
   "outputs": [],
   "source": [
    "df.entidad"
   ]
  },
  {
   "cell_type": "code",
   "execution_count": null,
   "id": "2a1c7e08",
   "metadata": {},
   "outputs": [],
   "source": [
    "df[['año','entidad']] # dos columnas"
   ]
  },
  {
   "cell_type": "code",
   "execution_count": null,
   "id": "66847986",
   "metadata": {},
   "outputs": [],
   "source": [
    "# Para ver las columnas de la base\n",
    "df.columns"
   ]
  },
  {
   "cell_type": "code",
   "execution_count": null,
   "id": "dfcd1bfe",
   "metadata": {},
   "outputs": [],
   "source": [
    "# Información general de la base\n",
    "df.info()"
   ]
  },
  {
   "cell_type": "markdown",
   "id": "7760664a",
   "metadata": {},
   "source": [
    "## 2. Tipos de datos\n",
    "\n",
    "Cuando trabajes con datos, muchas veces vendrán en diferentes formatos. Antes de hacer cualquier limpieza, debes conocer con que tipo de datos estarás trabajando. \n",
    "\n",
    "Al \"leer\" un archivo externo y transformarlo en un dataframe, Python hace su mejor esfuerzo por adivinar qué tipo de dato es cada columna. De manera simplificada, si encuentra solamente números, asignará tipo numérico (por ejemplo, entero o _float_); si encuentra texto, asignará tipo _object_. \n",
    "\n",
    "Hay tipos más complejos de datos que son sumamente útiles, como _date_. Por defecto, Python leerá un dato en el formato \"28-07-2023\" como texto (_object_) y no permitirá hacer operaciones como resta de fechas, útil para análisis como tiempo promedio de respuesta, etc. Es importante entonces asegurar que cada dato se encuentra en el formato correcto.\n",
    "\n",
    "La primera revisión de datos es un proceso largo porque tienes que conocer columna por columna, saber de qué se trata, etc. Por ejemplo, para nuestros datos: sabemos que la mayor parte de las columnas contienen datos numéricos (e.g. edad media, nacimientos, tasas de migración, etc.). Sin embargo, podemos observar que todas están siendo leídas como tipo _object_ (texto). ¿Por qué puede pasar esto?"
   ]
  },
  {
   "cell_type": "code",
   "execution_count": null,
   "id": "a0be0d3c",
   "metadata": {},
   "outputs": [],
   "source": [
    "df.dtypes"
   ]
  },
  {
   "cell_type": "markdown",
   "id": "1701f79b",
   "metadata": {},
   "source": [
    "### 2.1 Cambiar tipo de datos\n",
    "\n",
    "Generalmente, sucede que las bases de datos que nos comparten no vienen en formato adecuado, por lo que a continuación veremos comandos para cambiar tipos de datos."
   ]
  },
  {
   "cell_type": "markdown",
   "id": "5c3ddd32",
   "metadata": {},
   "source": [
    "#### Hacer variable de tipo carácter (str)"
   ]
  },
  {
   "cell_type": "code",
   "execution_count": null,
   "id": "939cc380",
   "metadata": {},
   "outputs": [],
   "source": [
    "df['renglon'] = df['renglon'].astype('str')"
   ]
  },
  {
   "cell_type": "markdown",
   "id": "790cd94d",
   "metadata": {},
   "source": [
    "#### Hacer variable de tipo numérica: entero (int) o flotante (float64)"
   ]
  },
  {
   "cell_type": "code",
   "execution_count": null,
   "id": "68183d20",
   "metadata": {},
   "outputs": [],
   "source": [
    "# Aquí estamos cambiando la variable año a tipo entero, SIN asignarla de nuevo a la base de datos, \n",
    "# para hacer el cambio debes asignarla de nuevo a la misma columna de la base\n",
    "# (ve la línea anterior)\n",
    "df['renglon'].astype('int')"
   ]
  },
  {
   "cell_type": "code",
   "execution_count": null,
   "id": "8ff92292",
   "metadata": {},
   "outputs": [],
   "source": [
    "df['renglon'].astype('float64')\n",
    "# Observa como para este formato se está agregando un cero al último por lo que es un flotante"
   ]
  },
  {
   "cell_type": "markdown",
   "id": "e128ae36",
   "metadata": {},
   "source": [
    "Conforme exploras la base de datos sabrás cuáles son las variables numéricas. Para efectos del ejecicio, aquí hay una lista con los nombres de todas las variables que son numéricas."
   ]
  },
  {
   "cell_type": "code",
   "execution_count": null,
   "id": "6c2db3d6",
   "metadata": {},
   "outputs": [],
   "source": [
    "columnas_num = ['edad_med', 'evh', 'evm', 'ev', 'ind_env', 'raz_dep_adu', 'raz_dep_inf', \n",
    "                'raz_dep','t_bru_mor', 't_bru_nat', 't_cre_nat', 'tmih', 'tmim', 'tmi', \n",
    "                'tef_ado', 'tgf', 'año','cve_geo','cre_nat','def','hom_mit_año','muj_mit_año',\n",
    "                'nac','pob_mit_año','muj_12_14','muj_15_29', 'muj_15_49','muj_18_24',\n",
    "                'muj_3_5','muj_30_64','muj_6_11', 'muj_65_mas','hom_12_14','hom_15_29',\n",
    "                'hom_15_49','hom_18_24', 'hom_3_5','hom_30_64','hom_6_11','hom_65_mas',\n",
    "                'pob_12_14', 'pob_15_29','pob_15_49','pob_18_24','pob_3_5','pob_30_64',\n",
    "                'pob_6_11','pob_65_mas']"
   ]
  },
  {
   "cell_type": "code",
   "execution_count": null,
   "id": "63dcc264",
   "metadata": {},
   "outputs": [],
   "source": [
    "df[columnas_num] = df[columnas_num].astype('float64')"
   ]
  },
  {
   "cell_type": "markdown",
   "id": "cfefee1d",
   "metadata": {},
   "source": [
    "A veces es mejor guardar las variables como enteros que como flotante."
   ]
  },
  {
   "cell_type": "code",
   "execution_count": null,
   "id": "f05ba0e0",
   "metadata": {},
   "outputs": [],
   "source": [
    "columnas_enteros = ['año','cve_geo','cre_nat','def','hom_mit_año',\n",
    "                    'muj_mit_año','nac','pob_mit_año','muj_12_14','muj_15_29',\n",
    "                    'muj_15_49','muj_18_24','muj_3_5','muj_30_64','muj_6_11',\n",
    "                    'muj_65_mas','hom_12_14','hom_15_29','hom_15_49','hom_18_24',\n",
    "                    'hom_3_5','hom_30_64','hom_6_11','hom_65_mas','pob_12_14',\n",
    "                    'pob_15_29','pob_15_49','pob_18_24','pob_3_5','pob_30_64',\n",
    "                    'pob_6_11','pob_65_mas']"
   ]
  },
  {
   "cell_type": "code",
   "execution_count": null,
   "id": "a1318d49",
   "metadata": {},
   "outputs": [],
   "source": [
    "df[columnas_enteros] = df[columnas_enteros].astype('int64')"
   ]
  },
  {
   "cell_type": "code",
   "execution_count": null,
   "id": "20a6c15a",
   "metadata": {},
   "outputs": [],
   "source": [
    "# Otra manera de hacer la variable numérica \n",
    "df['año'] = pd.to_numeric(df['año'], errors='coerce', downcast='integer')"
   ]
  },
  {
   "cell_type": "code",
   "execution_count": null,
   "id": "09e546ef",
   "metadata": {},
   "outputs": [],
   "source": [
    "# Observa como el tipo de columna es diferente a la base original\n",
    "df.dtypes"
   ]
  },
  {
   "cell_type": "markdown",
   "id": "65ca91ec",
   "metadata": {},
   "source": [
    "#### Hacer variable de tipo temporal"
   ]
  },
  {
   "cell_type": "code",
   "execution_count": null,
   "id": "5f4b7456",
   "metadata": {},
   "outputs": [],
   "source": [
    "df['fecha_reg'] = pd.to_datetime(df['fecha_reg'])"
   ]
  },
  {
   "cell_type": "markdown",
   "id": "14b39cfb",
   "metadata": {},
   "source": [
    "Una vez que tienes ubicadas las variables de la base puedes comenzar a realizar análisis exploratorios sencillos, dependiendo del tipo de variable es el análisis que puedes realizar.\n",
    "\n",
    "\n",
    "### 3. Para variables categóricas"
   ]
  },
  {
   "cell_type": "code",
   "execution_count": null,
   "id": "c84c056a",
   "metadata": {},
   "outputs": [],
   "source": [
    "# Valores únicos por variable. En las variables string aparecerán el número de categorías únicas\n",
    "df.nunique()"
   ]
  },
  {
   "cell_type": "markdown",
   "id": "5b4fdf6e",
   "metadata": {},
   "source": [
    "**Si queremos evaluar más a detalle una variable categórica:**"
   ]
  },
  {
   "cell_type": "code",
   "execution_count": null,
   "id": "68a9b763",
   "metadata": {},
   "outputs": [],
   "source": [
    "# Categorías en variable\n",
    "df['entidad'].unique()"
   ]
  },
  {
   "cell_type": "code",
   "execution_count": null,
   "id": "f7f7097c",
   "metadata": {},
   "outputs": [],
   "source": [
    "#  Vemos el número de observaciones por categoría de esta variable\n",
    "conteos = df['entidad'].value_counts()\n",
    "conteos"
   ]
  },
  {
   "cell_type": "code",
   "execution_count": null,
   "id": "2d85ef28",
   "metadata": {},
   "outputs": [],
   "source": [
    "# Proporción de categorías\n",
    "prop = df['entidad'].value_counts(normalize=True)"
   ]
  },
  {
   "cell_type": "code",
   "execution_count": null,
   "id": "c61380f8",
   "metadata": {},
   "outputs": [],
   "source": [
    "# Lo visualizamos mejor:\n",
    "pd.concat([conteos,prop], # observa que aquí estamos concatenando las dos columnas antes creadas \n",
    "          keys=['num','prop'], \n",
    "          axis=1)"
   ]
  },
  {
   "cell_type": "markdown",
   "id": "1eebb73d",
   "metadata": {},
   "source": [
    "### 4. Variables numéricas"
   ]
  },
  {
   "cell_type": "code",
   "execution_count": null,
   "id": "76ee2821",
   "metadata": {},
   "outputs": [],
   "source": [
    "# Todas las variables que son numéricas las describe con esas características.\n",
    "df.describe()"
   ]
  },
  {
   "cell_type": "markdown",
   "id": "02d24184",
   "metadata": {},
   "source": [
    "### 5. Variables temporales"
   ]
  },
  {
   "cell_type": "code",
   "execution_count": null,
   "id": "1cb130a2",
   "metadata": {},
   "outputs": [],
   "source": [
    "# Para obtener el mes de la variable que previamente ya habíamos hecho temporal\n",
    "df['mes'] = df['fecha_reg'].dt.month"
   ]
  },
  {
   "cell_type": "code",
   "execution_count": null,
   "id": "4b293a70",
   "metadata": {},
   "outputs": [],
   "source": [
    "# Año\n",
    "df['fecha_reg'].dt.year"
   ]
  },
  {
   "cell_type": "markdown",
   "id": "6ce6e012",
   "metadata": {},
   "source": [
    "### 6. NA's\n",
    "\n",
    "Los NA (_not applicable, not available, not assessed, no answer_) así como los valores faltantes son comunes en bases de datos, y el manejo de ellos depende de muchos factores. Antes de hacer cualquier operación sobre los datos, debes entender el contexto de la base y qué significa cada NA o valor vacío en las columnas en las que aparece.\n",
    "\n",
    "Algunas preguntas que debes hacerte:\n",
    "\n",
    "* ¿Tiene sentido que estos datos no estén disponibles o no existan? (e.g., alguien que nació sin útero podría tener NA/vacío en una columna llamada \"embarazos previos\", y sería correcto)\n",
    "* Si hay datos verdaderamente faltantes, ¿es al azar, o hay grupos más afectados? (e.g. muchos indicadores socioeconómicos no están medidos en zonas rurales, lo cual significa que cualquier análisis o modelo sería menos preciso para ellas)\n",
    "* ¿Son pocos o muchos? En una columna, si nos faltan solamente unos pocos valores, tal vez vale la pena explorar métodos de imputación, pero si existen 90% de faltantes, probablemente sea mejor descartarla para análisis.\n",
    "\n",
    "Para explorar el número de NA's por columna:"
   ]
  },
  {
   "cell_type": "code",
   "execution_count": null,
   "id": "d4b0ed95",
   "metadata": {},
   "outputs": [],
   "source": [
    "df.isna().any()  # Para columna evalúa True sí tiene NAs"
   ]
  },
  {
   "cell_type": "code",
   "execution_count": null,
   "id": "45846250",
   "metadata": {},
   "outputs": [],
   "source": [
    "df.isna().sum()  # Hace la suma de NAs por columna"
   ]
  },
  {
   "cell_type": "markdown",
   "id": "80c3763c",
   "metadata": {},
   "source": [
    "Realmente no hay una manera óptima para manejar valores faltantes, como mencionamos antes depende de la base de datos. En algunos casos puedes elegir hacer drop de los values o reemplazarlos. \n",
    "\n",
    "Ojo porque ambas operaciones tienen implicaciones sobre todo el conjunto de datos. Debes manejarte con ética, responsabilidad y cuidado a la hora de manejarlos. Una vez que estás seguro de hacer cambios sobre los NA's debes documentar, presentar y tener buenos argumentos para justificar tus decisiones. \n",
    "\n",
    "#### Drop de NAs\n",
    "\n",
    "Se puede hacer por columna o por fila con `dropna()`. Con `axis=0` se elimina un renglón, con `axis=1` una columna. \n",
    "\n",
    "Ejemplo:"
   ]
  },
  {
   "cell_type": "code",
   "execution_count": null,
   "id": "6815c1b9",
   "metadata": {},
   "outputs": [],
   "source": [
    "df_na = pd.DataFrame({\n",
    "'column_a':[1, 2, 4, 4, np.nan, np.nan, 6],     \n",
    "'column_b':[1.2, 1.4, np.nan, 6.2 ,None, 1.1, 4.3],\n",
    "'column_c':['a', '?', 'c', 'd', '--', np.nan, 'd'],\n",
    "'column_d':[True, True, np.nan, None, False, True, False]\n",
    "})"
   ]
  },
  {
   "cell_type": "code",
   "execution_count": null,
   "id": "804507a9",
   "metadata": {},
   "outputs": [],
   "source": [
    "df_na"
   ]
  },
  {
   "cell_type": "code",
   "execution_count": null,
   "id": "2c41fac7",
   "metadata": {},
   "outputs": [],
   "source": [
    "df_na.isna().any() "
   ]
  },
  {
   "cell_type": "code",
   "execution_count": null,
   "id": "af1736f8",
   "metadata": {},
   "outputs": [],
   "source": [
    "df_na.isna().sum() "
   ]
  },
  {
   "cell_type": "code",
   "execution_count": null,
   "id": "8e84a048",
   "metadata": {},
   "outputs": [],
   "source": [
    "df_na.dropna(axis=0) # Este quita los renglones que tienen NAs "
   ]
  },
  {
   "cell_type": "code",
   "execution_count": null,
   "id": "413c66cf",
   "metadata": {},
   "outputs": [],
   "source": [
    "df_na.dropna(axis=1)  # Este quita todas las columnas que tienen NAs"
   ]
  },
  {
   "cell_type": "markdown",
   "id": "b192407d",
   "metadata": {},
   "source": [
    "Reemplazo de NAs"
   ]
  },
  {
   "cell_type": "code",
   "execution_count": null,
   "id": "918a71a3",
   "metadata": {},
   "outputs": [],
   "source": [
    "df_na.fillna(25)"
   ]
  },
  {
   "cell_type": "code",
   "execution_count": null,
   "id": "74a763ba",
   "metadata": {},
   "outputs": [],
   "source": [
    "media = df_na['column_a'].mean()\n",
    "df_na['column_a'].fillna(media)"
   ]
  },
  {
   "cell_type": "markdown",
   "id": "5cb7cd3b",
   "metadata": {},
   "source": [
    "### 7. Subconjuntos de base de datos\n",
    "\n",
    "#### 7.1 Quitando columnas"
   ]
  },
  {
   "cell_type": "code",
   "execution_count": null,
   "id": "f2fbe424",
   "metadata": {},
   "outputs": [],
   "source": [
    "df.drop(['tmim',\n",
    "         'tmi',\n",
    "         'tef_ado'], \n",
    "        axis=1, # 0 es por filas y 1 por columnas.\n",
    "        inplace=True # True es para guardar los cambios sobre la misma base. \n",
    "       )"
   ]
  },
  {
   "cell_type": "markdown",
   "id": "e2563a8f",
   "metadata": {},
   "source": [
    "#### 7.2 Seleccionando subconjuntos de la base\n",
    "\n",
    "`.loc` vs `.iloc`\n",
    "\n",
    "- `.loc`: utiliza las etiquetas de los índices y de las columnas, es decir el nombre como un string.\n",
    "\n",
    "- `.iloc`: utiliza la posición como entero del dataframe.\n",
    "\n",
    "Seleccionamos todas las filas (`:`), de las columnas que están desde la posición 0 hasta la 3, y luego las columnas 4, 8, 10."
   ]
  },
  {
   "cell_type": "code",
   "execution_count": null,
   "id": "864a8469",
   "metadata": {},
   "outputs": [],
   "source": [
    "df.iloc[:,0:3]"
   ]
  },
  {
   "cell_type": "code",
   "execution_count": null,
   "id": "ff61aab9",
   "metadata": {},
   "outputs": [],
   "source": [
    "df.iloc[:,[0,2,4]]"
   ]
  },
  {
   "cell_type": "code",
   "execution_count": null,
   "id": "8854f00f",
   "metadata": {},
   "outputs": [],
   "source": [
    "# Selecciona las filas 2 hasta la 6\n",
    "df.iloc[2:6,]"
   ]
  },
  {
   "cell_type": "code",
   "execution_count": null,
   "id": "33ed53a5",
   "metadata": {},
   "outputs": [],
   "source": [
    "# Selecciona filas con los índices 122, 126 y 208:\n",
    "df.iloc[[122,126,208],]"
   ]
  },
  {
   "cell_type": "markdown",
   "id": "a202c5b4",
   "metadata": {},
   "source": [
    "Seleccionar columnas de acuerdo a las etiquetas de las columnas"
   ]
  },
  {
   "cell_type": "code",
   "execution_count": null,
   "id": "cc88bceb",
   "metadata": {},
   "outputs": [],
   "source": [
    "# Seleccionando mujeres\n",
    "df.loc[:,'muj_12_14':'muj_65_mas']"
   ]
  },
  {
   "cell_type": "code",
   "execution_count": null,
   "id": "107461dd",
   "metadata": {},
   "outputs": [],
   "source": [
    "df.loc[:,['hom_15_29','hom_15_29','hom_6_11']]"
   ]
  },
  {
   "cell_type": "code",
   "execution_count": null,
   "id": "e6b98cfc",
   "metadata": {},
   "outputs": [],
   "source": [
    "df.loc[0:1,]"
   ]
  },
  {
   "cell_type": "markdown",
   "id": "c460b67b",
   "metadata": {},
   "source": [
    "#### 7.3 Selecionar filas basadas en condiciones"
   ]
  },
  {
   "cell_type": "code",
   "execution_count": null,
   "id": "ddf294b0",
   "metadata": {},
   "outputs": [],
   "source": [
    "df[(['hom_6_11','hom_3_5','hom_12_14','año'])].query('2049 < año')"
   ]
  },
  {
   "cell_type": "markdown",
   "id": "450dac80",
   "metadata": {},
   "source": [
    "##### Buscar condiciones en filas"
   ]
  },
  {
   "cell_type": "code",
   "execution_count": null,
   "id": "9e09c162",
   "metadata": {},
   "outputs": [],
   "source": [
    "df['entidad'].unique()"
   ]
  },
  {
   "cell_type": "code",
   "execution_count": null,
   "id": "a2716ef1",
   "metadata": {},
   "outputs": [],
   "source": [
    "# seleccionar solo las categorias que tienen corredor y autopista\n",
    "categories_interes = ['Guanajuato', 'Tlaxcala']\n",
    "df[df['entidad'].isin(categories_interes)].query('año == 2005')"
   ]
  },
  {
   "cell_type": "markdown",
   "id": "0f1dc23f",
   "metadata": {},
   "source": [
    "### 8. Reset index\n",
    "\n",
    "El index termina siendo importante en la exploración:"
   ]
  },
  {
   "cell_type": "code",
   "execution_count": null,
   "id": "0a1b2838",
   "metadata": {},
   "outputs": [],
   "source": [
    "df_filtrado = df[df['entidad'].str.contains('Baja California')]"
   ]
  },
  {
   "cell_type": "code",
   "execution_count": null,
   "id": "119c6ff1",
   "metadata": {},
   "outputs": [],
   "source": [
    "# nueva columna con el index\n",
    "df_filtrado.reset_index().head()"
   ]
  },
  {
   "cell_type": "code",
   "execution_count": null,
   "id": "492654e2",
   "metadata": {},
   "outputs": [],
   "source": [
    "# Hace un drop del index\n",
    "df_filtrado.reset_index(drop=True).head()"
   ]
  },
  {
   "cell_type": "code",
   "execution_count": null,
   "id": "9c37e168",
   "metadata": {},
   "outputs": [],
   "source": [
    "# Quita el index sobre la base de datos df2\n",
    "df_filtrado.reset_index(inplace=True)"
   ]
  },
  {
   "cell_type": "code",
   "execution_count": null,
   "id": "e113ebe0",
   "metadata": {},
   "outputs": [],
   "source": [
    "df_filtrado.head()"
   ]
  },
  {
   "cell_type": "markdown",
   "id": "e14316c0",
   "metadata": {},
   "source": [
    "**Ejercicio**\n",
    "\n",
    "Para este ejercicio trabajarás con datos de una encuesta que forma parte del proyecto en https://www.equalityathome.org/. La encuesta fue realizada en colaboración, por varias instituciones: Facebook, el Banco Mundial, UN Women, Equal MEasures 2030 y Ladysmith. Esta fue aplicada en julio del 2020, aproximadamente, a medio millón de personas de 208 paıses, con la finalidad de capturar dinámicas en el hogar ocasionadas por la pandemia del COVID-19. \n",
    "\n",
    "La encuesta contiene preguntas respecto a actitudes y creencias en relación al género. Además\n",
    "de preguntas en relación a la participaci´on de las personas en labores domésticos y de cuidado\n",
    "no remunerados. \n",
    "\n",
    "\n",
    "1. Descarga el archivo \"sog_agg_country.xlsx\" de la carpeta \"datos\" ábrelo como una hoja de cálculo (con Excel, Numbers, Google) y revisa el catálogo para que te familiarices con los datos y su formato. Observa que las preguntas se dividen en cuatro categorías: antecedentes, capacidad financiera y de decisión, trabajo de cuidado no remunerado e información demográfica.\n",
    "\n",
    "Nota que la encuesta está limitada a participantes con acceso a internet, en\n",
    "particular, a miembros de Facebook. Además, debido a que la cantidad de respuestas de personas que poseen un género no binario fue muy baja, la encuesta incluye únicamente respuestas de personas que se identifican como\n",
    "mujer u hombre.\n",
    "\n",
    "2. Carga el archivo 'sog_agg_country_data.csv' como un dataframe de pandas. La ruta es:\n",
    "https://raw.githubusercontent.com/m-durand/propedeutico_python/main/datos/sog_agg_country_data.csv\n",
    "\n",
    "3. Transforma si es necesario cada columna a un tipo adecuado.\n",
    "\n",
    "4. Explora si hay valores faltantes.\n",
    "\n",
    "5. Haz un breve resumen/estadísticas por un lado de las variables categóricas y por otro de las numéricas, que te ayude a darte una mejor idea de la estructura de los datos y de las respuestas a las preguntas. Vuelve a calcular algunas estadísticas pero por género.\n"
   ]
  },
  {
   "cell_type": "code",
   "execution_count": null,
   "id": "2c2b8caa",
   "metadata": {},
   "outputs": [],
   "source": [
    "# Escribe aquí to código"
   ]
  }
 ],
 "metadata": {
  "kernelspec": {
   "display_name": "Python 3 (ipykernel)",
   "language": "python",
   "name": "python3"
  },
  "language_info": {
   "codemirror_mode": {
    "name": "ipython",
    "version": 3
   },
   "file_extension": ".py",
   "mimetype": "text/x-python",
   "name": "python",
   "nbconvert_exporter": "python",
   "pygments_lexer": "ipython3",
   "version": "3.10.6"
  }
 },
 "nbformat": 4,
 "nbformat_minor": 5
}

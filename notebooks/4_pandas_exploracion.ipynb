{
 "cells": [
  {
   "cell_type": "markdown",
   "id": "da52b667",
   "metadata": {},
   "source": [
    "[![Open In Colab](https://colab.research.google.com/assets/colab-badge.svg)](https://colab.research.google.com/github/m-durand/propedeutico_python/blob/main/notebooks/6_pandas3_agrupar_analisis_basicos.ipynb)"
   ]
  },
  {
   "cell_type": "markdown",
   "id": "c24dbfb0",
   "metadata": {},
   "source": [
    "# Propedéutico a programación con Python.\n",
    "\n",
    "**Verano 2023, por el Centro de Ciencia de Datos, EGobiernoyTP.**\n",
    "\n",
    "### Sesión 4: Exploración de bases de datos (pandas 1)\n",
    "\n",
    "1. Generalidades de bases de datos\n",
    "    - ¿Cuántas variables y observaciones tenemos?\n",
    "    - Diccionario de variables\n",
    "    - Explorando más\n",
    "2. Tipos de datos en db\n",
    "    - Cambiar tipos de datos\n",
    "        - str\n",
    "        - float\n",
    "        - int\n",
    "        - datetime\n",
    "3. Variables categóricas\n",
    "4. Variables numéricas\n",
    "5. Variables temporales\n",
    "6. NA's\n",
    "    - Drop\n",
    "    - Replace\n",
    "7. Subconjuntos de bases\n",
    "    - Quitar columnas\n",
    "    - Seleccionar subconjuntos de la base\n",
    "    - Seleccionar subconjuntos basados en condiciones\n",
    "8. Reset index\n"
   ]
  },
  {
   "cell_type": "code",
   "execution_count": null,
   "id": "92ec61dc",
   "metadata": {},
   "outputs": [],
   "source": [
    "# Paquetes\n",
    "import numpy as np\n",
    "import pandas as pd"
   ]
  },
  {
   "cell_type": "markdown",
   "id": "4697b28a",
   "metadata": {},
   "source": [
    "### Algunas líneas de set-up útiles"
   ]
  },
  {
   "cell_type": "markdown",
   "id": "c9fef905",
   "metadata": {},
   "source": [
    "**Para ver 200 filas en el notebook**"
   ]
  },
  {
   "cell_type": "code",
   "execution_count": null,
   "id": "6c41fa57",
   "metadata": {},
   "outputs": [],
   "source": [
    "pd.set_option('display.max_rows', 2000)"
   ]
  },
  {
   "cell_type": "markdown",
   "id": "7f2d6a5f",
   "metadata": {},
   "source": [
    "**Para ver 10 columnas en el notebook**"
   ]
  },
  {
   "cell_type": "code",
   "execution_count": null,
   "id": "11128bed",
   "metadata": {},
   "outputs": [],
   "source": [
    "pd.set_option('display.max_columns', 10)"
   ]
  },
  {
   "cell_type": "markdown",
   "id": "fc2b8e0a",
   "metadata": {},
   "source": [
    "## 1. Generalidades de bases de datos"
   ]
  },
  {
   "cell_type": "code",
   "execution_count": null,
   "id": "db24280f",
   "metadata": {},
   "outputs": [],
   "source": [
    "# Datos\n",
    "df = pd.read_csv('../datos/indicadores.csv', dtype='str')"
   ]
  },
  {
   "cell_type": "code",
   "execution_count": null,
   "id": "7b1295c7",
   "metadata": {},
   "outputs": [],
   "source": [
    "df"
   ]
  },
  {
   "cell_type": "markdown",
   "id": "bed2849b",
   "metadata": {},
   "source": [
    "### 1.1 ¿Cuántas variables y observaciones tenemos?"
   ]
  },
  {
   "cell_type": "code",
   "execution_count": null,
   "id": "e47f5113",
   "metadata": {},
   "outputs": [],
   "source": [
    "df.shape"
   ]
  },
  {
   "cell_type": "code",
   "execution_count": null,
   "id": "94e37915",
   "metadata": {},
   "outputs": [],
   "source": [
    "# Renglones\n",
    "df.shape[0]"
   ]
  },
  {
   "cell_type": "code",
   "execution_count": null,
   "id": "a24ffd37",
   "metadata": {},
   "outputs": [],
   "source": [
    "# Columnas\n",
    "df.shape[1]"
   ]
  },
  {
   "cell_type": "code",
   "execution_count": null,
   "id": "9a222a44",
   "metadata": {},
   "outputs": [],
   "source": [
    "# Nombre de columnas\n",
    "df.columns"
   ]
  },
  {
   "cell_type": "markdown",
   "id": "81ce35b2",
   "metadata": {},
   "source": [
    "### 1.2 Diccionario de variables\n",
    "\n",
    "Con cada base de datos con la que trabajes DEBES de tener el significado de cada variable para poder trabajar adecuadamente. A continuación el diccionario de la base con la que estaremos mostrando pandas.\n",
    "\n",
    "1. `renglon`\n",
    "2. `año`\n",
    "3. `entidad`\n",
    "4. `cve_geo`\n",
    "5. `cre_nat` = Crecimiento natural\n",
    "6. `cre_soc` = Crecimiento social\n",
    "7. `cre_tot` = Crecimiento total\n",
    "8. `def` = Defunciones\n",
    "9. `edad_med` = Edad Mediana\n",
    "10. `emi_est` = Emigrantes interestatales\n",
    "11. `emi_int` = Emigrantes internacionales\n",
    "12. `evh` = Esperanza de vida al nacimiento de hombres\n",
    "13. `evm` = Esperanza de vida al nacimiento de mujeres\n",
    "14. `ev` = Esperanza de vida al nacimiento total\n",
    "15. `hom_mit_año` = Hombres mitad de año\n",
    "16. `ind_env` = Índice de Envejecimiento\n",
    "17. `inm_est` = Inmigrantes interestatales\n",
    "18. `inm_int` = Inmigrantes internacionales\n",
    "19. `mig_net_est` = Migración neta interestatal\n",
    "20. `mig_net_int` = Migración neta internacional\n",
    "21. `muj_mit_año` = Mujeres mitad de año\n",
    "22. `nac` = Nacimientos\n",
    "23. `pob_mit_año` = Población mitad de año\n",
    "24. `muj_12_14` = Mujeres edad entre 12 y 14\n",
    "25. `muj_15_29` = Mujeres edad entre 15 y 29\n",
    "26. `muj_15_49` = Mujeres edad entre 15 y 49\n",
    "27. `muj_18_24` = Mujeres edad entre 18 y 24\n",
    "28. `muj_3_5` = Mujeres edad entre 3 y 5\n",
    "29. `muj_30_64` = Mujeres edad entre 30 y 64\n",
    "30. `muj_6_11` = Mujeres edad entre 6 y 11\n",
    "31. `muj_65_mas` = Mujeres de 65 años y más\n",
    "32. `hom_12_14` = Hombres edad entre 12 y 14\n",
    "33. `hom_15_29` = Hombres edad entre 15 y 29\n",
    "34. `hom_15_49` = Hombres edad entre 15 y 49\n",
    "35. `hom_18_24` = Hombres edad entre 18 y 24\n",
    "36. `hom_3_5` = Hombres edad entre 3 y 5\n",
    "37. `hom_30_64` = Hombres edad entre 30 y 64\n",
    "38. `hom_6_11` = Hombres edad entre 6 y 11\n",
    "39. `hom_65_mas` = Hombres de 65 años y más\n",
    "40. `pob_12_14` = Población edad entre 12 y 14\n",
    "41. `pob_15_29` = Población edad entre 15 y 29\n",
    "42. `pob_15_49` = Población edad entre 15 y 49\n",
    "43. `pob_18_24` = Población edad entre 18 y 24\n",
    "44. `pob_3_5` = Población edad entre 3 y 5\n",
    "45. `pob_30_64` = Población edad entre 30 y 64\n",
    "46. `pob_6_11` = Población edad entre 6 y 11\n",
    "47. `pob_65_mas` = Población de 65 años y más\n",
    "48. `raz_dep_adu` = Razón de dependencia adulta\n",
    "49. `raz_dep_inf` = Razón de dependencia infantil\n",
    "50. `raz_dep` = Razón dependencia total\n",
    "51. `t_bru_mor` = Tasa bruta de mortalidad\n",
    "52. `t_bru_nat` = Tasa de natalidad\n",
    "53. `t_cre_nat` = Tasa de crecimiento natural\n",
    "54. `t_cre_soc` = Tasa de crecimiento social\n",
    "55. `t_cre_tot` = Tasa de crecimiento total\n",
    "56. `t_emi_est` = Tasa de emigración interestatal\n",
    "57. `t_inm_est` = Tasa de inmigración neta interestatal\n",
    "58. `t_mig_net_est` = Tasa de migración neta interestatal\n",
    "59. `t_mig_net_int` = Tasa de migración neta internacional\n",
    "60. `tmih` = Tasa de mortalidad infantil hombres\n",
    "61. `tmim` = Tasa de mortalidad infantil mujeres\n",
    "62. `tmi` = Tasa de mortalidad infantil\n",
    "63. `tef_ado` = Tasa específica de fecundidad adolescente\n",
    "64. `tgf` = Tasa global de fecundidad\n",
    "65. `fecha_reg`= Fecha registro\n",
    "\n",
    "\n",
    "### 1.3 Explorando más:"
   ]
  },
  {
   "cell_type": "code",
   "execution_count": null,
   "id": "5ca3e768",
   "metadata": {},
   "outputs": [],
   "source": [
    "# Las primeras 5 observaciones\n",
    "df.head(5)"
   ]
  },
  {
   "cell_type": "code",
   "execution_count": null,
   "id": "cc3a8591",
   "metadata": {},
   "outputs": [],
   "source": [
    "# Las últimas 5 observaciones\n",
    "df.tail(5)"
   ]
  },
  {
   "cell_type": "code",
   "execution_count": null,
   "id": "4d0d5975",
   "metadata": {},
   "outputs": [],
   "source": [
    "# Muestra aleatoria de 5 observaciones, con semilla para que sea reproducible.\n",
    "df.sample(5,random_state=123)"
   ]
  },
  {
   "cell_type": "code",
   "execution_count": null,
   "id": "c84eec2a",
   "metadata": {},
   "outputs": [],
   "source": [
    "# Muestra aletoria del 10% de las observaciones con semilla para que sea reproducible.\n",
    "df.sample(frac=0.01, random_state=123)"
   ]
  },
  {
   "cell_type": "code",
   "execution_count": null,
   "id": "8764f23c",
   "metadata": {},
   "outputs": [],
   "source": [
    "# Para mandar a llamar una columna específica de la base se puede de las siguientes dos maneras:"
   ]
  },
  {
   "cell_type": "code",
   "execution_count": null,
   "id": "222641d7",
   "metadata": {},
   "outputs": [],
   "source": [
    "df['entidad']"
   ]
  },
  {
   "cell_type": "code",
   "execution_count": null,
   "id": "4ad916e9",
   "metadata": {},
   "outputs": [],
   "source": [
    "df.entidad"
   ]
  },
  {
   "cell_type": "code",
   "execution_count": null,
   "id": "2a1c7e08",
   "metadata": {},
   "outputs": [],
   "source": [
    "df[['año','entidad']] # dos columnas"
   ]
  },
  {
   "cell_type": "code",
   "execution_count": null,
   "id": "66847986",
   "metadata": {},
   "outputs": [],
   "source": [
    "# Para ver las columnas de la base\n",
    "df.columns"
   ]
  },
  {
   "cell_type": "code",
   "execution_count": null,
   "id": "dfcd1bfe",
   "metadata": {},
   "outputs": [],
   "source": [
    "# Información general de la base\n",
    "df.info()"
   ]
  },
  {
   "cell_type": "markdown",
   "id": "7760664a",
   "metadata": {},
   "source": [
    "## 2. Tipos de datos en db\n",
    "\n",
    "Cuando trabajes con datos, muchas veces vendrán en diferentes formatos, antes de hacer cualquier limpieza o revisión, debes de asegurarte con que tipo de dato estarás trabajando. Este es un proceso largo porque tienes que conocer columna por columna, saber de qué se trata, etc. Para efectos de la sesión, se te enseñará la técnica para cambiar columnas. \n",
    "\n",
    "Primero tienes que ver con qué tipos de datos trabajas:"
   ]
  },
  {
   "cell_type": "code",
   "execution_count": null,
   "id": "a0be0d3c",
   "metadata": {},
   "outputs": [],
   "source": [
    "df.dtypes"
   ]
  },
  {
   "cell_type": "markdown",
   "id": "1701f79b",
   "metadata": {},
   "source": [
    "### 2.1 Cambiar tipo de datos\n",
    "\n",
    "Generalmente, sucede que las bases de datos que nos comparten no vienen en formato adecuado, por lo que a continuación veremos comandos para cambiar tipos de datos."
   ]
  },
  {
   "cell_type": "markdown",
   "id": "5c3ddd32",
   "metadata": {},
   "source": [
    "#### Hacer variable de tipo carácter (str)"
   ]
  },
  {
   "cell_type": "code",
   "execution_count": null,
   "id": "939cc380",
   "metadata": {},
   "outputs": [],
   "source": [
    "df['renglon'] = df['renglon'].astype('str')"
   ]
  },
  {
   "cell_type": "markdown",
   "id": "790cd94d",
   "metadata": {},
   "source": [
    "#### Hacer variable de tipo numérica: entero (int) o flotante (float64)"
   ]
  },
  {
   "cell_type": "code",
   "execution_count": null,
   "id": "68183d20",
   "metadata": {},
   "outputs": [],
   "source": [
    "# Aquí estamos cambiando la variable año a tipo entero, SIN asignarla de nuevo a la base de datos, \n",
    "# para hacer el cambio debes asignarla de nuevo a la misma columna de la base\n",
    "# (ve la línea anterior)\n",
    "df['renglon'].astype('int')"
   ]
  },
  {
   "cell_type": "code",
   "execution_count": null,
   "id": "8ff92292",
   "metadata": {},
   "outputs": [],
   "source": [
    "df['renglon'].astype('float64')\n",
    "# Observa como para este formato se está agregando un cero al último por lo que es un flotante"
   ]
  },
  {
   "cell_type": "markdown",
   "id": "e128ae36",
   "metadata": {},
   "source": [
    "Conforme exploras la base de datos sabrás cuáles son las variables numéricas, para efectos del ejecicio te dejamos todas las que son numéricas."
   ]
  },
  {
   "cell_type": "code",
   "execution_count": null,
   "id": "6c2db3d6",
   "metadata": {},
   "outputs": [],
   "source": [
    "columnas_num = ['edad_med', 'evh', 'evm', 'ev', 'ind_env', 'raz_dep_adu', 'raz_dep_inf', \n",
    "                'raz_dep','t_bru_mor', 't_bru_nat', 't_cre_nat', 'tmih', 'tmim', 'tmi', \n",
    "                'tef_ado', 'tgf', 'año','cve_geo','cre_nat','def','hom_mit_año','muj_mit_año',\n",
    "                'nac','pob_mit_año','muj_12_14','muj_15_29', 'muj_15_49','muj_18_24',\n",
    "                'muj_3_5','muj_30_64','muj_6_11', 'muj_65_mas','hom_12_14','hom_15_29',\n",
    "                'hom_15_49','hom_18_24', 'hom_3_5','hom_30_64','hom_6_11','hom_65_mas',\n",
    "                'pob_12_14', 'pob_15_29','pob_15_49','pob_18_24','pob_3_5','pob_30_64',\n",
    "                'pob_6_11','pob_65_mas']"
   ]
  },
  {
   "cell_type": "code",
   "execution_count": null,
   "id": "63dcc264",
   "metadata": {},
   "outputs": [],
   "source": [
    "df[columnas_num] = df[columnas_num].astype('float64')"
   ]
  },
  {
   "cell_type": "markdown",
   "id": "cfefee1d",
   "metadata": {},
   "source": [
    "A veces es mejor guardar las variables como enteros que como flotante."
   ]
  },
  {
   "cell_type": "code",
   "execution_count": null,
   "id": "f05ba0e0",
   "metadata": {},
   "outputs": [],
   "source": [
    "columnas_enteros = ['año','cve_geo','cre_nat','def','hom_mit_año',\n",
    "                    'muj_mit_año','nac','pob_mit_año','muj_12_14','muj_15_29',\n",
    "                    'muj_15_49','muj_18_24','muj_3_5','muj_30_64','muj_6_11',\n",
    "                    'muj_65_mas','hom_12_14','hom_15_29','hom_15_49','hom_18_24',\n",
    "                    'hom_3_5','hom_30_64','hom_6_11','hom_65_mas','pob_12_14',\n",
    "                    'pob_15_29','pob_15_49','pob_18_24','pob_3_5','pob_30_64',\n",
    "                    'pob_6_11','pob_65_mas']"
   ]
  },
  {
   "cell_type": "code",
   "execution_count": null,
   "id": "a1318d49",
   "metadata": {},
   "outputs": [],
   "source": [
    "df[columnas_enteros] = df[columnas_enteros].astype('int64')"
   ]
  },
  {
   "cell_type": "code",
   "execution_count": null,
   "id": "20a6c15a",
   "metadata": {},
   "outputs": [],
   "source": [
    "# Otra manera de hacer la variable numérica \n",
    "df['año'] = pd.to_numeric(df['año'], errors='coerce', downcast='integer')"
   ]
  },
  {
   "cell_type": "code",
   "execution_count": null,
   "id": "09e546ef",
   "metadata": {},
   "outputs": [],
   "source": [
    "# Observa como el tipo de columna es diferente a la base original\n",
    "df.dtypes"
   ]
  },
  {
   "cell_type": "markdown",
   "id": "65ca91ec",
   "metadata": {},
   "source": [
    "#### Hacer variable de tipo temporal"
   ]
  },
  {
   "cell_type": "code",
   "execution_count": null,
   "id": "5f4b7456",
   "metadata": {},
   "outputs": [],
   "source": [
    "df['fecha_reg'] = pd.to_datetime(df['fecha_reg'])"
   ]
  },
  {
   "cell_type": "markdown",
   "id": "14b39cfb",
   "metadata": {},
   "source": [
    "Una vez que tienes ubicadas las variables de la base puedes comenzar a realizar análisis sencillos para explorar la base, dependiendo del tipo de variable es el análisis que puedes realizar.\n",
    "\n",
    "\n",
    "### 3. Para variables categorícas"
   ]
  },
  {
   "cell_type": "code",
   "execution_count": null,
   "id": "c84c056a",
   "metadata": {},
   "outputs": [],
   "source": [
    "# Valores únicos por variable. En las variables string aparecerán el número de categorías únicas\n",
    "df.nunique()"
   ]
  },
  {
   "cell_type": "markdown",
   "id": "5b4fdf6e",
   "metadata": {},
   "source": [
    "**Si queremos evaluar más a detalle una variable categórica:**"
   ]
  },
  {
   "cell_type": "code",
   "execution_count": null,
   "id": "68a9b763",
   "metadata": {},
   "outputs": [],
   "source": [
    "# Categorías en variable\n",
    "df['entidad'].unique()"
   ]
  },
  {
   "cell_type": "code",
   "execution_count": null,
   "id": "f7f7097c",
   "metadata": {},
   "outputs": [],
   "source": [
    "#  Vemos el número de observaciones por categoría de esta variable\n",
    "conteos = df['entidad'].value_counts()\n",
    "conteos"
   ]
  },
  {
   "cell_type": "code",
   "execution_count": null,
   "id": "2d85ef28",
   "metadata": {},
   "outputs": [],
   "source": [
    "# Proporción de categorías\n",
    "prop = df['entidad'].value_counts(normalize=True)"
   ]
  },
  {
   "cell_type": "code",
   "execution_count": null,
   "id": "c61380f8",
   "metadata": {},
   "outputs": [],
   "source": [
    "# Lo visualizamos mejor:\n",
    "pd.concat([conteos,prop], # observa que aquí estamos concatenando las dos columnas antes creadas \n",
    "          keys=['num','prop'], \n",
    "          axis=1)"
   ]
  },
  {
   "cell_type": "markdown",
   "id": "1eebb73d",
   "metadata": {},
   "source": [
    "### 4. Variables numéricas"
   ]
  },
  {
   "cell_type": "code",
   "execution_count": null,
   "id": "76ee2821",
   "metadata": {},
   "outputs": [],
   "source": [
    "# Todas las variables que son numéricas las describe con esas características.\n",
    "df.describe()"
   ]
  },
  {
   "cell_type": "markdown",
   "id": "02d24184",
   "metadata": {},
   "source": [
    "### 5. Variables temporales"
   ]
  },
  {
   "cell_type": "code",
   "execution_count": null,
   "id": "1cb130a2",
   "metadata": {},
   "outputs": [],
   "source": [
    "# Para obtener el mes de la variable que previamente ya habíamos hecho temporal\n",
    "df['mes'] = df['fecha_reg'].dt.month"
   ]
  },
  {
   "cell_type": "code",
   "execution_count": null,
   "id": "4b293a70",
   "metadata": {},
   "outputs": [],
   "source": [
    "# Año\n",
    "df['fecha_reg'].dt.year"
   ]
  },
  {
   "cell_type": "markdown",
   "id": "6ce6e012",
   "metadata": {},
   "source": [
    "### 6. NA's\n",
    "\n",
    "Los NAs son comunes en bases de datos, y el manejo de ellos depende de muchos factores. Antes de hacer cualquier operación sobre ellos debes de entender el contexto de la base y qué significa cada NA en las columnas en las que aparece. \n",
    "\n",
    "Para explorar el número de NA's por columna:"
   ]
  },
  {
   "cell_type": "code",
   "execution_count": null,
   "id": "d4b0ed95",
   "metadata": {},
   "outputs": [],
   "source": [
    "df.isna().any()  # Para columna evalúa True sí tiene NAs"
   ]
  },
  {
   "cell_type": "code",
   "execution_count": null,
   "id": "45846250",
   "metadata": {},
   "outputs": [],
   "source": [
    "df.isna().sum()  # Hace la suma de NAs por columna"
   ]
  },
  {
   "cell_type": "markdown",
   "id": "80c3763c",
   "metadata": {},
   "source": [
    "Realmente no hay una manera óptima para manejar valores faltantes, como mencionamos antes depende de la base de datos. En algunos casos puedes elegir hacer drop de los values o reemplazarlos. \n",
    "\n",
    "Ojo porque ambas operaciones tienen implicaciones sobre todo el conjunto de datos. Debes manejarte con ética, responsabilidad y cuidado a la hora de manejarlos. Una vez que estás seguro de hacer cambios sobre los NA's debes documentar, presentar y tener buenos argumentos para justificar tus decisiones. \n",
    "\n",
    "#### Drop de NAs\n",
    "\n",
    "Se puede hacer por columna o por fila con `dropna()`, si `axis=0` entonces es renglón, si es `axis=1` entonces es columna. \n",
    "\n",
    "Ejemplo:"
   ]
  },
  {
   "cell_type": "code",
   "execution_count": null,
   "id": "6815c1b9",
   "metadata": {},
   "outputs": [],
   "source": [
    "df_na = pd.DataFrame({\n",
    "'column_a':[1, 2, 4, 4, np.nan, np.nan, 6],     \n",
    "'column_b':[1.2, 1.4, np.nan, 6.2 ,None, 1.1, 4.3],\n",
    "'column_c':['a', '?', 'c', 'd', '--', np.nan, 'd'],\n",
    "'column_d':[True, True, np.nan, None, False, True, False]\n",
    "})"
   ]
  },
  {
   "cell_type": "code",
   "execution_count": null,
   "id": "804507a9",
   "metadata": {},
   "outputs": [],
   "source": [
    "df_na"
   ]
  },
  {
   "cell_type": "code",
   "execution_count": null,
   "id": "2c41fac7",
   "metadata": {},
   "outputs": [],
   "source": [
    "df_na.isna().any() "
   ]
  },
  {
   "cell_type": "code",
   "execution_count": null,
   "id": "af1736f8",
   "metadata": {},
   "outputs": [],
   "source": [
    "df_na.isna().sum() "
   ]
  },
  {
   "cell_type": "code",
   "execution_count": null,
   "id": "8e84a048",
   "metadata": {},
   "outputs": [],
   "source": [
    "df_na.dropna(axis=0) # Este quita los renglones que tienen NAs "
   ]
  },
  {
   "cell_type": "code",
   "execution_count": null,
   "id": "413c66cf",
   "metadata": {},
   "outputs": [],
   "source": [
    "df_na.dropna(axis=1)  # Este quita todas las columnas que tienen NAs"
   ]
  },
  {
   "cell_type": "markdown",
   "id": "b192407d",
   "metadata": {},
   "source": [
    "Reemplazo de NAs"
   ]
  },
  {
   "cell_type": "code",
   "execution_count": null,
   "id": "918a71a3",
   "metadata": {},
   "outputs": [],
   "source": [
    "df_na.fillna(25)"
   ]
  },
  {
   "cell_type": "code",
   "execution_count": null,
   "id": "74a763ba",
   "metadata": {},
   "outputs": [],
   "source": [
    "media = df_na['column_a'].mean()\n",
    "df_na['column_a'].fillna(media)"
   ]
  },
  {
   "cell_type": "markdown",
   "id": "5cb7cd3b",
   "metadata": {},
   "source": [
    "### 7. Subconjuntos de base de datos\n",
    "\n",
    "#### 7.1 Quitando columnas"
   ]
  },
  {
   "cell_type": "code",
   "execution_count": null,
   "id": "f2fbe424",
   "metadata": {},
   "outputs": [],
   "source": [
    "df.drop(['tmim',\n",
    "         'tmi',\n",
    "         'tef_ado'], \n",
    "        axis=1, # 0 es por filas y 1 por columnas.\n",
    "        inplace=True # True es para guardar los cambios sobre la misma base. \n",
    "       )"
   ]
  },
  {
   "cell_type": "markdown",
   "id": "e2563a8f",
   "metadata": {},
   "source": [
    "#### 7.2 Seleccionando subconjuntos de la base\n",
    "\n",
    "`.loc` vs `.iloc`\n",
    "\n",
    "- `.loc`: utiliza las etiquetas de los índices y de las columnas, es decir el nombre como un string.\n",
    "\n",
    "- `.iloc`: utiliza la posición como entero del dataframe.\n",
    "\n",
    "Seleccionamos todas las filas (`:`), de las columnas que están desde la posición 0 hasta la 3, y luego las columnas 4, 8, 10."
   ]
  },
  {
   "cell_type": "code",
   "execution_count": null,
   "id": "864a8469",
   "metadata": {},
   "outputs": [],
   "source": [
    "df.iloc[:,0:3]"
   ]
  },
  {
   "cell_type": "code",
   "execution_count": null,
   "id": "ff61aab9",
   "metadata": {},
   "outputs": [],
   "source": [
    "df.iloc[:,[0,2,4]]"
   ]
  },
  {
   "cell_type": "code",
   "execution_count": null,
   "id": "8854f00f",
   "metadata": {},
   "outputs": [],
   "source": [
    "# Selecciona las filas 2 hasta la 6\n",
    "df.iloc[2:6,]"
   ]
  },
  {
   "cell_type": "code",
   "execution_count": null,
   "id": "33ed53a5",
   "metadata": {},
   "outputs": [],
   "source": [
    "# Selecciona filas con los índices 122, 126 y 208:\n",
    "df.iloc[[122,126,208],]"
   ]
  },
  {
   "cell_type": "markdown",
   "id": "a202c5b4",
   "metadata": {},
   "source": [
    "Seleccionar columnas de acuerdo a las etiquetas de las columnas"
   ]
  },
  {
   "cell_type": "code",
   "execution_count": null,
   "id": "cc88bceb",
   "metadata": {},
   "outputs": [],
   "source": [
    "# Seleccionando mujeres\n",
    "df.loc[:,'muj_12_14':'muj_65_mas']"
   ]
  },
  {
   "cell_type": "code",
   "execution_count": null,
   "id": "107461dd",
   "metadata": {},
   "outputs": [],
   "source": [
    "df.loc[:,['hom_15_29','hom_18_24','hom_6_11']]"
   ]
  },
  {
   "cell_type": "code",
   "execution_count": null,
   "id": "e6b98cfc",
   "metadata": {},
   "outputs": [],
   "source": [
    "df.loc[0:1,]"
   ]
  },
  {
   "cell_type": "markdown",
   "id": "c460b67b",
   "metadata": {},
   "source": [
    "#### 7.3 Selecionar filas basadas en condiciones"
   ]
  },
  {
   "cell_type": "code",
   "execution_count": null,
   "id": "ddf294b0",
   "metadata": {},
   "outputs": [],
   "source": [
    "df[(['hom_6_11','hom_3_5','hom_12_14','año'])].query('2049 < año')"
   ]
  },
  {
   "cell_type": "markdown",
   "id": "450dac80",
   "metadata": {},
   "source": [
    "##### Buscar condiciones en filas"
   ]
  },
  {
   "cell_type": "code",
   "execution_count": null,
   "id": "9e09c162",
   "metadata": {},
   "outputs": [],
   "source": [
    "df['entidad'].unique()"
   ]
  },
  {
   "cell_type": "code",
   "execution_count": null,
   "id": "a2716ef1",
   "metadata": {},
   "outputs": [],
   "source": [
    "# seleccionar solo las categorias que tienen corredor y autopista\n",
    "categories_interes = ['Guanajuato', 'Tlaxcala']\n",
    "df[df['entidad'].isin(categories_interes)].query('año == 2005')"
   ]
  },
  {
   "cell_type": "markdown",
   "id": "0f1dc23f",
   "metadata": {},
   "source": [
    "### 8. Reset index\n",
    "\n",
    "El index termina siendo importante en la exploración:"
   ]
  },
  {
   "cell_type": "code",
   "execution_count": null,
   "id": "0a1b2838",
   "metadata": {},
   "outputs": [],
   "source": [
    "df2 = df[df['entidad'].str.contains('Baja California')]"
   ]
  },
  {
   "cell_type": "code",
   "execution_count": null,
   "id": "119c6ff1",
   "metadata": {},
   "outputs": [],
   "source": [
    "# nueva columna con el index\n",
    "df2.reset_index().head()"
   ]
  },
  {
   "cell_type": "code",
   "execution_count": null,
   "id": "492654e2",
   "metadata": {},
   "outputs": [],
   "source": [
    "# Hace un drop del index\n",
    "df2.reset_index(drop=True).head()"
   ]
  },
  {
   "cell_type": "code",
   "execution_count": null,
   "id": "9c37e168",
   "metadata": {},
   "outputs": [],
   "source": [
    "# Quita el index sobre la base de datos df2\n",
    "df2.reset_index(inplace=True)"
   ]
  },
  {
   "cell_type": "code",
   "execution_count": null,
   "id": "e113ebe0",
   "metadata": {},
   "outputs": [],
   "source": [
    "df2.head()"
   ]
  }
 ],
 "metadata": {
  "kernelspec": {
   "display_name": "Python 3 (ipykernel)",
   "language": "python",
   "name": "python3"
  },
  "language_info": {
   "codemirror_mode": {
    "name": "ipython",
    "version": 3
   },
   "file_extension": ".py",
   "mimetype": "text/x-python",
   "name": "python",
   "nbconvert_exporter": "python",
   "pygments_lexer": "ipython3",
   "version": "3.8.13"
  }
 },
 "nbformat": 4,
 "nbformat_minor": 5
}

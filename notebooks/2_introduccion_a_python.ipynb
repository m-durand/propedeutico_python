{
 "cells": [
  {
   "cell_type": "markdown",
   "id": "d395fd5a",
   "metadata": {},
   "source": [
    "[![Open In Colab](https://colab.research.google.com/assets/colab-badge.svg)](https://colab.research.google.com/github/m-durand/propedeutico_python/blob/main/notebooks/2_variables_y_operaciones.ipynb)"
   ]
  },
  {
   "cell_type": "markdown",
   "id": "anticipated-cincinnati",
   "metadata": {},
   "source": [
    "# Propedéutico a programación con Python.\n",
    "\n",
    "**Verano 2023, por el Centro de Ciencia de Datos, EGobiernoyTP.**\n",
    "\n",
    "### Sesión 2: Más de introducción a Python.\n",
    "\n",
    "1. Indexing & Slicing\n",
    "2. Type Conversion\n",
    "3. Conditionals\n",
    "4. Loops\n",
    "   - for\n",
    "       - range\n",
    "       - enumerate \n",
    "   - while \n",
    "5. Funciones\n",
    "   - Recursivas\n",
    "   - Lambda\n",
    "6. Clases & Objetos"
   ]
  },
  {
   "cell_type": "markdown",
   "id": "incorporate-scott",
   "metadata": {},
   "source": [
    "## 1. Indexación y slicing\n",
    "\n",
    "Alcanzar posiciones y valores dentro de una variable\n",
    "\n",
    "### Indexación"
   ]
  },
  {
   "cell_type": "code",
   "execution_count": 1,
   "id": "italic-helena",
   "metadata": {},
   "outputs": [],
   "source": [
    "data = [1,2,3,4,5,6,7,8,9]  "
   ]
  },
  {
   "cell_type": "code",
   "execution_count": 3,
   "id": "caroline-retro",
   "metadata": {},
   "outputs": [
    {
     "name": "stdout",
     "output_type": "stream",
     "text": [
      "1\n"
     ]
    }
   ],
   "source": [
    "print(data[0])  # Alcanza el valor del índice "
   ]
  },
  {
   "cell_type": "code",
   "execution_count": 4,
   "id": "durable-acrobat",
   "metadata": {},
   "outputs": [
    {
     "name": "stdout",
     "output_type": "stream",
     "text": [
      "9\n"
     ]
    }
   ],
   "source": [
    "print(data[-1]) # Alcanza el último índice"
   ]
  },
  {
   "cell_type": "code",
   "execution_count": 5,
   "id": "contrary-spirituality",
   "metadata": {},
   "outputs": [
    {
     "name": "stdout",
     "output_type": "stream",
     "text": [
      "7\n"
     ]
    }
   ],
   "source": [
    "print(data[-3]) # Alcanza el tercer último índice"
   ]
  },
  {
   "cell_type": "markdown",
   "id": "economic-destination",
   "metadata": {},
   "source": [
    "### Slicing"
   ]
  },
  {
   "cell_type": "code",
   "execution_count": 75,
   "id": "logical-piece",
   "metadata": {},
   "outputs": [
    {
     "name": "stdout",
     "output_type": "stream",
     "text": [
      "1\n"
     ]
    }
   ],
   "source": [
    "print(data[0]) # Valor del índice en la posición 0"
   ]
  },
  {
   "cell_type": "code",
   "execution_count": 7,
   "id": "front-palmer",
   "metadata": {},
   "outputs": [
    {
     "name": "stdout",
     "output_type": "stream",
     "text": [
      "[2, 3, 4]\n"
     ]
    }
   ],
   "source": [
    "print(data[1:4])  # Valores del índice 1ro al 3ro"
   ]
  },
  {
   "cell_type": "code",
   "execution_count": 76,
   "id": "relative-kitchen",
   "metadata": {},
   "outputs": [
    {
     "name": "stdout",
     "output_type": "stream",
     "text": [
      "[1, 3, 5, 7]\n"
     ]
    }
   ],
   "source": [
    "print(data[0:8:2]) # Valores del índice 0th al 7mo con un salto de 2"
   ]
  },
  {
   "cell_type": "code",
   "execution_count": 74,
   "id": "durable-distribution",
   "metadata": {},
   "outputs": [
    {
     "name": "stdout",
     "output_type": "stream",
     "text": [
      "[1, 3, 5, 7]\n"
     ]
    }
   ],
   "source": [
    "print(data[0:-2:2])  # Indexación negativa"
   ]
  },
  {
   "cell_type": "markdown",
   "id": "russian-northern",
   "metadata": {},
   "source": [
    "## 2. Transformaciones de tipos de datos"
   ]
  },
  {
   "cell_type": "code",
   "execution_count": 10,
   "id": "extra-snake",
   "metadata": {},
   "outputs": [],
   "source": [
    "a = 2"
   ]
  },
  {
   "cell_type": "code",
   "execution_count": 11,
   "id": "radical-university",
   "metadata": {},
   "outputs": [],
   "source": [
    "b = float(2)"
   ]
  },
  {
   "cell_type": "code",
   "execution_count": 12,
   "id": "minimal-diary",
   "metadata": {},
   "outputs": [],
   "source": [
    "c = str(b)"
   ]
  },
  {
   "cell_type": "code",
   "execution_count": 13,
   "id": "clean-binding",
   "metadata": {},
   "outputs": [],
   "source": [
    "d = list(c)"
   ]
  },
  {
   "cell_type": "markdown",
   "id": "monthly-college",
   "metadata": {},
   "source": [
    "## 3. Condicionales\n",
    "\n",
    "Los condicionales nos ayudan a realizar tareas computacionales basadas en una condiciones.\n",
    "\n",
    "```\n",
    "if condition:           \n",
    "   task\n",
    "else:\n",
    "   task\n",
    "````"
   ]
  },
  {
   "cell_type": "code",
   "execution_count": 14,
   "id": "varying-soldier",
   "metadata": {},
   "outputs": [
    {
     "name": "stdout",
     "output_type": "stream",
     "text": [
      "Es uno\n"
     ]
    }
   ],
   "source": [
    "x = 1\n",
    "if x == 1:\n",
    "    print('Es uno')\n",
    "else:\n",
    "    print('Es otro')"
   ]
  },
  {
   "cell_type": "markdown",
   "id": "prepared-election",
   "metadata": {},
   "source": [
    "## 4. Loops\n",
    "\n",
    "Los loops se utilizan para hacer ciertas tareas múltiples veces. Hay dos tipos de loops, los `for loops` y los `while loops`.\n",
    "\n",
    "#### 4.1 For loops\n",
    "\n",
    "```\n",
    "for attribute in range(lower_range, upper_range):\n",
    "    task\n",
    "```"
   ]
  },
  {
   "cell_type": "code",
   "execution_count": 17,
   "id": "alive-passport",
   "metadata": {},
   "outputs": [
    {
     "name": "stdout",
     "output_type": "stream",
     "text": [
      "1\n",
      "2\n",
      "3\n",
      "4\n",
      "5\n",
      "6\n",
      "7\n",
      "8\n",
      "9\n"
     ]
    }
   ],
   "source": [
    "# Range solo te deja el valor\n",
    "for i in range(1,10): # el último valor hace drop\n",
    "    print(i)"
   ]
  },
  {
   "cell_type": "code",
   "execution_count": 32,
   "id": "crude-sword",
   "metadata": {},
   "outputs": [
    {
     "name": "stdout",
     "output_type": "stream",
     "text": [
      "En el índice 0 el valor es  3\n",
      "En el índice 1 el valor es  5\n",
      "En el índice 2 el valor es  7\n",
      "En el índice 3 el valor es  9\n",
      "En el índice 4 el valor es  11\n"
     ]
    }
   ],
   "source": [
    "# Si necesitas el valor e índice\n",
    "lista = [3,5,7,9,11]\n",
    "for index, value in enumerate(lista):\n",
    "          print(\"En el índice\", index, \"el valor es \", value)"
   ]
  },
  {
   "cell_type": "markdown",
   "id": "pointed-experience",
   "metadata": {},
   "source": [
    "#### 4.2 While loop\n",
    "\n",
    "Itera sobre algo hasta que la condición se hace true o false"
   ]
  },
  {
   "cell_type": "code",
   "execution_count": 36,
   "id": "reasonable-bumper",
   "metadata": {},
   "outputs": [
    {
     "name": "stdout",
     "output_type": "stream",
     "text": [
      "1\n",
      "2\n",
      "3\n",
      "4\n",
      "5\n",
      "6\n",
      "7\n",
      "8\n",
      "9\n",
      "10\n"
     ]
    }
   ],
   "source": [
    "i = 0\n",
    "while i<10:\n",
    "    i = i+1\n",
    "    print(i)\n",
    "    \n",
    "## El Loop correrá hasta que el valor de i es igual a 10.\n",
    "## Es decir, se correrá 10 veces"
   ]
  },
  {
   "cell_type": "markdown",
   "id": "spoken-delta",
   "metadata": {},
   "source": [
    "## 5. Funciones\n",
    "\n",
    "Las funciones son un bloque de código que se ejecuta cuando se llama. Las funciones hacen que tu código sea más eficiente, funcional y se pueda leer fácilmente, sobre todo hacen que tu código sea re-usable. \n",
    "\n",
    "Una función tiene dos partes, en una defines lo que quieres que haga de la función `def`, y en la otra mandas a llamar a la función, que es básicamente el nombre de tu función y sus elementos necesarios para correrla. "
   ]
  },
  {
   "cell_type": "code",
   "execution_count": 45,
   "id": "present-singapore",
   "metadata": {},
   "outputs": [],
   "source": [
    "# Definición de la función\n",
    "def add(x,y):\n",
    "    w = x+y\n",
    "    print('La suma de', x, '+', y, 'es: ', w)\n",
    "    return w"
   ]
  },
  {
   "cell_type": "code",
   "execution_count": 49,
   "id": "unique-findings",
   "metadata": {},
   "outputs": [
    {
     "name": "stdout",
     "output_type": "stream",
     "text": [
      "La suma de 6 + 10 es:  16\n"
     ]
    }
   ],
   "source": [
    "# Como la mandas a llamar\n",
    "e = add(6,10)"
   ]
  },
  {
   "cell_type": "code",
   "execution_count": 50,
   "id": "refined-electric",
   "metadata": {},
   "outputs": [
    {
     "data": {
      "text/plain": [
       "16"
      ]
     },
     "execution_count": 50,
     "metadata": {},
     "output_type": "execute_result"
    }
   ],
   "source": [
    "e"
   ]
  },
  {
   "cell_type": "markdown",
   "id": "unlike-naples",
   "metadata": {},
   "source": [
    "### 5.1 Funciones recursivas"
   ]
  },
  {
   "cell_type": "markdown",
   "id": "binary-pharmacy",
   "metadata": {},
   "source": [
    "Es un tipo de función que se manda a llamar de manera recursiva. \n",
    "\n",
    "```\n",
    "def function():\n",
    "        ------\n",
    "        ------\n",
    "        function()      ## La función dentro de la función\n",
    "function()     ## Como se manda a llamar\n",
    "```"
   ]
  },
  {
   "cell_type": "code",
   "execution_count": 51,
   "id": "dominant-original",
   "metadata": {},
   "outputs": [],
   "source": [
    "# Función para revisar si una palabra es palíndrome\n",
    "def ispalindrome(word):\n",
    "    if word[0] != word[-1]: return False\n",
    "    if len(word) < 2: return True\n",
    "    return ispalindrome(word[1:-1])"
   ]
  },
  {
   "cell_type": "code",
   "execution_count": 53,
   "id": "identical-slave",
   "metadata": {},
   "outputs": [
    {
     "name": "stdout",
     "output_type": "stream",
     "text": [
      "True\n"
     ]
    }
   ],
   "source": [
    "ispalindrome('ana')"
   ]
  },
  {
   "cell_type": "code",
   "execution_count": 54,
   "id": "quality-fitting",
   "metadata": {},
   "outputs": [
    {
     "data": {
      "text/plain": [
       "False"
      ]
     },
     "execution_count": 54,
     "metadata": {},
     "output_type": "execute_result"
    }
   ],
   "source": [
    "ispalindrome('casa')"
   ]
  },
  {
   "cell_type": "markdown",
   "id": "atmospheric-syndicate",
   "metadata": {},
   "source": [
    "### 5.2 Lambda\n",
    "\n",
    "Lambda es una función no requiere definición de nombre para mandarla a llamar."
   ]
  },
  {
   "cell_type": "code",
   "execution_count": 65,
   "id": "sunrise-major",
   "metadata": {},
   "outputs": [],
   "source": [
    "par_o_non = lambda num : num%2==0"
   ]
  },
  {
   "cell_type": "code",
   "execution_count": 66,
   "id": "french-semiconductor",
   "metadata": {},
   "outputs": [
    {
     "data": {
      "text/plain": [
       "False"
      ]
     },
     "execution_count": 66,
     "metadata": {},
     "output_type": "execute_result"
    }
   ],
   "source": [
    "par_o_non(5)"
   ]
  },
  {
   "cell_type": "markdown",
   "id": "compatible-planning",
   "metadata": {},
   "source": [
    "## 6. Clases & objetos\n",
    "\n",
    "Clases y objetos son parte escencial de programación orientada a objetos. En este momento solo explicaremos el concepto para que te sientas un poco familiar con el concepto. \n",
    "\n",
    "Una Clase funciona como la huella de un objeto, si este objeto es una instancia de la clase. Por ejemplo, si consideras el empleo una clase, entonces los diferentes trabajadores con salario, edad, experiencia, etc., son objetos. \n",
    "\n",
    "Una clase es similar a una función, la diferencia es que para crear una clase utilizarás `class` para definirla.\n",
    "\n",
    "```\n",
    "class Data:\n",
    "       -----\n",
    "       -----\n",
    "```\n",
    "\n",
    "Puedes crear una función dentro de una clase. Una función que se define dentro de una clase se llama módulo. También, las variables dentro de la clase se llaman atributos. "
   ]
  },
  {
   "cell_type": "code",
   "execution_count": 67,
   "id": "automatic-flour",
   "metadata": {},
   "outputs": [],
   "source": [
    "class Data:\n",
    "    name = 'Ram'\n",
    "    \n",
    "    def __init__(self,age,salary):\n",
    "        self.age  = age\n",
    "        self.salary = salary\n",
    "    def show(self):\n",
    "        print(self.age)\n",
    "        print(self.salary)"
   ]
  },
  {
   "cell_type": "markdown",
   "id": "victorian-tolerance",
   "metadata": {},
   "source": [
    "``__init__`` es un método reservado para clases en python que funciona como un constructor. Este método se llama automáticamente cuando el código se ejecuta. Se utiliza principalmente para inicializar variables dentro de la clase. \n",
    "\n",
    "Objetos son una instancia de la clase. Con la ayuda de un objeto, tu puedes acceder a los atributos y los métodos de la clase. \n",
    "\n",
    "Para crear un objeto para la clase, necesitas seguir la siguiente sintaxis: ``Object_name = Class_name(values)``"
   ]
  },
  {
   "cell_type": "code",
   "execution_count": 68,
   "id": "aquatic-participation",
   "metadata": {},
   "outputs": [],
   "source": [
    "obj = Data(29,3000)"
   ]
  },
  {
   "cell_type": "code",
   "execution_count": 71,
   "id": "exciting-investigator",
   "metadata": {},
   "outputs": [
    {
     "data": {
      "text/plain": [
       "'Ram'"
      ]
     },
     "execution_count": 71,
     "metadata": {},
     "output_type": "execute_result"
    }
   ],
   "source": [
    "obj.name"
   ]
  },
  {
   "cell_type": "code",
   "execution_count": 70,
   "id": "interested-paste",
   "metadata": {},
   "outputs": [
    {
     "name": "stdout",
     "output_type": "stream",
     "text": [
      "29\n",
      "3000\n"
     ]
    }
   ],
   "source": [
    "obj.show()"
   ]
  }
 ],
 "metadata": {
  "kernelspec": {
   "display_name": "Python 3 (ipykernel)",
   "language": "python",
   "name": "python3"
  },
  "language_info": {
   "codemirror_mode": {
    "name": "ipython",
    "version": 3
   },
   "file_extension": ".py",
   "mimetype": "text/x-python",
   "name": "python",
   "nbconvert_exporter": "python",
   "pygments_lexer": "ipython3",
   "version": "3.8.13"
  }
 },
 "nbformat": 4,
 "nbformat_minor": 5
}

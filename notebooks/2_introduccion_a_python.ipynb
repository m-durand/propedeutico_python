{
 "cells": [
  {
   "cell_type": "markdown",
   "id": "d395fd5a",
   "metadata": {},
   "source": [
    "[![Open In Colab](https://colab.research.google.com/assets/colab-badge.svg)](https://colab.research.google.com/github/m-durand/propedeutico_python/blob/main/notebooks/2_introduccion_a_python.ipynb)"
   ]
  },
  {
   "cell_type": "markdown",
   "id": "anticipated-cincinnati",
   "metadata": {},
   "source": [
    "# Propedéutico a programación con Python.\n",
    "\n",
    "**Verano 2023, por el Centro de Ciencia de Datos, EGobiernoyTP.**\n",
    "\n",
    "### Sesión 2: Más de introducción a Python.\n",
    "\n",
    "0. Input\n",
    "1. Indexación y Slicing\n",
    "2. Conversión en tipo de datos\n",
    "3. Conditionals\n",
    "4. Loops\n",
    "   - for\n",
    "   - while \n",
    "   - range y enumerate\n",
    "5. Funciones\n",
    "   - Recursivas\n",
    "   - Lambda\n",
    "6. Clases & Objetos"
   ]
  },
  {
   "cell_type": "markdown",
   "id": "1175a40f",
   "metadata": {},
   "source": [
    "### 0. Input\n",
    "\n",
    "Es una función que te pide una entrada, respuesta o input, ese resultado lo puedes colocar dentro de una variable que te puede ayudar para otras funciones.\n",
    "\n",
    "Pruébalo:"
   ]
  },
  {
   "cell_type": "code",
   "execution_count": null,
   "id": "9707ed27",
   "metadata": {},
   "outputs": [],
   "source": [
    "nombre = input('¿Cuál es tu nombre? ')"
   ]
  },
  {
   "cell_type": "code",
   "execution_count": null,
   "id": "a8f33083",
   "metadata": {},
   "outputs": [],
   "source": [
    "print('¡Hola', nombre + '! Bienvenida a la sesión de hoy.')"
   ]
  },
  {
   "cell_type": "markdown",
   "id": "incorporate-scott",
   "metadata": {},
   "source": [
    "## 1. Indexación y slicing\n",
    "\n",
    "En la sesión pasada vimos cómo se podía acceder a valores de la lista o tupla dependiendo de la posición.\n",
    "\n",
    "### Indexación"
   ]
  },
  {
   "cell_type": "code",
   "execution_count": null,
   "id": "italic-helena",
   "metadata": {},
   "outputs": [],
   "source": [
    "data = [1,2,3,4,5,6,7,8,9]  "
   ]
  },
  {
   "cell_type": "code",
   "execution_count": null,
   "id": "caroline-retro",
   "metadata": {},
   "outputs": [],
   "source": [
    "# Recordemos: Imprime el primer valor de la lista"
   ]
  },
  {
   "cell_type": "code",
   "execution_count": null,
   "id": "durable-acrobat",
   "metadata": {},
   "outputs": [],
   "source": [
    "# Recordemos: Imprimer el último valor de la lista"
   ]
  },
  {
   "cell_type": "markdown",
   "id": "economic-destination",
   "metadata": {},
   "source": [
    "### Slicing\n",
    "\n",
    "Slicing es para acceder a más de un valor en la lista:"
   ]
  },
  {
   "cell_type": "code",
   "execution_count": null,
   "id": "front-palmer",
   "metadata": {},
   "outputs": [],
   "source": [
    "print(data[1:4])  # Valores del índice 1ro al 3ro"
   ]
  },
  {
   "cell_type": "code",
   "execution_count": null,
   "id": "relative-kitchen",
   "metadata": {},
   "outputs": [],
   "source": [
    "print(data[0:8:2]) # Valores del índice 0 al 7mo con un salto de 2"
   ]
  },
  {
   "cell_type": "code",
   "execution_count": null,
   "id": "durable-distribution",
   "metadata": {},
   "outputs": [],
   "source": [
    "print(data[0:-2:2])  # Valores del 1ro al 2do último con saltos de 2"
   ]
  },
  {
   "cell_type": "markdown",
   "id": "russian-northern",
   "metadata": {},
   "source": [
    "## 2. Transformaciones de tipos de datos\n",
    "\n",
    "Dependiendo del tipo de dato con el que trabajes son las operaciones que puedes realizar, a continuación las funciones para cambiar tipo y estructura de datos"
   ]
  },
  {
   "cell_type": "code",
   "execution_count": null,
   "id": "extra-snake",
   "metadata": {},
   "outputs": [],
   "source": [
    "a = 2\n",
    "print(a)\n",
    "print(type(a))"
   ]
  },
  {
   "cell_type": "code",
   "execution_count": null,
   "id": "radical-university",
   "metadata": {},
   "outputs": [],
   "source": [
    "b = float(2)\n",
    "print(b)\n",
    "print(type(b))"
   ]
  },
  {
   "cell_type": "code",
   "execution_count": null,
   "id": "minimal-diary",
   "metadata": {},
   "outputs": [],
   "source": [
    "c = str(b)\n",
    "print(c)\n",
    "print(type(c))"
   ]
  },
  {
   "cell_type": "code",
   "execution_count": null,
   "id": "clean-binding",
   "metadata": {},
   "outputs": [],
   "source": [
    "d = list(c)\n",
    "print(d)\n",
    "print(type(d))"
   ]
  },
  {
   "cell_type": "code",
   "execution_count": null,
   "id": "fc6a26e4",
   "metadata": {},
   "outputs": [],
   "source": [
    "e = tuple(c)\n",
    "print(e)\n",
    "print(type(e))"
   ]
  },
  {
   "cell_type": "markdown",
   "id": "monthly-college",
   "metadata": {},
   "source": [
    "## 3. Condicionales\n",
    "\n",
    "Los condicionales nos ayudan a realizar tareas computacionales basadas en una condiciones, se utiliza `if`, `elif`, `else`.\n",
    "\n",
    "- `if` es el que se usa para checar si una sola condición sucede y se ejecuta si es True, si es False no se ejecuta. Intenta 20 y 32 de temperatura."
   ]
  },
  {
   "cell_type": "code",
   "execution_count": null,
   "id": "7c91ed51",
   "metadata": {},
   "outputs": [],
   "source": [
    "temperatura = int(input(\"Temperatura de hoy: \"))\n",
    "\n",
    "###\n",
    "if temperatura >= 30:\n",
    "    print('\\n Hace calor', '\\U0001F31E','¡Vamos a la alberca! :D')"
   ]
  },
  {
   "cell_type": "markdown",
   "id": "f0e391b8",
   "metadata": {},
   "source": [
    "- `elif` es para checar condiciones adicionales a las del `if`. Puedes especificar tantas condiciones como gustes con diferentes bloques que código y solo se ejecutará la que sea verdad. Coloca las temperaturas de 15, 32 y 25, y ve que sucede."
   ]
  },
  {
   "cell_type": "code",
   "execution_count": null,
   "id": "varying-soldier",
   "metadata": {},
   "outputs": [],
   "source": [
    "temperatura = int(input(\"Temperatura de hoy: \"))\n",
    "\n",
    "###\n",
    "if temperatura >= 30:\n",
    "    print(\"\\n ¡Vamos a la alberca! \\U0001F31E :D\")\n",
    "elif temperatura <= 18:\n",
    "    print('\\n Ponte el sueter', '\\U0001F325')"
   ]
  },
  {
   "cell_type": "markdown",
   "id": "31fd6594",
   "metadata": {},
   "source": [
    "- `else` es para ejecutar el bloque de código cuando ninguna de las condiciones anteriores son verdad."
   ]
  },
  {
   "cell_type": "code",
   "execution_count": null,
   "id": "049a45bc",
   "metadata": {},
   "outputs": [],
   "source": [
    "temperatura = int(input(\"Temperatura de hoy: \"))\n",
    "\n",
    "###\n",
    "if temperatura >= 30:\n",
    "    print(\"\\n Hoy va a hacer calor', '\\U0001F31E','¡Vamos a la alberca! :D\")\n",
    "elif temperatura <= 18:\n",
    "    print('\\n Ponte el sueter', '\\U0001F325')\n",
    "else:\n",
    "    print('\\n Clima chido', '\\U0001F324 \\U0001F600')"
   ]
  },
  {
   "cell_type": "markdown",
   "id": "8aa331e4",
   "metadata": {},
   "source": [
    "##### Ejercicio 1\n",
    "\n",
    "Haz un condicional que evalue el número que pongas:\n",
    "\n",
    "- te diga si es número negativo, \n",
    "- si es cero, \n",
    "- si es mayor a 100. \n",
    "- si es un par\n",
    "- si es non \n",
    "\n",
    "\n",
    "\n",
    "\n"
   ]
  },
  {
   "cell_type": "code",
   "execution_count": null,
   "id": "50b7ce44",
   "metadata": {},
   "outputs": [],
   "source": [
    "# Respuesta"
   ]
  },
  {
   "cell_type": "markdown",
   "id": "prepared-election",
   "metadata": {},
   "source": [
    "## 4. Loops\n",
    "\n",
    "Los loops se utilizan para hacer ciertas tareas múltiples veces, y tienen la habilidad de iterar sobre los elementos de cualquier secuencia como listas, tuplas, strings o las llaves de los diccionarios. Hay dos tipos de loops, los `for loops` y los `while loops`.\n",
    "\n",
    "#### 4.1 For loops\n",
    "\n",
    "El statement que se sigue en los for loops es: **Para cada valor en la secuencia, realiza esta tarea.**\n",
    "\n",
    "```\n",
    "for variable in secuecia:\n",
    "    tareas(s)\n",
    "```"
   ]
  },
  {
   "cell_type": "code",
   "execution_count": null,
   "id": "a39d1af0",
   "metadata": {},
   "outputs": [],
   "source": [
    "colores = ['Rojo', 'Negro', 'Azul', 'Blanco', 'Rosa']\n",
    "for color in colores:\n",
    "    print(color)"
   ]
  },
  {
   "cell_type": "code",
   "execution_count": null,
   "id": "alive-passport",
   "metadata": {},
   "outputs": [],
   "source": [
    "for index in [1,2,3,4,5]: \n",
    "    print(\"{} por 5 es {}\".format(index, index * 5))"
   ]
  },
  {
   "cell_type": "markdown",
   "id": "pointed-experience",
   "metadata": {},
   "source": [
    "#### 4.2 While loop\n",
    "\n",
    "El while loop ejecuta las tareas repetidamente mientras la condición sea verdadera. A diferencia del for loop, el while loop no correra n veces, si no que correrá hasta que la condición se cumpla. \n",
    "\n",
    "```\n",
    "while condicion:\n",
    "    tarea(s)\n",
    "```"
   ]
  },
  {
   "cell_type": "code",
   "execution_count": null,
   "id": "9432c2bb",
   "metadata": {},
   "outputs": [],
   "source": [
    "flag = 10\n",
    "while 0 < flag:      # Mientras cero sea menor que el valor de flag\n",
    "    print(flag)      # Imprime el valor de flag\n",
    "    flag = flag - 1  # Actualiza el valor de flag restándole 1\n",
    "print('Go !!')"
   ]
  },
  {
   "cell_type": "code",
   "execution_count": null,
   "id": "reasonable-bumper",
   "metadata": {},
   "outputs": [],
   "source": [
    "i = 0\n",
    "while i < 10:\n",
    "    i = i + 1  # Aquí en lugar de restar, sumamos\n",
    "    print(i)\n",
    "    \n",
    "## El Loop correrá hasta que el valor de i es igual a 10.\n",
    "## Es decir, se correrá 10 veces"
   ]
  },
  {
   "cell_type": "markdown",
   "id": "dd122670",
   "metadata": {},
   "source": [
    "### 4.3 Range y Enumerate\n",
    "\n",
    "La función de rango en python genera una lista de números, los cuales pueden utilizarse en los for loops. Enumerate ayuda a enumerar los valores de esos rangos. "
   ]
  },
  {
   "cell_type": "code",
   "execution_count": null,
   "id": "c198c188",
   "metadata": {},
   "outputs": [],
   "source": [
    "range(8)"
   ]
  },
  {
   "cell_type": "code",
   "execution_count": null,
   "id": "11df3a43",
   "metadata": {},
   "outputs": [],
   "source": [
    "range(1,9)"
   ]
  },
  {
   "cell_type": "code",
   "execution_count": null,
   "id": "e8843463",
   "metadata": {},
   "outputs": [],
   "source": [
    "for numero in range(1,7):\n",
    "    cuadrado = numero*numero\n",
    "    print(cuadrado)"
   ]
  },
  {
   "cell_type": "code",
   "execution_count": null,
   "id": "47576e4d",
   "metadata": {},
   "outputs": [],
   "source": [
    "lista = [3,5,7,9,11]\n",
    "\n",
    "# Si necesitas el valor e índice\n",
    "for index, value in enumerate(lista):\n",
    "          print(\"La posición\", index, \"en la lista es \", value)"
   ]
  },
  {
   "cell_type": "markdown",
   "id": "d1992e71",
   "metadata": {},
   "source": [
    "##### Ejercicio 2\n",
    "\n",
    "Genera un for loop que muestre la tabla de multiplicar del número que coloques en input. "
   ]
  },
  {
   "cell_type": "code",
   "execution_count": null,
   "id": "bf369256",
   "metadata": {},
   "outputs": [],
   "source": [
    "# Respuesta"
   ]
  },
  {
   "cell_type": "markdown",
   "id": "spoken-delta",
   "metadata": {},
   "source": [
    "## 5. Funciones\n",
    "\n",
    "Las funciones son un bloque de código que se ejecuta cuando se llama. Las funciones hacen que tu código sea más eficiente, funcional y se pueda leer fácilmente, sobre todo hacen que tu código sea reusable. \n",
    "\n",
    "Una función tiene dos partes, en una declaras lo que quieres que haga de la función `def`, y en la otra mandas a llamar a la función, que es básicamente el nombre de tu función y sus elementos necesarios para correrla. \n",
    "\n",
    "```\n",
    "def nombre_funcion(parametros):\n",
    "    tareas(s)\n",
    "```"
   ]
  },
  {
   "cell_type": "code",
   "execution_count": null,
   "id": "46233133",
   "metadata": {},
   "outputs": [],
   "source": [
    "# Declaras la función\n",
    "def saludo():\n",
    "    print(\"Hooliii! Bienvenido a la fiesta de python.\")"
   ]
  },
  {
   "cell_type": "code",
   "execution_count": null,
   "id": "5f7365cc",
   "metadata": {},
   "outputs": [],
   "source": [
    "# Llamas la función\n",
    "saludo()\n",
    "\n",
    "# Ojo que aquí no hay ningún parámetro"
   ]
  },
  {
   "cell_type": "code",
   "execution_count": null,
   "id": "5cc1cf66",
   "metadata": {},
   "outputs": [],
   "source": [
    "# Aquí, el nombre es el parámetro que quieres cambiar\n",
    "def saludo_nombre(nombre):\n",
    "    print(\"Hoooliii {}, listo para la fiesta de python?!\".format(nombre))\n",
    "\n",
    "\n",
    "saludo_nombre(\"Ismael\")"
   ]
  },
  {
   "cell_type": "code",
   "execution_count": null,
   "id": "23bab317",
   "metadata": {},
   "outputs": [],
   "source": [
    "# Coloca tu nombre\n",
    "saludo_nombre(\"TU NOMBRE\")"
   ]
  },
  {
   "cell_type": "code",
   "execution_count": null,
   "id": "present-singapore",
   "metadata": {},
   "outputs": [],
   "source": [
    "# Otro ejemplo\n",
    "def add(x,y):\n",
    "    w = x+y\n",
    "    print('La suma de', x, '+', y, 'es: ', w)\n",
    "    return w"
   ]
  },
  {
   "cell_type": "code",
   "execution_count": null,
   "id": "unique-findings",
   "metadata": {},
   "outputs": [],
   "source": [
    "# puedes asignar el resultado a una variable\n",
    "e = add(6,10)"
   ]
  },
  {
   "cell_type": "code",
   "execution_count": null,
   "id": "refined-electric",
   "metadata": {},
   "outputs": [],
   "source": [
    "e"
   ]
  },
  {
   "cell_type": "code",
   "execution_count": null,
   "id": "9bc03da7",
   "metadata": {},
   "outputs": [],
   "source": [
    "### Otro ejemplo\n",
    "\n",
    "# Algunas aclaraciones:\n",
    "# los dos puntos [::-1] hacen el reverso de la palabra que colocas\n",
    "# .lower() es una función ya precargada en python que pone en minúsculas la palabra que le coloques\n",
    "\n",
    "def is_palindrome(word):\n",
    "    reversed_word = word[::-1]  \n",
    "    if word.lower() == reversed_word.lower(): \n",
    "        return True\n",
    "    else:\n",
    "        return False\n",
    "\n",
    "# Get input from the user\n",
    "word = input(\"Enter a word: \")\n",
    "\n",
    "# Check if the word is a palindrome\n",
    "if is_palindrome(word):\n",
    "    print(word, \"is a palindrome!\")\n",
    "else:\n",
    "    print(word, \"is not a palindrome.\")"
   ]
  },
  {
   "cell_type": "code",
   "execution_count": null,
   "id": "identical-slave",
   "metadata": {},
   "outputs": [],
   "source": [
    "is_palindrome('nun')"
   ]
  },
  {
   "cell_type": "code",
   "execution_count": null,
   "id": "quality-fitting",
   "metadata": {},
   "outputs": [],
   "source": [
    "is_palindrome('mom')"
   ]
  },
  {
   "cell_type": "markdown",
   "id": "atmospheric-syndicate",
   "metadata": {},
   "source": [
    "### 5.1 Lambda\n",
    "\n",
    "Lambda es una función no requiere definición [`def`] de nombre para mandarla a llamar y la puedes asignar a una variable directa donde lo que viene después de lambda es lo que iteras. "
   ]
  },
  {
   "cell_type": "code",
   "execution_count": null,
   "id": "sunrise-major",
   "metadata": {},
   "outputs": [],
   "source": [
    "par_o_non = lambda num : num%2==0   # Función que define si es par o non, con % módulo"
   ]
  },
  {
   "cell_type": "code",
   "execution_count": null,
   "id": "french-semiconductor",
   "metadata": {},
   "outputs": [],
   "source": [
    "par_o_non(4)"
   ]
  },
  {
   "cell_type": "markdown",
   "id": "595b1ab0",
   "metadata": {},
   "source": [
    "##### Ejercicio 3\n",
    "\n",
    "Genera una función donde coloques tu nombre y tu año de nacimiento, y te diga tu edad. Utiliza input, y pregúntale al compañero de a lado, su nombre y su año de nacimiento, y pruébalo en tu función."
   ]
  },
  {
   "cell_type": "code",
   "execution_count": null,
   "id": "6ce0ba6d",
   "metadata": {},
   "outputs": [],
   "source": [
    "# Respuesta"
   ]
  },
  {
   "cell_type": "markdown",
   "id": "a909f966",
   "metadata": {},
   "source": [
    "## 6. Clases & objetos\n",
    "\n",
    "En todo lo que hemos programado hasta ahorita, si observas con detalle verás que nos hemos enfocado en funciones o argumentos que manipulan datos, esto se conoce como **programación orientada a procedimientos**. \n",
    "\n",
    "Existe otra manera de organizar tu programación en python, que consiste en combinar los datos y la funcionalidad, colocándolos dentro algo que llamaremos clases. Esto se llama **programación orientada a objetos**, en este momento solo explicaremos el concepto para que te sientas un poco familiarizado con él.  \n",
    "\n",
    "- Class: Una clase es una huella de la cual objetos individuales son creados. \n",
    "- Object: Es una entidad real que tiene estados y comportamientos. \n",
    "\n",
    "Comparemos dos funciones con los diferentes paradigmas:"
   ]
  },
  {
   "cell_type": "markdown",
   "id": "0d8e0d4a",
   "metadata": {},
   "source": [
    "#### Programación orientada a procedimientos\n"
   ]
  },
  {
   "cell_type": "code",
   "execution_count": null,
   "id": "25d1cf18",
   "metadata": {},
   "outputs": [],
   "source": [
    "def calcula_area_pro(largo, ancho):\n",
    "    area = largo * ancho\n",
    "    return area"
   ]
  },
  {
   "cell_type": "code",
   "execution_count": null,
   "id": "adb89a09",
   "metadata": {},
   "outputs": [],
   "source": [
    "largo = 5\n",
    "ancho = 3\n",
    "\n",
    "resultado = calcula_area_pro(largo, ancho)\n",
    "print('El área es:', resultado)"
   ]
  },
  {
   "cell_type": "markdown",
   "id": "9e4aaecd",
   "metadata": {},
   "source": [
    "#### Programación orientada a objetos"
   ]
  },
  {
   "cell_type": "code",
   "execution_count": null,
   "id": "0d55c7a9",
   "metadata": {},
   "outputs": [],
   "source": [
    "class Rectangulo:\n",
    "    def __init__(self, largo, ancho):\n",
    "        self.largo = largo\n",
    "        self.ancho = ancho\n",
    "\n",
    "    def calcula_area(self):\n",
    "        area = self.largo * self.ancho\n",
    "        return area"
   ]
  },
  {
   "cell_type": "code",
   "execution_count": null,
   "id": "f12562c5",
   "metadata": {},
   "outputs": [],
   "source": [
    "largo = 5\n",
    "ancho = 3\n",
    "\n",
    "\n",
    "rectangulo = Rectangulo(largo, ancho)\n",
    "resultado = rectangulo.calcula_area()\n",
    "\n",
    "print(\"El área es:\", resultado)"
   ]
  },
  {
   "cell_type": "markdown",
   "id": "47f0c393",
   "metadata": {},
   "source": [
    "Observa como en ambas funciones se obtiene el mismo resultado pero difieren en su aproximación. La programación orientada a procedimientos se enfoca a las funciones que operan los datos. Mientras que la programación orientada a objetos, encapsula los datos y el comportamiento del dato dentro de la clase. \n",
    "\n",
    "La programación orientada a procedimientos es más simple y sencilla, sin embargo, la programación orientada a objetivos proveé de beneficios como encapsulación, modularidad, reusabilidad de código, y sobre todo se utiliza para proyectos complejos y largos. Permite la creación de objetos con sus propios datos y métodos, lo que permite ser más estructurados. \n",
    "\n",
    "La elección de tipo de programación depende mucho de la naturaleza de tu tarea. En este momento solo se pretende explicar el concepto de clases. \n",
    "\n",
    "Otro ejemplo: "
   ]
  },
  {
   "cell_type": "code",
   "execution_count": null,
   "id": "055b8a99",
   "metadata": {},
   "outputs": [],
   "source": [
    "# Orientada a procedimientos\n",
    "def saludos(nombre):\n",
    "    mensaje = \"¡Hola, \" + nombre + \"!\"\n",
    "    return mensaje\n",
    "\n",
    "nombre = input('Tu nombre: ')\n",
    "resultado = saludos(nombre)\n",
    "print(resultado)"
   ]
  },
  {
   "cell_type": "code",
   "execution_count": null,
   "id": "17f59545",
   "metadata": {},
   "outputs": [],
   "source": [
    "# Object-oriented style\n",
    "class Saludos:\n",
    "    def __init__(self, nombre):\n",
    "        self.nombre = nombre\n",
    "\n",
    "    def saludo(self):\n",
    "        mensaje = \"¡Hola, \" + self.nombre + \"!\"\n",
    "        return mensaje\n",
    "\n",
    "nombre = input('Tu nombre: ')\n",
    "hola = Saludos(nombre)\n",
    "resultado = hola.saludo()\n",
    "print(resultado)"
   ]
  },
  {
   "cell_type": "markdown",
   "id": "victorian-tolerance",
   "metadata": {},
   "source": [
    "``__init__`` es un método reservado para clases en python que funciona como un **constructor**. Este método se llama automáticamente cuando el código se ejecuta. Se utiliza principalmente para inicializar variables dentro de la clase. El crear un constructor en una clase elimina la repetición de la variable para cada función. \n",
    "\n",
    "Los objetos son una instancia de la clase, con la ayuda de un objeto, tu puedes acceder a los atributos y los métodos de la clase. \n",
    "\n",
    "Para crear un objeto para la clase, necesitas seguir la siguiente sintaxis: ``Object_name = Class_name(values)`` Por ejemplo, `hola` en la función anterior es un objeto el cual asignas la clase, y de ahí obtienes los métodos, funciones y/o atributos de la clase. "
   ]
  },
  {
   "cell_type": "code",
   "execution_count": null,
   "id": "ec0bc955",
   "metadata": {},
   "outputs": [],
   "source": [
    "# Otro ejemplo\n",
    "class BankAccount:\n",
    "    def __init__(self):\n",
    "        self.balance = 0\n",
    "\n",
    "    def withdraw(self, amount):\n",
    "        self.balance -= amount\n",
    "        return print(self.balance)\n",
    "\n",
    "    def deposit(self, amount):\n",
    "        self.balance += amount\n",
    "        return print(self.balance)\n",
    "\n",
    "\n",
    "a = BankAccount()\n",
    "b = BankAccount()\n",
    "a.deposit(100)\n",
    "b.deposit(50)\n",
    "b.withdraw(10)\n",
    "a.withdraw(10)"
   ]
  }
 ],
 "metadata": {
  "kernelspec": {
   "display_name": "Python 3 (ipykernel)",
   "language": "python",
   "name": "python3"
  },
  "language_info": {
   "codemirror_mode": {
    "name": "ipython",
    "version": 3
   },
   "file_extension": ".py",
   "mimetype": "text/x-python",
   "name": "python",
   "nbconvert_exporter": "python",
   "pygments_lexer": "ipython3",
   "version": "3.9.6"
  }
 },
 "nbformat": 4,
 "nbformat_minor": 5
}

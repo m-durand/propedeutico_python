{
 "cells": [
  {
   "cell_type": "markdown",
   "id": "d395fd5a",
   "metadata": {},
   "source": [
    "[![Open In Colab](https://colab.research.google.com/assets/colab-badge.svg)](https://colab.research.google.com/github/m-durand/propedeutico_python/blob/main/notebooks/2_introduccion_a_python.ipynb)"
   ]
  },
  {
   "cell_type": "markdown",
   "id": "anticipated-cincinnati",
   "metadata": {},
   "source": [
    "# Propedéutico a programación con Python.\n",
    "\n",
    "**Agosto 2025, por el Centro de Ciencia de Datos e IA, EGobiernoyTP.**\n",
    "\n",
    "### Sesión 2: Más de introducción a Python.\n",
    "\n",
    "0. Input\n",
    "1. Indexación y Slicing\n",
    "2. Conversión en tipo de datos\n",
    "3. Conditionals\n",
    "4. Loops\n",
    "   - for\n",
    "   - while \n",
    "   - range y enumerate\n",
    "5. Funciones\n",
    "   - Recursivas\n",
    "   - Lambda\n",
    "6. Clases & Objetos"
   ]
  },
  {
   "cell_type": "markdown",
   "id": "1175a40f",
   "metadata": {},
   "source": [
    "### 0. Input\n",
    "\n",
    "Es una función que te pide una entrada, respuesta o input, ese resultado lo puedes colocar dentro de una variable que te puede ayudar para otras funciones.\n",
    "\n",
    "Pruébalo:"
   ]
  },
  {
   "cell_type": "code",
   "execution_count": null,
   "id": "9707ed27",
   "metadata": {},
   "outputs": [],
   "source": [
    "nombre = input('¿Cuál es tu nombre? ')"
   ]
  },
  {
   "cell_type": "code",
   "execution_count": null,
   "id": "a8f33083",
   "metadata": {},
   "outputs": [],
   "source": [
    "print('¡Hola', nombre + '! Bienvenida a la sesión de hoy.')"
   ]
  },
  {
   "cell_type": "markdown",
   "id": "incorporate-scott",
   "metadata": {},
   "source": [
    "## 1. Indexación y slicing\n",
    "\n",
    "En la sesión pasada vimos cómo se podía acceder a valores de la lista o tupla dependiendo de la posición.\n",
    "\n",
    "### Indexación"
   ]
  },
  {
   "cell_type": "code",
   "execution_count": null,
   "id": "italic-helena",
   "metadata": {},
   "outputs": [],
   "source": [
    "data = [1,2,3,4,5,6,7,8,9]  "
   ]
  },
  {
   "cell_type": "code",
   "execution_count": null,
   "id": "caroline-retro",
   "metadata": {},
   "outputs": [],
   "source": [
    "# Recordemos: Imprime el primer valor de la lista\n",
    "data[0]"
   ]
  },
  {
   "cell_type": "code",
   "execution_count": null,
   "id": "durable-acrobat",
   "metadata": {},
   "outputs": [],
   "source": [
    "# Recordemos: Imprimer el último valor de la lista\n",
    "data[-1]"
   ]
  },
  {
   "cell_type": "markdown",
   "id": "economic-destination",
   "metadata": {},
   "source": [
    "### Slicing\n",
    "\n",
    "Slicing es para acceder a más de un valor en la lista:"
   ]
  },
  {
   "cell_type": "code",
   "execution_count": null,
   "id": "front-palmer",
   "metadata": {},
   "outputs": [],
   "source": [
    "print(data[1:4])  # Valores del índice 2do al 4to"
   ]
  },
  {
   "cell_type": "code",
   "execution_count": null,
   "id": "relative-kitchen",
   "metadata": {},
   "outputs": [],
   "source": [
    "print(data[0:8:2]) # Valores del índice 1ro al 8vo con un salto de 2"
   ]
  },
  {
   "cell_type": "code",
   "execution_count": null,
   "id": "durable-distribution",
   "metadata": {},
   "outputs": [],
   "source": [
    "print(data[0:-2:2])  # Valores del 1ro al 2do último con saltos de 2"
   ]
  },
  {
   "cell_type": "markdown",
   "id": "9e254217",
   "metadata": {},
   "source": [
    "Es decir, la síntaxis:\n",
    "\n",
    "`data[m,n]`\n",
    "\n",
    "regresa el subarreglo del arreglo `data` desde el índice `m` (incluyéndolo) hasta el índice `n` (sin incluirlo)."
   ]
  },
  {
   "cell_type": "markdown",
   "id": "russian-northern",
   "metadata": {},
   "source": [
    "## 2. Transformaciones de tipos de datos\n",
    "\n",
    "Dependiendo del tipo de dato con el que trabajes son las operaciones que puedes realizar, a continuación las funciones para cambiar tipo y estructura de datos"
   ]
  },
  {
   "cell_type": "code",
   "execution_count": null,
   "id": "extra-snake",
   "metadata": {},
   "outputs": [],
   "source": [
    "a = 2\n",
    "print(a)\n",
    "print(type(a))"
   ]
  },
  {
   "cell_type": "code",
   "execution_count": null,
   "id": "radical-university",
   "metadata": {},
   "outputs": [],
   "source": [
    "b = float(2)\n",
    "print(b)\n",
    "print(type(b))"
   ]
  },
  {
   "cell_type": "code",
   "execution_count": null,
   "id": "minimal-diary",
   "metadata": {},
   "outputs": [],
   "source": [
    "c = str(b)\n",
    "print(c)\n",
    "print(type(c))"
   ]
  },
  {
   "cell_type": "code",
   "execution_count": null,
   "id": "clean-binding",
   "metadata": {},
   "outputs": [],
   "source": [
    "d = list(c)\n",
    "print(d)\n",
    "print(type(d))"
   ]
  },
  {
   "cell_type": "code",
   "execution_count": null,
   "id": "fc6a26e4",
   "metadata": {},
   "outputs": [],
   "source": [
    "e = tuple(c)\n",
    "print(e)\n",
    "print(type(e))"
   ]
  },
  {
   "cell_type": "markdown",
   "id": "monthly-college",
   "metadata": {},
   "source": [
    "## 3. Condicionales\n",
    "\n",
    "Los condicionales nos permiten ejecutar diferentes bloques de código dependiendo de si una condición es verdadera (`True`) o falsa (`False`).\n",
    "\n",
    "Se utilizan las siguientes palabras: \n",
    "\n",
    "- `if`: Evalúa una condición inicial\n",
    "- `elif`: Evalúa **condiciones adicionales** si la anterio no se cumplió: \"Si la condición anterior no se cumplió, prueba con esta otra.\"\n",
    "    - Se usa después de un `if` y solo se evalúa si el `if` fue falso.\n",
    "    - Puedes usar varios `elif` en la misma estructura.\n",
    "    - Solo se ejecutará el primer `elif` cuya condición sea verdadera; los demás se ignoran.\n",
    "- `else`: Ejecuta un bloque de código si ninguna condición anterio es verdadera\n",
    "\n",
    "\n",
    "#### Ejemplo 1 `if`"
   ]
  },
  {
   "cell_type": "code",
   "execution_count": null,
   "id": "7c91ed51",
   "metadata": {},
   "outputs": [],
   "source": [
    "temperatura = int(input(\"Temperatura de hoy: \"))\n",
    "\n",
    "###\n",
    "if temperatura >= 30:\n",
    "    print('\\n Hace calor', '\\U0001F31E','¡Vamos a la alberca! :D')"
   ]
  },
  {
   "cell_type": "markdown",
   "id": "9d3f00e8-b5d8-4242-9b8b-3e0930c40a28",
   "metadata": {},
   "source": [
    "Observa que: \n",
    "\n",
    "- Si la temperatura es 30 o más, se muestra el mensaje.\n",
    "- Si es menor, no pasa nada.\n",
    "\n",
    "Prueba ingresando 20 y 32 para ver la diferencia.\n",
    "\n",
    "#### Ejemplo 2 `if`+`elif`\n",
    "\n",
    "Podemos agregar condiciones intermedias con `elif`:"
   ]
  },
  {
   "cell_type": "code",
   "execution_count": null,
   "id": "varying-soldier",
   "metadata": {},
   "outputs": [],
   "source": [
    "# Coloca las temperaturas de 15, 32 y 25, y ve que sucede.\n",
    "temperatura = int(input(\"Temperatura de hoy: \"))\n",
    "\n",
    "###\n",
    "if temperatura >= 30:\n",
    "    print(\"\\n ¡Vamos a la alberca! \\U0001F31E :D\")\n",
    "elif temperatura <= 18:\n",
    "    print('\\n Ponte el sueter', '\\U0001F325')"
   ]
  },
  {
   "cell_type": "markdown",
   "id": "31fd6594",
   "metadata": {},
   "source": [
    "Observa que: \n",
    "\n",
    "- Si hace 30 o más, se ejecuta el primer bloque.\n",
    "\n",
    "- Si no, pero la temperatura es 18 o menos, se ejecuta el segundo.\n",
    "\n",
    "- Si la temperatura está entre 19 y 29, no pasa nada.\n",
    "\n",
    "Prueba con 15, 32 y 25.\n",
    "\n",
    "#### Ejemplo 2 `if`+`elif`+`else`\n",
    "\n",
    "Podemos agregar else para manejar todos los casos restantes:"
   ]
  },
  {
   "cell_type": "code",
   "execution_count": null,
   "id": "049a45bc",
   "metadata": {},
   "outputs": [],
   "source": [
    "temperatura = int(input(\"Temperatura de hoy: \"))\n",
    "\n",
    "###\n",
    "if temperatura >= 30:\n",
    "    print(\"\\n Hoy va a hacer calor', '\\U0001F31E','¡Vamos a la alberca! :D\")\n",
    "elif temperatura <= 18:\n",
    "    print('\\n Ponte el sueter', '\\U0001F325')\n",
    "else:\n",
    "    print('\\n Clima chido', '\\U0001F324 \\U0001F600')"
   ]
  },
  {
   "cell_type": "markdown",
   "id": "aa9deb0f-b91a-45ab-9ba2-fcd79ef964c4",
   "metadata": {},
   "source": [
    "- Si no se cumple ninguna de las condiciones anteriores, se ejecuta el bloque de `else`."
   ]
  },
  {
   "cell_type": "markdown",
   "id": "8aa331e4",
   "metadata": {},
   "source": [
    "##### Ejercicio 1\n",
    "\n",
    "Haz un condicional que evalue el número que pongas:\n",
    "\n",
    "- te diga si es número negativo, \n",
    "- si es cero, \n",
    "- si es mayor a 100. \n",
    "- si es un par\n",
    "- si es impar\n",
    "\n",
    "\n",
    "\n",
    "\n"
   ]
  },
  {
   "cell_type": "code",
   "execution_count": null,
   "id": "50b7ce44",
   "metadata": {},
   "outputs": [],
   "source": [
    "# Respuesta"
   ]
  },
  {
   "cell_type": "markdown",
   "id": "prepared-election",
   "metadata": {},
   "source": [
    "## 4. Loops (Bucles)\n",
    "\n",
    "Los loops (o bucles) en Python nos permiten **repetir tareas varias veces** de forma automática. También nos permiten recorrer elementos de listas, tuplas, strings, diccionarios y otras estructuras.\n",
    "\n",
    "En Python, hay dos tipos principales de loops:\n",
    "\n",
    "- `for` loop → Se usa cuando sabemos cuántas veces queremos repetir la tarea.\n",
    "\n",
    "- `while` loop → Se usa cuando queremos repetir una tarea hasta que una condición deje de cumplirse.\n",
    "\n",
    "\n",
    "#### 4.1. For loops\n",
    "\n",
    "Un for loop se utiliza para iterar sobre una secuencia (lista, string, tupla, etc.).\n",
    "\n",
    "La sintaxis es:\n",
    "\n",
    "```\n",
    "for elemento in secuecia_iterable:\n",
    "    codigo\n",
    "```\n",
    "\n",
    "Iterable: es un objeto que se puede iterar sobre él, es decir, permite recorrer sus elementos uno a uno. "
   ]
  },
  {
   "cell_type": "code",
   "execution_count": 2,
   "id": "7328c0d2-27a1-43ea-8387-0f91b040eb70",
   "metadata": {},
   "outputs": [
    {
     "name": "stdout",
     "output_type": "stream",
     "text": [
      "4\n",
      "78\n",
      "9\n",
      "84\n"
     ]
    }
   ],
   "source": [
    "nums = [4, 78, 9, 84]\n",
    "for n in nums:\n",
    "    print(n)"
   ]
  },
  {
   "cell_type": "code",
   "execution_count": 11,
   "id": "729e193c-8836-4315-b5dc-1810d6ec0b0f",
   "metadata": {},
   "outputs": [],
   "source": [
    "nums = [4, 78, 9, 84]"
   ]
  },
  {
   "cell_type": "code",
   "execution_count": 12,
   "id": "1c1a66af-225b-4506-ad31-fca9d51949f4",
   "metadata": {},
   "outputs": [],
   "source": [
    "it = iter(nums)"
   ]
  },
  {
   "cell_type": "code",
   "execution_count": 13,
   "id": "dd560a70-a8ef-4415-984a-d24d87abc664",
   "metadata": {},
   "outputs": [
    {
     "data": {
      "text/plain": [
       "4"
      ]
     },
     "execution_count": 13,
     "metadata": {},
     "output_type": "execute_result"
    }
   ],
   "source": [
    "next(it)"
   ]
  },
  {
   "cell_type": "code",
   "execution_count": null,
   "id": "a39d1af0",
   "metadata": {},
   "outputs": [],
   "source": [
    "# Recorrer una lista\n",
    "colores = ['Rojo', 'Negro', 'Azul', 'Blanco', 'Rosa']\n",
    "for color in colores:\n",
    "    print(color)"
   ]
  },
  {
   "cell_type": "code",
   "execution_count": null,
   "id": "alive-passport",
   "metadata": {},
   "outputs": [],
   "source": [
    "# Hacer una operación para cada elemento de la lista\n",
    "for index in [1,2,3,4,5]: \n",
    "    print(\"{} por 5 es {}\".format(index, index * 5))"
   ]
  },
  {
   "cell_type": "markdown",
   "id": "pointed-experience",
   "metadata": {},
   "source": [
    "#### 4.2 While loop\n",
    "\n",
    "Un while loop repite tareas mientras una condición sea verdadera.\n",
    "\n",
    "A diferencia de for, no sabemos cuántas veces se repetirá: se detendrá cuando la condición deje de cumplirse.\n",
    "\n",
    "```\n",
    "while condicion:\n",
    "    tarea(s)\n",
    "```\n",
    "\n",
    "**OJO**: Riesgo de loop infinito sí la condicción nunca deja de ser verdadera."
   ]
  },
  {
   "cell_type": "code",
   "execution_count": null,
   "id": "9432c2bb",
   "metadata": {},
   "outputs": [],
   "source": [
    "# Contador descendente\n",
    "flag = 10\n",
    "while 0 < flag:      # Mientras cero sea menor que el valor de flag\n",
    "    print(flag)      # Imprime el valor de flag\n",
    "    flag = flag - 1  # Actualiza el valor de flag restándole 1\n",
    "print('Go !!')"
   ]
  },
  {
   "cell_type": "code",
   "execution_count": null,
   "id": "reasonable-bumper",
   "metadata": {},
   "outputs": [],
   "source": [
    "# Contador ascencente\n",
    "i = 0\n",
    "while i < 10:\n",
    "    i = i + 1  # Aquí en lugar de restar, sumamos\n",
    "    print(i)\n",
    "    \n",
    "## El Loop correrá hasta que el valor de i es igual a 10.\n",
    "## Es decir, se correrá 10 veces"
   ]
  },
  {
   "cell_type": "markdown",
   "id": "dd122670",
   "metadata": {},
   "source": [
    "### 4.3 Range y Enumerate\n",
    "\n",
    "En Python, cuando usamos for loops hay dos funciones muy útiles:\n",
    "\n",
    "- `range()` → Genera una secuencia de números para iterar fácilmente.\n",
    "\n",
    "- `enumerate()` → Devuelve el índice y el valor de cada elemento de una secuencia.\n",
    "\n",
    "#### Función de range()\n",
    "\n",
    "La función range() genera un rango de números enteros en un formato especial para usarlos en loops.\n",
    "Tiene tres formas principales:\n",
    "\n",
    "```\n",
    "range(stop)                # Genera números desde 0 hasta max-1\n",
    "range(start, stop)         # Genera números desde start hasta max-1\n",
    "range(start, stop, step)   # Igual que arriba, pero incrementando en pasos de step\n",
    "```"
   ]
  },
  {
   "cell_type": "code",
   "execution_count": 14,
   "id": "c198c188",
   "metadata": {},
   "outputs": [
    {
     "name": "stdout",
     "output_type": "stream",
     "text": [
      "0\n",
      "1\n",
      "2\n",
      "3\n",
      "4\n"
     ]
    }
   ],
   "source": [
    "for numero in range(5):\n",
    "    print(numero)"
   ]
  },
  {
   "cell_type": "code",
   "execution_count": 15,
   "id": "11df3a43",
   "metadata": {},
   "outputs": [
    {
     "name": "stdout",
     "output_type": "stream",
     "text": [
      "1\n",
      "2\n",
      "3\n",
      "4\n",
      "5\n"
     ]
    }
   ],
   "source": [
    "for numero in range(1, 6):\n",
    "    print(numero)"
   ]
  },
  {
   "cell_type": "code",
   "execution_count": 17,
   "id": "ab924921-56ca-4c5c-9ce1-f1430d07bb76",
   "metadata": {},
   "outputs": [
    {
     "name": "stdout",
     "output_type": "stream",
     "text": [
      "2\n",
      "4\n",
      "6\n",
      "8\n",
      "10\n"
     ]
    }
   ],
   "source": [
    "# Comienza en 2, termina antes de 11 y avanza de 2 en 2\n",
    "for numero in range(2, 11, 2):\n",
    "    print(numero)"
   ]
  },
  {
   "cell_type": "code",
   "execution_count": 18,
   "id": "e8843463",
   "metadata": {},
   "outputs": [
    {
     "name": "stdout",
     "output_type": "stream",
     "text": [
      "1\n",
      "4\n",
      "9\n",
      "16\n",
      "25\n",
      "36\n"
     ]
    }
   ],
   "source": [
    "for numero in range(1, 7):\n",
    "    cuadrado = numero * numero\n",
    "    print(cuadrado)"
   ]
  },
  {
   "cell_type": "markdown",
   "id": "20c862bb-28ff-407f-a11e-933fc73cc32e",
   "metadata": {},
   "source": [
    "#### 2. La función enumerate()\n",
    "\n",
    "La función `enumerate()` se utiliza cuando necesitamos tanto el **índice como el valor de una secuencia**.\n",
    "Por defecto, los índices comienzan en 0, pero podemos personalizar el inicio.\n",
    "\n",
    "```\n",
    "enumerate(secuencia, start=0)\n",
    "```"
   ]
  },
  {
   "cell_type": "code",
   "execution_count": 19,
   "id": "47576e4d",
   "metadata": {},
   "outputs": [
    {
     "name": "stdout",
     "output_type": "stream",
     "text": [
      "La posición 0 en la lista es  3\n",
      "La posición 1 en la lista es  5\n",
      "La posición 2 en la lista es  7\n",
      "La posición 3 en la lista es  9\n",
      "La posición 4 en la lista es  11\n"
     ]
    }
   ],
   "source": [
    "# Enumerar elementos de una lista\n",
    "lista = [3,5,7,9,11]\n",
    "\n",
    "# Si necesitas el valor e índice\n",
    "for index, value in enumerate(lista):\n",
    "    print(\"La posición\", index, \"en la lista es \", value)"
   ]
  },
  {
   "cell_type": "code",
   "execution_count": 21,
   "id": "8762a13d-fbff-403b-8809-aa834031ca8d",
   "metadata": {},
   "outputs": [
    {
     "name": "stdout",
     "output_type": "stream",
     "text": [
      "Elemento 1 en la lista es 3\n",
      "Elemento 2 en la lista es 5\n",
      "Elemento 3 en la lista es 7\n",
      "Elemento 4 en la lista es 9\n",
      "Elemento 5 en la lista es 11\n"
     ]
    }
   ],
   "source": [
    "for index, value in enumerate(lista, start=1):\n",
    "    print(\"Elemento\", index, \"en la lista es\", value)"
   ]
  },
  {
   "cell_type": "markdown",
   "id": "d1992e71",
   "metadata": {},
   "source": [
    "##### Ejercicio 2\n",
    "\n",
    "Genera un for loop que muestre la tabla de multiplicar del número que coloques en input. "
   ]
  },
  {
   "cell_type": "code",
   "execution_count": null,
   "id": "bf369256",
   "metadata": {},
   "outputs": [],
   "source": [
    "# Respuesta"
   ]
  },
  {
   "cell_type": "markdown",
   "id": "spoken-delta",
   "metadata": {},
   "source": [
    "## 5. Funciones\n",
    "\n",
    "En Python, una función es un bloque de código reutilizable que se ejecuta cuando la llamamos.\n",
    "\n",
    "Las funciones nos ayudan a:\n",
    "\n",
    "- Hacer el código más ordenado y fácil de leer.\n",
    "\n",
    "- Evitar repetir código.\n",
    "\n",
    "- Hacer que el programa sea más eficiente y reutilizable.\n",
    "\n",
    "\n",
    "### 5.1 Estructura de una función\n",
    "\n",
    "Para definir una función usamos la palabra clave `def`, seguida de: \n",
    "\n",
    "1. Nombre de la función (debe ser descriptivo).\n",
    "\n",
    "2. Parámetros (opcionales): valores que la función recibe para trabajar.\n",
    "\n",
    "3. Bloque de código: las tareas que realizará.\n",
    "\n",
    "4. `return` (opcional): valor que la función devuelve.\n",
    "\n",
    "\n",
    "\n",
    "```\n",
    "def nombre_funcion(parametros):\n",
    "    # Bloque de instrucciones\n",
    "    return resultado \n",
    "```"
   ]
  },
  {
   "cell_type": "code",
   "execution_count": 22,
   "id": "46233133",
   "metadata": {},
   "outputs": [],
   "source": [
    "# Declaras la función\n",
    "def saludo():\n",
    "    print(\"Hooliii! Bienvenido a la fiesta de python.\")"
   ]
  },
  {
   "cell_type": "code",
   "execution_count": 23,
   "id": "5f7365cc",
   "metadata": {},
   "outputs": [
    {
     "name": "stdout",
     "output_type": "stream",
     "text": [
      "Hooliii! Bienvenido a la fiesta de python.\n"
     ]
    }
   ],
   "source": [
    "# Llamas la función\n",
    "saludo()\n",
    "\n",
    "# Ojo que aquí no hay ningún parámetro"
   ]
  },
  {
   "cell_type": "code",
   "execution_count": 24,
   "id": "5cc1cf66",
   "metadata": {},
   "outputs": [
    {
     "name": "stdout",
     "output_type": "stream",
     "text": [
      "Hoooliii Ismael, listo para la fiesta de python?!\n"
     ]
    }
   ],
   "source": [
    "# Aquí, el nombre es el parámetro que quieres cambiar\n",
    "def saludo_nombre(nombre):\n",
    "    print(\"Hoooliii {}, listo para la fiesta de python?!\".format(nombre))\n",
    "\n",
    "\n",
    "saludo_nombre(\"Ismael\")"
   ]
  },
  {
   "cell_type": "code",
   "execution_count": 25,
   "id": "23bab317",
   "metadata": {},
   "outputs": [
    {
     "name": "stdout",
     "output_type": "stream",
     "text": [
      "Hoooliii TU NOMBRE, listo para la fiesta de python?!\n"
     ]
    }
   ],
   "source": [
    "# Coloca tu nombre\n",
    "saludo_nombre(\"TU NOMBRE\")"
   ]
  },
  {
   "cell_type": "code",
   "execution_count": 26,
   "id": "present-singapore",
   "metadata": {},
   "outputs": [],
   "source": [
    "# Otro ejemplo\n",
    "def add(x,y):\n",
    "    w = x+y\n",
    "    print('La suma de', x, '+', y, 'es: ', w)\n",
    "    return w"
   ]
  },
  {
   "cell_type": "code",
   "execution_count": 27,
   "id": "unique-findings",
   "metadata": {},
   "outputs": [
    {
     "name": "stdout",
     "output_type": "stream",
     "text": [
      "La suma de 6 + 10 es:  16\n"
     ]
    }
   ],
   "source": [
    "# puedes asignar el resultado a una variable\n",
    "e = add(6,10)"
   ]
  },
  {
   "cell_type": "code",
   "execution_count": 28,
   "id": "refined-electric",
   "metadata": {},
   "outputs": [
    {
     "data": {
      "text/plain": [
       "16"
      ]
     },
     "execution_count": 28,
     "metadata": {},
     "output_type": "execute_result"
    }
   ],
   "source": [
    "e"
   ]
  },
  {
   "cell_type": "code",
   "execution_count": 29,
   "id": "aa19145b-6708-4a65-a6dc-285a10965779",
   "metadata": {},
   "outputs": [
    {
     "name": "stdout",
     "output_type": "stream",
     "text": [
      "Hola, invitado!\n",
      "Hola, Elena!\n"
     ]
    }
   ],
   "source": [
    "# Funciones con valores predeterminados\n",
    "\n",
    "def saludar(nombre=\"invitado\"):\n",
    "    print(f\"Hola, {nombre}!\")\n",
    "\n",
    "saludar()          # Usa el valor por defecto\n",
    "saludar(\"Elena\")   # Usa el valor proporcionado\n"
   ]
  },
  {
   "cell_type": "markdown",
   "id": "9dd9c0d2-4377-4f9c-80a2-1c7f998c7371",
   "metadata": {},
   "source": [
    "#### Buenas prácticas para funciones\n",
    "\n",
    "- Usa nombres descriptivos: calcular_promedio() es mejor que cp().\n",
    "\n",
    "- Escribe funciones cortas y enfocadas: cada función debe hacer una sola tarea.\n",
    "\n",
    "- Documenta las funciones con comentarios o docstrings."
   ]
  },
  {
   "cell_type": "code",
   "execution_count": 30,
   "id": "4dfe00e3-4314-4686-bccb-54a1fed3f74a",
   "metadata": {},
   "outputs": [],
   "source": [
    "def calcular_promedio(numeros):\n",
    "    \"\"\"\n",
    "    Calcula el promedio de una lista de números.\n",
    "    Parámetros:\n",
    "        numeros (list): lista de números.\n",
    "    Retorna:\n",
    "        float: el promedio.\n",
    "    \"\"\"\n",
    "    return sum(numeros) / len(numeros)"
   ]
  },
  {
   "cell_type": "markdown",
   "id": "788419c2-52de-4aec-a450-30bce91a3076",
   "metadata": {},
   "source": [
    "- Un palíndromo es una palabra que se lee igual de izquierda a derecha y de derecha a izquierda."
   ]
  },
  {
   "cell_type": "code",
   "execution_count": 31,
   "id": "9bc03da7",
   "metadata": {},
   "outputs": [],
   "source": [
    "# Función que comprueba si una palabra es un palíndromo\n",
    "def is_palindrome(word):\n",
    "    # Invertimos la palabra con slicing [::-1]\n",
    "    reversed_word = word[::-1]\n",
    "    \n",
    "    # Comparamos ambas en minúsculas para evitar problemas con mayúsculas\n",
    "    return word.lower() == reversed_word.lower()"
   ]
  },
  {
   "cell_type": "code",
   "execution_count": 32,
   "id": "identical-slave",
   "metadata": {},
   "outputs": [
    {
     "name": "stdin",
     "output_type": "stream",
     "text": [
      "Ingresa una palabra:  hola\n"
     ]
    },
    {
     "name": "stdout",
     "output_type": "stream",
     "text": [
      "'hola' no es un palíndromo :(\n"
     ]
    }
   ],
   "source": [
    "# Pedimos al usuario una palabra\n",
    "word = input(\"Ingresa una palabra: \")\n",
    "\n",
    "# Verificamos si es un palíndromo\n",
    "if is_palindrome(word):\n",
    "    print(f\"'{word}' es un palíndromo :)\")\n",
    "else:\n",
    "    print(f\"'{word}' no es un palíndromo :(\")"
   ]
  },
  {
   "cell_type": "code",
   "execution_count": 34,
   "id": "quality-fitting",
   "metadata": {},
   "outputs": [
    {
     "data": {
      "text/plain": [
       "True"
      ]
     },
     "execution_count": 34,
     "metadata": {},
     "output_type": "execute_result"
    }
   ],
   "source": [
    "is_palindrome('mom')"
   ]
  },
  {
   "cell_type": "code",
   "execution_count": 38,
   "id": "72d336d9-814a-4dc7-8108-6e28e457b8aa",
   "metadata": {},
   "outputs": [
    {
     "data": {
      "text/plain": [
       "'amor'"
      ]
     },
     "execution_count": 38,
     "metadata": {},
     "output_type": "execute_result"
    }
   ],
   "source": [
    "'roma'[::-1]"
   ]
  },
  {
   "cell_type": "markdown",
   "id": "atmospheric-syndicate",
   "metadata": {},
   "source": [
    "### 5.2 Lambda\n",
    "\n",
    "Una función lambda en Python es una función anónima:\n",
    "\n",
    "- No necesita la palabra clave def.\n",
    "- No requiere un nombre (aunque puede asignársele uno).\n",
    "- Se usa generalmente para funciones pequeñas y rápidas.\n",
    "\n",
    "\n",
    "`lambda <parámetro> : <tarea>`\n"
   ]
  },
  {
   "cell_type": "code",
   "execution_count": null,
   "id": "sunrise-major",
   "metadata": {},
   "outputs": [],
   "source": [
    "par_o_non = lambda num: num % 2 == 0\n",
    "\n",
    "print(par_o_non(4))   \n",
    "print(par_o_non(7))  "
   ]
  },
  {
   "cell_type": "markdown",
   "id": "bb740c99-f222-4b78-a758-06604a8abc76",
   "metadata": {},
   "source": [
    "- Usa `lambda` para funciones cortas y rápidas.\n",
    "\n",
    "- Usa `def` para funciones más complejas o reutilizables."
   ]
  },
  {
   "cell_type": "code",
   "execution_count": null,
   "id": "french-semiconductor",
   "metadata": {},
   "outputs": [],
   "source": [
    "(lambda x: x ** 2)(5) "
   ]
  },
  {
   "cell_type": "code",
   "execution_count": null,
   "id": "57a32a39-7932-4b52-acfc-2d6b120ec354",
   "metadata": {},
   "outputs": [],
   "source": [
    "def cuadrado(x):\n",
    "    return x ** 2\n",
    "\n",
    "cuadrado(5)"
   ]
  },
  {
   "cell_type": "markdown",
   "id": "595b1ab0",
   "metadata": {},
   "source": [
    "##### Ejercicio 3\n",
    "\n",
    "Genera una función donde coloques tu nombre y tu año de nacimiento, y te diga tu edad. Utiliza input, y pregúntale al compañero de a lado, su nombre y su año de nacimiento, y pruébalo en tu función."
   ]
  },
  {
   "cell_type": "code",
   "execution_count": null,
   "id": "6ce0ba6d",
   "metadata": {},
   "outputs": [],
   "source": [
    "# Respuesta"
   ]
  },
  {
   "cell_type": "markdown",
   "id": "a909f966",
   "metadata": {},
   "source": [
    "## 6. Clases & objetos\n",
    "\n",
    "En todo lo que hemos programado hasta ahorita, si observas con detalle verás que nos hemos enfocado en funciones o argumentos que manipulan datos, esto se conoce como **programación orientada a procedimientos**. \n",
    "\n",
    "Existe otra manera de organizar tu programación en python, que consiste en combinar los datos y la funcionalidad, colocándolos dentro algo que llamaremos clases. Esto se llama **programación orientada a objetos**, en este momento solo explicaremos el concepto para que te sientas un poco familiarizado con él. \n",
    "\n",
    "Entre otros escenarios, las clases son útiles cuando vas a requerir varios objetos muy similares entre sí pero con ligeros detalles diferentes.\n",
    "\n",
    "Una clase es una plantilla/huella de la cual instancias (objetos individuales) son creados:\n",
    "\n",
    "- tienen  atributos (algunos elementos de utilidad),\n",
    "- métodos (funciones asociadas),\n",
    "- su definición debe incluir las palabras clave `class` y `def __init__():`.\n",
    "La palabra `class` permite a python saber que estás declarando una función y  `def __init__():` es una función permite construir instancias con detalles diferentes (los parámetros).\n",
    "\n",
    "---\n",
    "Comparemos dos funciones con los diferentes paradigmas:"
   ]
  },
  {
   "cell_type": "markdown",
   "id": "0d8e0d4a",
   "metadata": {},
   "source": [
    "#### Programación orientada a procedimientos\n"
   ]
  },
  {
   "cell_type": "code",
   "execution_count": null,
   "id": "25d1cf18",
   "metadata": {},
   "outputs": [],
   "source": [
    "def calcula_area_pro(largo, ancho):\n",
    "    area = largo * ancho\n",
    "    return area"
   ]
  },
  {
   "cell_type": "code",
   "execution_count": null,
   "id": "adb89a09",
   "metadata": {},
   "outputs": [],
   "source": [
    "largo = 5\n",
    "ancho = 3\n",
    "\n",
    "resultado = calcula_area_pro(largo, ancho)\n",
    "print('El área es:', resultado)"
   ]
  },
  {
   "cell_type": "markdown",
   "id": "9e4aaecd",
   "metadata": {},
   "source": [
    "#### Programación orientada a objetos"
   ]
  },
  {
   "cell_type": "code",
   "execution_count": null,
   "id": "0d55c7a9",
   "metadata": {},
   "outputs": [],
   "source": [
    "# Nota: observa que tanto el constructor como el método \"calcula_area\" son funciones, la única diferencia\n",
    "# con la funciones que hemos visto es que como primer parámetro tienen la palabra clave 'self'\n",
    "\n",
    "class Rectangulo:\n",
    "    def __init__(self, largo, ancho):  # constructor\n",
    "        self.largo = largo  # atributo\n",
    "        self.ancho = ancho  # atributo\n",
    "\n",
    "    def calcula_area(self):  # método \n",
    "        area = self.largo * self.ancho \n",
    "        return area\n"
   ]
  },
  {
   "cell_type": "code",
   "execution_count": null,
   "id": "f12562c5",
   "metadata": {},
   "outputs": [],
   "source": [
    "largo = 5\n",
    "ancho = 3\n",
    "\n",
    "\n",
    "rectangulo = Rectangulo(largo, ancho)  # así se llama al constructor de la clase y te devuelve una instancia\n",
    "resultado = rectangulo.calcula_area()  # la instancia tiene detalles particulares (largo = 5, ancho = 3) \n",
    "# pero comparte la función calcula_area() con las demás instancias\n",
    "\n",
    "print(\"El área es:\", resultado)"
   ]
  },
  {
   "cell_type": "markdown",
   "id": "58b5bbd2",
   "metadata": {},
   "source": [
    "Observa como en ambas funciones se obtiene el mismo resultado pero difieren en su aproximación. La programación orientada a procedimientos se enfoca a las funciones que operan los datos. Mientras que la programación orientada a objetos, encapsula los datos y el comportamiento del dato dentro de la clase. \n",
    "\n",
    "La programación orientada a procedimientos parece más sencilla, sin embargo, la programación orientada a objetivos proveé de beneficios como encapsulación, modularidad, reusabilidad de código, y sobre todo se utiliza para proyectos complejos y largos. \n",
    "\n",
    "La elección de tipo de programación depende mucho de la naturaleza de tu tarea. En este momento solo se pretende explicar el concepto de clases.\n",
    "\n",
    "---\n",
    "Otro ejemplo: "
   ]
  },
  {
   "cell_type": "code",
   "execution_count": null,
   "id": "055b8a99",
   "metadata": {},
   "outputs": [],
   "source": [
    "# Orientada a procedimientos\n",
    "def saludos(nombre):\n",
    "    mensaje = \"¡Hola, \" + nombre + \"!\"\n",
    "    return mensaje\n",
    "\n",
    "nombre = input('Tu nombre: ')\n",
    "resultado = saludos(nombre)\n",
    "print(resultado)"
   ]
  },
  {
   "cell_type": "code",
   "execution_count": null,
   "id": "17f59545",
   "metadata": {},
   "outputs": [],
   "source": [
    "# Object-oriented style\n",
    "class Saludos:\n",
    "    def __init__(self, nombre):\n",
    "        self.nombre = nombre\n",
    "\n",
    "    def saludo(self):\n",
    "        mensaje = \"¡Hola, \" + self.nombre + \"!\"\n",
    "        return mensaje\n",
    "\n",
    "nombre = input('Tu nombre: ')\n",
    "hola = Saludos(nombre)\n",
    "resultado = hola.saludo()\n",
    "print(resultado)"
   ]
  },
  {
   "cell_type": "markdown",
   "id": "victorian-tolerance",
   "metadata": {},
   "source": [
    "Recapitulando,  ``__init__`` es un método reservado para clases en python que funciona como un **constructor**. Este método se llama automáticamente cuando el código se ejecuta. Se utiliza principalmente para inicializar variables dentro de la clase. El crear un constructor en una clase elimina la repetición de la variable para cada función. \n",
    "\n",
    "Los objetos son una instancia de la clase, con la ayuda de un objeto, tu puedes acceder a los atributos y los métodos de la clase. \n",
    "\n",
    "Para crear una instancia/objeto de la clase, necesitas seguir la siguiente sintaxis: ``Object_name = Class_name(values)`` Por ejemplo, `hola` en la función anterior es un objeto el cual asignas la clase, y de ahí obtienes los métodos, funciones y/o atributos de la clase. "
   ]
  },
  {
   "cell_type": "code",
   "execution_count": null,
   "id": "ec0bc955",
   "metadata": {},
   "outputs": [],
   "source": [
    "# Otro ejemplo\n",
    "class BankAccount:\n",
    "    def __init__(self):\n",
    "        self.balance = 0\n",
    "\n",
    "    def withdraw(self, amount):\n",
    "        self.balance -= amount  # recuerda que esto equivale a: self.balance = self.balance - amount\n",
    "        return print(self.balance)\n",
    "\n",
    "    def deposit(self, amount):\n",
    "        self.balance += amount  # recuerda que esto equivale a: self.balance = self.balance + amount\n",
    "        return print(self.balance)\n",
    "\n",
    "\n",
    "a = BankAccount()\n",
    "b = BankAccount()\n",
    "a.deposit(100)\n",
    "b.deposit(50)\n",
    "b.withdraw(10)\n",
    "a.withdraw(10)"
   ]
  },
  {
   "cell_type": "markdown",
   "id": "d5e859ff",
   "metadata": {},
   "source": [
    "##### Ejercicio 4\n",
    "\n",
    "En la siguiente celda agrega un método a la clase `Rectangulo`. Llámalo \"calcula_perimetro\" y haz que calcule el perímetro de un rectángulo. Después pruébalo en la última celda; si está bien tu método, entonces la celda regresará `True`."
   ]
  },
  {
   "cell_type": "code",
   "execution_count": null,
   "id": "0fbb6d24",
   "metadata": {},
   "outputs": [],
   "source": [
    "class Rectangulo:\n",
    "    def __init__(self, largo, ancho):  # constructor\n",
    "        self.largo = largo  # atributo\n",
    "        self.ancho = ancho  # atributo\n",
    "\n",
    "    def calcula_area(self):  # método 1\n",
    "        area = self.largo * self.ancho\n",
    "        return area\n",
    "    \n",
    "    # aquí escribe tu método"
   ]
  },
  {
   "cell_type": "code",
   "execution_count": null,
   "id": "066ea2f6",
   "metadata": {},
   "outputs": [],
   "source": [
    "# aquí pruébalo (sólo corre la celda)\n",
    "largo, ancho = 5, 2\n",
    "rectangulo_prueba = Rectangulo(largo, ancho)\n",
    "\n",
    "rectangulo_prueba.calcula_perimetro() == 14"
   ]
  }
 ],
 "metadata": {
  "kernelspec": {
   "display_name": "Python 3 (ipykernel)",
   "language": "python",
   "name": "python3"
  },
  "language_info": {
   "codemirror_mode": {
    "name": "ipython",
    "version": 3
   },
   "file_extension": ".py",
   "mimetype": "text/x-python",
   "name": "python",
   "nbconvert_exporter": "python",
   "pygments_lexer": "ipython3",
   "version": "3.10.6"
  }
 },
 "nbformat": 4,
 "nbformat_minor": 5
}

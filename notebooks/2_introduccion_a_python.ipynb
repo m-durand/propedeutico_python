{
 "cells": [
  {
   "cell_type": "markdown",
   "id": "d395fd5a",
   "metadata": {},
   "source": [
    "[![Open In Colab](https://colab.research.google.com/assets/colab-badge.svg)](https://colab.research.google.com/github/m-durand/propedeutico_python/blob/main/notebooks/2_variables_y_operaciones.ipynb)"
   ]
  },
  {
   "cell_type": "markdown",
   "id": "suitable-handbook",
   "metadata": {},
   "source": [
    "### Introducción a Python 2\n",
    "\n",
    "1. Indexing & Slicing\n",
    "2. Type Conversion\n",
    "3. Conditionals\n",
    "4. Loops\n",
    "   - for\n",
    "       - range\n",
    "       - enumerate \n",
    "   - while \n",
    "5. Functions\n",
    "   - Recursions\n",
    "   - Lambda \n",
    "6. Package\n",
    "   - pip\n",
    "7. random module\n",
    "8. Files and Their Operations\n",
    "9. Class & Object\n",
    "10. What's Next"
   ]
  },
  {
   "cell_type": "markdown",
   "id": "difficult-tender",
   "metadata": {},
   "source": [
    "## 1. Indexación y slicing\n",
    "\n",
    "Alcanzar posiciones y valores dentro de una variable\n",
    "\n",
    "### Indexación"
   ]
  },
  {
   "cell_type": "code",
   "execution_count": 1,
   "id": "lesbian-string",
   "metadata": {},
   "outputs": [],
   "source": [
    "data = [1,2,3,4,5,6,7,8,9]  "
   ]
  },
  {
   "cell_type": "code",
   "execution_count": 3,
   "id": "superb-affairs",
   "metadata": {},
   "outputs": [
    {
     "name": "stdout",
     "output_type": "stream",
     "text": [
      "1\n"
     ]
    }
   ],
   "source": [
    "print(data[0])  # Alcanza el valor del índice "
   ]
  },
  {
   "cell_type": "code",
   "execution_count": 4,
   "id": "aging-technique",
   "metadata": {},
   "outputs": [
    {
     "name": "stdout",
     "output_type": "stream",
     "text": [
      "9\n"
     ]
    }
   ],
   "source": [
    "print(data[-1]) # Alcanza el último índice"
   ]
  },
  {
   "cell_type": "code",
   "execution_count": 5,
   "id": "protected-franklin",
   "metadata": {},
   "outputs": [
    {
     "name": "stdout",
     "output_type": "stream",
     "text": [
      "7\n"
     ]
    }
   ],
   "source": [
    "print(data[-3]) # Alcanza el tercer último índice"
   ]
  },
  {
   "cell_type": "markdown",
   "id": "coordinate-tokyo",
   "metadata": {},
   "source": [
    "### Slicing"
   ]
  },
  {
   "cell_type": "code",
   "execution_count": 6,
   "id": "major-episode",
   "metadata": {},
   "outputs": [
    {
     "name": "stdout",
     "output_type": "stream",
     "text": [
      "[1]\n"
     ]
    }
   ],
   "source": [
    "print(data[0:1]) # Value of 0th index"
   ]
  },
  {
   "cell_type": "code",
   "execution_count": 7,
   "id": "indie-international",
   "metadata": {},
   "outputs": [
    {
     "name": "stdout",
     "output_type": "stream",
     "text": [
      "[2, 3, 4]\n"
     ]
    }
   ],
   "source": [
    "print(data[1:4])  # Values from 1st index to 3rd index"
   ]
  },
  {
   "cell_type": "code",
   "execution_count": 8,
   "id": "judicial-vitamin",
   "metadata": {},
   "outputs": [
    {
     "name": "stdout",
     "output_type": "stream",
     "text": [
      "[1, 3, 5, 7]\n"
     ]
    }
   ],
   "source": [
    "print(data[0:8:2]) # Values from 0th index to 7th index                              _                                               with a Jump of 2"
   ]
  },
  {
   "cell_type": "code",
   "execution_count": 9,
   "id": "auburn-performer",
   "metadata": {},
   "outputs": [
    {
     "name": "stdout",
     "output_type": "stream",
     "text": [
      "[1, 3, 5, 7]\n"
     ]
    }
   ],
   "source": [
    "print(data[0:-2:2])  # Negative Indexing"
   ]
  },
  {
   "cell_type": "markdown",
   "id": "organized-transsexual",
   "metadata": {},
   "source": [
    "## 2. Transformaciones de tipos de datos"
   ]
  },
  {
   "cell_type": "code",
   "execution_count": 10,
   "id": "familiar-connecticut",
   "metadata": {},
   "outputs": [],
   "source": [
    "a = 2"
   ]
  },
  {
   "cell_type": "code",
   "execution_count": 11,
   "id": "periodic-native",
   "metadata": {},
   "outputs": [],
   "source": [
    "b = float(2)"
   ]
  },
  {
   "cell_type": "code",
   "execution_count": 12,
   "id": "tender-mills",
   "metadata": {},
   "outputs": [],
   "source": [
    "c = str(b)"
   ]
  },
  {
   "cell_type": "code",
   "execution_count": 13,
   "id": "divided-battlefield",
   "metadata": {},
   "outputs": [],
   "source": [
    "d = list(c)"
   ]
  },
  {
   "cell_type": "markdown",
   "id": "balanced-missile",
   "metadata": {},
   "source": [
    "## 3. Condicionales\n",
    "\n",
    "Los condicionales nos ayudan a realizar tareas computacionales basadas en una condiciones.\n",
    "\n",
    "```\n",
    "if condition:           \n",
    "   task\n",
    "else:\n",
    "   task\n",
    "````"
   ]
  },
  {
   "cell_type": "code",
   "execution_count": 14,
   "id": "civil-prime",
   "metadata": {},
   "outputs": [
    {
     "name": "stdout",
     "output_type": "stream",
     "text": [
      "Es uno\n"
     ]
    }
   ],
   "source": [
    "x = 1\n",
    "if x == 1:\n",
    "    print('Es uno')\n",
    "else:\n",
    "    print('Es otro')"
   ]
  },
  {
   "cell_type": "markdown",
   "id": "better-precipitation",
   "metadata": {},
   "source": [
    "### 4. Loops\n",
    "\n",
    "Los loops se utilizan para hacer ciertas tareas múltiples veces. Hay dos tipos de loops\n",
    "\n",
    "#### 4.1 For loops\n",
    "\n",
    "```\n",
    "for attribute in range(lower_range, upper_range):\n",
    "    task\n",
    "```"
   ]
  },
  {
   "cell_type": "code",
   "execution_count": 17,
   "id": "olive-credit",
   "metadata": {},
   "outputs": [
    {
     "name": "stdout",
     "output_type": "stream",
     "text": [
      "1\n",
      "2\n",
      "3\n",
      "4\n",
      "5\n",
      "6\n",
      "7\n",
      "8\n",
      "9\n"
     ]
    }
   ],
   "source": [
    "# Range solo te deja el valor\n",
    "for i in range(1,10): # el último valor hace drop\n",
    "    print(i)"
   ]
  },
  {
   "cell_type": "code",
   "execution_count": 18,
   "id": "executed-research",
   "metadata": {},
   "outputs": [
    {
     "name": "stdout",
     "output_type": "stream",
     "text": [
      "At Index 0 The Value is  1\n",
      "At Index 1 The Value is  2\n",
      "At Index 2 The Value is  3\n",
      "At Index 3 The Value is  4\n",
      "At Index 4 The Value is  5\n"
     ]
    }
   ],
   "source": [
    "# Si necesitas el valor e índice\n",
    "lst = [1,2,3,4,5]\n",
    "for index, value in enumerate(lst):\n",
    "          print(\"At Index\", index, \"The Value is \",value)"
   ]
  },
  {
   "cell_type": "markdown",
   "id": "specific-italian",
   "metadata": {},
   "source": [
    "### While loop\n",
    "\n",
    "Itera sobre algo hasta que la condición se hace true o false"
   ]
  },
  {
   "cell_type": "code",
   "execution_count": null,
   "id": "biological-argentina",
   "metadata": {},
   "outputs": [],
   "source": [
    "i = 0\n",
    "while"
   ]
  }
 ],
 "metadata": {
  "kernelspec": {
   "display_name": "Python 3",
   "language": "python",
   "name": "python3"
  },
  "language_info": {
   "codemirror_mode": {
    "name": "ipython",
    "version": 3
   },
   "file_extension": ".py",
   "mimetype": "text/x-python",
   "name": "python",
   "nbconvert_exporter": "python",
   "pygments_lexer": "ipython3",
   "version": "3.7.4"
  }
 },
 "nbformat": 4,
 "nbformat_minor": 5
}

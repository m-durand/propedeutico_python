{
 "cells": [
  {
   "cell_type": "markdown",
   "id": "d395fd5a",
   "metadata": {},
   "source": [
    "[![Open In Colab](https://colab.research.google.com/assets/colab-badge.svg)](https://colab.research.google.com/github/m-durand/propedeutico_python/blob/main/notebooks/2_variables_y_operaciones.ipynb)"
   ]
  },
  {
   "cell_type": "markdown",
   "id": "anticipated-cincinnati",
   "metadata": {},
   "source": [
    "# Propedéutico a programación con Python.\n",
    "\n",
    "**Verano 2023, por el Centro de Ciencia de Datos, EGobiernoyTP.**\n",
    "\n",
    "### Sesión 2: Más de introducción a Python.\n",
    "\n",
    "1. Indexación y Slicing\n",
    "2. Conversión en tipo de datos\n",
    "3. Conditionals\n",
    "4. Loops\n",
    "   - for\n",
    "       - range\n",
    "       - enumerate \n",
    "   - while \n",
    "5. Funciones\n",
    "   - Recursivas\n",
    "   - Lambda\n",
    "6. Clases & Objetos"
   ]
  },
  {
   "cell_type": "markdown",
   "id": "incorporate-scott",
   "metadata": {},
   "source": [
    "## 1. Indexación y slicing\n",
    "\n",
    "En la sesión pasada vimos cómo se podía acceder a valores de la lista o tupla dependiendo de la posición.\n",
    "\n",
    "### Indexación"
   ]
  },
  {
   "cell_type": "code",
   "execution_count": 4,
   "id": "italic-helena",
   "metadata": {},
   "outputs": [],
   "source": [
    "data = [1,2,3,4,5,6,7,8,9]  "
   ]
  },
  {
   "cell_type": "code",
   "execution_count": 5,
   "id": "caroline-retro",
   "metadata": {},
   "outputs": [],
   "source": [
    "# Recordemos: Imprime el primer valor de la lista"
   ]
  },
  {
   "cell_type": "code",
   "execution_count": 6,
   "id": "durable-acrobat",
   "metadata": {},
   "outputs": [],
   "source": [
    "# Recordemos: Imprimer el último valor de la lista"
   ]
  },
  {
   "cell_type": "markdown",
   "id": "economic-destination",
   "metadata": {},
   "source": [
    "### Slicing\n",
    "\n",
    "Slicing es para acceder a más de un valor en la lista:"
   ]
  },
  {
   "cell_type": "code",
   "execution_count": 7,
   "id": "front-palmer",
   "metadata": {},
   "outputs": [
    {
     "name": "stdout",
     "output_type": "stream",
     "text": [
      "[2, 3, 4]\n"
     ]
    }
   ],
   "source": [
    "print(data[1:4])  # Valores del índice 1ro al 3ro"
   ]
  },
  {
   "cell_type": "code",
   "execution_count": 8,
   "id": "relative-kitchen",
   "metadata": {},
   "outputs": [
    {
     "name": "stdout",
     "output_type": "stream",
     "text": [
      "[1, 3, 5, 7]\n"
     ]
    }
   ],
   "source": [
    "print(data[0:8:2]) # Valores del índice 0 al 7mo con un salto de 2"
   ]
  },
  {
   "cell_type": "code",
   "execution_count": 10,
   "id": "durable-distribution",
   "metadata": {},
   "outputs": [
    {
     "name": "stdout",
     "output_type": "stream",
     "text": [
      "[1, 3, 5, 7]\n"
     ]
    }
   ],
   "source": [
    "print(data[0:-2:2])  # Valores del 1ro al 2do último con saltos de 2"
   ]
  },
  {
   "cell_type": "markdown",
   "id": "russian-northern",
   "metadata": {},
   "source": [
    "## 2. Transformaciones de tipos de datos\n",
    "\n",
    "Dependiendo del tipo de dato con el que trabajes son las operaciones que puedes realizar, a continuación las funciones para cambiar tipo y estructura de datos"
   ]
  },
  {
   "cell_type": "code",
   "execution_count": 39,
   "id": "extra-snake",
   "metadata": {},
   "outputs": [
    {
     "name": "stdout",
     "output_type": "stream",
     "text": [
      "2\n",
      "<class 'int'>\n"
     ]
    }
   ],
   "source": [
    "a = 2\n",
    "print(a)\n",
    "print(type(a))"
   ]
  },
  {
   "cell_type": "code",
   "execution_count": 40,
   "id": "radical-university",
   "metadata": {},
   "outputs": [
    {
     "name": "stdout",
     "output_type": "stream",
     "text": [
      "2.0\n",
      "<class 'float'>\n"
     ]
    }
   ],
   "source": [
    "b = float(2)\n",
    "print(b)\n",
    "print(type(b))"
   ]
  },
  {
   "cell_type": "code",
   "execution_count": 41,
   "id": "minimal-diary",
   "metadata": {},
   "outputs": [
    {
     "name": "stdout",
     "output_type": "stream",
     "text": [
      "2.0\n",
      "<class 'str'>\n"
     ]
    }
   ],
   "source": [
    "c = str(b)\n",
    "print(c)\n",
    "print(type(c))"
   ]
  },
  {
   "cell_type": "code",
   "execution_count": 42,
   "id": "clean-binding",
   "metadata": {},
   "outputs": [
    {
     "name": "stdout",
     "output_type": "stream",
     "text": [
      "['2', '.', '0']\n",
      "<class 'list'>\n"
     ]
    }
   ],
   "source": [
    "d = list(c)\n",
    "print(d)\n",
    "print(type(d))"
   ]
  },
  {
   "cell_type": "code",
   "execution_count": 43,
   "id": "fc6a26e4",
   "metadata": {},
   "outputs": [
    {
     "name": "stdout",
     "output_type": "stream",
     "text": [
      "('2', '.', '0')\n",
      "<class 'tuple'>\n"
     ]
    }
   ],
   "source": [
    "e = tuple(c)\n",
    "print(e)\n",
    "print(type(e))"
   ]
  },
  {
   "cell_type": "markdown",
   "id": "monthly-college",
   "metadata": {},
   "source": [
    "## 3. Condicionales\n",
    "\n",
    "Los condicionales nos ayudan a realizar tareas computacionales basadas en una condiciones, se utiliza `if`, `elif`, `else`.\n",
    "\n",
    "- `if` es el que se usa para checar si una sola condición sucede y ejecuta la función si es True."
   ]
  },
  {
   "cell_type": "code",
   "execution_count": 67,
   "id": "7c91ed51",
   "metadata": {},
   "outputs": [
    {
     "name": "stdout",
     "output_type": "stream",
     "text": [
      "Hoy va a hacer calor 🌞 ¡Vamos a la alberca! :D\n"
     ]
    }
   ],
   "source": [
    "temperatura = 36\n",
    "\n",
    "###\n",
    "if temperatura >= 30:\n",
    "    print('Hoy va a hacer calor', '\\U0001F31E','¡Vamos a la alberca! :D')"
   ]
  },
  {
   "cell_type": "markdown",
   "id": "f0e391b8",
   "metadata": {},
   "source": [
    "- `elif` es para checar condiciones adicionales a las de if. Te especificar tantas condiciones como gustes con diferentes bloques que código y solo se ejecutará la que sea verdad. "
   ]
  },
  {
   "cell_type": "code",
   "execution_count": 71,
   "id": "varying-soldier",
   "metadata": {},
   "outputs": [
    {
     "name": "stdout",
     "output_type": "stream",
     "text": [
      "Ponte el sueter 🌥\n"
     ]
    }
   ],
   "source": [
    "temperatura = 15\n",
    "\n",
    "###\n",
    "if temperatura >= 30:\n",
    "    print(\"¡Vamos a la alberca! :D\")\n",
    "elif temperatura <= 18:\n",
    "    print('Ponte el sueter', '\\U0001F325')"
   ]
  },
  {
   "cell_type": "markdown",
   "id": "31fd6594",
   "metadata": {},
   "source": [
    "- `else` es para ejecutar el bloque de código cuando ninguna de las condiciones anteriores son verdad."
   ]
  },
  {
   "cell_type": "code",
   "execution_count": 76,
   "id": "049a45bc",
   "metadata": {},
   "outputs": [
    {
     "name": "stdout",
     "output_type": "stream",
     "text": [
      "Clima chido 🌤 😀\n"
     ]
    }
   ],
   "source": [
    "temperatura = 25\n",
    "\n",
    "###\n",
    "if temperatura >= 30:\n",
    "    print(\"¡Vamos a la alberca! :D\")\n",
    "elif temperatura <= 18:\n",
    "    print('Ponte el sueter')\n",
    "else:\n",
    "    print('Clima chido', '\\U0001F324 \\U0001F600')"
   ]
  },
  {
   "cell_type": "markdown",
   "id": "8aa331e4",
   "metadata": {},
   "source": [
    "##### Ejercicio 1\n",
    "\n"
   ]
  },
  {
   "cell_type": "code",
   "execution_count": null,
   "id": "50b7ce44",
   "metadata": {},
   "outputs": [],
   "source": [
    "# Respuesta"
   ]
  },
  {
   "cell_type": "markdown",
   "id": "prepared-election",
   "metadata": {},
   "source": [
    "## 4. Loops\n",
    "\n",
    "Los loops se utilizan para hacer ciertas tareas múltiples veces. Hay dos tipos de loops, los `for loops` y los `while loops`.\n",
    "\n",
    "#### 4.1 For loops\n",
    "\n",
    "```\n",
    "for attribute in range(lower_range, upper_range):\n",
    "    task\n",
    "```"
   ]
  },
  {
   "cell_type": "code",
   "execution_count": 17,
   "id": "alive-passport",
   "metadata": {},
   "outputs": [
    {
     "name": "stdout",
     "output_type": "stream",
     "text": [
      "1\n",
      "2\n",
      "3\n",
      "4\n",
      "5\n",
      "6\n",
      "7\n",
      "8\n",
      "9\n"
     ]
    }
   ],
   "source": [
    "# Range solo te deja el valor\n",
    "for i in range(1,10): # el último valor hace drop\n",
    "    print(i)"
   ]
  },
  {
   "cell_type": "code",
   "execution_count": 32,
   "id": "crude-sword",
   "metadata": {},
   "outputs": [
    {
     "name": "stdout",
     "output_type": "stream",
     "text": [
      "En el índice 0 el valor es  3\n",
      "En el índice 1 el valor es  5\n",
      "En el índice 2 el valor es  7\n",
      "En el índice 3 el valor es  9\n",
      "En el índice 4 el valor es  11\n"
     ]
    }
   ],
   "source": [
    "# Si necesitas el valor e índice\n",
    "lista = [3,5,7,9,11]\n",
    "for index, value in enumerate(lista):\n",
    "          print(\"En el índice\", index, \"el valor es \", value)"
   ]
  },
  {
   "cell_type": "markdown",
   "id": "pointed-experience",
   "metadata": {},
   "source": [
    "#### 4.2 While loop\n",
    "\n",
    "Itera sobre algo hasta que la condición se hace true o false"
   ]
  },
  {
   "cell_type": "code",
   "execution_count": 36,
   "id": "reasonable-bumper",
   "metadata": {},
   "outputs": [
    {
     "name": "stdout",
     "output_type": "stream",
     "text": [
      "1\n",
      "2\n",
      "3\n",
      "4\n",
      "5\n",
      "6\n",
      "7\n",
      "8\n",
      "9\n",
      "10\n"
     ]
    }
   ],
   "source": [
    "i = 0\n",
    "while i<10:\n",
    "    i = i+1\n",
    "    print(i)\n",
    "    \n",
    "## El Loop correrá hasta que el valor de i es igual a 10.\n",
    "## Es decir, se correrá 10 veces"
   ]
  },
  {
   "cell_type": "markdown",
   "id": "spoken-delta",
   "metadata": {},
   "source": [
    "## 5. Funciones\n",
    "\n",
    "Las funciones son un bloque de código que se ejecuta cuando se llama. Las funciones hacen que tu código sea más eficiente, funcional y se pueda leer fácilmente, sobre todo hacen que tu código sea re-usable. \n",
    "\n",
    "Una función tiene dos partes, en una defines lo que quieres que haga de la función `def`, y en la otra mandas a llamar a la función, que es básicamente el nombre de tu función y sus elementos necesarios para correrla. "
   ]
  },
  {
   "cell_type": "code",
   "execution_count": 45,
   "id": "present-singapore",
   "metadata": {},
   "outputs": [],
   "source": [
    "# Definición de la función\n",
    "def add(x,y):\n",
    "    w = x+y\n",
    "    print('La suma de', x, '+', y, 'es: ', w)\n",
    "    return w"
   ]
  },
  {
   "cell_type": "code",
   "execution_count": 49,
   "id": "unique-findings",
   "metadata": {},
   "outputs": [
    {
     "name": "stdout",
     "output_type": "stream",
     "text": [
      "La suma de 6 + 10 es:  16\n"
     ]
    }
   ],
   "source": [
    "# Como la mandas a llamar\n",
    "e = add(6,10)"
   ]
  },
  {
   "cell_type": "code",
   "execution_count": 50,
   "id": "refined-electric",
   "metadata": {},
   "outputs": [
    {
     "data": {
      "text/plain": [
       "16"
      ]
     },
     "execution_count": 50,
     "metadata": {},
     "output_type": "execute_result"
    }
   ],
   "source": [
    "e"
   ]
  },
  {
   "cell_type": "markdown",
   "id": "unlike-naples",
   "metadata": {},
   "source": [
    "### 5.1 Funciones recursivas"
   ]
  },
  {
   "cell_type": "markdown",
   "id": "binary-pharmacy",
   "metadata": {},
   "source": [
    "Es un tipo de función que se manda a llamar de manera recursiva. \n",
    "\n",
    "```\n",
    "def function():\n",
    "        ------\n",
    "        ------\n",
    "        function()      ## La función dentro de la función\n",
    "function()     ## Como se manda a llamar\n",
    "```"
   ]
  },
  {
   "cell_type": "code",
   "execution_count": 51,
   "id": "dominant-original",
   "metadata": {},
   "outputs": [],
   "source": [
    "# Función para revisar si una palabra es palíndrome\n",
    "def ispalindrome(word):\n",
    "    if word[0] != word[-1]: return False\n",
    "    if len(word) < 2: return True\n",
    "    return ispalindrome(word[1:-1])"
   ]
  },
  {
   "cell_type": "code",
   "execution_count": 53,
   "id": "identical-slave",
   "metadata": {},
   "outputs": [
    {
     "name": "stdout",
     "output_type": "stream",
     "text": [
      "True\n"
     ]
    }
   ],
   "source": [
    "ispalindrome('ana')"
   ]
  },
  {
   "cell_type": "code",
   "execution_count": 54,
   "id": "quality-fitting",
   "metadata": {},
   "outputs": [
    {
     "data": {
      "text/plain": [
       "False"
      ]
     },
     "execution_count": 54,
     "metadata": {},
     "output_type": "execute_result"
    }
   ],
   "source": [
    "ispalindrome('casa')"
   ]
  },
  {
   "cell_type": "markdown",
   "id": "atmospheric-syndicate",
   "metadata": {},
   "source": [
    "### 5.2 Lambda\n",
    "\n",
    "Lambda es una función no requiere definición de nombre para mandarla a llamar."
   ]
  },
  {
   "cell_type": "code",
   "execution_count": 65,
   "id": "sunrise-major",
   "metadata": {},
   "outputs": [],
   "source": [
    "par_o_non = lambda num : num%2==0"
   ]
  },
  {
   "cell_type": "code",
   "execution_count": 66,
   "id": "french-semiconductor",
   "metadata": {},
   "outputs": [
    {
     "data": {
      "text/plain": [
       "False"
      ]
     },
     "execution_count": 66,
     "metadata": {},
     "output_type": "execute_result"
    }
   ],
   "source": [
    "par_o_non(5)"
   ]
  },
  {
   "cell_type": "markdown",
   "id": "compatible-planning",
   "metadata": {},
   "source": [
    "## 6. Clases & objetos\n",
    "\n",
    "Clases y objetos son parte escencial de programación orientada a objetos. En este momento solo explicaremos el concepto para que te sientas un poco familiar con el concepto. \n",
    "\n",
    "Una Clase funciona como la huella de un objeto, si este objeto es una instancia de la clase. Por ejemplo, si consideras el empleo una clase, entonces los diferentes trabajadores con salario, edad, experiencia, etc., son objetos. \n",
    "\n",
    "Una clase es similar a una función, la diferencia es que para crear una clase utilizarás `class` para definirla.\n",
    "\n",
    "```\n",
    "class Data:\n",
    "       -----\n",
    "       -----\n",
    "```\n",
    "\n",
    "Puedes crear una función dentro de una clase. Una función que se define dentro de una clase se llama módulo. También, las variables dentro de la clase se llaman atributos. "
   ]
  },
  {
   "cell_type": "code",
   "execution_count": 67,
   "id": "automatic-flour",
   "metadata": {},
   "outputs": [],
   "source": [
    "class Data:\n",
    "    name = 'Ram'\n",
    "    \n",
    "    def __init__(self,age,salary):\n",
    "        self.age  = age\n",
    "        self.salary = salary\n",
    "    def show(self):\n",
    "        print(self.age)\n",
    "        print(self.salary)"
   ]
  },
  {
   "cell_type": "markdown",
   "id": "victorian-tolerance",
   "metadata": {},
   "source": [
    "``__init__`` es un método reservado para clases en python que funciona como un constructor. Este método se llama automáticamente cuando el código se ejecuta. Se utiliza principalmente para inicializar variables dentro de la clase. \n",
    "\n",
    "Objetos son una instancia de la clase. Con la ayuda de un objeto, tu puedes acceder a los atributos y los métodos de la clase. \n",
    "\n",
    "Para crear un objeto para la clase, necesitas seguir la siguiente sintaxis: ``Object_name = Class_name(values)``"
   ]
  },
  {
   "cell_type": "code",
   "execution_count": 68,
   "id": "aquatic-participation",
   "metadata": {},
   "outputs": [],
   "source": [
    "obj = Data(29,3000)"
   ]
  },
  {
   "cell_type": "code",
   "execution_count": 71,
   "id": "exciting-investigator",
   "metadata": {},
   "outputs": [
    {
     "data": {
      "text/plain": [
       "'Ram'"
      ]
     },
     "execution_count": 71,
     "metadata": {},
     "output_type": "execute_result"
    }
   ],
   "source": [
    "obj.name"
   ]
  },
  {
   "cell_type": "code",
   "execution_count": 70,
   "id": "interested-paste",
   "metadata": {},
   "outputs": [
    {
     "name": "stdout",
     "output_type": "stream",
     "text": [
      "29\n",
      "3000\n"
     ]
    }
   ],
   "source": [
    "obj.show()"
   ]
  }
 ],
 "metadata": {
  "kernelspec": {
   "display_name": "Python 3 (ipykernel)",
   "language": "python",
   "name": "python3"
  },
  "language_info": {
   "codemirror_mode": {
    "name": "ipython",
    "version": 3
   },
   "file_extension": ".py",
   "mimetype": "text/x-python",
   "name": "python",
   "nbconvert_exporter": "python",
   "pygments_lexer": "ipython3",
   "version": "3.8.13"
  }
 },
 "nbformat": 4,
 "nbformat_minor": 5
}

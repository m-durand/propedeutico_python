{
 "cells": [
  {
   "cell_type": "markdown",
   "id": "7eeef84a",
   "metadata": {},
   "source": [
    "[![Open In Colab](https://colab.research.google.com/assets/colab-badge.svg)](https://colab.research.google.com/github/m-durand/propedeutico_python/blob/main/notebooks/6_eda_geda.ipynb)"
   ]
  },
  {
   "cell_type": "markdown",
   "id": "6e35f491",
   "metadata": {},
   "source": [
    "# Propedéutico a programación con Python.\n",
    "\n",
    "**Verano 2024, por el Centro de Ciencia de Datos, EGobiernoyTP.**\n",
    "\n",
    "### Sesión 5: EDA y GEDA\n",
    "\n",
    "1. Introducción a análisis de datos\n",
    "    - Objetivos \n",
    "    - Tipos de estructura de datos\n",
    "    - Tipos de exploración de datos\n",
    "2. EDA/GEDA\n",
    "    - Definir el tipo de dato\n",
    "        - Categóricas\n",
    "        - Numéricas\n",
    "        - Fechas\n",
    "        - Texto\n",
    "        - Geolocalización\n",
    "    - Algunos principios de visualización \n",
    "    - Análisis práctica"
   ]
  },
  {
   "cell_type": "markdown",
   "id": "db206b5e",
   "metadata": {},
   "source": [
    "## 1. Introducción a análisis de datos\n",
    "\n",
    "### 1.1 Objetivos:\n",
    "\n",
    "- Conocer los datos con los que resolveremos el problema.\n",
    "- Conocer el contexto del negocio y validar datos con negocio.\n",
    "- Identificar errores en la adquisición de datos.\n",
    "- Validar si tenemos datos relevantes y suficientes.\n",
    "- **Identificar variables**, para la geración e identificación de variables.\n",
    "- Estudiar y dedicar tiempo (60%) a los datos con los que cuentas."
   ]
  },
  {
   "cell_type": "markdown",
   "id": "ba832003",
   "metadata": {},
   "source": [
    "### 1.2 Tipos de estructuras datos.\n",
    "\n",
    "- Tabular\n",
    "    - variables\n",
    "    - observaciones\n",
    "    - valores\n",
    "- No tabular\n",
    "    - No son estructuras definidas\n",
    "    - No se almacenan en tablas\n",
    "    - Objetos Json, grafos"
   ]
  },
  {
   "cell_type": "markdown",
   "id": "e1ea5308",
   "metadata": {},
   "source": [
    "### 1.3 Tipos de exploración de datos\n",
    "\n",
    "- Exploratory Data Analysis (EDA)\n",
    "- Graphical Exploratory Data Analysis (GEDA)\n",
    "    - Esencial en todo proceso de análisis de datos o machine learning.\n",
    "    - Describir aspectos importantes de los datos.\n",
    "    - Se hace antes del análisis estadístico o modelado.\n",
    "    - No sólo confíen en los estadísticos descriptivos -> [Cuarteto de Anscombe](https://www.autodesk.com/research/publications/same-stats-different-graphs)\n",
    "    \n",
    "    <img src=\"https://damassets.autodesk.net/content/dam/autodesk/research/publications-assets/gifs/same-stats-different-graphs/DinoSequentialSmaller.gif\"  width=\"60%\">"
   ]
  },
  {
   "cell_type": "markdown",
   "id": "923b104a",
   "metadata": {},
   "source": [
    "- NO SOLO USEN BOXPLOTS\n",
    "\n",
    "<img src=\"https://damassets.autodesk.net/content/dam/autodesk/research/publications-assets/gifs/same-stats-different-graphs/boxplots.gif\"  width=\"80%\">"
   ]
  },
  {
   "cell_type": "markdown",
   "id": "ac57faa5",
   "metadata": {},
   "source": [
    "## 2. EDA y GEDA\n",
    "\n",
    "### 2.1 Definir tipo de variable\n",
    "\n",
    "#### Numéricas \n",
    "- Tipo: float o integer\n",
    "- Número de observaciones\n",
    "- Medidas de centralidad y dispersión: Mean, SD, Cuartiles, max, min, curtosis. \n",
    "- Gráficos: \n",
    "    - Histograma \n",
    "    - boxplots\n",
    "    - scatterplot\n",
    "    - matriz de correlación\n",
    "    - Density plot\n",
    "\n",
    "#### Categóricas\n",
    "- Tipo: object\n",
    "- Número de categorías\n",
    "- Moda\n",
    "- número de observaciones por categoría\n",
    "- Gráficos de barras, lollipop, slope chart\n",
    "\n",
    "#### Fechas\n",
    "- Inicio, fin\n",
    "- Periodicidad de información\n",
    "- formato de fecha\n",
    "- Graficos de líneas-series de tiempo, headmaps\n",
    "\n",
    "#### Otros:\n",
    "\n",
    "- Texto\n",
    "    - NLP\n",
    "    - Wordclouds\n",
    "\n",
    "- Geolocalización \n",
    "    - Latitud, longitud\n",
    "    - Direcciones\n",
    "    - Mapas"
   ]
  },
  {
   "cell_type": "markdown",
   "id": "f457219f",
   "metadata": {},
   "source": [
    "### 2.2 Algunos principios de visualización\n",
    "\n",
    "- Buscar la calidad, relevancia e integridad de la información.\n",
    "- Integrar la información de manera visual.\n",
    "- Muestra comparaciones, contrastes, diferencias.\n",
    "- [Utiliza colores adecuados](https://pbs.twimg.com/media/FoMRYKUWQAEIl7N?format=jpg&name=large)\n",
    "- Muestra datos multivariados. \n",
    "- Describe la totalidad de la evidencia.\n",
    "- **Hagan gráficos pensando en que se expliquen por sí solos.**\n",
    "\n",
    "\n",
    "¿Qué entienden por este gráfico?\n",
    "\n",
    "<img src=\"https://tereom.github.io/fundamentos/images/tufte_cancer.jpg\"  width=\"80%\">"
   ]
  },
  {
   "cell_type": "markdown",
   "id": "8892ed6c",
   "metadata": {},
   "source": [
    "- No distorsionar la información por la visualización \n",
    "\n",
    "<div>\n",
    "<img align=\"left\" src=\"https://miro.medium.com/v2/resize:fit:640/format:webp/1*Q7Woxxy8QXJuQ2_3peDkTQ.png\" width=\"40%\">\n",
    "\n",
    "<img align=\"right\" src=\"https://miro.medium.com/v2/resize:fit:828/format:webp/1*XgEcfL8fK_gnB_Xh5GhK-A.png\" width=\"50%\">\n",
    "</div>"
   ]
  },
  {
   "cell_type": "markdown",
   "id": "1e63194a",
   "metadata": {},
   "source": [
    "### 2.3 Análisis"
   ]
  },
  {
   "cell_type": "code",
   "execution_count": null,
   "id": "d37613bc",
   "metadata": {},
   "outputs": [],
   "source": [
    "import numpy as np\n",
    "import pandas as pd\n",
    "\n",
    "# paquetes para gráficos\n",
    "import seaborn as sns\n",
    "import matplotlib.pyplot as plt"
   ]
  },
  {
   "cell_type": "code",
   "execution_count": null,
   "id": "9ae81827",
   "metadata": {},
   "outputs": [],
   "source": [
    "pd.set_option('display.max_rows', 2000)"
   ]
  },
  {
   "cell_type": "code",
   "execution_count": null,
   "id": "3be8bf8e",
   "metadata": {},
   "outputs": [],
   "source": [
    "pd.set_option('display.max_columns', 10)"
   ]
  },
  {
   "cell_type": "code",
   "execution_count": null,
   "id": "64b12778",
   "metadata": {},
   "outputs": [],
   "source": [
    "#from google.colab import drive\n",
    "#drive.mount('/content/drive', force_remount=True) \n",
    "#my_path = '/content/drive/MyDrive/propedeutico_python-main' \n",
    "\n",
    "## Datos\n",
    "#df = pd.read_csv(my_path + '/datos/indicadores.csv', dtype='str')"
   ]
  },
  {
   "cell_type": "code",
   "execution_count": null,
   "id": "8a3fa2b2",
   "metadata": {},
   "outputs": [],
   "source": [
    "# Datos\n",
    "df = pd.read_csv('https://raw.githubusercontent.com/m-durand/propedeutico_python/main/datos/indicadores.csv')"
   ]
  },
  {
   "cell_type": "code",
   "execution_count": null,
   "id": "1d7c2595",
   "metadata": {},
   "outputs": [],
   "source": [
    "df.shape"
   ]
  },
  {
   "cell_type": "code",
   "execution_count": null,
   "id": "1cf4cf46",
   "metadata": {},
   "outputs": [],
   "source": [
    "df.dtypes"
   ]
  },
  {
   "cell_type": "code",
   "execution_count": null,
   "id": "2b313e06",
   "metadata": {},
   "outputs": [],
   "source": [
    "df.columns"
   ]
  },
  {
   "cell_type": "code",
   "execution_count": null,
   "id": "e080abbd",
   "metadata": {},
   "outputs": [],
   "source": [
    "# Seleccionando solo variables de interes y reordenarlas\n",
    "df = df[['año', 'entidad', 'cre_tot', \n",
    "        'def', 'edad_med', 'ind_env',\n",
    "        'hom_mit_año','muj_mit_año','pob_mit_año',\n",
    "         'muj_30_64','hom_30_64','pob_30_64']]"
   ]
  },
  {
   "cell_type": "code",
   "execution_count": null,
   "id": "3c8898ca",
   "metadata": {},
   "outputs": [],
   "source": [
    "df['entidad'].unique()"
   ]
  },
  {
   "cell_type": "code",
   "execution_count": null,
   "id": "7567eda7",
   "metadata": {},
   "outputs": [],
   "source": [
    "columnas_num = ['año',  'hom_mit_año','muj_mit_año','pob_mit_año']\n",
    "\n",
    "df[columnas_num] = df[columnas_num].astype('int64')"
   ]
  },
  {
   "cell_type": "code",
   "execution_count": null,
   "id": "c1d809de",
   "metadata": {},
   "outputs": [],
   "source": [
    "df.shape"
   ]
  },
  {
   "cell_type": "code",
   "execution_count": null,
   "id": "34119b96",
   "metadata": {},
   "outputs": [],
   "source": [
    "df.dtypes"
   ]
  },
  {
   "cell_type": "code",
   "execution_count": null,
   "id": "8c52bbf5",
   "metadata": {},
   "outputs": [],
   "source": [
    "df.describe()"
   ]
  },
  {
   "cell_type": "markdown",
   "id": "b98d3f5c",
   "metadata": {},
   "source": [
    "### Histogramas y boxplots"
   ]
  },
  {
   "cell_type": "code",
   "execution_count": null,
   "id": "d2eb6c03",
   "metadata": {},
   "outputs": [],
   "source": [
    "# Ajustes de gráficos\n",
    "sns.set(style='whitegrid',rc={'figure.figsize':(5,3)})"
   ]
  },
  {
   "cell_type": "code",
   "execution_count": null,
   "id": "f8c228ee",
   "metadata": {},
   "outputs": [],
   "source": [
    "sns.histplot(x=df['edad_med']);"
   ]
  },
  {
   "cell_type": "code",
   "execution_count": null,
   "id": "adda600d",
   "metadata": {},
   "outputs": [],
   "source": [
    "sns.boxplot(x=df['edad_med']);"
   ]
  },
  {
   "cell_type": "code",
   "execution_count": null,
   "id": "4e5c1abe",
   "metadata": {},
   "outputs": [],
   "source": [
    "sns.histplot(x=df['pob_mit_año']);"
   ]
  },
  {
   "cell_type": "code",
   "execution_count": null,
   "id": "1efb109a",
   "metadata": {
    "scrolled": true
   },
   "outputs": [],
   "source": [
    "sns.boxplot(x=df['pob_mit_año']);"
   ]
  },
  {
   "cell_type": "code",
   "execution_count": null,
   "id": "64383e81",
   "metadata": {},
   "outputs": [],
   "source": [
    "sns.boxplot(x=df['pob_mit_año'],showfliers=False);"
   ]
  },
  {
   "cell_type": "code",
   "execution_count": null,
   "id": "ae39b68b",
   "metadata": {},
   "outputs": [],
   "source": [
    "df['pob_mit_año'].describe()"
   ]
  },
  {
   "cell_type": "code",
   "execution_count": null,
   "id": "b73d88b4",
   "metadata": {},
   "outputs": [],
   "source": [
    "df2 = df[df['pob_mit_año']<12e6]"
   ]
  },
  {
   "cell_type": "code",
   "execution_count": null,
   "id": "9b0d22df",
   "metadata": {},
   "outputs": [],
   "source": [
    "plt.figure(figsize=(8,5))\n",
    "sns.histplot(x=df2['pob_mit_año'],label='Población')\n",
    "sns.histplot(x=df2['muj_mit_año'],kde=True,label='Población mujeres')\n",
    "sns.histplot(x=df2['hom_mit_año'],kde=True,label='Población hombres')\n",
    "plt.legend();"
   ]
  },
  {
   "cell_type": "code",
   "execution_count": null,
   "id": "86f16b62",
   "metadata": {},
   "outputs": [],
   "source": [
    "sns.set(style='whitegrid',rc={'figure.figsize':(5,4)})"
   ]
  },
  {
   "cell_type": "code",
   "execution_count": null,
   "id": "52d9badc",
   "metadata": {},
   "outputs": [],
   "source": [
    "# Para hacer un boxplot con sns debemos pasar las columnas a formato log.\n",
    "df_melted = pd.melt(df2[(['pob_mit_año','muj_mit_año','hom_mit_año'])])"
   ]
  },
  {
   "cell_type": "code",
   "execution_count": null,
   "id": "febe6b6c",
   "metadata": {},
   "outputs": [],
   "source": [
    "df_melted.head(5)"
   ]
  },
  {
   "cell_type": "code",
   "execution_count": null,
   "id": "acd058ac",
   "metadata": {},
   "outputs": [],
   "source": [
    "sns.boxplot(x='value',y='variable', data=df_melted, orient='h');"
   ]
  },
  {
   "cell_type": "code",
   "execution_count": null,
   "id": "81f50a88",
   "metadata": {},
   "outputs": [],
   "source": [
    "categories_interes = ['Puebla', 'Ciudad de México', 'México']\n",
    "df3 = df2[df2['entidad'].isin(categories_interes)]\n",
    "sns.histplot(data=df3, x='muj_mit_año', hue='entidad');"
   ]
  },
  {
   "cell_type": "code",
   "execution_count": null,
   "id": "502e4535",
   "metadata": {},
   "outputs": [],
   "source": [
    "sns.boxplot(data=df3, x='muj_mit_año', y='entidad');"
   ]
  },
  {
   "cell_type": "code",
   "execution_count": null,
   "id": "e7cf25ad",
   "metadata": {},
   "outputs": [],
   "source": [
    "def categorize_age(row):\n",
    "    if row['edad_med'] <= 18:\n",
    "        return 'menor_edad'\n",
    "    elif 18 < row['edad_med'] <= 35:\n",
    "        return 'joven_adulto'\n",
    "    elif 35 < row['edad_med'] <= 55:\n",
    "        return 'adulto'\n",
    "    else:\n",
    "        return 'mayor_edad'"
   ]
  },
  {
   "cell_type": "code",
   "execution_count": null,
   "id": "1bcdc798",
   "metadata": {},
   "outputs": [],
   "source": [
    "df3['edad_med_cate'] = df3.apply(categorize_age, axis=1)"
   ]
  },
  {
   "cell_type": "code",
   "execution_count": null,
   "id": "4ce0550a",
   "metadata": {},
   "outputs": [],
   "source": [
    "# Conteo entre variables categoricas\n",
    "sns.countplot(data=df3,x='entidad',hue='edad_med_cate');"
   ]
  },
  {
   "cell_type": "code",
   "execution_count": null,
   "id": "7e232299",
   "metadata": {},
   "outputs": [],
   "source": [
    "# Conteo entre variables categoricas\n",
    "sns.catplot(data=df3,\n",
    "            x='edad_med_cate',y='muj_mit_año', col='entidad',\n",
    "            kind='bar', height=4, col_wrap=4);"
   ]
  },
  {
   "cell_type": "code",
   "execution_count": null,
   "id": "0fe674c8",
   "metadata": {},
   "outputs": [],
   "source": [
    "df2['edad_med_cate'] = df2.apply(categorize_age, axis=1)"
   ]
  },
  {
   "cell_type": "code",
   "execution_count": null,
   "id": "725d1de2",
   "metadata": {},
   "outputs": [],
   "source": [
    "# Conteo entre variables categoricas\n",
    "sns.catplot(data=df2,\n",
    "            x='edad_med_cate',y='muj_mit_año', col='entidad',\n",
    "            kind='bar', height=4, col_wrap=4);"
   ]
  },
  {
   "cell_type": "markdown",
   "id": "7ad4c9ab",
   "metadata": {},
   "source": [
    "#### Referencias y links útiles para visualización\n",
    "- [Principios de visualización](https://tereom.github.io/fundamentos/principios-de-visualizaci%C3%B3n.html#ref-tufte06).\n",
    "- [Data to viz](https://www.data-to-viz.com/index.html).\n",
    "- [Python graph gallery](https://www.python-graph-gallery.com/)\n",
    "- [How to make better looking charts in python](https://learningactors.com/how-to-make-better-looking-charts-in-python/)\n",
    "- [50 matplotlib visualizations to master plots in python](https://www.machinelearningplus.com/plots/top-50-matplotlib-visualizations-the-master-plots-python/)\n",
    "- [R graph gallery](https://r-graph-gallery.com/).\n",
    "- [The Art of Data Science](https://bookdown.org/rdpeng/artofdatascience/)."
   ]
  }
 ],
 "metadata": {
  "kernelspec": {
   "display_name": "Python 3 (ipykernel)",
   "language": "python",
   "name": "python3"
  },
  "language_info": {
   "codemirror_mode": {
    "name": "ipython",
    "version": 3
   },
   "file_extension": ".py",
   "mimetype": "text/x-python",
   "name": "python",
   "nbconvert_exporter": "python",
   "pygments_lexer": "ipython3",
   "version": "3.8.13"
  }
 },
 "nbformat": 4,
 "nbformat_minor": 5
}

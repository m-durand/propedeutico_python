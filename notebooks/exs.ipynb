{
 "cells": [
  {
   "cell_type": "markdown",
   "id": "a74215cb",
   "metadata": {},
   "source": [
    "[![Open In Colab](https://colab.research.google.com/assets/colab-badge.svg)](https://colab.research.google.com/github/m-durand/propedeutico_python/blob/main/notebooks/7_SQL.ipynb)"
   ]
  },
  {
   "cell_type": "markdown",
   "id": "17c59b4f",
   "metadata": {},
   "source": [
    "## Ejercicios Sesión 1. Introducción a python."
   ]
  },
  {
   "cell_type": "code",
   "execution_count": 21,
   "id": "95d1a6aa",
   "metadata": {},
   "outputs": [],
   "source": [
    "# ejercicio 1\n",
    "x = 29\n",
    "y = 17\n",
    "z = 30"
   ]
  },
  {
   "cell_type": "code",
   "execution_count": 22,
   "id": "55f0ef23",
   "metadata": {},
   "outputs": [
    {
     "name": "stdout",
     "output_type": "stream",
     "text": [
      "493\n",
      "1.7647058823529411\n",
      "59\n"
     ]
    }
   ],
   "source": [
    "# ejercicio 2\n",
    "\n",
    "print(x*y)\n",
    "print(z/y)\n",
    "print(x+z)"
   ]
  },
  {
   "cell_type": "code",
   "execution_count": 23,
   "id": "5890b986",
   "metadata": {},
   "outputs": [
    {
     "name": "stdout",
     "output_type": "stream",
     "text": [
      "33\n"
     ]
    }
   ],
   "source": [
    "# ejercicio 3\n",
    "w = 3\n",
    "w += z\n",
    "print(w)"
   ]
  },
  {
   "cell_type": "code",
   "execution_count": 24,
   "id": "390a3350",
   "metadata": {},
   "outputs": [
    {
     "name": "stdout",
     "output_type": "stream",
     "text": [
      "Hola, mi nombre es Elena, y tengo 29 años\n",
      "Hay solo 8 vaquitas marinas en el Golfo de California, México\n"
     ]
    }
   ],
   "source": [
    "# ejercicio 4\n",
    "\n",
    "nombre = 'Elena'\n",
    "edad = 29\n",
    "mensaje_1 = 'Hola, mi nombre es {}, y tengo {} años'.format(nombre, edad)\n",
    "print(mensaje_1)\n",
    "\n",
    "vaquitas = 8\n",
    "donde = 'Golfo de California, México'\n",
    "mensaje_2 = 'Hay solo {} vaquitas marinas en el {}'.format(vaquitas,donde)\n",
    "print(mensaje_2)"
   ]
  },
  {
   "cell_type": "code",
   "execution_count": 25,
   "id": "ab65364b",
   "metadata": {},
   "outputs": [
    {
     "name": "stdout",
     "output_type": "stream",
     "text": [
      "1. Lista: [('Ale', 20), ('Pedro', 22), ('Luis', 19), ('Diana', 21), ('Eva', 20)]\n",
      "2. Tercer estudiante en lista: Luis\n",
      "3. Son 5 estudiantes, y el 2do estudiante es Pedro, y tiene 22 años\n",
      "4. Lista actualizada: [('Ale', 20), ('Pedro', 22), ('Luis', 19), ('Diana', 21), ('Eva', 20), ('Juan', 25)]\n",
      "5. Último estudiante: ('Juan', 25)\n",
      "6. ¿El 4to Estudiante tiene más de 22 años? False\n"
     ]
    }
   ],
   "source": [
    "# ejercicio 5\n",
    "# 1. \n",
    "lista_estudiantes = [(\"Ale\", 20), (\"Pedro\", 22), (\"Luis\", 19), (\"Diana\", 21), (\"Eva\", 20)]\n",
    "print('1. Lista:', lista_estudiantes)\n",
    "\n",
    "# 2. \n",
    "print('2. Tercer estudiante en lista:', lista_estudiantes[2][0])\n",
    "\n",
    "# 3. \n",
    "num = len(lista_estudiantes)\n",
    "est2 = lista_estudiantes[1][0]\n",
    "edd2 = lista_estudiantes[1][1]\n",
    "mensaje = '3. Son {} estudiantes, y el 2do estudiante es {}, y tiene {} años'.format(num,est2,edd2)\n",
    "print(mensaje)\n",
    "\n",
    "# 4.\n",
    "lista_estudiantes.append(('Juan',25))\n",
    "print('4. Lista actualizada:',lista_estudiantes)\n",
    "\n",
    "# 5. \n",
    "print('5. Último estudiante:', lista_estudiantes[-1])\n",
    "\n",
    "# 6.\n",
    "mas22 = lista_estudiantes[3][1]>22\n",
    "print('6. ¿El 4to Estudiante tiene más de 22 años?', mas22)"
   ]
  },
  {
   "cell_type": "markdown",
   "id": "f58509e1",
   "metadata": {},
   "source": [
    "## Ejercicios 2. Más introducción a python"
   ]
  },
  {
   "cell_type": "code",
   "execution_count": 3,
   "id": "9300a38f",
   "metadata": {},
   "outputs": [
    {
     "name": "stdin",
     "output_type": "stream",
     "text": [
      "Prueba un número:  20\n"
     ]
    },
    {
     "name": "stdout",
     "output_type": "stream",
     "text": [
      "El número es par\n"
     ]
    }
   ],
   "source": [
    "# ejercicio 1\n",
    "numero = int(input(\"Prueba un número: \"))\n",
    "\n",
    "if numero < 0:\n",
    "    print(\"El número es negativo\")\n",
    "elif numero == 0:\n",
    "    print(\"El número es cero\")\n",
    "elif numero > 100:\n",
    "    print(\"El número es mayor a 100\")\n",
    "    if numero % 2 == 0:\n",
    "        print(\"El número es par\")\n",
    "    else:\n",
    "        print(\"El número es impar\")\n",
    "elif numero % 2 == 0:\n",
    "    print(\"El número es par\")\n",
    "else:\n",
    "    print(\"El número es impar\")"
   ]
  },
  {
   "cell_type": "code",
   "execution_count": 11,
   "id": "fd3fed49",
   "metadata": {},
   "outputs": [
    {
     "name": "stdout",
     "output_type": "stream",
     "text": [
      "Elije un número: 2\n",
      "\n",
      " La tabla del 2 es: \n",
      "\n",
      "2 x 1 = 2\n",
      "2 x 2 = 4\n",
      "2 x 3 = 6\n",
      "2 x 4 = 8\n",
      "2 x 5 = 10\n",
      "2 x 6 = 12\n",
      "2 x 7 = 14\n",
      "2 x 8 = 16\n",
      "2 x 9 = 18\n",
      "2 x 10 = 20\n"
     ]
    }
   ],
   "source": [
    "# ejercicio 2\n",
    "numero = int(input(\"Elije un número: \"))\n",
    "\n",
    "print(\"\\n La tabla del\", numero, \"es: \\n\")\n",
    "for i in range(1, 11):\n",
    "    multiplo = numero * i\n",
    "    print(numero,'x',i,'=',multiplo)"
   ]
  },
  {
   "cell_type": "code",
   "execution_count": 13,
   "id": "4b82688b",
   "metadata": {},
   "outputs": [
    {
     "name": "stdout",
     "output_type": "stream",
     "text": [
      "¿Cuál es tu nombre? Elen\n",
      "En que año naciste: 78\n",
      "Hola, Elen! Tienes 1945 años.\n"
     ]
    }
   ],
   "source": [
    "# ejercicio 3\n",
    "def calculadora_edad(nombre, anio_nac):\n",
    "    anio_actual = 2023\n",
    "    edad = anio_actual - anio_nac\n",
    "    return edad\n",
    "\n",
    "nombre = input(\"¿Cuál es tu nombre? \")\n",
    "anio_nac = int(input(\"En que año naciste: \"))\n",
    "\n",
    "edad_persona = calculadora_edad(nombre, anio_nac)\n",
    "\n",
    "print(\"Hola,\", nombre + \"! Tienes\", edad_persona, \"años.\")"
   ]
  }
 ],
 "metadata": {
  "kernelspec": {
   "display_name": "Python 3 (ipykernel)",
   "language": "python",
   "name": "python3"
  },
  "language_info": {
   "codemirror_mode": {
    "name": "ipython",
    "version": 3
   },
   "file_extension": ".py",
   "mimetype": "text/x-python",
   "name": "python",
   "nbconvert_exporter": "python",
   "pygments_lexer": "ipython3",
   "version": "3.10.6"
  }
 },
 "nbformat": 4,
 "nbformat_minor": 5
}

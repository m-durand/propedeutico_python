{
 "cells": [
  {
   "cell_type": "markdown",
   "id": "c24dbfb0",
   "metadata": {},
   "source": [
    "# Propedéutico a programación con Python.\n",
    "\n",
    "**Verano 2023, por el Centro de Ciencia de Datos, EGobiernoyTP.**\n",
    "\n",
    "### Sesión 4: \n",
    "\n",
    "pandas\n",
    "numpy\n",
    "cargar archivos con pandas "
   ]
  },
  {
   "cell_type": "code",
   "execution_count": 4,
   "id": "92ec61dc",
   "metadata": {},
   "outputs": [],
   "source": [
    "# Paquetes\n",
    "import numpy as np\n",
    "import pandas as pd"
   ]
  },
  {
   "cell_type": "markdown",
   "id": "4697b28a",
   "metadata": {},
   "source": [
    "### Algunas líneas de set-up útiles"
   ]
  },
  {
   "cell_type": "markdown",
   "id": "c9fef905",
   "metadata": {},
   "source": [
    "**Para ver 200 filas en el notebook**"
   ]
  },
  {
   "cell_type": "code",
   "execution_count": 5,
   "id": "6c41fa57",
   "metadata": {},
   "outputs": [],
   "source": [
    "pd.set_option('display.max_rows', 2000)"
   ]
  },
  {
   "cell_type": "markdown",
   "id": "7f2d6a5f",
   "metadata": {},
   "source": [
    "**Para ver 10 columnas en el notebook**"
   ]
  },
  {
   "cell_type": "code",
   "execution_count": 6,
   "id": "11128bed",
   "metadata": {},
   "outputs": [],
   "source": [
    "pd.set_option('display.max_columns', 10)"
   ]
  },
  {
   "cell_type": "markdown",
   "id": "fc2b8e0a",
   "metadata": {},
   "source": [
    "### Leer datos con pandas"
   ]
  },
  {
   "cell_type": "code",
   "execution_count": 16,
   "id": "db24280f",
   "metadata": {},
   "outputs": [],
   "source": [
    "# Datos\n",
    "df = pd.read_csv('../datos/proyecciones.csv')"
   ]
  },
  {
   "cell_type": "markdown",
   "id": "bed2849b",
   "metadata": {},
   "source": [
    "## 1. ¿Cuántas variables y observaciones tenemos?"
   ]
  },
  {
   "cell_type": "code",
   "execution_count": 17,
   "id": "e47f5113",
   "metadata": {},
   "outputs": [
    {
     "data": {
      "text/plain": [
       "(2693, 73)"
      ]
     },
     "execution_count": 17,
     "metadata": {},
     "output_type": "execute_result"
    }
   ],
   "source": [
    "df.shape"
   ]
  },
  {
   "cell_type": "code",
   "execution_count": 18,
   "id": "94e37915",
   "metadata": {},
   "outputs": [
    {
     "data": {
      "text/plain": [
       "2693"
      ]
     },
     "execution_count": 18,
     "metadata": {},
     "output_type": "execute_result"
    }
   ],
   "source": [
    "# Renglones\n",
    "df.shape[0]"
   ]
  },
  {
   "cell_type": "code",
   "execution_count": 19,
   "id": "a24ffd37",
   "metadata": {},
   "outputs": [
    {
     "data": {
      "text/plain": [
       "73"
      ]
     },
     "execution_count": 19,
     "metadata": {},
     "output_type": "execute_result"
    }
   ],
   "source": [
    "# Columnas\n",
    "df.shape[1]"
   ]
  },
  {
   "cell_type": "code",
   "execution_count": 20,
   "id": "9a222a44",
   "metadata": {},
   "outputs": [
    {
     "data": {
      "text/plain": [
       "Index(['RENGLON', 'AÑO', 'ENTIDAD', 'CVE_GEO', 'CRE_NAT', 'CRE_SOC', 'CRE_TOT',\n",
       "       'DEF', 'EDAD_MED', 'EMI_EST', 'EMI_INT', 'EVH', 'EVM', 'EV',\n",
       "       'HOM_MIT_AÑO', 'IND_ENV', 'INM_EST', 'INM_INT', 'MIG_NET_EST',\n",
       "       'MIG_NET_INT', 'MUJ_MIT_AÑO', 'NAC', 'POB_MIT_AÑO', 'MUJ_12_14',\n",
       "       'MUJ_15_17', 'MUJ_15_19', 'MUJ_15_29', 'MUJ_15_49', 'MUJ_18_24',\n",
       "       'MUJ_20_24', 'MUJ_3_5', 'MUJ_30_64', 'MUJ_6_11', 'MUJ_65_MAS',\n",
       "       'HOM_12_14', 'HOM_15_17', 'HOM_15_19', 'HOM_15_29', 'HOM_15_49',\n",
       "       'HOM_18_24', 'HOM_20_24', 'HOM_3_5', 'HOM_30_64', 'HOM_6_11',\n",
       "       'HOM_65_MAS', 'POB_12_14', 'POB_15_17', 'POB_15_19', 'POB_15_29',\n",
       "       'POB_15_49', 'POB_18_24', 'POB_20_24', 'POB_3_5', 'POB_30_64',\n",
       "       'POB_6_11', 'POB_65_MAS', 'RAZ_DEP_ADU', 'RAZ_DEP_INF', 'RAZ_DEP',\n",
       "       'T_BRU_MOR', 'T_BRU_NAT', 'T_CRE_NAT', 'T_CRE_SOC', 'T_CRE_TOT',\n",
       "       'T_EMI_EST', 'T_INM_EST', 'T_MIG_NET_EST', 'T_MIG_NET_INT', 'TMIH',\n",
       "       'TMIM', 'TMI', 'TEF_ADO', 'TGF'],\n",
       "      dtype='object')"
      ]
     },
     "execution_count": 20,
     "metadata": {},
     "output_type": "execute_result"
    }
   ],
   "source": [
    "# Nombre de columnas\n",
    "df.columns"
   ]
  },
  {
   "cell_type": "code",
   "execution_count": 21,
   "id": "5ca3e768",
   "metadata": {},
   "outputs": [
    {
     "data": {
      "text/html": [
       "<div>\n",
       "<style scoped>\n",
       "    .dataframe tbody tr th:only-of-type {\n",
       "        vertical-align: middle;\n",
       "    }\n",
       "\n",
       "    .dataframe tbody tr th {\n",
       "        vertical-align: top;\n",
       "    }\n",
       "\n",
       "    .dataframe thead th {\n",
       "        text-align: right;\n",
       "    }\n",
       "</style>\n",
       "<table border=\"1\" class=\"dataframe\">\n",
       "  <thead>\n",
       "    <tr style=\"text-align: right;\">\n",
       "      <th></th>\n",
       "      <th>RENGLON</th>\n",
       "      <th>AÑO</th>\n",
       "      <th>ENTIDAD</th>\n",
       "      <th>CVE_GEO</th>\n",
       "      <th>CRE_NAT</th>\n",
       "      <th>...</th>\n",
       "      <th>TMIH</th>\n",
       "      <th>TMIM</th>\n",
       "      <th>TMI</th>\n",
       "      <th>TEF_ADO</th>\n",
       "      <th>TGF</th>\n",
       "    </tr>\n",
       "  </thead>\n",
       "  <tbody>\n",
       "    <tr>\n",
       "      <th>0</th>\n",
       "      <td>1</td>\n",
       "      <td>1950</td>\n",
       "      <td>República Mexicana</td>\n",
       "      <td>0</td>\n",
       "      <td>771494</td>\n",
       "      <td>...</td>\n",
       "      <td>138.63</td>\n",
       "      <td>120.64</td>\n",
       "      <td>129.85</td>\n",
       "      <td>149.49</td>\n",
       "      <td>6.57</td>\n",
       "    </tr>\n",
       "    <tr>\n",
       "      <th>1</th>\n",
       "      <td>2</td>\n",
       "      <td>1951</td>\n",
       "      <td>República Mexicana</td>\n",
       "      <td>0</td>\n",
       "      <td>797550</td>\n",
       "      <td>...</td>\n",
       "      <td>139.83</td>\n",
       "      <td>121.47</td>\n",
       "      <td>130.87</td>\n",
       "      <td>152.02</td>\n",
       "      <td>6.66</td>\n",
       "    </tr>\n",
       "    <tr>\n",
       "      <th>2</th>\n",
       "      <td>3</td>\n",
       "      <td>1952</td>\n",
       "      <td>República Mexicana</td>\n",
       "      <td>0</td>\n",
       "      <td>867222</td>\n",
       "      <td>...</td>\n",
       "      <td>130.46</td>\n",
       "      <td>113.15</td>\n",
       "      <td>122.02</td>\n",
       "      <td>153.13</td>\n",
       "      <td>6.72</td>\n",
       "    </tr>\n",
       "    <tr>\n",
       "      <th>3</th>\n",
       "      <td>4</td>\n",
       "      <td>1953</td>\n",
       "      <td>República Mexicana</td>\n",
       "      <td>0</td>\n",
       "      <td>882943</td>\n",
       "      <td>...</td>\n",
       "      <td>136.19</td>\n",
       "      <td>117.92</td>\n",
       "      <td>127.28</td>\n",
       "      <td>154.67</td>\n",
       "      <td>6.78</td>\n",
       "    </tr>\n",
       "    <tr>\n",
       "      <th>4</th>\n",
       "      <td>5</td>\n",
       "      <td>1954</td>\n",
       "      <td>República Mexicana</td>\n",
       "      <td>0</td>\n",
       "      <td>974839</td>\n",
       "      <td>...</td>\n",
       "      <td>119.73</td>\n",
       "      <td>103.49</td>\n",
       "      <td>111.81</td>\n",
       "      <td>154.93</td>\n",
       "      <td>6.77</td>\n",
       "    </tr>\n",
       "  </tbody>\n",
       "</table>\n",
       "<p>5 rows × 73 columns</p>\n",
       "</div>"
      ],
      "text/plain": [
       "   RENGLON   AÑO             ENTIDAD  CVE_GEO  CRE_NAT  ...    TMIH    TMIM  \\\n",
       "0        1  1950  República Mexicana        0   771494  ...  138.63  120.64   \n",
       "1        2  1951  República Mexicana        0   797550  ...  139.83  121.47   \n",
       "2        3  1952  República Mexicana        0   867222  ...  130.46  113.15   \n",
       "3        4  1953  República Mexicana        0   882943  ...  136.19  117.92   \n",
       "4        5  1954  República Mexicana        0   974839  ...  119.73  103.49   \n",
       "\n",
       "      TMI  TEF_ADO   TGF  \n",
       "0  129.85   149.49  6.57  \n",
       "1  130.87   152.02  6.66  \n",
       "2  122.02   153.13  6.72  \n",
       "3  127.28   154.67  6.78  \n",
       "4  111.81   154.93  6.77  \n",
       "\n",
       "[5 rows x 73 columns]"
      ]
     },
     "execution_count": 21,
     "metadata": {},
     "output_type": "execute_result"
    }
   ],
   "source": [
    "# Las primeras 5 observaciones\n",
    "df.head(5)"
   ]
  },
  {
   "cell_type": "code",
   "execution_count": 22,
   "id": "cc3a8591",
   "metadata": {},
   "outputs": [
    {
     "data": {
      "text/html": [
       "<div>\n",
       "<style scoped>\n",
       "    .dataframe tbody tr th:only-of-type {\n",
       "        vertical-align: middle;\n",
       "    }\n",
       "\n",
       "    .dataframe tbody tr th {\n",
       "        vertical-align: top;\n",
       "    }\n",
       "\n",
       "    .dataframe thead th {\n",
       "        text-align: right;\n",
       "    }\n",
       "</style>\n",
       "<table border=\"1\" class=\"dataframe\">\n",
       "  <thead>\n",
       "    <tr style=\"text-align: right;\">\n",
       "      <th></th>\n",
       "      <th>RENGLON</th>\n",
       "      <th>AÑO</th>\n",
       "      <th>ENTIDAD</th>\n",
       "      <th>CVE_GEO</th>\n",
       "      <th>CRE_NAT</th>\n",
       "      <th>...</th>\n",
       "      <th>TMIH</th>\n",
       "      <th>TMIM</th>\n",
       "      <th>TMI</th>\n",
       "      <th>TEF_ADO</th>\n",
       "      <th>TGF</th>\n",
       "    </tr>\n",
       "  </thead>\n",
       "  <tbody>\n",
       "    <tr>\n",
       "      <th>2688</th>\n",
       "      <td>2689</td>\n",
       "      <td>2046</td>\n",
       "      <td>Zacatecas</td>\n",
       "      <td>32</td>\n",
       "      <td>10394</td>\n",
       "      <td>...</td>\n",
       "      <td>6.34</td>\n",
       "      <td>5.17</td>\n",
       "      <td>5.77</td>\n",
       "      <td>61.18</td>\n",
       "      <td>1.91</td>\n",
       "    </tr>\n",
       "    <tr>\n",
       "      <th>2689</th>\n",
       "      <td>2690</td>\n",
       "      <td>2047</td>\n",
       "      <td>Zacatecas</td>\n",
       "      <td>32</td>\n",
       "      <td>9948</td>\n",
       "      <td>...</td>\n",
       "      <td>6.11</td>\n",
       "      <td>4.98</td>\n",
       "      <td>5.56</td>\n",
       "      <td>60.89</td>\n",
       "      <td>1.90</td>\n",
       "    </tr>\n",
       "    <tr>\n",
       "      <th>2690</th>\n",
       "      <td>2691</td>\n",
       "      <td>2048</td>\n",
       "      <td>Zacatecas</td>\n",
       "      <td>32</td>\n",
       "      <td>9504</td>\n",
       "      <td>...</td>\n",
       "      <td>5.87</td>\n",
       "      <td>4.80</td>\n",
       "      <td>5.35</td>\n",
       "      <td>60.60</td>\n",
       "      <td>1.89</td>\n",
       "    </tr>\n",
       "    <tr>\n",
       "      <th>2691</th>\n",
       "      <td>2692</td>\n",
       "      <td>2049</td>\n",
       "      <td>Zacatecas</td>\n",
       "      <td>32</td>\n",
       "      <td>9045</td>\n",
       "      <td>...</td>\n",
       "      <td>5.65</td>\n",
       "      <td>4.62</td>\n",
       "      <td>5.15</td>\n",
       "      <td>60.38</td>\n",
       "      <td>1.88</td>\n",
       "    </tr>\n",
       "    <tr>\n",
       "      <th>2692</th>\n",
       "      <td>2693</td>\n",
       "      <td>2050</td>\n",
       "      <td>Zacatecas</td>\n",
       "      <td>32</td>\n",
       "      <td>8624</td>\n",
       "      <td>...</td>\n",
       "      <td>5.44</td>\n",
       "      <td>4.45</td>\n",
       "      <td>4.96</td>\n",
       "      <td>60.15</td>\n",
       "      <td>1.88</td>\n",
       "    </tr>\n",
       "  </tbody>\n",
       "</table>\n",
       "<p>5 rows × 73 columns</p>\n",
       "</div>"
      ],
      "text/plain": [
       "      RENGLON   AÑO    ENTIDAD  CVE_GEO  CRE_NAT  ...  TMIH  TMIM   TMI  \\\n",
       "2688     2689  2046  Zacatecas       32    10394  ...  6.34  5.17  5.77   \n",
       "2689     2690  2047  Zacatecas       32     9948  ...  6.11  4.98  5.56   \n",
       "2690     2691  2048  Zacatecas       32     9504  ...  5.87  4.80  5.35   \n",
       "2691     2692  2049  Zacatecas       32     9045  ...  5.65  4.62  5.15   \n",
       "2692     2693  2050  Zacatecas       32     8624  ...  5.44  4.45  4.96   \n",
       "\n",
       "      TEF_ADO   TGF  \n",
       "2688    61.18  1.91  \n",
       "2689    60.89  1.90  \n",
       "2690    60.60  1.89  \n",
       "2691    60.38  1.88  \n",
       "2692    60.15  1.88  \n",
       "\n",
       "[5 rows x 73 columns]"
      ]
     },
     "execution_count": 22,
     "metadata": {},
     "output_type": "execute_result"
    }
   ],
   "source": [
    "# Las últimas 5 observaciones\n",
    "df.tail(5)"
   ]
  },
  {
   "cell_type": "code",
   "execution_count": 23,
   "id": "4d0d5975",
   "metadata": {},
   "outputs": [
    {
     "data": {
      "text/html": [
       "<div>\n",
       "<style scoped>\n",
       "    .dataframe tbody tr th:only-of-type {\n",
       "        vertical-align: middle;\n",
       "    }\n",
       "\n",
       "    .dataframe tbody tr th {\n",
       "        vertical-align: top;\n",
       "    }\n",
       "\n",
       "    .dataframe thead th {\n",
       "        text-align: right;\n",
       "    }\n",
       "</style>\n",
       "<table border=\"1\" class=\"dataframe\">\n",
       "  <thead>\n",
       "    <tr style=\"text-align: right;\">\n",
       "      <th></th>\n",
       "      <th>RENGLON</th>\n",
       "      <th>AÑO</th>\n",
       "      <th>ENTIDAD</th>\n",
       "      <th>CVE_GEO</th>\n",
       "      <th>CRE_NAT</th>\n",
       "      <th>...</th>\n",
       "      <th>TMIH</th>\n",
       "      <th>TMIM</th>\n",
       "      <th>TMI</th>\n",
       "      <th>TEF_ADO</th>\n",
       "      <th>TGF</th>\n",
       "    </tr>\n",
       "  </thead>\n",
       "  <tbody>\n",
       "    <tr>\n",
       "      <th>1205</th>\n",
       "      <td>1206</td>\n",
       "      <td>2021</td>\n",
       "      <td>Jalisco</td>\n",
       "      <td>14</td>\n",
       "      <td>89963</td>\n",
       "      <td>...</td>\n",
       "      <td>10.63</td>\n",
       "      <td>8.78</td>\n",
       "      <td>9.73</td>\n",
       "      <td>62.51</td>\n",
       "      <td>2.02</td>\n",
       "    </tr>\n",
       "    <tr>\n",
       "      <th>882</th>\n",
       "      <td>883</td>\n",
       "      <td>2022</td>\n",
       "      <td>Durango</td>\n",
       "      <td>10</td>\n",
       "      <td>20590</td>\n",
       "      <td>...</td>\n",
       "      <td>14.52</td>\n",
       "      <td>11.76</td>\n",
       "      <td>13.17</td>\n",
       "      <td>63.62</td>\n",
       "      <td>2.10</td>\n",
       "    </tr>\n",
       "    <tr>\n",
       "      <th>1245</th>\n",
       "      <td>1246</td>\n",
       "      <td>1980</td>\n",
       "      <td>México</td>\n",
       "      <td>15</td>\n",
       "      <td>216599</td>\n",
       "      <td>...</td>\n",
       "      <td>51.65</td>\n",
       "      <td>41.77</td>\n",
       "      <td>46.83</td>\n",
       "      <td>105.17</td>\n",
       "      <td>4.53</td>\n",
       "    </tr>\n",
       "    <tr>\n",
       "      <th>1596</th>\n",
       "      <td>1597</td>\n",
       "      <td>2007</td>\n",
       "      <td>Nuevo León</td>\n",
       "      <td>19</td>\n",
       "      <td>65333</td>\n",
       "      <td>...</td>\n",
       "      <td>13.93</td>\n",
       "      <td>11.32</td>\n",
       "      <td>12.65</td>\n",
       "      <td>70.45</td>\n",
       "      <td>2.24</td>\n",
       "    </tr>\n",
       "    <tr>\n",
       "      <th>647</th>\n",
       "      <td>648</td>\n",
       "      <td>2030</td>\n",
       "      <td>Chiapas</td>\n",
       "      <td>7</td>\n",
       "      <td>93854</td>\n",
       "      <td>...</td>\n",
       "      <td>15.96</td>\n",
       "      <td>12.82</td>\n",
       "      <td>14.43</td>\n",
       "      <td>77.40</td>\n",
       "      <td>2.48</td>\n",
       "    </tr>\n",
       "  </tbody>\n",
       "</table>\n",
       "<p>5 rows × 73 columns</p>\n",
       "</div>"
      ],
      "text/plain": [
       "      RENGLON   AÑO     ENTIDAD  CVE_GEO  CRE_NAT  ...   TMIH   TMIM    TMI  \\\n",
       "1205     1206  2021     Jalisco       14    89963  ...  10.63   8.78   9.73   \n",
       "882       883  2022     Durango       10    20590  ...  14.52  11.76  13.17   \n",
       "1245     1246  1980      México       15   216599  ...  51.65  41.77  46.83   \n",
       "1596     1597  2007  Nuevo León       19    65333  ...  13.93  11.32  12.65   \n",
       "647       648  2030     Chiapas        7    93854  ...  15.96  12.82  14.43   \n",
       "\n",
       "      TEF_ADO   TGF  \n",
       "1205    62.51  2.02  \n",
       "882     63.62  2.10  \n",
       "1245   105.17  4.53  \n",
       "1596    70.45  2.24  \n",
       "647     77.40  2.48  \n",
       "\n",
       "[5 rows x 73 columns]"
      ]
     },
     "execution_count": 23,
     "metadata": {},
     "output_type": "execute_result"
    }
   ],
   "source": [
    "# Muestra aleatoria de 5 observaciones, con semilla para que sea reproducible.\n",
    "df.sample(5,random_state=123)"
   ]
  },
  {
   "cell_type": "code",
   "execution_count": 26,
   "id": "c84eec2a",
   "metadata": {},
   "outputs": [
    {
     "data": {
      "text/html": [
       "<div>\n",
       "<style scoped>\n",
       "    .dataframe tbody tr th:only-of-type {\n",
       "        vertical-align: middle;\n",
       "    }\n",
       "\n",
       "    .dataframe tbody tr th {\n",
       "        vertical-align: top;\n",
       "    }\n",
       "\n",
       "    .dataframe thead th {\n",
       "        text-align: right;\n",
       "    }\n",
       "</style>\n",
       "<table border=\"1\" class=\"dataframe\">\n",
       "  <thead>\n",
       "    <tr style=\"text-align: right;\">\n",
       "      <th></th>\n",
       "      <th>RENGLON</th>\n",
       "      <th>AÑO</th>\n",
       "      <th>ENTIDAD</th>\n",
       "      <th>CVE_GEO</th>\n",
       "      <th>CRE_NAT</th>\n",
       "      <th>...</th>\n",
       "      <th>TMIH</th>\n",
       "      <th>TMIM</th>\n",
       "      <th>TMI</th>\n",
       "      <th>TEF_ADO</th>\n",
       "      <th>TGF</th>\n",
       "    </tr>\n",
       "  </thead>\n",
       "  <tbody>\n",
       "    <tr>\n",
       "      <th>1205</th>\n",
       "      <td>1206</td>\n",
       "      <td>2021</td>\n",
       "      <td>Jalisco</td>\n",
       "      <td>14</td>\n",
       "      <td>89963</td>\n",
       "      <td>...</td>\n",
       "      <td>10.63</td>\n",
       "      <td>8.78</td>\n",
       "      <td>9.73</td>\n",
       "      <td>62.51</td>\n",
       "      <td>2.02</td>\n",
       "    </tr>\n",
       "    <tr>\n",
       "      <th>882</th>\n",
       "      <td>883</td>\n",
       "      <td>2022</td>\n",
       "      <td>Durango</td>\n",
       "      <td>10</td>\n",
       "      <td>20590</td>\n",
       "      <td>...</td>\n",
       "      <td>14.52</td>\n",
       "      <td>11.76</td>\n",
       "      <td>13.17</td>\n",
       "      <td>63.62</td>\n",
       "      <td>2.10</td>\n",
       "    </tr>\n",
       "    <tr>\n",
       "      <th>1245</th>\n",
       "      <td>1246</td>\n",
       "      <td>1980</td>\n",
       "      <td>México</td>\n",
       "      <td>15</td>\n",
       "      <td>216599</td>\n",
       "      <td>...</td>\n",
       "      <td>51.65</td>\n",
       "      <td>41.77</td>\n",
       "      <td>46.83</td>\n",
       "      <td>105.17</td>\n",
       "      <td>4.53</td>\n",
       "    </tr>\n",
       "    <tr>\n",
       "      <th>1596</th>\n",
       "      <td>1597</td>\n",
       "      <td>2007</td>\n",
       "      <td>Nuevo León</td>\n",
       "      <td>19</td>\n",
       "      <td>65333</td>\n",
       "      <td>...</td>\n",
       "      <td>13.93</td>\n",
       "      <td>11.32</td>\n",
       "      <td>12.65</td>\n",
       "      <td>70.45</td>\n",
       "      <td>2.24</td>\n",
       "    </tr>\n",
       "    <tr>\n",
       "      <th>647</th>\n",
       "      <td>648</td>\n",
       "      <td>2030</td>\n",
       "      <td>Chiapas</td>\n",
       "      <td>7</td>\n",
       "      <td>93854</td>\n",
       "      <td>...</td>\n",
       "      <td>15.96</td>\n",
       "      <td>12.82</td>\n",
       "      <td>14.43</td>\n",
       "      <td>77.40</td>\n",
       "      <td>2.48</td>\n",
       "    </tr>\n",
       "    <tr>\n",
       "      <th>948</th>\n",
       "      <td>949</td>\n",
       "      <td>2007</td>\n",
       "      <td>Guanajuato</td>\n",
       "      <td>11</td>\n",
       "      <td>94059</td>\n",
       "      <td>...</td>\n",
       "      <td>20.85</td>\n",
       "      <td>16.70</td>\n",
       "      <td>18.83</td>\n",
       "      <td>68.70</td>\n",
       "      <td>2.58</td>\n",
       "    </tr>\n",
       "    <tr>\n",
       "      <th>315</th>\n",
       "      <td>316</td>\n",
       "      <td>2022</td>\n",
       "      <td>Baja California Sur</td>\n",
       "      <td>3</td>\n",
       "      <td>9929</td>\n",
       "      <td>...</td>\n",
       "      <td>10.88</td>\n",
       "      <td>8.94</td>\n",
       "      <td>9.93</td>\n",
       "      <td>67.89</td>\n",
       "      <td>2.12</td>\n",
       "    </tr>\n",
       "    <tr>\n",
       "      <th>2335</th>\n",
       "      <td>2336</td>\n",
       "      <td>2017</td>\n",
       "      <td>Tamaulipas</td>\n",
       "      <td>28</td>\n",
       "      <td>42823</td>\n",
       "      <td>...</td>\n",
       "      <td>13.62</td>\n",
       "      <td>11.12</td>\n",
       "      <td>12.40</td>\n",
       "      <td>70.53</td>\n",
       "      <td>2.27</td>\n",
       "    </tr>\n",
       "    <tr>\n",
       "      <th>2618</th>\n",
       "      <td>2619</td>\n",
       "      <td>1976</td>\n",
       "      <td>Zacatecas</td>\n",
       "      <td>32</td>\n",
       "      <td>35187</td>\n",
       "      <td>...</td>\n",
       "      <td>81.02</td>\n",
       "      <td>68.24</td>\n",
       "      <td>74.78</td>\n",
       "      <td>114.99</td>\n",
       "      <td>6.95</td>\n",
       "    </tr>\n",
       "    <tr>\n",
       "      <th>1852</th>\n",
       "      <td>1853</td>\n",
       "      <td>2020</td>\n",
       "      <td>Querétaro</td>\n",
       "      <td>22</td>\n",
       "      <td>27468</td>\n",
       "      <td>...</td>\n",
       "      <td>13.10</td>\n",
       "      <td>10.65</td>\n",
       "      <td>11.90</td>\n",
       "      <td>59.74</td>\n",
       "      <td>2.01</td>\n",
       "    </tr>\n",
       "    <tr>\n",
       "      <th>103</th>\n",
       "      <td>104</td>\n",
       "      <td>1972</td>\n",
       "      <td>Aguascalientes</td>\n",
       "      <td>1</td>\n",
       "      <td>13058</td>\n",
       "      <td>...</td>\n",
       "      <td>66.14</td>\n",
       "      <td>54.56</td>\n",
       "      <td>60.49</td>\n",
       "      <td>101.82</td>\n",
       "      <td>6.82</td>\n",
       "    </tr>\n",
       "    <tr>\n",
       "      <th>597</th>\n",
       "      <td>598</td>\n",
       "      <td>1980</td>\n",
       "      <td>Chiapas</td>\n",
       "      <td>7</td>\n",
       "      <td>72437</td>\n",
       "      <td>...</td>\n",
       "      <td>87.78</td>\n",
       "      <td>75.04</td>\n",
       "      <td>81.56</td>\n",
       "      <td>167.61</td>\n",
       "      <td>5.74</td>\n",
       "    </tr>\n",
       "    <tr>\n",
       "      <th>208</th>\n",
       "      <td>209</td>\n",
       "      <td>1996</td>\n",
       "      <td>Baja California</td>\n",
       "      <td>2</td>\n",
       "      <td>43508</td>\n",
       "      <td>...</td>\n",
       "      <td>22.55</td>\n",
       "      <td>17.75</td>\n",
       "      <td>20.21</td>\n",
       "      <td>82.53</td>\n",
       "      <td>2.69</td>\n",
       "    </tr>\n",
       "    <tr>\n",
       "      <th>1286</th>\n",
       "      <td>1287</td>\n",
       "      <td>2021</td>\n",
       "      <td>México</td>\n",
       "      <td>15</td>\n",
       "      <td>169775</td>\n",
       "      <td>...</td>\n",
       "      <td>14.46</td>\n",
       "      <td>11.56</td>\n",
       "      <td>13.05</td>\n",
       "      <td>61.67</td>\n",
       "      <td>1.87</td>\n",
       "    </tr>\n",
       "    <tr>\n",
       "      <th>1722</th>\n",
       "      <td>1723</td>\n",
       "      <td>1971</td>\n",
       "      <td>Puebla</td>\n",
       "      <td>21</td>\n",
       "      <td>103998</td>\n",
       "      <td>...</td>\n",
       "      <td>88.79</td>\n",
       "      <td>75.27</td>\n",
       "      <td>82.20</td>\n",
       "      <td>157.88</td>\n",
       "      <td>7.60</td>\n",
       "    </tr>\n",
       "    <tr>\n",
       "      <th>1961</th>\n",
       "      <td>1962</td>\n",
       "      <td>2048</td>\n",
       "      <td>Quintana Roo</td>\n",
       "      <td>23</td>\n",
       "      <td>9297</td>\n",
       "      <td>...</td>\n",
       "      <td>4.16</td>\n",
       "      <td>3.47</td>\n",
       "      <td>3.82</td>\n",
       "      <td>52.30</td>\n",
       "      <td>1.59</td>\n",
       "    </tr>\n",
       "    <tr>\n",
       "      <th>746</th>\n",
       "      <td>747</td>\n",
       "      <td>2048</td>\n",
       "      <td>Chihuahua</td>\n",
       "      <td>8</td>\n",
       "      <td>7971</td>\n",
       "      <td>...</td>\n",
       "      <td>5.58</td>\n",
       "      <td>4.60</td>\n",
       "      <td>5.10</td>\n",
       "      <td>57.97</td>\n",
       "      <td>1.61</td>\n",
       "    </tr>\n",
       "    <tr>\n",
       "      <th>1829</th>\n",
       "      <td>1830</td>\n",
       "      <td>1997</td>\n",
       "      <td>Querétaro</td>\n",
       "      <td>22</td>\n",
       "      <td>28995</td>\n",
       "      <td>...</td>\n",
       "      <td>25.39</td>\n",
       "      <td>20.30</td>\n",
       "      <td>22.91</td>\n",
       "      <td>72.57</td>\n",
       "      <td>2.97</td>\n",
       "    </tr>\n",
       "    <tr>\n",
       "      <th>1725</th>\n",
       "      <td>1726</td>\n",
       "      <td>1974</td>\n",
       "      <td>Puebla</td>\n",
       "      <td>21</td>\n",
       "      <td>109470</td>\n",
       "      <td>...</td>\n",
       "      <td>83.39</td>\n",
       "      <td>70.42</td>\n",
       "      <td>77.06</td>\n",
       "      <td>158.06</td>\n",
       "      <td>7.24</td>\n",
       "    </tr>\n",
       "    <tr>\n",
       "      <th>249</th>\n",
       "      <td>250</td>\n",
       "      <td>2037</td>\n",
       "      <td>Baja California</td>\n",
       "      <td>2</td>\n",
       "      <td>22956</td>\n",
       "      <td>...</td>\n",
       "      <td>5.94</td>\n",
       "      <td>4.99</td>\n",
       "      <td>5.48</td>\n",
       "      <td>52.99</td>\n",
       "      <td>1.63</td>\n",
       "    </tr>\n",
       "    <tr>\n",
       "      <th>632</th>\n",
       "      <td>633</td>\n",
       "      <td>2015</td>\n",
       "      <td>Chiapas</td>\n",
       "      <td>7</td>\n",
       "      <td>101927</td>\n",
       "      <td>...</td>\n",
       "      <td>23.54</td>\n",
       "      <td>19.23</td>\n",
       "      <td>21.44</td>\n",
       "      <td>91.56</td>\n",
       "      <td>2.82</td>\n",
       "    </tr>\n",
       "    <tr>\n",
       "      <th>2679</th>\n",
       "      <td>2680</td>\n",
       "      <td>2037</td>\n",
       "      <td>Zacatecas</td>\n",
       "      <td>32</td>\n",
       "      <td>14226</td>\n",
       "      <td>...</td>\n",
       "      <td>8.91</td>\n",
       "      <td>7.23</td>\n",
       "      <td>8.09</td>\n",
       "      <td>64.07</td>\n",
       "      <td>2.01</td>\n",
       "    </tr>\n",
       "    <tr>\n",
       "      <th>853</th>\n",
       "      <td>854</td>\n",
       "      <td>1993</td>\n",
       "      <td>Durango</td>\n",
       "      <td>10</td>\n",
       "      <td>35253</td>\n",
       "      <td>...</td>\n",
       "      <td>31.46</td>\n",
       "      <td>25.49</td>\n",
       "      <td>28.55</td>\n",
       "      <td>99.08</td>\n",
       "      <td>3.67</td>\n",
       "    </tr>\n",
       "    <tr>\n",
       "      <th>961</th>\n",
       "      <td>962</td>\n",
       "      <td>2020</td>\n",
       "      <td>Guanajuato</td>\n",
       "      <td>11</td>\n",
       "      <td>76516</td>\n",
       "      <td>...</td>\n",
       "      <td>15.36</td>\n",
       "      <td>12.43</td>\n",
       "      <td>13.93</td>\n",
       "      <td>68.03</td>\n",
       "      <td>2.13</td>\n",
       "    </tr>\n",
       "    <tr>\n",
       "      <th>1476</th>\n",
       "      <td>1477</td>\n",
       "      <td>2049</td>\n",
       "      <td>Morelos</td>\n",
       "      <td>17</td>\n",
       "      <td>5334</td>\n",
       "      <td>...</td>\n",
       "      <td>4.03</td>\n",
       "      <td>3.08</td>\n",
       "      <td>3.57</td>\n",
       "      <td>61.06</td>\n",
       "      <td>1.78</td>\n",
       "    </tr>\n",
       "    <tr>\n",
       "      <th>1832</th>\n",
       "      <td>1833</td>\n",
       "      <td>2000</td>\n",
       "      <td>Querétaro</td>\n",
       "      <td>22</td>\n",
       "      <td>29723</td>\n",
       "      <td>...</td>\n",
       "      <td>22.93</td>\n",
       "      <td>18.32</td>\n",
       "      <td>20.68</td>\n",
       "      <td>67.74</td>\n",
       "      <td>2.74</td>\n",
       "    </tr>\n",
       "    <tr>\n",
       "      <th>553</th>\n",
       "      <td>554</td>\n",
       "      <td>2017</td>\n",
       "      <td>Colima</td>\n",
       "      <td>6</td>\n",
       "      <td>9298</td>\n",
       "      <td>...</td>\n",
       "      <td>12.25</td>\n",
       "      <td>10.01</td>\n",
       "      <td>11.16</td>\n",
       "      <td>70.33</td>\n",
       "      <td>2.15</td>\n",
       "    </tr>\n",
       "  </tbody>\n",
       "</table>\n",
       "<p>27 rows × 73 columns</p>\n",
       "</div>"
      ],
      "text/plain": [
       "      RENGLON   AÑO              ENTIDAD  CVE_GEO  CRE_NAT  ...   TMIH   TMIM  \\\n",
       "1205     1206  2021              Jalisco       14    89963  ...  10.63   8.78   \n",
       "882       883  2022              Durango       10    20590  ...  14.52  11.76   \n",
       "1245     1246  1980               México       15   216599  ...  51.65  41.77   \n",
       "1596     1597  2007           Nuevo León       19    65333  ...  13.93  11.32   \n",
       "647       648  2030              Chiapas        7    93854  ...  15.96  12.82   \n",
       "948       949  2007           Guanajuato       11    94059  ...  20.85  16.70   \n",
       "315       316  2022  Baja California Sur        3     9929  ...  10.88   8.94   \n",
       "2335     2336  2017           Tamaulipas       28    42823  ...  13.62  11.12   \n",
       "2618     2619  1976            Zacatecas       32    35187  ...  81.02  68.24   \n",
       "1852     1853  2020            Querétaro       22    27468  ...  13.10  10.65   \n",
       "103       104  1972       Aguascalientes        1    13058  ...  66.14  54.56   \n",
       "597       598  1980              Chiapas        7    72437  ...  87.78  75.04   \n",
       "208       209  1996      Baja California        2    43508  ...  22.55  17.75   \n",
       "1286     1287  2021               México       15   169775  ...  14.46  11.56   \n",
       "1722     1723  1971               Puebla       21   103998  ...  88.79  75.27   \n",
       "1961     1962  2048         Quintana Roo       23     9297  ...   4.16   3.47   \n",
       "746       747  2048            Chihuahua        8     7971  ...   5.58   4.60   \n",
       "1829     1830  1997            Querétaro       22    28995  ...  25.39  20.30   \n",
       "1725     1726  1974               Puebla       21   109470  ...  83.39  70.42   \n",
       "249       250  2037      Baja California        2    22956  ...   5.94   4.99   \n",
       "632       633  2015              Chiapas        7   101927  ...  23.54  19.23   \n",
       "2679     2680  2037            Zacatecas       32    14226  ...   8.91   7.23   \n",
       "853       854  1993              Durango       10    35253  ...  31.46  25.49   \n",
       "961       962  2020           Guanajuato       11    76516  ...  15.36  12.43   \n",
       "1476     1477  2049              Morelos       17     5334  ...   4.03   3.08   \n",
       "1832     1833  2000            Querétaro       22    29723  ...  22.93  18.32   \n",
       "553       554  2017               Colima        6     9298  ...  12.25  10.01   \n",
       "\n",
       "        TMI  TEF_ADO   TGF  \n",
       "1205   9.73    62.51  2.02  \n",
       "882   13.17    63.62  2.10  \n",
       "1245  46.83   105.17  4.53  \n",
       "1596  12.65    70.45  2.24  \n",
       "647   14.43    77.40  2.48  \n",
       "948   18.83    68.70  2.58  \n",
       "315    9.93    67.89  2.12  \n",
       "2335  12.40    70.53  2.27  \n",
       "2618  74.78   114.99  6.95  \n",
       "1852  11.90    59.74  2.01  \n",
       "103   60.49   101.82  6.82  \n",
       "597   81.56   167.61  5.74  \n",
       "208   20.21    82.53  2.69  \n",
       "1286  13.05    61.67  1.87  \n",
       "1722  82.20   157.88  7.60  \n",
       "1961   3.82    52.30  1.59  \n",
       "746    5.10    57.97  1.61  \n",
       "1829  22.91    72.57  2.97  \n",
       "1725  77.06   158.06  7.24  \n",
       "249    5.48    52.99  1.63  \n",
       "632   21.44    91.56  2.82  \n",
       "2679   8.09    64.07  2.01  \n",
       "853   28.55    99.08  3.67  \n",
       "961   13.93    68.03  2.13  \n",
       "1476   3.57    61.06  1.78  \n",
       "1832  20.68    67.74  2.74  \n",
       "553   11.16    70.33  2.15  \n",
       "\n",
       "[27 rows x 73 columns]"
      ]
     },
     "execution_count": 26,
     "metadata": {},
     "output_type": "execute_result"
    }
   ],
   "source": [
    "# Muestra aletoria del 10% de las observaciones con semilla para que sea reproducible.\n",
    "df.sample(frac=0.01, random_state=123)"
   ]
  },
  {
   "cell_type": "markdown",
   "id": "7760664a",
   "metadata": {},
   "source": [
    "## 2. Tipos de datos por columna"
   ]
  },
  {
   "cell_type": "code",
   "execution_count": 28,
   "id": "a0be0d3c",
   "metadata": {},
   "outputs": [
    {
     "data": {
      "text/plain": [
       "RENGLON            int64\n",
       "AÑO                int64\n",
       "ENTIDAD           object\n",
       "CVE_GEO            int64\n",
       "CRE_NAT            int64\n",
       "CRE_SOC           object\n",
       "CRE_TOT           object\n",
       "DEF                int64\n",
       "EDAD_MED         float64\n",
       "EMI_EST           object\n",
       "EMI_INT           object\n",
       "EVH              float64\n",
       "EVM              float64\n",
       "EV               float64\n",
       "HOM_MIT_AÑO        int64\n",
       "IND_ENV          float64\n",
       "INM_EST           object\n",
       "INM_INT           object\n",
       "MIG_NET_EST       object\n",
       "MIG_NET_INT       object\n",
       "MUJ_MIT_AÑO        int64\n",
       "NAC                int64\n",
       "POB_MIT_AÑO        int64\n",
       "MUJ_12_14          int64\n",
       "MUJ_15_17          int64\n",
       "MUJ_15_19          int64\n",
       "MUJ_15_29          int64\n",
       "MUJ_15_49          int64\n",
       "MUJ_18_24          int64\n",
       "MUJ_20_24          int64\n",
       "MUJ_3_5            int64\n",
       "MUJ_30_64          int64\n",
       "MUJ_6_11           int64\n",
       "MUJ_65_MAS         int64\n",
       "HOM_12_14          int64\n",
       "HOM_15_17          int64\n",
       "HOM_15_19          int64\n",
       "HOM_15_29          int64\n",
       "HOM_15_49          int64\n",
       "HOM_18_24          int64\n",
       "HOM_20_24          int64\n",
       "HOM_3_5            int64\n",
       "HOM_30_64          int64\n",
       "HOM_6_11           int64\n",
       "HOM_65_MAS         int64\n",
       "POB_12_14          int64\n",
       "POB_15_17          int64\n",
       "POB_15_19          int64\n",
       "POB_15_29          int64\n",
       "POB_15_49          int64\n",
       "POB_18_24          int64\n",
       "POB_20_24          int64\n",
       "POB_3_5            int64\n",
       "POB_30_64          int64\n",
       "POB_6_11           int64\n",
       "POB_65_MAS         int64\n",
       "RAZ_DEP_ADU      float64\n",
       "RAZ_DEP_INF      float64\n",
       "RAZ_DEP          float64\n",
       "T_BRU_MOR        float64\n",
       "T_BRU_NAT        float64\n",
       "T_CRE_NAT        float64\n",
       "T_CRE_SOC         object\n",
       "T_CRE_TOT         object\n",
       "T_EMI_EST         object\n",
       "T_INM_EST         object\n",
       "T_MIG_NET_EST     object\n",
       "T_MIG_NET_INT     object\n",
       "TMIH             float64\n",
       "TMIM             float64\n",
       "TMI              float64\n",
       "TEF_ADO          float64\n",
       "TGF              float64\n",
       "dtype: object"
      ]
     },
     "execution_count": 28,
     "metadata": {},
     "output_type": "execute_result"
    }
   ],
   "source": [
    "df.dtypes"
   ]
  },
  {
   "cell_type": "markdown",
   "id": "1701f79b",
   "metadata": {},
   "source": [
    "### Cambiar tipo de datos"
   ]
  },
  {
   "cell_type": "markdown",
   "id": "5c3ddd32",
   "metadata": {},
   "source": [
    "#### Hacer variable de tipo carácter (str)"
   ]
  },
  {
   "cell_type": "code",
   "execution_count": null,
   "id": "939cc380",
   "metadata": {},
   "outputs": [],
   "source": [
    "df['id'] = df['id'].astype('str')"
   ]
  },
  {
   "cell_type": "markdown",
   "id": "790cd94d",
   "metadata": {},
   "source": [
    "#### Hacer variable de tipo numérica: entero (int) o flotante (float64)"
   ]
  },
  {
   "cell_type": "code",
   "execution_count": null,
   "id": "68183d20",
   "metadata": {},
   "outputs": [],
   "source": [
    "df['id'].astype('int')"
   ]
  },
  {
   "cell_type": "code",
   "execution_count": null,
   "id": "8ff92292",
   "metadata": {},
   "outputs": [],
   "source": [
    "df['id'].astype('float64')"
   ]
  },
  {
   "cell_type": "code",
   "execution_count": null,
   "id": "20a6c15a",
   "metadata": {},
   "outputs": [],
   "source": [
    "# Otra manera de hacer la variable numérica cuando salen errores en las otras funciones\n",
    "df['num_exterior'] = pd.to_numeric(df['num_exterior'])"
   ]
  },
  {
   "cell_type": "markdown",
   "id": "65ca91ec",
   "metadata": {},
   "source": [
    "#### Hacer variable de tipo temporal"
   ]
  },
  {
   "cell_type": "code",
   "execution_count": null,
   "id": "5f4b7456",
   "metadata": {},
   "outputs": [],
   "source": [
    "df['date_retrieved'] = pd.to_datetime(df['date_retrieved'])"
   ]
  },
  {
   "cell_type": "markdown",
   "id": "14b39cfb",
   "metadata": {},
   "source": [
    "### 3. Variables categorícas"
   ]
  },
  {
   "cell_type": "code",
   "execution_count": null,
   "id": "c84c056a",
   "metadata": {},
   "outputs": [],
   "source": [
    "# Valores únicos por variable. En las variables string aparecerán el número de categorías únicas\n",
    "df.nunique()"
   ]
  },
  {
   "cell_type": "markdown",
   "id": "5b4fdf6e",
   "metadata": {},
   "source": [
    "**Si queremos evaluar más a detalle una variable categórica:**"
   ]
  },
  {
   "cell_type": "code",
   "execution_count": null,
   "id": "68a9b763",
   "metadata": {},
   "outputs": [],
   "source": [
    "# Categorías en variable\n",
    "df['sector'].unique()"
   ]
  },
  {
   "cell_type": "code",
   "execution_count": null,
   "id": "f7f7097c",
   "metadata": {},
   "outputs": [],
   "source": [
    "#  Vemos el número de observaciones por categoría de esta variable\n",
    "conteos = df['sector'].value_counts()\n",
    "conteos"
   ]
  },
  {
   "cell_type": "code",
   "execution_count": null,
   "id": "2d85ef28",
   "metadata": {},
   "outputs": [],
   "source": [
    "# Proporción de categorías\n",
    "prop = df['sector'].value_counts(normalize=True)\n",
    "prop"
   ]
  },
  {
   "cell_type": "code",
   "execution_count": null,
   "id": "c61380f8",
   "metadata": {},
   "outputs": [],
   "source": [
    "# Lo visualizamos mejor:\n",
    "pd.concat([conteos,prop], \n",
    "          keys=['num','prop'], \n",
    "          axis=1)"
   ]
  },
  {
   "cell_type": "markdown",
   "id": "1eebb73d",
   "metadata": {},
   "source": [
    "### 4. Variables numéricas"
   ]
  },
  {
   "cell_type": "code",
   "execution_count": null,
   "id": "76ee2821",
   "metadata": {},
   "outputs": [],
   "source": [
    "# Todas las variables que son numéricas las describe con esas características.\n",
    "df.describe()"
   ]
  },
  {
   "cell_type": "markdown",
   "id": "02d24184",
   "metadata": {},
   "source": [
    "### 5. Variables temporales"
   ]
  },
  {
   "cell_type": "code",
   "execution_count": null,
   "id": "1cb130a2",
   "metadata": {},
   "outputs": [],
   "source": [
    "# Para obtener el mes de la variable que previamente ya habíamos hecho temporal\n",
    "df['mes']=df['date_retrieved'].dt.month"
   ]
  },
  {
   "cell_type": "code",
   "execution_count": null,
   "id": "4b293a70",
   "metadata": {},
   "outputs": [],
   "source": [
    "# Año\n",
    "df['date_retrieved'].dt.year"
   ]
  },
  {
   "cell_type": "markdown",
   "id": "6ce6e012",
   "metadata": {},
   "source": [
    "### 6. Ver número de NA's por columna"
   ]
  },
  {
   "cell_type": "code",
   "execution_count": null,
   "id": "45846250",
   "metadata": {},
   "outputs": [],
   "source": [
    "df.isna().sum()"
   ]
  },
  {
   "cell_type": "markdown",
   "id": "5cb7cd3b",
   "metadata": {},
   "source": [
    "### Algunos trucos extra"
   ]
  },
  {
   "cell_type": "markdown",
   "id": "11453ded",
   "metadata": {},
   "source": [
    "Quitar columnas"
   ]
  },
  {
   "cell_type": "code",
   "execution_count": null,
   "id": "f2fbe424",
   "metadata": {},
   "outputs": [],
   "source": [
    "df.drop(['clee',\n",
    "         'razon_social',\n",
    "         'num_interior'], \n",
    "        axis=1, # 0 es por filas y 1 por columnas.\n",
    "        inplace=True # True es para guardar los cambios sobre la misma base. \n",
    "       )"
   ]
  },
  {
   "cell_type": "markdown",
   "id": "e2563a8f",
   "metadata": {},
   "source": [
    "#### Seleccionando subconjuntos de la base\n",
    "\n",
    "`.loc` vs `.iloc`\n",
    "\n",
    "- `.loc`: utiliza las etiquetas de los índices y de las columnas, es decir el nombre como un string.\n",
    "\n",
    "- `iloc`: utiliza la posición como entero del dataframe.\n",
    "\n",
    "Seleccionamos todas las filas (`:`), de las columnas que están desde la posición 0 hasta la 3, y luego las columnas 4, 8, 10."
   ]
  },
  {
   "cell_type": "code",
   "execution_count": null,
   "id": "864a8469",
   "metadata": {},
   "outputs": [],
   "source": [
    "df.iloc[:,0:3]"
   ]
  },
  {
   "cell_type": "code",
   "execution_count": null,
   "id": "ff61aab9",
   "metadata": {},
   "outputs": [],
   "source": [
    "df.iloc[:,[0,2,4]]"
   ]
  },
  {
   "cell_type": "code",
   "execution_count": null,
   "id": "8854f00f",
   "metadata": {},
   "outputs": [],
   "source": [
    "# Selecciona las filas 2 hasta la 6\n",
    "df.iloc[2:6,]"
   ]
  },
  {
   "cell_type": "code",
   "execution_count": null,
   "id": "33ed53a5",
   "metadata": {},
   "outputs": [],
   "source": [
    "# Selecciona filas con los índices 122, 126 y 208:\n",
    "df.iloc[[122,126,208],]"
   ]
  },
  {
   "cell_type": "markdown",
   "id": "a202c5b4",
   "metadata": {},
   "source": [
    "Seleccionar columnas de acuerdo a las etiquetas de las columnas"
   ]
  },
  {
   "cell_type": "code",
   "execution_count": null,
   "id": "cc88bceb",
   "metadata": {},
   "outputs": [],
   "source": [
    "df.loc[:,'sector':'rama']"
   ]
  },
  {
   "cell_type": "code",
   "execution_count": null,
   "id": "107461dd",
   "metadata": {},
   "outputs": [],
   "source": [
    "df.loc[:,['localidad','rama','clase']]"
   ]
  },
  {
   "cell_type": "code",
   "execution_count": null,
   "id": "e6b98cfc",
   "metadata": {},
   "outputs": [],
   "source": [
    "df.loc[0:1,]"
   ]
  },
  {
   "cell_type": "markdown",
   "id": "c460b67b",
   "metadata": {},
   "source": [
    "## Selecionar filas basadas en condiciones"
   ]
  },
  {
   "cell_type": "code",
   "execution_count": null,
   "id": "ddf294b0",
   "metadata": {},
   "outputs": [],
   "source": [
    "df[(['num_exterior','clase','rama'])].query('5 > num_exterior')"
   ]
  },
  {
   "cell_type": "markdown",
   "id": "450dac80",
   "metadata": {},
   "source": [
    "### Para buscar las filas en las que ciertas categorías aparecen (pueden ser tantas categorías como se necesite)."
   ]
  },
  {
   "cell_type": "code",
   "execution_count": null,
   "id": "9e09c162",
   "metadata": {},
   "outputs": [],
   "source": [
    "df['tipo_vialidad'].unique()"
   ]
  },
  {
   "cell_type": "code",
   "execution_count": null,
   "id": "a2716ef1",
   "metadata": {},
   "outputs": [],
   "source": [
    "# seleccionar solo las categorias que tienen corredor y autopista\n",
    "categories_interes = ['CORREDOR', 'AUTOPISTA']\n",
    "df[df['tipo_vialidad'].isin(categories_interes)]"
   ]
  },
  {
   "cell_type": "code",
   "execution_count": null,
   "id": "0a1b2838",
   "metadata": {},
   "outputs": [],
   "source": [
    "df2 = df[df['nombre'].str.contains('FARMA')]"
   ]
  },
  {
   "cell_type": "code",
   "execution_count": null,
   "id": "119c6ff1",
   "metadata": {},
   "outputs": [],
   "source": [
    "# nueva columna con el index\n",
    "df2.reset_index().head()"
   ]
  },
  {
   "cell_type": "code",
   "execution_count": null,
   "id": "492654e2",
   "metadata": {},
   "outputs": [],
   "source": [
    "# Hace un drop del index\n",
    "df2.reset_index(drop=True).head()"
   ]
  },
  {
   "cell_type": "code",
   "execution_count": null,
   "id": "9c37e168",
   "metadata": {},
   "outputs": [],
   "source": [
    "# Quita el index sobre la base de datos df2\n",
    "df2.reset_index(inplace=True)"
   ]
  },
  {
   "cell_type": "code",
   "execution_count": null,
   "id": "e113ebe0",
   "metadata": {},
   "outputs": [],
   "source": [
    "df2.head()"
   ]
  },
  {
   "cell_type": "markdown",
   "id": "b4c4a6cc",
   "metadata": {},
   "source": [
    "# Listas y arreglos\n",
    "\n",
    "Las bases de datos se trabajan generalmente con la paquetería pandas (pd), sin embargo, existe mucha información que está desplegada de otras maneras y para utilizarla necesitas numpy (np) u otras paqueterías, ya cargadas al inicio del notebook. \n",
    "\n",
    "- listas\n",
    "- arreglos"
   ]
  },
  {
   "cell_type": "code",
   "execution_count": null,
   "id": "9e551cbf",
   "metadata": {},
   "outputs": [],
   "source": [
    "# arreglo de repetir ccd 4 veces.\n",
    "np.repeat('ccd',4)"
   ]
  },
  {
   "cell_type": "code",
   "execution_count": null,
   "id": "79bf0fa1",
   "metadata": {},
   "outputs": [],
   "source": [
    "# lista de repetir ccd 4 veces\n",
    "list(np.repeat('ccd',4))"
   ]
  },
  {
   "cell_type": "code",
   "execution_count": null,
   "id": "ad5d8297",
   "metadata": {},
   "outputs": [],
   "source": [
    "hola = list(np.array([8,2,9,25,4]))\n",
    "hola"
   ]
  },
  {
   "cell_type": "code",
   "execution_count": null,
   "id": "2ae2562a",
   "metadata": {},
   "outputs": [],
   "source": [
    "adios = list(np.array([66,9,17,30,5]))\n",
    "adios"
   ]
  },
  {
   "cell_type": "markdown",
   "id": "3f3634bc",
   "metadata": {},
   "source": [
    "Podemos hacer operaciones con arreglos y con listas, una manera de hacerlo sería con la siguiente."
   ]
  },
  {
   "cell_type": "code",
   "execution_count": null,
   "id": "e2663fff",
   "metadata": {},
   "outputs": [],
   "source": [
    "# Resta\n",
    "buen_dia = list(map(lambda x,y: x-y, adios, hola))\n",
    "buen_dia"
   ]
  },
  {
   "cell_type": "markdown",
   "id": "8dfdb96d",
   "metadata": {},
   "source": [
    "Para agregar elementos a una lista de manera iterativa. Puede ser como un conjunto de listas, o una lista con todos los elementos:"
   ]
  },
  {
   "cell_type": "code",
   "execution_count": null,
   "id": "939e8b4a",
   "metadata": {},
   "outputs": [],
   "source": [
    "listas_de_listas = []"
   ]
  },
  {
   "cell_type": "code",
   "execution_count": null,
   "id": "c305e566",
   "metadata": {},
   "outputs": [],
   "source": [
    "# Aquí utilizamos append\n",
    "for i in range(0,len(buen_dia)):\n",
    "    listas_de_listas.append(np.repeat(hola[i],buen_dia[i]))"
   ]
  },
  {
   "cell_type": "code",
   "execution_count": null,
   "id": "989710c4",
   "metadata": {},
   "outputs": [],
   "source": [
    "listas_de_listas"
   ]
  },
  {
   "cell_type": "code",
   "execution_count": null,
   "id": "07903156",
   "metadata": {},
   "outputs": [],
   "source": [
    "lista_de_listas = []"
   ]
  },
  {
   "cell_type": "code",
   "execution_count": null,
   "id": "ecf7ddc6",
   "metadata": {},
   "outputs": [],
   "source": [
    "# Aquí utilizamos extend\n",
    "for i in range(0,len(buen_dia)):\n",
    "    lista_de_listas.extend(np.repeat(hola[i],buen_dia[i]))"
   ]
  },
  {
   "cell_type": "code",
   "execution_count": null,
   "id": "789d6c66",
   "metadata": {},
   "outputs": [],
   "source": [
    "lista_de_listas"
   ]
  }
 ],
 "metadata": {
  "kernelspec": {
   "display_name": "Python 3 (ipykernel)",
   "language": "python",
   "name": "python3"
  },
  "language_info": {
   "codemirror_mode": {
    "name": "ipython",
    "version": 3
   },
   "file_extension": ".py",
   "mimetype": "text/x-python",
   "name": "python",
   "nbconvert_exporter": "python",
   "pygments_lexer": "ipython3",
   "version": "3.8.13"
  }
 },
 "nbformat": 4,
 "nbformat_minor": 5
}

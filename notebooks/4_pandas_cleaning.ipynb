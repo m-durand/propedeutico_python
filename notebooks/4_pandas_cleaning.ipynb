{
 "cells": [
  {
   "cell_type": "code",
   "execution_count": null,
   "id": "6ff7cfba",
   "metadata": {},
   "outputs": [],
   "source": [
    "import numpy as np\n",
    "import pandas as pd\n",
    "import yaml\n",
    "import seaborn as sns\n",
    "import matplotlib.pyplot as plt\n",
    "\n",
    "from src.utils.general import get_db_conn, get_s3_credentials"
   ]
  },
  {
   "cell_type": "code",
   "execution_count": null,
   "id": "877f52af",
   "metadata": {},
   "outputs": [],
   "source": [
    "conn = get_db_conn(\"../config/local/credentials.yaml\")"
   ]
  },
  {
   "cell_type": "markdown",
   "id": "4697b28a",
   "metadata": {},
   "source": [
    "# Limpieza"
   ]
  },
  {
   "cell_type": "markdown",
   "id": "c9fef905",
   "metadata": {},
   "source": [
    "**Para ver 200 filas en el notebook**"
   ]
  },
  {
   "cell_type": "code",
   "execution_count": null,
   "id": "6c41fa57",
   "metadata": {},
   "outputs": [],
   "source": [
    "pd.set_option('display.max_rows', 2000)"
   ]
  },
  {
   "cell_type": "markdown",
   "id": "7f2d6a5f",
   "metadata": {},
   "source": [
    "**Para ver 10 columnas en el notebook**"
   ]
  },
  {
   "cell_type": "code",
   "execution_count": null,
   "id": "11128bed",
   "metadata": {},
   "outputs": [],
   "source": [
    "pd.set_option('display.max_columns', 10)"
   ]
  },
  {
   "cell_type": "markdown",
   "id": "fc2b8e0a",
   "metadata": {},
   "source": [
    "**Query para obtener la base de datos**"
   ]
  },
  {
   "cell_type": "code",
   "execution_count": null,
   "id": "707acd45",
   "metadata": {},
   "outputs": [],
   "source": [
    " # Query\n",
    "q = \"\"\"\n",
    "    select \n",
    "        *\n",
    "    from \n",
    "        raw.unidades_economicas_denue\n",
    "        \n",
    "    limit 100000 \n",
    "    \n",
    "    -- Comentario: limite para solo obtener las primeras 100000 observaciones\n",
    "\"\"\""
   ]
  },
  {
   "cell_type": "code",
   "execution_count": null,
   "id": "db24280f",
   "metadata": {},
   "outputs": [],
   "source": [
    "# Datos\n",
    "df = pd.read_sql(q, conn)"
   ]
  },
  {
   "cell_type": "markdown",
   "id": "bed2849b",
   "metadata": {},
   "source": [
    "## 1. ¿Cuántas variables y observaciones tenemos?"
   ]
  },
  {
   "cell_type": "code",
   "execution_count": null,
   "id": "e47f5113",
   "metadata": {},
   "outputs": [],
   "source": [
    "df.shape"
   ]
  },
  {
   "cell_type": "code",
   "execution_count": null,
   "id": "94e37915",
   "metadata": {},
   "outputs": [],
   "source": [
    "# Renglones\n",
    "df.shape[0]"
   ]
  },
  {
   "cell_type": "code",
   "execution_count": null,
   "id": "a24ffd37",
   "metadata": {},
   "outputs": [],
   "source": [
    "# Columnas\n",
    "df.shape[1]"
   ]
  },
  {
   "cell_type": "code",
   "execution_count": null,
   "id": "9a222a44",
   "metadata": {},
   "outputs": [],
   "source": [
    "# Nombre de columnas\n",
    "df.columns"
   ]
  },
  {
   "cell_type": "code",
   "execution_count": null,
   "id": "5ca3e768",
   "metadata": {},
   "outputs": [],
   "source": [
    "# Las primeras 5 observaciones\n",
    "df.head(5)"
   ]
  },
  {
   "cell_type": "code",
   "execution_count": null,
   "id": "cc3a8591",
   "metadata": {},
   "outputs": [],
   "source": [
    "# Las últimas 5 observaciones\n",
    "df.tail(5)"
   ]
  },
  {
   "cell_type": "code",
   "execution_count": null,
   "id": "4d0d5975",
   "metadata": {},
   "outputs": [],
   "source": [
    "# Muestra aleatoria de 5 observaciones, con semilla para que sea reproducible.\n",
    "df.sample(5,random_state=123)"
   ]
  },
  {
   "cell_type": "code",
   "execution_count": null,
   "id": "c84eec2a",
   "metadata": {},
   "outputs": [],
   "source": [
    "# Muestra aletoria del 10% de las observaciones con semilla para que sea reproducible.\n",
    "df.sample(frac=0.10, random_state=123)"
   ]
  },
  {
   "cell_type": "markdown",
   "id": "7760664a",
   "metadata": {},
   "source": [
    "## 2. Tipos de datos por columna"
   ]
  },
  {
   "cell_type": "code",
   "execution_count": null,
   "id": "a0be0d3c",
   "metadata": {},
   "outputs": [],
   "source": [
    "df.dtypes"
   ]
  },
  {
   "cell_type": "markdown",
   "id": "1701f79b",
   "metadata": {},
   "source": [
    "### Cambiar tipo de datos"
   ]
  },
  {
   "cell_type": "markdown",
   "id": "5c3ddd32",
   "metadata": {},
   "source": [
    "#### Hacer variable de tipo carácter (str)"
   ]
  },
  {
   "cell_type": "code",
   "execution_count": null,
   "id": "939cc380",
   "metadata": {},
   "outputs": [],
   "source": [
    "df['id'] = df['id'].astype('str')"
   ]
  },
  {
   "cell_type": "markdown",
   "id": "790cd94d",
   "metadata": {},
   "source": [
    "#### Hacer variable de tipo numérica: entero (int) o flotante (float64)"
   ]
  },
  {
   "cell_type": "code",
   "execution_count": null,
   "id": "68183d20",
   "metadata": {},
   "outputs": [],
   "source": [
    "df['id'].astype('int')"
   ]
  },
  {
   "cell_type": "code",
   "execution_count": null,
   "id": "8ff92292",
   "metadata": {},
   "outputs": [],
   "source": [
    "df['id'].astype('float64')"
   ]
  },
  {
   "cell_type": "code",
   "execution_count": null,
   "id": "20a6c15a",
   "metadata": {},
   "outputs": [],
   "source": [
    "# Otra manera de hacer la variable numérica cuando salen errores en las otras funciones\n",
    "df['num_exterior'] = pd.to_numeric(df['num_exterior'])"
   ]
  },
  {
   "cell_type": "markdown",
   "id": "65ca91ec",
   "metadata": {},
   "source": [
    "#### Hacer variable de tipo temporal"
   ]
  },
  {
   "cell_type": "code",
   "execution_count": null,
   "id": "5f4b7456",
   "metadata": {},
   "outputs": [],
   "source": [
    "df['date_retrieved'] = pd.to_datetime(df['date_retrieved'])"
   ]
  },
  {
   "cell_type": "markdown",
   "id": "14b39cfb",
   "metadata": {},
   "source": [
    "### 3. Variables categorícas"
   ]
  },
  {
   "cell_type": "code",
   "execution_count": null,
   "id": "c84c056a",
   "metadata": {},
   "outputs": [],
   "source": [
    "# Valores únicos por variable. En las variables string aparecerán el número de categorías únicas\n",
    "df.nunique()"
   ]
  },
  {
   "cell_type": "markdown",
   "id": "5b4fdf6e",
   "metadata": {},
   "source": [
    "**Si queremos evaluar más a detalle una variable categórica:**"
   ]
  },
  {
   "cell_type": "code",
   "execution_count": null,
   "id": "68a9b763",
   "metadata": {},
   "outputs": [],
   "source": [
    "# Categorías en variable\n",
    "df['sector'].unique()"
   ]
  },
  {
   "cell_type": "code",
   "execution_count": null,
   "id": "f7f7097c",
   "metadata": {},
   "outputs": [],
   "source": [
    "#  Vemos el número de observaciones por categoría de esta variable\n",
    "conteos = df['sector'].value_counts()\n",
    "conteos"
   ]
  },
  {
   "cell_type": "code",
   "execution_count": null,
   "id": "2d85ef28",
   "metadata": {},
   "outputs": [],
   "source": [
    "# Proporción de categorías\n",
    "prop = df['sector'].value_counts(normalize=True)\n",
    "prop"
   ]
  },
  {
   "cell_type": "code",
   "execution_count": null,
   "id": "c61380f8",
   "metadata": {},
   "outputs": [],
   "source": [
    "# Lo visualizamos mejor:\n",
    "pd.concat([conteos,prop], \n",
    "          keys=['num','prop'], \n",
    "          axis=1)"
   ]
  },
  {
   "cell_type": "markdown",
   "id": "1eebb73d",
   "metadata": {},
   "source": [
    "### 4. Variables numéricas"
   ]
  },
  {
   "cell_type": "code",
   "execution_count": null,
   "id": "76ee2821",
   "metadata": {},
   "outputs": [],
   "source": [
    "# Todas las variables que son numéricas las describe con esas características.\n",
    "df.describe()"
   ]
  },
  {
   "cell_type": "markdown",
   "id": "02d24184",
   "metadata": {},
   "source": [
    "### 5. Variables temporales"
   ]
  },
  {
   "cell_type": "code",
   "execution_count": null,
   "id": "1cb130a2",
   "metadata": {},
   "outputs": [],
   "source": [
    "# Para obtener el mes de la variable que previamente ya habíamos hecho temporal\n",
    "df['mes']=df['date_retrieved'].dt.month"
   ]
  },
  {
   "cell_type": "code",
   "execution_count": null,
   "id": "4b293a70",
   "metadata": {},
   "outputs": [],
   "source": [
    "# Año\n",
    "df['date_retrieved'].dt.year"
   ]
  },
  {
   "cell_type": "markdown",
   "id": "6ce6e012",
   "metadata": {},
   "source": [
    "### 6. Ver número de NA's por columna"
   ]
  },
  {
   "cell_type": "code",
   "execution_count": null,
   "id": "45846250",
   "metadata": {},
   "outputs": [],
   "source": [
    "df.isna().sum()"
   ]
  },
  {
   "cell_type": "markdown",
   "id": "5cb7cd3b",
   "metadata": {},
   "source": [
    "### Algunos trucos extra"
   ]
  },
  {
   "cell_type": "markdown",
   "id": "11453ded",
   "metadata": {},
   "source": [
    "Quitar columnas"
   ]
  },
  {
   "cell_type": "code",
   "execution_count": null,
   "id": "f2fbe424",
   "metadata": {},
   "outputs": [],
   "source": [
    "df.drop(['clee',\n",
    "         'razon_social',\n",
    "         'num_interior'], \n",
    "        axis=1, # 0 es por filas y 1 por columnas.\n",
    "        inplace=True # True es para guardar los cambios sobre la misma base. \n",
    "       )"
   ]
  },
  {
   "cell_type": "markdown",
   "id": "e2563a8f",
   "metadata": {},
   "source": [
    "#### Seleccionando subconjuntos de la base\n",
    "\n",
    "`.loc` vs `.iloc`\n",
    "\n",
    "- `.loc`: utiliza las etiquetas de los índices y de las columnas, es decir el nombre como un string.\n",
    "\n",
    "- `iloc`: utiliza la posición como entero del dataframe.\n",
    "\n",
    "Seleccionamos todas las filas (`:`), de las columnas que están desde la posición 0 hasta la 3, y luego las columnas 4, 8, 10."
   ]
  },
  {
   "cell_type": "code",
   "execution_count": null,
   "id": "864a8469",
   "metadata": {},
   "outputs": [],
   "source": [
    "df.iloc[:,0:3]"
   ]
  },
  {
   "cell_type": "code",
   "execution_count": null,
   "id": "ff61aab9",
   "metadata": {},
   "outputs": [],
   "source": [
    "df.iloc[:,[0,2,4]]"
   ]
  },
  {
   "cell_type": "code",
   "execution_count": null,
   "id": "8854f00f",
   "metadata": {},
   "outputs": [],
   "source": [
    "# Selecciona las filas 2 hasta la 6\n",
    "df.iloc[2:6,]"
   ]
  },
  {
   "cell_type": "code",
   "execution_count": null,
   "id": "33ed53a5",
   "metadata": {},
   "outputs": [],
   "source": [
    "# Selecciona filas con los índices 122, 126 y 208:\n",
    "df.iloc[[122,126,208],]"
   ]
  },
  {
   "cell_type": "markdown",
   "id": "a202c5b4",
   "metadata": {},
   "source": [
    "Seleccionar columnas de acuerdo a las etiquetas de las columnas"
   ]
  },
  {
   "cell_type": "code",
   "execution_count": null,
   "id": "cc88bceb",
   "metadata": {},
   "outputs": [],
   "source": [
    "df.loc[:,'sector':'rama']"
   ]
  },
  {
   "cell_type": "code",
   "execution_count": null,
   "id": "107461dd",
   "metadata": {},
   "outputs": [],
   "source": [
    "df.loc[:,['localidad','rama','clase']]"
   ]
  },
  {
   "cell_type": "code",
   "execution_count": null,
   "id": "e6b98cfc",
   "metadata": {},
   "outputs": [],
   "source": [
    "df.loc[0:1,]"
   ]
  },
  {
   "cell_type": "markdown",
   "id": "c460b67b",
   "metadata": {},
   "source": [
    "## Selecionar filas basadas en condiciones"
   ]
  },
  {
   "cell_type": "code",
   "execution_count": null,
   "id": "ddf294b0",
   "metadata": {},
   "outputs": [],
   "source": [
    "df[(['num_exterior','clase','rama'])].query('5 > num_exterior')"
   ]
  },
  {
   "cell_type": "markdown",
   "id": "450dac80",
   "metadata": {},
   "source": [
    "### Para buscar las filas en las que ciertas categorías aparecen (pueden ser tantas categorías como se necesite)."
   ]
  },
  {
   "cell_type": "code",
   "execution_count": null,
   "id": "9e09c162",
   "metadata": {},
   "outputs": [],
   "source": [
    "df['tipo_vialidad'].unique()"
   ]
  },
  {
   "cell_type": "code",
   "execution_count": null,
   "id": "a2716ef1",
   "metadata": {},
   "outputs": [],
   "source": [
    "# seleccionar solo las categorias que tienen corredor y autopista\n",
    "categories_interes = ['CORREDOR', 'AUTOPISTA']\n",
    "df[df['tipo_vialidad'].isin(categories_interes)]"
   ]
  },
  {
   "cell_type": "code",
   "execution_count": null,
   "id": "0a1b2838",
   "metadata": {},
   "outputs": [],
   "source": [
    "df2 = df[df['nombre'].str.contains('FARMA')]"
   ]
  },
  {
   "cell_type": "code",
   "execution_count": null,
   "id": "119c6ff1",
   "metadata": {},
   "outputs": [],
   "source": [
    "# nueva columna con el index\n",
    "df2.reset_index().head()"
   ]
  },
  {
   "cell_type": "code",
   "execution_count": null,
   "id": "492654e2",
   "metadata": {},
   "outputs": [],
   "source": [
    "# Hace un drop del index\n",
    "df2.reset_index(drop=True).head()"
   ]
  },
  {
   "cell_type": "code",
   "execution_count": null,
   "id": "9c37e168",
   "metadata": {},
   "outputs": [],
   "source": [
    "# Quita el index sobre la base de datos df2\n",
    "df2.reset_index(inplace=True)"
   ]
  },
  {
   "cell_type": "code",
   "execution_count": null,
   "id": "e113ebe0",
   "metadata": {},
   "outputs": [],
   "source": [
    "df2.head()"
   ]
  },
  {
   "cell_type": "markdown",
   "id": "b4c4a6cc",
   "metadata": {},
   "source": [
    "# Listas y arreglos\n",
    "\n",
    "Las bases de datos se trabajan generalmente con la paquetería pandas (pd), sin embargo, existe mucha información que está desplegada de otras maneras y para utilizarla necesitas numpy (np) u otras paqueterías, ya cargadas al inicio del notebook. \n",
    "\n",
    "- listas\n",
    "- arreglos"
   ]
  },
  {
   "cell_type": "code",
   "execution_count": null,
   "id": "9e551cbf",
   "metadata": {},
   "outputs": [],
   "source": [
    "# arreglo de repetir ccd 4 veces.\n",
    "np.repeat('ccd',4)"
   ]
  },
  {
   "cell_type": "code",
   "execution_count": null,
   "id": "79bf0fa1",
   "metadata": {},
   "outputs": [],
   "source": [
    "# lista de repetir ccd 4 veces\n",
    "list(np.repeat('ccd',4))"
   ]
  },
  {
   "cell_type": "code",
   "execution_count": null,
   "id": "ad5d8297",
   "metadata": {},
   "outputs": [],
   "source": [
    "hola = list(np.array([8,2,9,25,4]))\n",
    "hola"
   ]
  },
  {
   "cell_type": "code",
   "execution_count": null,
   "id": "2ae2562a",
   "metadata": {},
   "outputs": [],
   "source": [
    "adios = list(np.array([66,9,17,30,5]))\n",
    "adios"
   ]
  },
  {
   "cell_type": "markdown",
   "id": "3f3634bc",
   "metadata": {},
   "source": [
    "Podemos hacer operaciones con arreglos y con listas, una manera de hacerlo sería con la siguiente."
   ]
  },
  {
   "cell_type": "code",
   "execution_count": null,
   "id": "e2663fff",
   "metadata": {},
   "outputs": [],
   "source": [
    "# Resta\n",
    "buen_dia = list(map(lambda x,y: x-y, adios, hola))\n",
    "buen_dia"
   ]
  },
  {
   "cell_type": "markdown",
   "id": "8dfdb96d",
   "metadata": {},
   "source": [
    "Para agregar elementos a una lista de manera iterativa. Puede ser como un conjunto de listas, o una lista con todos los elementos:"
   ]
  },
  {
   "cell_type": "code",
   "execution_count": null,
   "id": "939e8b4a",
   "metadata": {},
   "outputs": [],
   "source": [
    "listas_de_listas = []"
   ]
  },
  {
   "cell_type": "code",
   "execution_count": null,
   "id": "c305e566",
   "metadata": {},
   "outputs": [],
   "source": [
    "# Aquí utilizamos append\n",
    "for i in range(0,len(buen_dia)):\n",
    "    listas_de_listas.append(np.repeat(hola[i],buen_dia[i]))"
   ]
  },
  {
   "cell_type": "code",
   "execution_count": null,
   "id": "989710c4",
   "metadata": {},
   "outputs": [],
   "source": [
    "listas_de_listas"
   ]
  },
  {
   "cell_type": "code",
   "execution_count": null,
   "id": "07903156",
   "metadata": {},
   "outputs": [],
   "source": [
    "lista_de_listas = []"
   ]
  },
  {
   "cell_type": "code",
   "execution_count": null,
   "id": "ecf7ddc6",
   "metadata": {},
   "outputs": [],
   "source": [
    "# Aquí utilizamos extend\n",
    "for i in range(0,len(buen_dia)):\n",
    "    lista_de_listas.extend(np.repeat(hola[i],buen_dia[i]))"
   ]
  },
  {
   "cell_type": "code",
   "execution_count": null,
   "id": "789d6c66",
   "metadata": {},
   "outputs": [],
   "source": [
    "lista_de_listas"
   ]
  }
 ],
 "metadata": {
  "kernelspec": {
   "display_name": "red_ciudades",
   "language": "python",
   "name": "red_ciudades"
  },
  "language_info": {
   "codemirror_mode": {
    "name": "ipython",
    "version": 3
   },
   "file_extension": ".py",
   "mimetype": "text/x-python",
   "name": "python",
   "nbconvert_exporter": "python",
   "pygments_lexer": "ipython3",
   "version": "3.8.10"
  }
 },
 "nbformat": 4,
 "nbformat_minor": 5
}

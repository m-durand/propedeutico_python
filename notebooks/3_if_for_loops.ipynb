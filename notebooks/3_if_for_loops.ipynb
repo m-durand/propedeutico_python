{
 "cells": [
  {
   "cell_type": "markdown",
   "id": "98cea5af",
   "metadata": {},
   "source": [
    "[![Open In Colab](https://colab.research.google.com/assets/colab-badge.svg)](https://colab.research.google.com/github/m-durand/propedeutico_python/blob/main/notebooks/3_if_for_loops.ipynb)"
   ]
  },
  {
   "cell_type": "markdown",
   "id": "large-integer",
   "metadata": {},
   "source": [
    "1. Packages\n",
    "   - pip\n",
    "   - pandas\n",
    "2. random module\n",
    "3. Files and Their Operations"
   ]
  },
  {
   "cell_type": "code",
   "execution_count": null,
   "id": "universal-investigator",
   "metadata": {},
   "outputs": [],
   "source": []
  }
 ],
 "metadata": {
  "kernelspec": {
   "display_name": "Python 3",
   "language": "python",
   "name": "python3"
  },
  "language_info": {
   "codemirror_mode": {
    "name": "ipython",
    "version": 3
   },
   "file_extension": ".py",
   "mimetype": "text/x-python",
   "name": "python",
   "nbconvert_exporter": "python",
   "pygments_lexer": "ipython3",
   "version": "3.7.4"
  }
 },
 "nbformat": 4,
 "nbformat_minor": 5
}

{
 "cells": [
  {
   "cell_type": "markdown",
   "id": "515415cc",
   "metadata": {},
   "source": [
    "[![Open In Colab](https://colab.research.google.com/assets/colab-badge.svg)](https://colab.research.google.com/github/m-durand/propedeutico_python/blob/main/notebooks/7_SQL.ipynb)"
   ]
  },
  {
   "cell_type": "markdown",
   "id": "accaed96",
   "metadata": {},
   "source": [
    "# Propedéutico a programación con Python.\n",
    "\n",
    "**Verano 2023, por el Centro de Ciencia de Datos, EGobiernoyTP.**\n",
    "\n",
    "## Sesión 7: SQL básico\n",
    "\n",
    "1. Arrays y Dataframes\n",
    "2. Operaciones básicas en Dataframes\n",
    "    * Creación de columnas nuevas\n",
    "        * Suma, resta, multiplicación o divisón\n",
    "        * Comandos básicos de texto\n",
    "    * Agrupación\n",
    "3. Operaciones avanzadas en Dataframes\n",
    "    * Funciones Lambda\n",
    "4. Combinación de Dataframes\n",
    "    * Tipos de joins\n",
    "    * Merge"
   ]
  },
  {
   "cell_type": "markdown",
   "id": "e38ee9ab",
   "metadata": {},
   "source": [
    "### 2.3 Cargar tablas de bases de datos con sql\n",
    "\n",
    "Las bases de datos relacionales es otra manera en la que se pueden almacenar, manejar, consultar o analizar información. Generalmente, las bases de datos de esta naturaleza se guardan en servidores (computadoras en la nube) dedicados exclusivamente para el mantenimiento y manejo de datos tabulares (columna-renglón), y el lenguaje que se utiliza para interactuar con estas bases es SQL (Structured Query Language). \n",
    "\n",
    "Las bases de datos relacionales son de gran ayuda sobre todo cuando se manejan grandes cantidades de datos. Los paquetes para interactuar entre python y bases de datos relacionales es `psycopg2` y/o `sqlite`. El que se utilizará más durante la maestría es `psycopg2`, sin embargo, para enseñarte el funcionamiento utilizaremos `sqlite`. \n",
    "\n",
    "Para establecer la conexión a bases de datos (PSQL) necesitas las siguientes líneas de código, así como la información que se enumera:\n",
    "\n",
    "\n",
    "```\n",
    "# Importas paquete\n",
    "import psycopg2\n",
    "\n",
    "# Estableces conexión: \n",
    "psconn = psycopg2.connect(host=\"mouse.db.elephantsql.com\", # 1. Dirección de la base\n",
    "                          port = 5432,                     # 2. Puerto de conexión\n",
    "                          database=\"base_mouse\",           # 3. Nombre de la base\n",
    "                          user=\"usuario-n\",                # 4. Nombre de usuario\n",
    "                          password=\"your-password\")        # 5. Contraseña\n",
    "                          \n",
    "\n",
    "```\n",
    "\n",
    "\n",
    "La información numerada se asigna y proporciona generalmente por el administrador/dueño de la base de datos. Esto es para tener mayor seguridad y control de la información. \n",
    "\n",
    "Para fines de la sesión de hoy guardamos una pequeña base de datos para mostrar cómo puedes cargar datos con pandas y sql. \n",
    "\n",
    "Primero cargamos el paquete:"
   ]
  },
  {
   "cell_type": "code",
   "execution_count": null,
   "id": "4bfb8b94",
   "metadata": {},
   "outputs": [],
   "source": [
    "import sqlite3"
   ]
  },
  {
   "cell_type": "code",
   "execution_count": null,
   "id": "dc0b9504",
   "metadata": {},
   "outputs": [],
   "source": [
    "gdrv_file = '../datos/flights.db'"
   ]
  },
  {
   "cell_type": "code",
   "execution_count": null,
   "id": "5246794f",
   "metadata": {},
   "outputs": [],
   "source": [
    "conn = sqlite3.connect(gdrv_file)   # aquí pondrías la información de la base con psycopg2.connect"
   ]
  },
  {
   "cell_type": "markdown",
   "id": "536cf59f",
   "metadata": {},
   "source": [
    "Una vez que tienes asignada la conexión utilizas lenguaje sql para mandar a llamar la tabla `airlines` que está dentro de la base de datos que se llama flights: \n",
    "\n",
    "- `select` : selecciona\n",
    "\n",
    "- `*` : todo\n",
    "- `from` : de \n",
    "- `airlines` : tabla llamada airlines\n",
    "- `;` : así se cierran los queries en sql\n",
    "\n",
    "\n",
    "En este caso estamos cargando la tabla a python sin modificar la base de datos original. "
   ]
  },
  {
   "cell_type": "code",
   "execution_count": null,
   "id": "c76f7b46",
   "metadata": {},
   "outputs": [],
   "source": [
    "q = '''\n",
    "    select \n",
    "        * \n",
    "    from \n",
    "        airlines\n",
    "        ;\n",
    "    '''"
   ]
  },
  {
   "cell_type": "code",
   "execution_count": null,
   "id": "25d2a165",
   "metadata": {},
   "outputs": [],
   "source": [
    "df_sql = pd.read_sql_query(q, conn)  # Nota como utilizamos pandas para cargar el query con la conexión en conn"
   ]
  },
  {
   "cell_type": "code",
   "execution_count": null,
   "id": "6eb97ae2",
   "metadata": {},
   "outputs": [],
   "source": [
    "df_sql "
   ]
  }
 ],
 "metadata": {
  "kernelspec": {
   "display_name": "Python 3 (ipykernel)",
   "language": "python",
   "name": "python3"
  },
  "language_info": {
   "codemirror_mode": {
    "name": "ipython",
    "version": 3
   },
   "file_extension": ".py",
   "mimetype": "text/x-python",
   "name": "python",
   "nbconvert_exporter": "python",
   "pygments_lexer": "ipython3",
   "version": "3.9.6"
  }
 },
 "nbformat": 4,
 "nbformat_minor": 5
}

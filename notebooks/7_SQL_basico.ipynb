{
 "cells": [
  {
   "cell_type": "markdown",
   "id": "515415cc",
   "metadata": {},
   "source": [
    "[![Open In Colab](https://colab.research.google.com/assets/colab-badge.svg)](https://colab.research.google.com/github/m-durand/propedeutico_python/blob/main/notebooks/7_SQL.ipynb)"
   ]
  },
  {
   "cell_type": "markdown",
   "id": "37b9cc0c",
   "metadata": {},
   "source": [
    "# Propedéutico a programación con Python.\n",
    "\n",
    "**Verano 2023, por el Centro de Ciencia de Datos, EGobiernoyTP.**\n",
    "\n",
    "## Sesión 7: SQL básico\n",
    "\n",
    "1. Introducción\n",
    "    * Bases de datos\n",
    "    * Lenguaje SQL\n",
    "2. Establecer conexiones con las bases de datos\n",
    "    * sqlite \n",
    "    * psycopg2 \n",
    "3. Acciones básicas con SQL\n",
    "    * Instrucciones desde Python\n",
    "    * Obtener información con SQL\n",
    "    * Modificar información con SQL\n",
    "    \n",
    "---\n",
    "# 1 Introducción\n",
    "\n",
    "## Bases de datos\n",
    "\n",
    "Las bases de datos relacionales es otra manera en la que se puede almacenar información.\n",
    "\n",
    "\n",
    "Generalmente, las bases de datos de esta naturaleza se guardan en servidores (computadoras en la nube) dedicados exclusivamente para el mantenimiento y manejo de datos tabulares (columna-renglón). Las bases de datos relacionales son de gran ayuda sobre todo cuando se manejan grandes cantidades de datos con una estructura muy amigable.\n",
    "\n",
    "RDBMS stands for Relational Database Management System.\n",
    "\n",
    "continuar . . .\n",
    "\n",
    "\n",
    "---\n",
    "\n",
    "## Lenguaje SQL\n",
    "\n",
    "Un lenguaje estándar que se utiliza para interactuar con estas bases es SQL (Structured Query Language). Con SQL puedes almacenar, manipular y recuperar información en la tabla o sobre ella. Específicamente, además de crear bases de datos te permite hacer las siguientes actividades con una base de datos:\n",
    "\n",
    "* hacer búsquedas \n",
    "* obtener datos\n",
    "* insertar datos\n",
    "* actualizar datos\n",
    "* borrar elementos (renglones/columnas/tablas)\n",
    "* crear tablas \n",
    "* automatizar procedimientos almacenados\n",
    "* definir permisos sobre tablas y procedimientos\n"
   ]
  },
  {
   "cell_type": "markdown",
   "id": "6398c0e0",
   "metadata": {},
   "source": [
    "# 2 Establecer conexiones con las bases de datos\n",
    "\n",
    "Algunos paquetes para interactuar entre python y bases de datos relacionales son `psycopg2` y `sqlite`, ambos utilizan SQL. El que utilizarás más durante la maestría es `psycopg2` y lo usarás para interactuar con servidores. Sin embargo, para enseñarte el funcionamiento de SQL aquí usaremos bases de datos locales con ayuda de `sqlite`.\n",
    "\n",
    "---\n",
    "\n",
    "## Establecer conexión con sqlite\n",
    "\n",
    "Primero cargamos la librería:"
   ]
  },
  {
   "cell_type": "code",
   "execution_count": null,
   "id": "4bfb8b94",
   "metadata": {},
   "outputs": [],
   "source": [
    "import sqlite3"
   ]
  },
  {
   "cell_type": "markdown",
   "id": "f523dfd2",
   "metadata": {},
   "source": [
    "Para fines de la sesión de hoy utilizamos una base de datos local para mostrar cómo puedes cargar datos con sql. \n",
    "La base se llama `flights` y está en la carpeta datos:"
   ]
  },
  {
   "cell_type": "code",
   "execution_count": null,
   "id": "dc0b9504",
   "metadata": {},
   "outputs": [],
   "source": [
    "gdrv_file = '../datos/flights.db'"
   ]
  },
  {
   "cell_type": "markdown",
   "id": "9f1ae4df",
   "metadata": {},
   "source": [
    "Después generas una conexión con la base de datos dicha conexión permite a Python saber en dónde se encuentra la base con la que estarás trabajando. Si no existiera una base con ese nombre entonces `sqlite3` la crearía implícitamente."
   ]
  },
  {
   "cell_type": "code",
   "execution_count": null,
   "id": "5246794f",
   "metadata": {},
   "outputs": [],
   "source": [
    "con = sqlite3.connect(gdrv_file)\n",
    "con"
   ]
  },
  {
   "cell_type": "markdown",
   "id": "93fd0b5f",
   "metadata": {},
   "source": [
    "## Establecer conexión a través de psycopg2\n",
    "\n",
    "En el caso de psycopg2, para establecer la conexión a bases de datos (del tipo PSQL) necesitas las siguientes líneas de código, así como la información que se enumera:\n",
    "\n",
    "\n",
    "```\n",
    "# Importas paquete\n",
    "import psycopg2\n",
    "\n",
    "# Estableces conexión: \n",
    "psconn = psycopg2.connect(host=\"mouse.db.elephantsql.com\", # 1. Dirección de la base\n",
    "                          port = 5432,                     # 2. Puerto de conexión\n",
    "                          database=\"base_mouse\",           # 3. Nombre de la base\n",
    "                          user=\"usuario-n\",                # 4. Nombre de usuario\n",
    "                          password=\"your-password\")        # 5. Contraseña\n",
    "                          \n",
    "\n",
    "```\n",
    "\n",
    "\n",
    "La información numerada se asigna y proporciona generalmente por el administrador/dueño de la base de datos. Esto es para tener mayor seguridad y control de la información.\n",
    "\n",
    "---\n",
    "\n",
    "\n",
    "# 3 Obtener información con SQL\n",
    "\n",
    "Una vez que tienes una conexión entre Python y la base de datos, puedes utilizar instrucción escritas en el lenguaje SQL para interactuar con ella. \n",
    "\n",
    "Una instrucción (o _query_) es simplemente una oración que puede tener distintos comandos (o palabras clave) que realizan acciones sobre una base de datos o una tabla.\n",
    "\n",
    "Un ejemplo es el siguiente:\n",
    "\n",
    "`SELECT * FROM airlines;`\n",
    "\n",
    "en este caso las palabras clave están escritas con mayúsculas y hacen lo siguiente:\n",
    "\n",
    "- `SELECT` : extrae información\n",
    "- `*` : selecciona todas las columnas\n",
    "- `FROM` : de \n",
    "- `airlines` : tabla airlines\n",
    "- `;` : termina instrucción\n",
    "\n",
    "Las palabras clave no distinguen entre mayúsculas y minúsculas. Por ejemplo, `select` es equivalente a `SELECT`. Pero es recomendable escribir en mayúsculas pues el estándar en varios proyectos. * El punto y coma indica que una instrucción acaba y permite separarlo de otros y ejecutarlos en una misma llamada.\n",
    "\n",
    "En la siguiente celda guardamos la instrucción en una cadena de texto de Python para poder ejecutarla a través de Python. Las instrucciones se pueden ejecutar a través de Python -como lo mostraremos en este tutorial- o a través de una terminal sin requerir Python.\n"
   ]
  },
  {
   "cell_type": "code",
   "execution_count": null,
   "id": "c76f7b46",
   "metadata": {},
   "outputs": [],
   "source": [
    "q = '''\n",
    "    SELECT \n",
    "        * \n",
    "    FROM \n",
    "        airlines\n",
    "        ;\n",
    "    '''"
   ]
  },
  {
   "cell_type": "markdown",
   "id": "edc5913a",
   "metadata": {},
   "source": [
    "Así, en la siguiente celda, con ``q`` obtendremos todos los datos de la tabla `airlines` a este notebook. Lo haremos a través de la conexión recién creada, y para que el formato de las interacciones con la tabla sea estético utilizaremos `pandas` (se puede cargar con un formato más simple utilizando sólo `sqlite`)."
   ]
  },
  {
   "cell_type": "code",
   "execution_count": null,
   "id": "abf0cc66",
   "metadata": {},
   "outputs": [],
   "source": [
    "import pandas as pd"
   ]
  },
  {
   "cell_type": "code",
   "execution_count": null,
   "id": "d40eef3e",
   "metadata": {},
   "outputs": [],
   "source": [
    "df = pd.read_sql(q, con)\n",
    "df"
   ]
  },
  {
   "cell_type": "markdown",
   "id": "f8154f3b",
   "metadata": {},
   "source": [
    "Con la siguiente instrucción en lugar de obtener todas las columnas de la tabla (`*`) podemos obtener sólo algunas columnas (`name`, `country`, `active`):"
   ]
  },
  {
   "cell_type": "code",
   "execution_count": null,
   "id": "fcb8ce1e",
   "metadata": {},
   "outputs": [],
   "source": [
    "q = '''\n",
    "    SELECT \n",
    "        name, country, active\n",
    "    FROM \n",
    "        airlines\n",
    "        ;\n",
    "    '''\n",
    "df = pd.read_sql(q, con)\n",
    "df"
   ]
  },
  {
   "cell_type": "markdown",
   "id": "82bf26f5",
   "metadata": {},
   "source": [
    "La columna `active` de la tabla indica si la aerolínea se encuentra activa. Podemos hacer la misma búsqueda anterior pero obteniendo solamente aerolíneas activas, con ayuda el comando `WHERE`:"
   ]
  },
  {
   "cell_type": "code",
   "execution_count": null,
   "id": "931a5441",
   "metadata": {},
   "outputs": [],
   "source": [
    "q = '''\n",
    "    SELECT \n",
    "        name, country, active\n",
    "    FROM \n",
    "        airlines\n",
    "    WHERE\n",
    "        active=\"Y\"\n",
    "    '''\n",
    "df = pd.read_sql(q, con)\n",
    "df"
   ]
  },
  {
   "cell_type": "markdown",
   "id": "bf77c0ca",
   "metadata": {},
   "source": [
    "Otro comando útil es `ORDER BY`. Naturalmente, permite ordenar la tabla de salida respecto a alguna columna de interés. Podemos por ejemplo ordenar la salida anterior alfabéticamente respecto al nombre de la aerolínea:"
   ]
  },
  {
   "cell_type": "code",
   "execution_count": null,
   "id": "d6a3816f",
   "metadata": {},
   "outputs": [],
   "source": [
    "q = '''\n",
    "    SELECT \n",
    "        name, country, active\n",
    "    FROM \n",
    "        airlines\n",
    "    WHERE\n",
    "        active=\"Y\"\n",
    "    ORDER BY\n",
    "        name\n",
    "    '''\n",
    "df = pd.read_sql(q, con)\n",
    "df.head(20)"
   ]
  },
  {
   "cell_type": "markdown",
   "id": "2a82f995",
   "metadata": {},
   "source": [
    "En la celda anterior visualizamos únicamente los primeros 20 renglones con ayuda del método `head()` de `pandas`. Podemos restringirnos a los primeros \"n\" renglones directamente desde SQL con el comando `LIMIT`:"
   ]
  },
  {
   "cell_type": "code",
   "execution_count": null,
   "id": "e9b34149",
   "metadata": {},
   "outputs": [],
   "source": [
    "q = '''\n",
    "    SELECT \n",
    "        name, country, active\n",
    "    FROM \n",
    "        airlines\n",
    "    WHERE\n",
    "        active=\"Y\"\n",
    "    ORDER BY\n",
    "        name\n",
    "    LIMIT \n",
    "        20\n",
    "    '''\n",
    "df = pd.read_sql(q, con)\n",
    "df"
   ]
  },
  {
   "cell_type": "markdown",
   "id": "d79a38bc",
   "metadata": {},
   "source": [
    "En la condición de `WHERE` de la celda anterior utilizamos la operación de comparación \"igual\" (`=`). SQL acepta distintos operadores de comparación y lógicos, algunos otros son:\n",
    "\n",
    "* `>`: mayor que\n",
    "* `<`: menor que \n",
    "* `!=`: distinto de\n",
    "* `AND`: verdadero si dos expresiones son verdaderas.\n",
    "* `IN`: verdadero si la expresión está en una lista de expresiones\n",
    "* `NOT`: regresa el valor inverso de la expresión\n",
    "* `OR`: verdadero si alguna expresión es verdadera\n",
    "* `BETWEEN`: verdadero si la expresión está dentro de un rango de valores\n",
    "\n",
    "---\n",
    "\n",
    "Enseguida recapitulamos los comandos que hemos revisado y que son de los más útiles de SQL: \n",
    "\n",
    "* `SELECT` - extrae información de la tabla.\n",
    "* `FROM`- indica de cuál tabla se obtendrá la información.\n",
    "* `WHERE` - filtra la salida de la instrucción basándose en una condición.\n",
    "* `ORDER BY` - ordena la tabla de salida.\n",
    "* `LIMIT`- se limita a las primeros 'n' renglones de la tabla de salida.\n",
    "\n",
    "otros comandos muy útiles son:\n",
    "\n",
    "* `GROUP BY` - agrupa renglones que tienen los mismos valores en cierta(s) columna(s)\n",
    "en renglones que las resumen. Normalmente se utiliza en conjunto con los comandos `COUNT`, `AVG`, `SUM`, `MIN` o `MAX`; éstos últimos se llaman funciones agregadas pues hacen operaciones en *grupos* de renglones (puede ser en todos los renglones) de columnas numéricas.\n",
    "\n",
    "A continuación vemos un ejemplo de aplicación de `GROUP BY` con `COUNT`:"
   ]
  },
  {
   "cell_type": "code",
   "execution_count": null,
   "id": "6c283639",
   "metadata": {},
   "outputs": [],
   "source": [
    "q = '''\n",
    "    SELECT \n",
    "        country, COUNT(name), COUNT(active)\n",
    "    FROM \n",
    "        airlines\n",
    "    GROUP BY\n",
    "        country\n",
    "    '''\n",
    "df = pd.read_sql(q, con)\n",
    "df"
   ]
  },
  {
   "cell_type": "markdown",
   "id": "02cca093",
   "metadata": {},
   "source": [
    "Otros comandos utilizados a menudo son:\n",
    "\n",
    "* `HAVING` -  es análogo a WHERE pero en lugar de actuar sobre condiciones que incluyen directamente a las columnas (por ejemplo, WHERE `active=\"Y\"`), actúa sobre condiciones de columnas previamete procesadas (por ejemplo, HAVING `COUNT(active) > 5`).\n",
    "* `JOIN` - es similar al comando `merge` de `pandas`, es decir, sirve para unir tablas basándose en los valores de de cierta columna.\n",
    "\n",
    "---\n",
    "\n",
    "Como hemos visto en los ejemplos anteriores, podemos ir agregando comandos a una instrucción. Al utilizar el lenguaje SQL es bueno tener mente que el orden en el que se escriben las intrucciones es diferente del orden en el que se ejecutan:\n",
    "\n",
    "| Orden de escritura | Orden de ejecución | \n",
    "|--------------------|--------------------|\n",
    "| SELECT             | FROM               | \n",
    "| FROM               | JOIN               |  \n",
    "| JOIN               | WHERE              |  \n",
    "| WHERE              | GROUP BY           | \n",
    "| GROUP BY           | HAVING             | \n",
    "| HAVING             | SELECT             | \n",
    "| ORDER BY           | ORDER BY           | \n",
    "| LIMIT              | LIMIT              | \n",
    "\n",
    "\n"
   ]
  },
  {
   "cell_type": "markdown",
   "id": "475bc27a",
   "metadata": {},
   "source": [
    "## Modificar bases de datos"
   ]
  },
  {
   "cell_type": "markdown",
   "id": "ed774e54",
   "metadata": {},
   "source": [
    "`UPDATE` - updates data in a database\n",
    "`DELETE` - deletes data from a database\n",
    "`INSERT INTO` - inserts new data into a database\n"
   ]
  },
  {
   "cell_type": "markdown",
   "id": "04a661b5",
   "metadata": {},
   "source": [
    "`CREATE DATABASE` - creates a new database\n",
    "`ALTER DATABASE` - modifies a database\n",
    "`CREATE TABLE` - creates a new table\n",
    "`ALTER TABLE` - modifies a table\n",
    "`DROP TABLE` - deletes a table\n",
    "`CREATE INDEX` - creates an index (search key)\n",
    "`DROP INDEX` - deletes an index"
   ]
  }
 ],
 "metadata": {
  "kernelspec": {
   "display_name": "Python 3 (ipykernel)",
   "language": "python",
   "name": "python3"
  },
  "language_info": {
   "codemirror_mode": {
    "name": "ipython",
    "version": 3
   },
   "file_extension": ".py",
   "mimetype": "text/x-python",
   "name": "python",
   "nbconvert_exporter": "python",
   "pygments_lexer": "ipython3",
   "version": "3.8.6"
  }
 },
 "nbformat": 4,
 "nbformat_minor": 5
}

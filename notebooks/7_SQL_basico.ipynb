{
 "cells": [
  {
   "cell_type": "markdown",
   "id": "515415cc",
   "metadata": {},
   "source": [
    "[![Open In Colab](https://colab.research.google.com/assets/colab-badge.svg)](https://colab.research.google.com/github/m-durand/propedeutico_python/blob/main/notebooks/7_SQL.ipynb)"
   ]
  },
  {
   "cell_type": "markdown",
   "id": "37b9cc0c",
   "metadata": {},
   "source": [
    "# Propedéutico a programación con Python.\n",
    "\n",
    "**Verano 2023, por el Centro de Ciencia de Datos, EGobiernoyTP.**\n",
    "\n",
    "## Sesión 7: SQL básico\n",
    "\n",
    "1. Introducción\n",
    "    * Bases de datos\n",
    "    * Lenguaje SQL\n",
    "2. Establecer conexiones con las bases de datos\n",
    "    * sqlite \n",
    "    * psycopg2 \n",
    "3. Acciones básicas con SQL\n",
    "    * Instrucciones desde Python\n",
    "    * Obtener información con SQL\n",
    "    * Modificar información con SQL\n",
    "    \n",
    "---\n",
    "# 1 Introducción\n",
    "\n",
    "## Bases de datos\n",
    "\n",
    "Una **base de datos** es una recopilación de datos estructurados, que normalmente se almacena de forma electrónica en un sistema informático. Sabemos que las hojas de cálculo son modos cómodos de almacenar información pero se dinstinguen de las bases de datos en que las **hojas de cálculo** están diseñadas para un pequeño número de usuarios que no necesiten hacer manipulación de datos muy complicadas. Mientras que las bases de datos están diseñadas para contener recopilaciones mucho más grandes de información, permiten que muchos usuarios accedan y consulten los datos de forma rápida y segura al mismo tiempo; y permiten interacciones mucho más complejas con los datos.\n",
    "\n",
    "Existen muchos tipos diferentes de bases de datos, normalmente se clasifican respecto a su estructura. Las que utilizarás usualmente se llaman **\"bases de datos relacionales\"**, estas últimas se organizan como un conjunto de tablas con columnas y renglones. Dicha estructura proporciona la forma más eficiente y flexible de acceder a información. Sin embargo, debido a las necesidades particulares de distintos proyectos u organizaciones existen otras estructuras. Por ejemplo, a medida que las aplicaciones web se han vuelto más comunes y complejas, se han creado bases de datos que permite interactuar con datos no estructurados y semiestructurados. \n",
    "\n",
    "Generalmente, las bases de datos se guardan en **servidores** (computadoras en la nube) dedicados exclusivamente para el mantenimiento y manejo de datos. En la maestría utilizarás Amazon Simple Storage Service (Amazon S3), es un servicio de almacenamiento de objetos similar a Drive pero que puede extenderse. Se puede almacenar y proteger cualquier tipo de objeto y cantidad de datos para prácticamente cualquier caso de uso.\n",
    "\n",
    "Para interactuar con las bases de datos se requiere de un software, estos programas sirven como una interfaz para que los usuarios puedan, administrar la información. Un sistema de administración de bases de datos permite crear, editar, acceder, modificar, actualizar y controlar los datos, además de controlar accesos, administrar seguridad, respaldos y restauración de los mismos. En ocasiones, el software de base de datos también se denomina **\"sistema de gestión de bases de datos\" (DBMS)**. Existen distintos DBSM, durante la maestría utilizarás PostgreSQL. Generalmente, al conjunto de base de datos y el software para administrarla se le llama \"base de datos\" también.\n",
    "\n",
    "\n",
    "\n",
    "\n",
    "---\n",
    "\n",
    "## Lenguaje SQL\n",
    "\n",
    "La mayoría de los softwares de bases de datos utilizan el lenguaje estándar de consulta estructurada SQL (Structured Query Language_) para escribir y consultar datos.  Con SQL puedes almacenar, manipular y recuperar información en la tabla o sobre ella. Específicamente, además de crear bases de datos te permite hacer las siguientes actividades con una base de datos:\n",
    "\n",
    "* hacer búsquedas \n",
    "* obtener datos\n",
    "* insertar datos\n",
    "* actualizar datos\n",
    "* borrar elementos (renglones/columnas/tablas)\n",
    "* crear tablas \n",
    "* automatizar procedimientos almacenados\n",
    "* definir permisos sobre tablas y procedimientos\n",
    "\n",
    "A lo largo de este tutorial lo exploraremos con más detalle.\n"
   ]
  },
  {
   "cell_type": "markdown",
   "id": "6398c0e0",
   "metadata": {},
   "source": [
    "# 2 Establecer conexiones con las bases de datos\n",
    "\n",
    "Algunos paquetes para interactuar entre python y bases de datos relacionales son `psycopg2` y `sqlite`, ambos utilizan SQL. El que utilizarás más durante la maestría es `psycopg2` y lo usarás para interactuar con servidores. Sin embargo, para enseñarte el funcionamiento de SQL aquí usaremos bases de datos locales con ayuda de `sqlite`.\n",
    "\n",
    "---\n",
    "\n",
    "## Establecer conexión con sqlite\n",
    "\n",
    "Primero cargamos la librería:"
   ]
  },
  {
   "cell_type": "code",
   "execution_count": null,
   "id": "4bfb8b94",
   "metadata": {},
   "outputs": [],
   "source": [
    "import sqlite3"
   ]
  },
  {
   "cell_type": "markdown",
   "id": "f523dfd2",
   "metadata": {},
   "source": [
    "Para fines de la sesión de hoy utilizamos una base de datos local para mostrar cómo puedes cargar datos con sql. \n",
    "La base se llama `flights` y está en la carpeta `datos` y se llama `flights.db`. Antes, como utlizaremos una base de datos local desde Colab necesitamos indicar a Colab que utlizaremos archivos de nuestra unidad de Google Drive:"
   ]
  },
  {
   "cell_type": "code",
   "execution_count": null,
   "id": "dc0b9504",
   "metadata": {},
   "outputs": [],
   "source": [
    "from google.colab import drive  # google es una librería/paquete tiene un módulo que se llama colab y de ese módulo importamos la función drive\n",
    "drive.mount('/content/drive', force_remount=True)  # indicamos que utlizaremos archivos de nuestra unidad de Google Drive\n",
    "\n",
    "# guardamos una ruta de los datos en Drive\n",
    "gdrv_file = '/content/drive/MyDrive/propedeutico_python-main/datos/flights.db'"
   ]
  },
  {
   "cell_type": "markdown",
   "id": "9f1ae4df",
   "metadata": {},
   "source": [
    "Después generas una conexión con la base de datos dicha conexión permite a Python saber en dónde se encuentra la base con la que estarás trabajando. Si no existiera una base con ese nombre entonces `sqlite3` la crearía implícitamente."
   ]
  },
  {
   "cell_type": "code",
   "execution_count": null,
   "id": "5246794f",
   "metadata": {},
   "outputs": [],
   "source": [
    "con = sqlite3.connect(gdrv_file)\n",
    "con"
   ]
  },
  {
   "cell_type": "markdown",
   "id": "93fd0b5f",
   "metadata": {},
   "source": [
    "## Establecer conexión a través de psycopg2\n",
    "\n",
    "En el caso de psycopg2, para establecer la conexión a bases de datos (del tipo PSQL) necesitas las siguientes líneas de código, así como la información que se enumera:\n",
    "\n",
    "\n",
    "```\n",
    "# Importas paquete\n",
    "import psycopg2\n",
    "\n",
    "# Estableces conexión: \n",
    "psconn = psycopg2.connect(host=\"mouse.db.elephantsql.com\", # 1. Dirección de la base\n",
    "                          port = 5432,                     # 2. Puerto de conexión\n",
    "                          database=\"base_mouse\",           # 3. Nombre de la base\n",
    "                          user=\"usuario-n\",                # 4. Nombre de usuario\n",
    "                          password=\"your-password\")        # 5. Contraseña\n",
    "                          \n",
    "\n",
    "```\n",
    "\n",
    "\n",
    "La información numerada se asigna y proporciona generalmente por el administrador/dueño de la base de datos. Esto es para tener mayor seguridad y control de la información.\n",
    "\n",
    "---\n",
    "\n",
    "\n",
    "# 3 Obtener información con SQL\n",
    "\n",
    "Una vez que tienes una conexión entre Python y la base de datos, puedes utilizar instrucción escritas en el lenguaje SQL para interactuar con ella. \n",
    "\n",
    "Una instrucción (o _query_) es simplemente una oración que puede tener distintos comandos (o palabras clave) que realizan acciones sobre una base de datos o una tabla.\n",
    "\n",
    "Un ejemplo es el siguiente:\n",
    "\n",
    "`SELECT * FROM airlines;`\n",
    "\n",
    "en este caso las palabras clave están escritas con mayúsculas y hacen lo siguiente:\n",
    "\n",
    "- `SELECT` : extrae información\n",
    "- `*` : selecciona todas las columnas\n",
    "- `FROM` : de \n",
    "- `airlines` : tabla airlines\n",
    "- `;` : termina instrucción\n",
    "\n",
    "Las palabras clave no distinguen entre mayúsculas y minúsculas. Por ejemplo, `select` es equivalente a `SELECT`. Pero es recomendable escribir en mayúsculas pues el estándar en varios proyectos. El punto y coma indica que una instrucción acaba y permite separarlo de otros y ejecutarlos en una misma llamada.\n",
    "\n",
    "En la siguiente celda guardamos la instrucción en una cadena de texto de Python para poder ejecutarla a través de Python. Las instrucciones se pueden ejecutar a través de Python -como lo mostraremos en este tutorial- o a través de una terminal sin requerir Python.\n"
   ]
  },
  {
   "cell_type": "code",
   "execution_count": null,
   "id": "c76f7b46",
   "metadata": {},
   "outputs": [],
   "source": [
    "# nota aunque hemos utilizado \" . . . \" o ' . . . ' para definir strings en Python, \n",
    "# ''' . . . ''' permite definir strings que tengan saltos de línea (por ello se utiliza en ocasiones para realizar comentarios en el código)\n",
    "q = '''\n",
    "    SELECT \n",
    "        * \n",
    "    FROM \n",
    "        airlines\n",
    "        ;\n",
    "    '''"
   ]
  },
  {
   "cell_type": "markdown",
   "id": "edc5913a",
   "metadata": {},
   "source": [
    "Así, en la siguiente celda, con la instrucción ``q`` obtendremos todos los datos de la tabla `airlines` a este notebook. Lo haremos a través de la conexión recién creada, y para que el formato de las interacciones con la tabla sea estético utilizaremos `pandas` (se puede cargar con un formato más simple utilizando sólo funciones `sqlite`)."
   ]
  },
  {
   "cell_type": "code",
   "execution_count": null,
   "id": "abf0cc66",
   "metadata": {},
   "outputs": [],
   "source": [
    "import pandas as pd  "
   ]
  },
  {
   "cell_type": "code",
   "execution_count": null,
   "id": "d40eef3e",
   "metadata": {},
   "outputs": [],
   "source": [
    "df = pd.read_sql(q, con)  \n",
    "df"
   ]
  },
  {
   "cell_type": "markdown",
   "id": "f8154f3b",
   "metadata": {},
   "source": [
    "Con la siguiente instrucción en lugar de obtener todas las columnas de la tabla (`*`) podemos obtener sólo algunas columnas (`name`, `country`, `active`):"
   ]
  },
  {
   "cell_type": "code",
   "execution_count": null,
   "id": "fcb8ce1e",
   "metadata": {},
   "outputs": [],
   "source": [
    "q = '''\n",
    "    SELECT \n",
    "        name, country, active\n",
    "    FROM \n",
    "        airlines\n",
    "        ;\n",
    "    '''\n",
    "df = pd.read_sql(q, con)\n",
    "df"
   ]
  },
  {
   "cell_type": "markdown",
   "id": "7b5a431e",
   "metadata": {},
   "source": [
    "Observa que para escribir instrucciones en SQL no se necesita indentado y la estructura vertical que hemos ocupado, pero es otro estándar que facilita la lectura. Por ejemplo, la definición de _q_ de la celda anterior es equivalente a:\n",
    "\n",
    "`'SELECT name, country, active FROM airlines;'`\n",
    "\n",
    "---\n",
    "\n",
    "La columna `active` de la tabla indica si la aerolínea se encuentra activa. Podemos hacer la misma búsqueda anterior pero obteniendo solamente aerolíneas activas, con ayuda el comando `WHERE`:"
   ]
  },
  {
   "cell_type": "code",
   "execution_count": null,
   "id": "931a5441",
   "metadata": {},
   "outputs": [],
   "source": [
    "q = '''\n",
    "    SELECT \n",
    "        name, country, active\n",
    "    FROM \n",
    "        airlines\n",
    "    WHERE\n",
    "        active=\"Y\"\n",
    "    '''\n",
    "df = pd.read_sql(q, con)\n",
    "df"
   ]
  },
  {
   "cell_type": "markdown",
   "id": "bf77c0ca",
   "metadata": {},
   "source": [
    "Otro comando útil es `ORDER BY`. Naturalmente, permite ordenar la tabla de salida respecto a alguna columna de interés. Podemos, por ejemplo, ordenar la salida anterior alfabéticamente respecto al nombre de la aerolínea:"
   ]
  },
  {
   "cell_type": "code",
   "execution_count": null,
   "id": "d6a3816f",
   "metadata": {},
   "outputs": [],
   "source": [
    "q = '''\n",
    "    SELECT \n",
    "        name, country, active\n",
    "    FROM \n",
    "        airlines\n",
    "    WHERE\n",
    "        active=\"Y\"\n",
    "    ORDER BY\n",
    "        name\n",
    "    '''\n",
    "df = pd.read_sql(q, con)\n",
    "df.head(20)"
   ]
  },
  {
   "cell_type": "markdown",
   "id": "1f51fc0b",
   "metadata": {},
   "source": [
    "Si los quieres visualizarlo en orden inverso simplemente agrega la palabra clave `DESC` después del nombre de la columna que estás ocupando para ordenar, es decir:"
   ]
  },
  {
   "cell_type": "code",
   "execution_count": null,
   "id": "6bc97aeb",
   "metadata": {},
   "outputs": [],
   "source": [
    "q = '''\n",
    "    SELECT \n",
    "        name, country, active\n",
    "    FROM \n",
    "        airlines\n",
    "    WHERE\n",
    "        active=\"Y\"\n",
    "    ORDER BY\n",
    "        name DESC\n",
    "    LIMIT \n",
    "        20\n",
    "    '''\n",
    "df = pd.read_sql(q, con)\n",
    "df"
   ]
  },
  {
   "cell_type": "markdown",
   "id": "2a82f995",
   "metadata": {},
   "source": [
    "En la celda anterior visualizamos únicamente los primeros 20 renglones con ayuda del método `head()` de `pandas`. Podemos restringirnos a los primeros \"n\" renglones directamente desde SQL con el comando `LIMIT`:"
   ]
  },
  {
   "cell_type": "code",
   "execution_count": null,
   "id": "e9b34149",
   "metadata": {},
   "outputs": [],
   "source": [
    "q = '''\n",
    "    SELECT \n",
    "        name, country, active\n",
    "    FROM \n",
    "        airlines\n",
    "    WHERE\n",
    "        active=\"Y\"\n",
    "    ORDER BY\n",
    "        name\n",
    "    LIMIT \n",
    "        20\n",
    "    '''\n",
    "df = pd.read_sql(q, con)\n",
    "df"
   ]
  },
  {
   "cell_type": "markdown",
   "id": "747941b3",
   "metadata": {},
   "source": [
    "En la condición de `WHERE` de la celda anterior utilizamos la operación de comparación \"igual\" (`=`). SQL acepta distintos operadores de comparación y lógicos, algunos otros son:\n",
    "\n",
    "* `>`: mayor que\n",
    "* `<`: menor que \n",
    "* `!=`: distinto de\n",
    "* `AND`: verdadero si dos expresiones son verdaderas.\n",
    "* `IN`: verdadero si la expresión está en una lista de expresiones\n",
    "* `NOT`: regresa el valor inverso de la expresión\n",
    "* `OR`: verdadero si alguna expresión es verdadera\n",
    "* `BETWEEN`: verdadero si la expresión está dentro de un rango de valores\n",
    "\n",
    "---\n",
    "\n",
    "Enseguida recapitulamos los comandos que hemos visto y que son de los más útiles de SQL: \n",
    "\n",
    "* `SELECT` - extrae información de la tabla.\n",
    "* `FROM`- indica de cuál tabla se obtendrá la información.\n",
    "* `WHERE` - filtra la salida de la instrucción basándose en una condición.\n",
    "* `ORDER BY` - ordena la tabla de salida.\n",
    "* `LIMIT`- se limita a las primeros 'n' renglones de la tabla de salida."
   ]
  },
  {
   "cell_type": "markdown",
   "id": "d79a38bc",
   "metadata": {},
   "source": [
    "Otros comandos muy útiles son:\n",
    "\n",
    "* `GROUP BY` - agrupa renglones que tienen los mismos valores en cierta(s) columna(s)\n",
    "en renglones que las resumen. Normalmente se utiliza en conjunto con los comandos `COUNT`, `AVG`, `SUM`, `MIN` o `MAX`; éstos últimos se llaman funciones agregadas pues hacen operaciones en *grupos* de renglones (puede ser en todos los renglones) de columnas numéricas.\n",
    "\n",
    "A continuación vemos un ejemplo de aplicación de `GROUP BY` con `COUNT`:"
   ]
  },
  {
   "cell_type": "code",
   "execution_count": null,
   "id": "6c283639",
   "metadata": {},
   "outputs": [],
   "source": [
    "q = '''\n",
    "    SELECT \n",
    "        country, COUNT(name), COUNT(active)\n",
    "    FROM \n",
    "        airlines\n",
    "    GROUP BY\n",
    "        country\n",
    "    '''\n",
    "df = pd.read_sql(q, con)\n",
    "df"
   ]
  },
  {
   "cell_type": "markdown",
   "id": "ddef986a",
   "metadata": {},
   "source": [
    "**Ejercicio 1**\n",
    "\n",
    "En la misma base de datos existe otra tabla llamada \"airports\" en este ejercicio investigarás cuáles son la cuidades con más aeropuertos. Para ello, realiza las siguientes tareas en orden (haz una query por tarea):\n",
    "\n",
    "1. Para conocer las variables de la tabla _airports_ visualízala.  Observa que puedes utilizar la misma conexión `con` pues las tablas pertenecen a la misma base. Observa que cada renglón representa un aeropuerto.\n",
    "2. Con ayuda de `GROUP BY` y `COUNT` cuenta el número de aeropuertos por país; ¿cuál columna debes utilizar para agrupar?; ¿cuál columna puedes utlizar para contar?\n",
    "3. Ordena a los países de mayor a menor número de aeropuertos. Para ello con `SELECT` visualiza solamente `country` y la columna `COUNT(<columna que estés contando>)`. ¿Debes de incluir `DESC` o no?\n",
    "4. Visualiza las primeras 20 posiciones utilizando SQL.\n",
    "\n",
    " "
   ]
  },
  {
   "cell_type": "code",
   "execution_count": null,
   "id": "9e9d4c42",
   "metadata": {},
   "outputs": [],
   "source": [
    "# respuestas \n",
    "\n"
   ]
  },
  {
   "cell_type": "markdown",
   "id": "02cca093",
   "metadata": {},
   "source": [
    "Otros comandos utilizados a menudo son:\n",
    "\n",
    "* `HAVING` -  es análogo a WHERE pero en lugar de actuar sobre condiciones que incluyen directamente a las columnas (por ejemplo, WHERE `active=\"Y\"`), actúa sobre condiciones de columnas previamete procesadas (por ejemplo, HAVING `COUNT(active) > 5`).\n",
    "* `JOIN` - es similar al comando `merge` de `pandas`, es decir, sirve para unir tablas basándose en los valores de de cierta columna.\n",
    "\n",
    "---\n",
    "\n",
    "Como hemos visto en los ejemplos anteriores, podemos ir agregando comandos a una instrucción. Al utilizar el lenguaje SQL es bueno tener mente que el orden en el que se escriben las instrucciones es diferente del orden en el que se ejecutan:\n",
    "\n",
    "| Orden de escritura | Orden de ejecución | \n",
    "|--------------------|--------------------|\n",
    "| SELECT             | FROM               | \n",
    "| FROM               | JOIN               |  \n",
    "| JOIN               | WHERE              |  \n",
    "| WHERE              | GROUP BY           | \n",
    "| GROUP BY           | HAVING             | \n",
    "| HAVING             | SELECT             | \n",
    "| ORDER BY           | ORDER BY           | \n",
    "| LIMIT              | LIMIT              | \n",
    "\n",
    "---\n",
    "\n",
    "Veamos un ejemplo de `JOIN`.  En la misma base de datos existe una última tabla llamada \"routes\":"
   ]
  },
  {
   "cell_type": "code",
   "execution_count": null,
   "id": "5c5f4096",
   "metadata": {},
   "outputs": [],
   "source": [
    "q = '''\n",
    "    SELECT \n",
    "        *\n",
    "    FROM \n",
    "        airports\n",
    "    ;\n",
    "    '''\n",
    "df = pd.read_sql(q, con)\n",
    "df"
   ]
  },
  {
   "cell_type": "markdown",
   "id": "fc558245",
   "metadata": {},
   "source": [
    "En la celda siguiente hemos hecho una instrucción que une las tablas _routes_ y _airports_. La instrucción `JOIN` necesita ser acompañada de los siguientes elementos:\n",
    "\n",
    "* SELECT seguido de cuáles columnas seleccionarás de las tablas que estás uniendo en el formato:\n",
    "\n",
    "`<tabla>.<columna de la tabla>`\n",
    "* FROM seguido de la tabla que utilizarás de base\n",
    "* JOIN seguido de la tabla con la cuál la unirás\n",
    "* ON seguido de las columnas que utilizarás para basar la unión: se concatenarán renglones de las tablas que\n",
    "tengan coincidencias exactas en esas columnas. El formato debe ser:\n",
    "\n",
    "`ON  <tabla 1>.<columna de la tabla 1> = <tabla 2>.<columna de la tabla 2>`\n",
    "\n",
    "En el ejemplo que sigue, `q` regresa las columnas `source` y `dest` de  _routes_ y las columnas `name` y `country` de _airports_. La instrucción `JOIN` une las tablas basándose en coincidencias entre la columna `source` de _routes_ y la columna `code` de _airports_."
   ]
  },
  {
   "cell_type": "code",
   "execution_count": null,
   "id": "14e57c3f",
   "metadata": {},
   "outputs": [],
   "source": [
    "q = '''\n",
    "    SELECT \n",
    "        routes.source, routes.dest, airports.name, airports.country\n",
    "    FROM \n",
    "        routes\n",
    "    JOIN\n",
    "        airports\n",
    "    ON \n",
    "        routes.source = airports.code\n",
    "        \n",
    "    '''\n",
    "df = pd.read_sql(q, con)\n",
    "df"
   ]
  },
  {
   "cell_type": "markdown",
   "id": "69f6a08e",
   "metadata": {},
   "source": [
    "**Ejercicio 2**\n",
    "\n",
    "Investigarás a cuáles 20 ciudades (y en qué países) a las que **llegan** más rutas. Considera los siguientes preguntas en orden para construir la instrucción: \n",
    "\n",
    "1. Como _routes_ no tiene el nombre de las ciudades utiliza `JOIN` para obtener los nombres a partir de la tabla _airports_. ¿Qué columnas necesitarás para contestar la pregunta? ¿Qué columna utlizarás para hacer la unión?\n",
    "2. ¿Qué columna de _routes_ debes utilizar para el conteo? ¿**Cuáles** columnas de _routes_ debes utilizar para el agrupamiento?\n"
   ]
  },
  {
   "cell_type": "code",
   "execution_count": null,
   "id": "9e703b0c",
   "metadata": {},
   "outputs": [],
   "source": [
    "# respuesta\n",
    "\n"
   ]
  },
  {
   "cell_type": "markdown",
   "id": "475bc27a",
   "metadata": {},
   "source": [
    "## Modificar bases de datos\n",
    "\n",
    "Los comandos anteriores nos han permitido interactuar con una tabla sin modificarla. Enlistamos ahora algunos de los comandos más utilizados para modificarlas:\n",
    "\n",
    "\n",
    "* `CREATE DATABASE` - crea una base de datos\n",
    "* `ALTER DATABASE` - modifica una base de datos\n",
    "* `CREATE TABLE` - crea una tabla\n",
    "* `ALTER TABLE` - modifica una tabla\n",
    "* `INSERT INTO` - inserta datos nuevos en una tabla\n",
    "* `UPDATE` - modificar datos existentes de una tabla\n",
    "* `DELETE` - borra datos de una tabla\n",
    "* `DROP TABLE` - borra una tabla\n",
    "\n",
    "---\n",
    "\n",
    "Enseguida veremos ejemplos de aplicación de algunas de ellas.\n",
    "\n",
    "Para ejecutar instrucciones que contengan los comandos anteriores no podemos ocupar `pandas`, solamente utilizaremos `sqlite`. El primer paso es generar un cursor, es un canal necesario para interactuar con bases de datos en `sqlite`. Éste permite hacer modificaciones, revisarlas, confirmarlas o en algunas ocasiones deshacerlas si algo salió mal.\n",
    "\n",
    "\n",
    "En la siguiente celda generamos un cursor a partir de la conexión `con` que ya teníamos y que está asociada a la misma base de datos `flights.db`."
   ]
  },
  {
   "cell_type": "code",
   "execution_count": null,
   "id": "1bea4399",
   "metadata": {},
   "outputs": [],
   "source": [
    "cur = con.cursor()"
   ]
  },
  {
   "cell_type": "markdown",
   "id": "78c75d7c",
   "metadata": {},
   "source": [
    "Ahora construimos una tabla llamada \"Estudiantes\" dentro de `flights.db`. La nueva tabla tiene cuatro columnas: ID, Apellido, Nombre, Comida_favorita; después del nombre de cada columna especificamos el tipo de datos que puede recibir dicha columna, por ejemplo ID recibe únicamente enteros, las demás columnas sólo reciben cadenas de texto `varchar` es el nombre que SQL les da ese tipo de objetos."
   ]
  },
  {
   "cell_type": "code",
   "execution_count": null,
   "id": "311b202d",
   "metadata": {},
   "outputs": [],
   "source": [
    "q = \"\"\"CREATE TABLE Estudiantes (\n",
    "    ID int,\n",
    "    Apellido varchar,\n",
    "    Nombre varchar,\n",
    "    Comida_favorita varchar\n",
    ");\"\"\"\n",
    "\n",
    "\n",
    "cur.execute(q)"
   ]
  },
  {
   "cell_type": "markdown",
   "id": "8ee3e0cd",
   "metadata": {},
   "source": [
    "Visualizamos toda la tabla, como no le hemos agregado datos aún está vacía:"
   ]
  },
  {
   "cell_type": "code",
   "execution_count": null,
   "id": "a2e9f798",
   "metadata": {},
   "outputs": [],
   "source": [
    "q_all = '''\n",
    "    SELECT \n",
    "        *\n",
    "    FROM \n",
    "        Estudiantes\n",
    "    ;\n",
    "    '''\n",
    "df = pd.read_sql(q_all, con)\n",
    "df"
   ]
  },
  {
   "cell_type": "markdown",
   "id": "2a7340fd",
   "metadata": {},
   "source": [
    "Ahora agregemos algunas filas. Hay dos maneras:\n",
    "\n",
    "* Especificando los nombres de la columnas y los valores que insertaras (los demás se llenan automáticamente como faltantes).\n",
    "\n",
    "`INSERT INTO nombre_tabla  (columna1, columna2, columna3, ...) VALUES (valor1, valor2, valor3, ...);`\n",
    "\n",
    "* O si agregarás todos los valores no es necesario que escribas el nombre de las columnas pero asegúrate de escribirlos en el orden adecuado de las columnas de la tabla.\n",
    "\n",
    "`INSERT INTO nombre_tabla VALUES (valor1, valor2, valor3, ...);`"
   ]
  },
  {
   "cell_type": "code",
   "execution_count": null,
   "id": "7120ae6e",
   "metadata": {},
   "outputs": [],
   "source": [
    "# observa que los valores no numéricos los delimitamos por comillas.\n",
    "q = '''\n",
    "    INSERT INTO \n",
    "        Estudiantes (ID, Apellido, Nombre, Comida_favorita)\n",
    "    VALUES \n",
    "        (1, 'Robles', 'David', 'tacos')\n",
    "    ;\n",
    "    '''\n",
    "\n",
    "cur.execute(q)"
   ]
  },
  {
   "cell_type": "markdown",
   "id": "a132f581",
   "metadata": {},
   "source": [
    "Lo visualizamos:"
   ]
  },
  {
   "cell_type": "code",
   "execution_count": null,
   "id": "cce6560c",
   "metadata": {},
   "outputs": [],
   "source": [
    "df = pd.read_sql(q_all, con)\n",
    "df"
   ]
  },
  {
   "cell_type": "markdown",
   "id": "a9d2a4ac",
   "metadata": {},
   "source": [
    "Guardamos los cambios hechos a la tabla:"
   ]
  },
  {
   "cell_type": "code",
   "execution_count": null,
   "id": "72404275",
   "metadata": {},
   "outputs": [],
   "source": [
    "con.commit()"
   ]
  },
  {
   "cell_type": "markdown",
   "id": "e2b2e538",
   "metadata": {},
   "source": [
    "Ahora agreguemos un registro/renglon con valores faltantes, los valores que no especifiques se llenarán automáticamente con el valor `None`."
   ]
  },
  {
   "cell_type": "code",
   "execution_count": null,
   "id": "e7dd4da6",
   "metadata": {},
   "outputs": [],
   "source": [
    "# insertamos un renglón especificando todos los valores excepto el valor para la columna Comida_favorita\n",
    "q = '''\n",
    "    INSERT INTO \n",
    "        Estudiantes (ID, Apellido, Nombre)\n",
    "    VALUES \n",
    "        (2, 'Villa', 'Pancho')\n",
    "    ;\n",
    "    '''\n",
    "\n",
    "cur.execute(q)\n",
    "\n",
    "# lo visualizamos:\n",
    "\n",
    "df = pd.read_sql(q_all, con)\n",
    "df"
   ]
  },
  {
   "cell_type": "markdown",
   "id": "3b6219d6",
   "metadata": {},
   "source": [
    "Si queremos deshacer los cambios `sqlite` lo permite con el comando `rollback()`. \n",
    "\n",
    "Sin embargo, algunas acciones no se pueden deshacer desde `sqlite`, por ejemplo: la creación (`CREATE`) y borrado (`DROP`) de tablas y bases; tampoco se pueden deshacer los cambios si ya ejecutaste el comando `commit()` después de haber hecho la modificación."
   ]
  },
  {
   "cell_type": "code",
   "execution_count": null,
   "id": "a0b3c792",
   "metadata": {},
   "outputs": [],
   "source": [
    "# deshacemos los cambios\n",
    "con.rollback()\n",
    "\n",
    "# lo visualizamos:\n",
    "df = pd.read_sql(q_all, con)\n",
    "df"
   ]
  },
  {
   "cell_type": "markdown",
   "id": "d1eb6d14",
   "metadata": {},
   "source": [
    "Por otro lado, el comando `UPDATE` trabaja junto con los comandos `SET` y `WHERE`: con `SET` especificas cómo actualizarás los renglones y con `WHERE` cuáles renglones serán actualizados."
   ]
  },
  {
   "cell_type": "code",
   "execution_count": null,
   "id": "eeda5550",
   "metadata": {},
   "outputs": [],
   "source": [
    "q = '''\n",
    "    UPDATE \n",
    "        Estudiantes\n",
    "    SET \n",
    "        Comida_favorita = 'Pasta'\n",
    "    WHERE\n",
    "        ID = 1\n",
    "    ;\n",
    "    '''\n",
    "\n",
    "cur.execute(q)\n",
    "\n",
    "# lo visualizamos\n",
    "df = pd.read_sql(q_all, con)\n",
    "df"
   ]
  },
  {
   "cell_type": "markdown",
   "id": "00e1609e",
   "metadata": {},
   "source": [
    "Puedes consultar todas las tablas de la base de datos asociada a la conexión (en este caso `flights`), consultando un la tabla `sqlite_master`. Ésta es una tabla maestra de `sqlite` que almacena los nombres de todas las tablas."
   ]
  },
  {
   "cell_type": "code",
   "execution_count": null,
   "id": "91612d2a",
   "metadata": {},
   "outputs": [],
   "source": [
    "q = 'SELECT name FROM sqlite_master WHERE type = \"table\"'\n",
    "\n",
    "cur.execute(q)"
   ]
  },
  {
   "cell_type": "markdown",
   "id": "8797b1fa",
   "metadata": {},
   "source": [
    "Extraemos todas las respuestas de la ejecución anterior con `fetchall()` o de una en una con `fetchone()`. "
   ]
  },
  {
   "cell_type": "code",
   "execution_count": null,
   "id": "6e45fbfc",
   "metadata": {},
   "outputs": [],
   "source": [
    "print(cur.fetchall())"
   ]
  },
  {
   "cell_type": "markdown",
   "id": "27c85861",
   "metadata": {},
   "source": [
    "Sólo puedes extraer las respuestas una vez:"
   ]
  },
  {
   "cell_type": "code",
   "execution_count": null,
   "id": "c0507309",
   "metadata": {},
   "outputs": [],
   "source": [
    "print(cur.fetchall())"
   ]
  },
  {
   "cell_type": "markdown",
   "id": "4ed8d2c7",
   "metadata": {},
   "source": [
    "Finalmente, borremos la tabla. Debes tener especial cuidado con este comando pues en ocasiones es irreversible, debes de asegurarte que en verdad deseas borrarlo o que tienes un respaldo."
   ]
  },
  {
   "cell_type": "code",
   "execution_count": null,
   "id": "f16165f2",
   "metadata": {},
   "outputs": [],
   "source": [
    "# borramos la tabla 'Estudiantes'\n",
    "q = \"\"\"DROP TABLE Estudiantes;\"\"\"\n",
    "cur.execute(q)"
   ]
  },
  {
   "cell_type": "code",
   "execution_count": null,
   "id": "204ebef5",
   "metadata": {},
   "outputs": [],
   "source": [
    "# visualizamos las tablas existentes una por una\n",
    "q = 'SELECT name FROM sqlite_master WHERE type = \"table\"'\n",
    "cur.execute(q)\n",
    "\n",
    "output = cur.fetchone()\n",
    "while output is not None:\n",
    "    print(output)\n",
    "    output = cur.fetchone()"
   ]
  }
 ],
 "metadata": {
  "kernelspec": {
   "display_name": "Python 3 (ipykernel)",
   "language": "python",
   "name": "python3"
  },
  "language_info": {
   "codemirror_mode": {
    "name": "ipython",
    "version": 3
   },
   "file_extension": ".py",
   "mimetype": "text/x-python",
   "name": "python",
   "nbconvert_exporter": "python",
   "pygments_lexer": "ipython3",
   "version": "3.8.6"
  }
 },
 "nbformat": 4,
 "nbformat_minor": 5
}

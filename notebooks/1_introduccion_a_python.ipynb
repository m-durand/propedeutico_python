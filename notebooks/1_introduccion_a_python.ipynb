{
 "cells": [
  {
   "cell_type": "markdown",
   "id": "f01ba61e",
   "metadata": {},
   "source": [
    "[![Abrir en Colab](https://colab.research.google.com/assets/colab-badge.svg)](https://colab.research.google.com/github/m-durand/propedeutico_python/blob/main/notebooks/1_introduccion_a_python.ipynb)"
   ]
  },
  {
   "cell_type": "markdown",
   "id": "7185181c",
   "metadata": {},
   "source": [
    "# Propedéutico a programación con Python.\n",
    "\n",
    "**Verano 2023, por el Centro de Ciencia de Datos, EGobiernoyTP.**\n",
    "\n",
    "En este curso, aprenderemos los comandos básicos de Python que nos permitirán hacer análisis de datos, especialmente para datos más o menos grandes.\n",
    "\n",
    "### Sesión 1: Introducción a Python\n",
    "\n",
    "1.  ¿Qué es y cómo funciona Python?\n",
    "2.  ¿Qué es un notebook?\n",
    "3.  Variables\n",
    "4.  Operadores\n",
    "    - Tipos de operadores\n",
    "5.  Comentarios\n",
    "    - Comentario de una sola línea\n",
    "    - Comentario multilinea\n",
    "6.  Tipo de datos\n",
    "    - Números\n",
    "    - Strings\n",
    "    - Listas\n",
    "    - Tuplas\n",
    "    - Sets\n",
    "    - Diccionarios"
   ]
  },
  {
   "cell_type": "markdown",
   "id": "8941292b",
   "metadata": {},
   "source": [
    "## 1. ¿Qué es y cómo funciona Python? \n",
    "\n",
    "Python es un lenguaje de programación que interpreta, es decir, es convierte código comprensible para humanos en código comprensible para máquinas. \n",
    "\n",
    "Es un lenguaje de programación muy versátil, que se utiliza para una gran variedad de tareas que van desde el análisis de datos hasta el desarrollo de páginas web y software. "
   ]
  },
  {
   "cell_type": "markdown",
   "id": "e44d6978",
   "metadata": {},
   "source": [
    "## 2. ¿Qué es un notebook? \n",
    "\n",
    "Los notebooks son un tipo de archivo que nos permite ejecutar código de Python (principalmente). Están compuestos de celdas. En términos generales, existen dos tipos de celdas: las de texto (como esta, en la que nos encontramos) y las de código (como la siguiente). En los notebooks, las celdas de texto nos ayudan a mantener una historia, explicar e interpretar las tablas y gráficas que resulten del análisis, y en general mantener una estructura amigable para compartir nuestro trabajo con otras personas.\n",
    "\n",
    "Existe otro tipo de archivos comúnmente utilizado para código de python: aquellos terminados en `.py`, que solamente contienen código ejecutable. Este formato es el más amigable para la computadora, que no necesita las interpretaciones sino solamente las instrucciones.\n",
    "\n",
    "Para este curso, utilizaremos **Google Colab**. Es una plataforma que permite correr Python en servidores de Google. Para poder trabajar sobre ellos, es decir, \"correr el código\", es necesario presionar el botón \"Open in Colab\" que se encuentra al principio de cada uno. Esto abrirá una nueva ventana con una copia del notebook que es solamente para ustedes, que podrán editar con su propio trabajo. Para poder guardarla, deben hacerlo de manera explícita en Google Drive: por medio del menú Archivo->Guardar una copia en Drive."
   ]
  },
  {
   "cell_type": "code",
   "execution_count": 2,
   "id": "24ae0cf8",
   "metadata": {},
   "outputs": [
    {
     "name": "stdout",
     "output_type": "stream",
     "text": [
      "¡Hola, mundo!\n"
     ]
    }
   ],
   "source": [
    "print(\"¡Hola, mundo!\")"
   ]
  },
  {
   "cell_type": "markdown",
   "id": "65e27f48",
   "metadata": {},
   "source": [
    "## 3. Variables\n",
    "\n",
    "En Python, una variable es guardar en memoria la asignación de un nombre a algún valor."
   ]
  },
  {
   "cell_type": "code",
   "execution_count": 3,
   "id": "fa9682b3",
   "metadata": {},
   "outputs": [],
   "source": [
    "a = 5"
   ]
  },
  {
   "cell_type": "code",
   "execution_count": 4,
   "id": "94f2d451",
   "metadata": {},
   "outputs": [
    {
     "data": {
      "text/plain": [
       "5"
      ]
     },
     "execution_count": 4,
     "metadata": {},
     "output_type": "execute_result"
    }
   ],
   "source": [
    "a"
   ]
  },
  {
   "cell_type": "code",
   "execution_count": 5,
   "id": "a1611777",
   "metadata": {},
   "outputs": [
    {
     "name": "stdout",
     "output_type": "stream",
     "text": [
      "5\n"
     ]
    }
   ],
   "source": [
    "print(a)"
   ]
  },
  {
   "cell_type": "code",
   "execution_count": 15,
   "id": "07f6c1e5",
   "metadata": {},
   "outputs": [],
   "source": [
    "b = 10"
   ]
  },
  {
   "cell_type": "code",
   "execution_count": 16,
   "id": "49d2f582",
   "metadata": {},
   "outputs": [
    {
     "data": {
      "text/plain": [
       "10"
      ]
     },
     "execution_count": 16,
     "metadata": {},
     "output_type": "execute_result"
    }
   ],
   "source": [
    "b"
   ]
  },
  {
   "cell_type": "code",
   "execution_count": 8,
   "id": "ee46757c",
   "metadata": {},
   "outputs": [],
   "source": [
    "c = 'Hola'"
   ]
  },
  {
   "cell_type": "code",
   "execution_count": 10,
   "id": "c6ff12f4",
   "metadata": {},
   "outputs": [
    {
     "data": {
      "text/plain": [
       "'Hola'"
      ]
     },
     "execution_count": 10,
     "metadata": {},
     "output_type": "execute_result"
    }
   ],
   "source": [
    "c"
   ]
  },
  {
   "cell_type": "markdown",
   "id": "4f29582c",
   "metadata": {},
   "source": [
    "## 4. Operadores\n",
    "\n",
    "Los operadores son un conjunto de símbolos que se utilizan para definir una tarea computacional entre variables\n",
    "\n",
    "### 4.1 Operaciones aritméticas"
   ]
  },
  {
   "cell_type": "code",
   "execution_count": 27,
   "id": "1e9ee131",
   "metadata": {},
   "outputs": [
    {
     "data": {
      "text/plain": [
       "15"
      ]
     },
     "execution_count": 27,
     "metadata": {},
     "output_type": "execute_result"
    }
   ],
   "source": [
    "# Suma\n",
    "a + b"
   ]
  },
  {
   "cell_type": "code",
   "execution_count": 28,
   "id": "190104b0",
   "metadata": {},
   "outputs": [
    {
     "data": {
      "text/plain": [
       "5"
      ]
     },
     "execution_count": 28,
     "metadata": {},
     "output_type": "execute_result"
    }
   ],
   "source": [
    "# Resta\n",
    "b - a"
   ]
  },
  {
   "cell_type": "code",
   "execution_count": 21,
   "id": "47a1e95e",
   "metadata": {},
   "outputs": [
    {
     "data": {
      "text/plain": [
       "50"
      ]
     },
     "execution_count": 21,
     "metadata": {},
     "output_type": "execute_result"
    }
   ],
   "source": [
    "# Multiplicación\n",
    "a * b"
   ]
  },
  {
   "cell_type": "code",
   "execution_count": 24,
   "id": "91f35e1d",
   "metadata": {},
   "outputs": [
    {
     "data": {
      "text/plain": [
       "2.0"
      ]
     },
     "execution_count": 24,
     "metadata": {},
     "output_type": "execute_result"
    }
   ],
   "source": [
    "# División\n",
    "b / a"
   ]
  },
  {
   "cell_type": "code",
   "execution_count": 34,
   "id": "05c36182",
   "metadata": {},
   "outputs": [
    {
     "data": {
      "text/plain": [
       "9765625"
      ]
     },
     "execution_count": 34,
     "metadata": {},
     "output_type": "execute_result"
    }
   ],
   "source": [
    "# Exponente\n",
    "a**b"
   ]
  },
  {
   "cell_type": "code",
   "execution_count": 32,
   "id": "5ff5587c",
   "metadata": {},
   "outputs": [
    {
     "data": {
      "text/plain": [
       "5"
      ]
     },
     "execution_count": 32,
     "metadata": {},
     "output_type": "execute_result"
    }
   ],
   "source": [
    "# Módulo\n",
    "a%b"
   ]
  },
  {
   "cell_type": "markdown",
   "id": "7e6f9efc",
   "metadata": {},
   "source": [
    "### 4.2 Operadores de asignación"
   ]
  },
  {
   "cell_type": "code",
   "execution_count": 58,
   "id": "d1d6d3ff",
   "metadata": {},
   "outputs": [],
   "source": [
    "# Asignación del valor derecho a la expresión en el operando izquierdo\n",
    "d = 2"
   ]
  },
  {
   "cell_type": "code",
   "execution_count": 59,
   "id": "542b8a67",
   "metadata": {},
   "outputs": [
    {
     "data": {
      "text/plain": [
       "2"
      ]
     },
     "execution_count": 59,
     "metadata": {},
     "output_type": "execute_result"
    }
   ],
   "source": [
    "d"
   ]
  },
  {
   "cell_type": "code",
   "execution_count": 54,
   "id": "2f07bb90",
   "metadata": {},
   "outputs": [],
   "source": [
    "# Agrega y asigna operando izquierdo\n",
    "d += a"
   ]
  },
  {
   "cell_type": "code",
   "execution_count": 55,
   "id": "86206ec1",
   "metadata": {},
   "outputs": [
    {
     "data": {
      "text/plain": [
       "7"
      ]
     },
     "execution_count": 55,
     "metadata": {},
     "output_type": "execute_result"
    }
   ],
   "source": [
    "d"
   ]
  },
  {
   "cell_type": "code",
   "execution_count": 56,
   "id": "f3033a90",
   "metadata": {},
   "outputs": [],
   "source": [
    "# Substrae y asigna operando izquierdo\n",
    "d -= a"
   ]
  },
  {
   "cell_type": "code",
   "execution_count": 57,
   "id": "179c18f2",
   "metadata": {},
   "outputs": [
    {
     "data": {
      "text/plain": [
       "2"
      ]
     },
     "execution_count": 57,
     "metadata": {},
     "output_type": "execute_result"
    }
   ],
   "source": [
    "d"
   ]
  },
  {
   "cell_type": "markdown",
   "id": "640b784e",
   "metadata": {},
   "source": [
    "### 4.3 Operadores de comparación"
   ]
  },
  {
   "cell_type": "code",
   "execution_count": 80,
   "id": "bc0587d9",
   "metadata": {},
   "outputs": [
    {
     "data": {
      "text/plain": [
       "True"
      ]
     },
     "execution_count": 80,
     "metadata": {},
     "output_type": "execute_result"
    }
   ],
   "source": [
    "1 <= 2 "
   ]
  },
  {
   "cell_type": "code",
   "execution_count": 81,
   "id": "d96dc5d0",
   "metadata": {},
   "outputs": [
    {
     "data": {
      "text/plain": [
       "True"
      ]
     },
     "execution_count": 81,
     "metadata": {},
     "output_type": "execute_result"
    }
   ],
   "source": [
    "1 < 2"
   ]
  },
  {
   "cell_type": "code",
   "execution_count": 82,
   "id": "f7a0b559",
   "metadata": {},
   "outputs": [
    {
     "data": {
      "text/plain": [
       "False"
      ]
     },
     "execution_count": 82,
     "metadata": {},
     "output_type": "execute_result"
    }
   ],
   "source": [
    "1 >= 2"
   ]
  },
  {
   "cell_type": "code",
   "execution_count": 83,
   "id": "c7333dee",
   "metadata": {},
   "outputs": [
    {
     "data": {
      "text/plain": [
       "False"
      ]
     },
     "execution_count": 83,
     "metadata": {},
     "output_type": "execute_result"
    }
   ],
   "source": [
    "1 > 2"
   ]
  },
  {
   "cell_type": "code",
   "execution_count": 77,
   "id": "d956f00e",
   "metadata": {},
   "outputs": [
    {
     "data": {
      "text/plain": [
       "False"
      ]
     },
     "execution_count": 77,
     "metadata": {},
     "output_type": "execute_result"
    }
   ],
   "source": [
    "1 != 1"
   ]
  },
  {
   "cell_type": "code",
   "execution_count": 84,
   "id": "7c60c9bf",
   "metadata": {},
   "outputs": [
    {
     "data": {
      "text/plain": [
       "True"
      ]
     },
     "execution_count": 84,
     "metadata": {},
     "output_type": "execute_result"
    }
   ],
   "source": [
    "1 != 2"
   ]
  },
  {
   "cell_type": "code",
   "execution_count": 85,
   "id": "e6aeb833",
   "metadata": {},
   "outputs": [
    {
     "data": {
      "text/plain": [
       "True"
      ]
     },
     "execution_count": 85,
     "metadata": {},
     "output_type": "execute_result"
    }
   ],
   "source": [
    "1 == 1"
   ]
  },
  {
   "cell_type": "markdown",
   "id": "588eaeb8",
   "metadata": {},
   "source": [
    "### 4.4 Otros operadores:"
   ]
  },
  {
   "cell_type": "code",
   "execution_count": 97,
   "id": "e97ede75",
   "metadata": {},
   "outputs": [
    {
     "name": "stdout",
     "output_type": "stream",
     "text": [
      "False\n",
      "True\n"
     ]
    }
   ],
   "source": [
    "# Identity operators: Para comparar objetos en memoria.\n",
    "x = 6; y = 4\n",
    "print(x is y)\n",
    "print(x is not y)"
   ]
  },
  {
   "cell_type": "code",
   "execution_count": 107,
   "id": "0daa6ad1",
   "metadata": {},
   "outputs": [
    {
     "name": "stdout",
     "output_type": "stream",
     "text": [
      "\n",
      "    Logical operators\n",
      "    -----------------\n",
      "    - and\n",
      "    - or \n",
      "    - not\n",
      "    \n",
      "    \n"
     ]
    }
   ],
   "source": [
    "print(\n",
    "    '''\n",
    "    Logical operators\n",
    "    -----------------\n",
    "    - and\n",
    "    - or \n",
    "    - not\n",
    "    \n",
    "    '''\n",
    ")"
   ]
  },
  {
   "cell_type": "code",
   "execution_count": 108,
   "id": "73786677",
   "metadata": {},
   "outputs": [
    {
     "name": "stdout",
     "output_type": "stream",
     "text": [
      "\n",
      "    Membership operators\n",
      "    ----------\n",
      "    - in\n",
      "    - not in\n",
      "    \n"
     ]
    }
   ],
   "source": [
    "print(\n",
    "    '''\n",
    "    Membership operators\n",
    "    ----------\n",
    "    - in\n",
    "    - not in\n",
    "    '''\n",
    ")"
   ]
  },
  {
   "cell_type": "markdown",
   "id": "b84be3e6",
   "metadata": {},
   "source": [
    "## 5. Comentarios\n",
    "\n",
    "Comentarios son parte del código que se ignora a la hora de compilar. Se usa principalmente para explicar el código."
   ]
  },
  {
   "cell_type": "code",
   "execution_count": 111,
   "id": "f213def0",
   "metadata": {},
   "outputs": [],
   "source": [
    "# Esto es un comentario de una línea"
   ]
  },
  {
   "cell_type": "code",
   "execution_count": 112,
   "id": "5f368d20",
   "metadata": {},
   "outputs": [],
   "source": [
    "## Comentario de otra línea también"
   ]
  },
  {
   "cell_type": "code",
   "execution_count": 110,
   "id": "e13f08ce",
   "metadata": {},
   "outputs": [
    {
     "data": {
      "text/plain": [
       "'Comentario de una línea'"
      ]
     },
     "execution_count": 110,
     "metadata": {},
     "output_type": "execute_result"
    }
   ],
   "source": [
    "'''Comentario de una línea'''"
   ]
  },
  {
   "cell_type": "code",
   "execution_count": 113,
   "id": "7c368a18",
   "metadata": {},
   "outputs": [],
   "source": [
    "# Comentario\n",
    "## de\n",
    "### múltiples\n",
    "#### líneas"
   ]
  },
  {
   "cell_type": "code",
   "execution_count": 116,
   "id": "b04daa02",
   "metadata": {},
   "outputs": [
    {
     "data": {
      "text/plain": [
       "'\\nComentario \\nde \\nmúltiples\\nlíneas\\n'"
      ]
     },
     "execution_count": 116,
     "metadata": {},
     "output_type": "execute_result"
    }
   ],
   "source": [
    "'''\n",
    "Comentario \n",
    "de \n",
    "múltiples\n",
    "líneas\n",
    "'''"
   ]
  },
  {
   "cell_type": "markdown",
   "id": "8b847994",
   "metadata": {},
   "source": [
    "## 6. Tipos de datos\n",
    "\n",
    "Esto explica el tipo de valor que tiene una variable. \n",
    "\n",
    "Son básicamente 6:"
   ]
  },
  {
   "cell_type": "markdown",
   "id": "bb285ae8",
   "metadata": {},
   "source": [
    "### 6.1 Números\n",
    "\n",
    "Enteros, flotantes y números complejos, para revisar el tipo de dato usa `type()`"
   ]
  },
  {
   "cell_type": "code",
   "execution_count": 130,
   "id": "93bb6ab3",
   "metadata": {},
   "outputs": [
    {
     "name": "stdout",
     "output_type": "stream",
     "text": [
      "Tipo de dato a: <class 'int'> ; valor: 10\n",
      "Tipo de dato b: <class 'float'> ; valor: 4.5\n",
      "Tipo de dato b: <class 'complex'> ; valor: (1+6j)\n"
     ]
    }
   ],
   "source": [
    "a = 10\n",
    "print('Tipo de dato a:', type(a), '; valor:',a)\n",
    "\n",
    "b = 4.5\n",
    "print('Tipo de dato b:', type(b), '; valor:',b)\n",
    "\n",
    "c = 1+6j\n",
    "print('Tipo de dato b:', type(c), '; valor:',c)"
   ]
  },
  {
   "cell_type": "markdown",
   "id": "5f2c3c4a",
   "metadata": {},
   "source": [
    "###  6.2 Strings\n",
    "\n",
    "Secuencia de caracteres."
   ]
  },
  {
   "cell_type": "code",
   "execution_count": 131,
   "id": "ef3bc71f",
   "metadata": {},
   "outputs": [],
   "source": [
    "a = 'Hola'"
   ]
  },
  {
   "cell_type": "code",
   "execution_count": 134,
   "id": "eedb8341",
   "metadata": {},
   "outputs": [
    {
     "data": {
      "text/plain": [
       "str"
      ]
     },
     "execution_count": 134,
     "metadata": {},
     "output_type": "execute_result"
    }
   ],
   "source": [
    "type(a)"
   ]
  },
  {
   "cell_type": "markdown",
   "id": "ef73eedb",
   "metadata": {},
   "source": [
    "### 6.3 Listas\n",
    "\n",
    "Las listas son una secuencia de elementos ordenados. Se dice que las listas son **mutables**, por lo que puedes modificarlas, eliminar o agregar elementos. Se definen con el uso de `[ ]`."
   ]
  },
  {
   "cell_type": "code",
   "execution_count": 135,
   "id": "6fd3dda6",
   "metadata": {},
   "outputs": [],
   "source": [
    "mi_lista = [98, 'David', 8.6, 98]"
   ]
  },
  {
   "cell_type": "code",
   "execution_count": 136,
   "id": "bbbef8a1",
   "metadata": {},
   "outputs": [
    {
     "data": {
      "text/plain": [
       "list"
      ]
     },
     "execution_count": 136,
     "metadata": {},
     "output_type": "execute_result"
    }
   ],
   "source": [
    "type(mi_lista)"
   ]
  },
  {
   "cell_type": "markdown",
   "id": "21732cd6",
   "metadata": {},
   "source": [
    "### 6.4 Tuplas\n",
    "\n",
    "Una tupla es similar a la lista pero estas son **inmutables**, por lo que NO puedes cambiar los elementos de la tupla. Dependiento del contexto utilizas tuplas en lugar de listas, sobre todo si no quieres modificar tus datos. Éstas se definen como `( )`."
   ]
  },
  {
   "cell_type": "code",
   "execution_count": 137,
   "id": "85778114",
   "metadata": {},
   "outputs": [],
   "source": [
    "mi_tupla = (99, 'Andrea', 7.6, 99)"
   ]
  },
  {
   "cell_type": "code",
   "execution_count": 138,
   "id": "b20a274e",
   "metadata": {},
   "outputs": [
    {
     "data": {
      "text/plain": [
       "tuple"
      ]
     },
     "execution_count": 138,
     "metadata": {},
     "output_type": "execute_result"
    }
   ],
   "source": [
    "type(mi_tupla)"
   ]
  },
  {
   "cell_type": "markdown",
   "id": "fc62d8a3",
   "metadata": {},
   "source": [
    "### 6.5 Conjunto (set)\n",
    "\n",
    "Es una secuencia de objetivos no ordenados, es menos famoso pero muy útil para diversas cosas. No tiene ningún valor repetido, a diferencia de las listas y las tuplas. En los conjuntos puedes realizar operaciones como unión, intersección. Para definir un conjunto utilizamos `{ }`"
   ]
  },
  {
   "cell_type": "code",
   "execution_count": 139,
   "id": "d88d7326",
   "metadata": {},
   "outputs": [],
   "source": [
    "mi_set = {9,10,11}"
   ]
  },
  {
   "cell_type": "code",
   "execution_count": 140,
   "id": "91e72043",
   "metadata": {},
   "outputs": [
    {
     "data": {
      "text/plain": [
       "set"
      ]
     },
     "execution_count": 140,
     "metadata": {},
     "output_type": "execute_result"
    }
   ],
   "source": [
    "type(mi_set)"
   ]
  },
  {
   "cell_type": "markdown",
   "id": "ed2e3f1c",
   "metadata": {},
   "source": [
    "###  6.6 Diccionario\n",
    "\n",
    "Es una colección no ordenada de valores y llaves. Los diccionarios se utilizan principalmente para almacenar grandes cantidades de datos. Para definirlos utilizamos `{key: value}`"
   ]
  },
  {
   "cell_type": "code",
   "execution_count": 141,
   "id": "d020f2ec",
   "metadata": {},
   "outputs": [
    {
     "name": "stdout",
     "output_type": "stream",
     "text": [
      "dict_keys(['num', 'name', 'batch'])\n",
      "dict_values([['d01', 'd02'], ['Pablo', 'Karla'], [26, 27]])\n"
     ]
    }
   ],
   "source": [
    "dictt1 = {'num' : 'd01', 'nombre' : 'Pablo', 'edad':26}\n",
    "dictt2 = {\n",
    "          'num' : ['d01','d02'],\n",
    "          'name' : ['Pablo', 'Karla'],\n",
    "          'batch' : [26,27] \n",
    "           }\n",
    "print(dictt2.keys())   ### Prints all the keys in a list\n",
    "print(dictt2.values()) ### Prints all the values"
   ]
  }
 ],
 "metadata": {
  "kernelspec": {
   "display_name": "Python 3 (ipykernel)",
   "language": "python",
   "name": "python3"
  },
  "language_info": {
   "codemirror_mode": {
    "name": "ipython",
    "version": 3
   },
   "file_extension": ".py",
   "mimetype": "text/x-python",
   "name": "python",
   "nbconvert_exporter": "python",
   "pygments_lexer": "ipython3",
   "version": "3.8.13"
  }
 },
 "nbformat": 4,
 "nbformat_minor": 5
}

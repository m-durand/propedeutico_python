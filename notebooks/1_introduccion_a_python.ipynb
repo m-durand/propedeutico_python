{
 "cells": [
  {
   "cell_type": "markdown",
   "id": "f01ba61e",
   "metadata": {},
   "source": [
    "[![Abrir en Colab](https://colab.research.google.com/assets/colab-badge.svg)](https://colab.research.google.com/github/m-durand/propedeutico_python/blob/main/notebooks/1_introduccion_a_python.ipynb)"
   ]
  },
  {
   "cell_type": "markdown",
   "id": "9fa3e77d",
   "metadata": {},
   "source": [
    "# Introducción a Python, verano 2023\n",
    "\n",
    "\n",
    "En este curso, aprenderemos los comandos básicos de Python que nos permitirán hacer análisis de datos, especialmente para datos más o menos grandes.\n",
    "\n",
    "### Contenido\n",
    "\n",
    "1.  ¿Qué es y cómo funciona Python?\n",
    "2.  ¿Qué es un notebook?\n",
    "3.  Variables\n",
    "4.  Operadores\n",
    "    - Tipos de operadores\n",
    "5.  Comentarios\n",
    "    - Comentario de una sola línea\n",
    "    - Comentario multilinea\n",
    "6.  Taking Input and Printing Output\n",
    "7.  Data Types\n",
    "    - Numbers\n",
    "    - Strings\n",
    "    - List\n",
    "    - Tuples\n",
    "    - Set\n",
    "    - Dictionaries\n",
    "8.  Indexing & Slicing\n",
    "9.  Type Conversion\n",
    "10. Conditionals Loops\n",
    "    - for\n",
    "       - range\n",
    "       - enumerate \n",
    "    - while \n",
    "12. Functions\n",
    "    - Recursions\n",
    "    - Lambda \n",
    "13. Package\n",
    "    - pip\n",
    "14. random module\n",
    "15. Files and Their Operations\n",
    "16. Class & Object"
   ]
  },
  {
   "cell_type": "markdown",
   "id": "dfac6599",
   "metadata": {},
   "source": [
    "## 1. ¿Qué es y cómo funciona Python? \n",
    "\n",
    "Python es un lenguaje de programación que interpreta, es decir, es convierte código comprensible para humanos en código comprensible para máquinas. \n",
    "\n",
    "Es un lenguaje de programación muy versátil, que se utiliza para una gran variedad de tareas que van desde el análisis de datos hasta el desarrollo de páginas web y software. "
   ]
  },
  {
   "cell_type": "markdown",
   "id": "e44d6978",
   "metadata": {},
   "source": [
    "## 2. ¿Qué es un notebook? \n",
    "\n",
    "Los notebooks son un tipo de archivo que nos permite ejecutar código de Python (principalmente). Están compuestos de celdas. En términos generales, existen dos tipos de celdas: las de texto (como esta, en la que nos encontramos) y las de código (como la siguiente). En los notebooks, las celdas de texto nos ayudan a mantener una historia, explicar e interpretar las tablas y gráficas que resulten del análisis, y en general mantener una estructura amigable para compartir nuestro trabajo con otras personas.\n",
    "\n",
    "Existe otro tipo de archivos comúnmente utilizado para código de python: aquellos terminados en `.py`, que solamente contienen código ejecutable. Este formato es el más amigable para la computadora, que no necesita las interpretaciones sino solamente las instrucciones.\n",
    "\n",
    "Para este curso, utilizaremos **Google Colab**. Es una plataforma que permite correr Python en servidores de Google. Para poder trabajar sobre ellos, es decir, \"correr el código\", es necesario presionar el botón \"Open in Colab\" que se encuentra al principio de cada uno. Esto abrirá una nueva ventana con una copia del notebook que es solamente para ustedes, que podrán editar con su propio trabajo. Para poder guardarla, deben hacerlo de manera explícita en Google Drive: por medio del menú Archivo->Guardar una copia en Drive."
   ]
  },
  {
   "cell_type": "code",
   "execution_count": 2,
   "id": "72526e9f",
   "metadata": {},
   "outputs": [
    {
     "name": "stdout",
     "output_type": "stream",
     "text": [
      "¡Hola, mundo!\n"
     ]
    }
   ],
   "source": [
    "print(\"¡Hola, mundo!\")"
   ]
  },
  {
   "cell_type": "markdown",
   "id": "77e73f85",
   "metadata": {},
   "source": [
    "## 3. Variables\n",
    "\n",
    "En Python, una variable es guardar en memoria la asignación de un nombre a algún valor."
   ]
  },
  {
   "cell_type": "code",
   "execution_count": 3,
   "id": "7e4d0625",
   "metadata": {},
   "outputs": [],
   "source": [
    "a = 5"
   ]
  },
  {
   "cell_type": "code",
   "execution_count": 4,
   "id": "6e6fc3ac",
   "metadata": {},
   "outputs": [
    {
     "data": {
      "text/plain": [
       "5"
      ]
     },
     "execution_count": 4,
     "metadata": {},
     "output_type": "execute_result"
    }
   ],
   "source": [
    "a"
   ]
  },
  {
   "cell_type": "code",
   "execution_count": 5,
   "id": "31401158",
   "metadata": {},
   "outputs": [
    {
     "name": "stdout",
     "output_type": "stream",
     "text": [
      "5\n"
     ]
    }
   ],
   "source": [
    "print(a)"
   ]
  },
  {
   "cell_type": "code",
   "execution_count": 15,
   "id": "03db4d2d",
   "metadata": {},
   "outputs": [],
   "source": [
    "b = 10"
   ]
  },
  {
   "cell_type": "code",
   "execution_count": 16,
   "id": "b9385f9f",
   "metadata": {},
   "outputs": [
    {
     "data": {
      "text/plain": [
       "10"
      ]
     },
     "execution_count": 16,
     "metadata": {},
     "output_type": "execute_result"
    }
   ],
   "source": [
    "b"
   ]
  },
  {
   "cell_type": "code",
   "execution_count": 8,
   "id": "282abda3",
   "metadata": {},
   "outputs": [],
   "source": [
    "c = 'Hola'"
   ]
  },
  {
   "cell_type": "code",
   "execution_count": 10,
   "id": "dfe749c7",
   "metadata": {},
   "outputs": [
    {
     "data": {
      "text/plain": [
       "'Hola'"
      ]
     },
     "execution_count": 10,
     "metadata": {},
     "output_type": "execute_result"
    }
   ],
   "source": [
    "c"
   ]
  },
  {
   "cell_type": "markdown",
   "id": "1feb12d3",
   "metadata": {},
   "source": [
    "## 4. Operadores\n",
    "\n",
    "Los operadores son un conjunto de símbolos que se utilizan para definir una tarea computacional entre variables\n",
    "\n",
    "### 4.1 Operaciones aritméticas"
   ]
  },
  {
   "cell_type": "code",
   "execution_count": 27,
   "id": "a612b6a1",
   "metadata": {},
   "outputs": [
    {
     "data": {
      "text/plain": [
       "15"
      ]
     },
     "execution_count": 27,
     "metadata": {},
     "output_type": "execute_result"
    }
   ],
   "source": [
    "# Suma\n",
    "a + b"
   ]
  },
  {
   "cell_type": "code",
   "execution_count": 28,
   "id": "0fd61df5",
   "metadata": {},
   "outputs": [
    {
     "data": {
      "text/plain": [
       "5"
      ]
     },
     "execution_count": 28,
     "metadata": {},
     "output_type": "execute_result"
    }
   ],
   "source": [
    "# Resta\n",
    "b - a"
   ]
  },
  {
   "cell_type": "code",
   "execution_count": 21,
   "id": "d50e80a1",
   "metadata": {},
   "outputs": [
    {
     "data": {
      "text/plain": [
       "50"
      ]
     },
     "execution_count": 21,
     "metadata": {},
     "output_type": "execute_result"
    }
   ],
   "source": [
    "# Multiplicación\n",
    "a * b"
   ]
  },
  {
   "cell_type": "code",
   "execution_count": 24,
   "id": "02aeac04",
   "metadata": {},
   "outputs": [
    {
     "data": {
      "text/plain": [
       "2.0"
      ]
     },
     "execution_count": 24,
     "metadata": {},
     "output_type": "execute_result"
    }
   ],
   "source": [
    "# División\n",
    "b / a"
   ]
  },
  {
   "cell_type": "code",
   "execution_count": 34,
   "id": "b1dd2ace",
   "metadata": {},
   "outputs": [
    {
     "data": {
      "text/plain": [
       "9765625"
      ]
     },
     "execution_count": 34,
     "metadata": {},
     "output_type": "execute_result"
    }
   ],
   "source": [
    "# Exponente\n",
    "a**b"
   ]
  },
  {
   "cell_type": "code",
   "execution_count": 32,
   "id": "e3cd0114",
   "metadata": {},
   "outputs": [
    {
     "data": {
      "text/plain": [
       "5"
      ]
     },
     "execution_count": 32,
     "metadata": {},
     "output_type": "execute_result"
    }
   ],
   "source": [
    "# Módulo\n",
    "a%b"
   ]
  },
  {
   "cell_type": "markdown",
   "id": "0ff316ab",
   "metadata": {},
   "source": [
    "### 4.2 Operadores de asignación"
   ]
  },
  {
   "cell_type": "code",
   "execution_count": 58,
   "id": "ac176951",
   "metadata": {},
   "outputs": [],
   "source": [
    "# Asignación del valor derecho a la expresión en el operando izquierdo\n",
    "d = 2"
   ]
  },
  {
   "cell_type": "code",
   "execution_count": 59,
   "id": "d73aab8d",
   "metadata": {},
   "outputs": [
    {
     "data": {
      "text/plain": [
       "2"
      ]
     },
     "execution_count": 59,
     "metadata": {},
     "output_type": "execute_result"
    }
   ],
   "source": [
    "d"
   ]
  },
  {
   "cell_type": "code",
   "execution_count": 54,
   "id": "0922aa5a",
   "metadata": {},
   "outputs": [],
   "source": [
    "# Agrega y asigna operando izquierdo\n",
    "d += a"
   ]
  },
  {
   "cell_type": "code",
   "execution_count": 55,
   "id": "b98b4cba",
   "metadata": {},
   "outputs": [
    {
     "data": {
      "text/plain": [
       "7"
      ]
     },
     "execution_count": 55,
     "metadata": {},
     "output_type": "execute_result"
    }
   ],
   "source": [
    "d"
   ]
  },
  {
   "cell_type": "code",
   "execution_count": 56,
   "id": "dcb804c6",
   "metadata": {},
   "outputs": [],
   "source": [
    "# Substrae y asigna operando izquierdo\n",
    "d -= a"
   ]
  },
  {
   "cell_type": "code",
   "execution_count": 57,
   "id": "633f6e87",
   "metadata": {},
   "outputs": [
    {
     "data": {
      "text/plain": [
       "2"
      ]
     },
     "execution_count": 57,
     "metadata": {},
     "output_type": "execute_result"
    }
   ],
   "source": [
    "d"
   ]
  },
  {
   "cell_type": "markdown",
   "id": "8b3470b5",
   "metadata": {},
   "source": [
    "### 4.3 Operadores de comparación"
   ]
  },
  {
   "cell_type": "code",
   "execution_count": 80,
   "id": "7ade1423",
   "metadata": {},
   "outputs": [
    {
     "data": {
      "text/plain": [
       "True"
      ]
     },
     "execution_count": 80,
     "metadata": {},
     "output_type": "execute_result"
    }
   ],
   "source": [
    "1 <= 2 "
   ]
  },
  {
   "cell_type": "code",
   "execution_count": 81,
   "id": "7c96042a",
   "metadata": {},
   "outputs": [
    {
     "data": {
      "text/plain": [
       "True"
      ]
     },
     "execution_count": 81,
     "metadata": {},
     "output_type": "execute_result"
    }
   ],
   "source": [
    "1 < 2"
   ]
  },
  {
   "cell_type": "code",
   "execution_count": 82,
   "id": "1e27ea87",
   "metadata": {},
   "outputs": [
    {
     "data": {
      "text/plain": [
       "False"
      ]
     },
     "execution_count": 82,
     "metadata": {},
     "output_type": "execute_result"
    }
   ],
   "source": [
    "1 >= 2"
   ]
  },
  {
   "cell_type": "code",
   "execution_count": 83,
   "id": "82274375",
   "metadata": {},
   "outputs": [
    {
     "data": {
      "text/plain": [
       "False"
      ]
     },
     "execution_count": 83,
     "metadata": {},
     "output_type": "execute_result"
    }
   ],
   "source": [
    "1 > 2"
   ]
  },
  {
   "cell_type": "code",
   "execution_count": 77,
   "id": "787d0d17",
   "metadata": {},
   "outputs": [
    {
     "data": {
      "text/plain": [
       "False"
      ]
     },
     "execution_count": 77,
     "metadata": {},
     "output_type": "execute_result"
    }
   ],
   "source": [
    "1 != 1"
   ]
  },
  {
   "cell_type": "code",
   "execution_count": 84,
   "id": "337dbbe8",
   "metadata": {},
   "outputs": [
    {
     "data": {
      "text/plain": [
       "True"
      ]
     },
     "execution_count": 84,
     "metadata": {},
     "output_type": "execute_result"
    }
   ],
   "source": [
    "1 != 2"
   ]
  },
  {
   "cell_type": "code",
   "execution_count": 85,
   "id": "f34a633a",
   "metadata": {},
   "outputs": [
    {
     "data": {
      "text/plain": [
       "True"
      ]
     },
     "execution_count": 85,
     "metadata": {},
     "output_type": "execute_result"
    }
   ],
   "source": [
    "1 == 1"
   ]
  },
  {
   "cell_type": "markdown",
   "id": "c26779a7",
   "metadata": {},
   "source": [
    "### Otros operadores:"
   ]
  },
  {
   "cell_type": "code",
   "execution_count": 97,
   "id": "4dc941d5",
   "metadata": {},
   "outputs": [
    {
     "name": "stdout",
     "output_type": "stream",
     "text": [
      "False\n",
      "True\n"
     ]
    }
   ],
   "source": [
    "# Identity operators: Para comparar objetos en memoria.\n",
    "x = 6; y = 4\n",
    "print(x is y)\n",
    "print(x is not y)"
   ]
  },
  {
   "cell_type": "code",
   "execution_count": 107,
   "id": "38d105be",
   "metadata": {},
   "outputs": [
    {
     "name": "stdout",
     "output_type": "stream",
     "text": [
      "\n",
      "    Logical operators\n",
      "    -----------------\n",
      "    - and\n",
      "    - or \n",
      "    - not\n",
      "    \n",
      "    \n"
     ]
    }
   ],
   "source": [
    "print(\n",
    "    '''\n",
    "    Logical operators\n",
    "    -----------------\n",
    "    - and\n",
    "    - or \n",
    "    - not\n",
    "    \n",
    "    '''\n",
    ")"
   ]
  },
  {
   "cell_type": "code",
   "execution_count": 108,
   "id": "f620852d",
   "metadata": {},
   "outputs": [
    {
     "name": "stdout",
     "output_type": "stream",
     "text": [
      "\n",
      "    Membership operators\n",
      "    ----------\n",
      "    - in\n",
      "    - not in\n",
      "    \n"
     ]
    }
   ],
   "source": [
    "print(\n",
    "    '''\n",
    "    Membership operators\n",
    "    ----------\n",
    "    - in\n",
    "    - not in\n",
    "    '''\n",
    ")"
   ]
  },
  {
   "cell_type": "markdown",
   "id": "c9c3c60d",
   "metadata": {},
   "source": [
    "## 5. Comentarios\n",
    "\n",
    "Comentarios son parte del código que se ignora a la hora de compilar"
   ]
  },
  {
   "cell_type": "code",
   "execution_count": null,
   "id": "ae83b2f8",
   "metadata": {},
   "outputs": [],
   "source": []
  }
 ],
 "metadata": {
  "kernelspec": {
   "display_name": "Python 3 (ipykernel)",
   "language": "python",
   "name": "python3"
  },
  "language_info": {
   "codemirror_mode": {
    "name": "ipython",
    "version": 3
   },
   "file_extension": ".py",
   "mimetype": "text/x-python",
   "name": "python",
   "nbconvert_exporter": "python",
   "pygments_lexer": "ipython3",
   "version": "3.8.13"
  }
 },
 "nbformat": 4,
 "nbformat_minor": 5
}

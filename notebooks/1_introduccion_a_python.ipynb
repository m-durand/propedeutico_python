{
 "cells": [
  {
   "cell_type": "markdown",
   "id": "f01ba61e",
   "metadata": {},
   "source": [
    "[![Abrir en Colab](https://colab.research.google.com/assets/colab-badge.svg)](https://colab.research.google.com/github/m-durand/propedeutico_python/blob/main/notebooks/1_introduccion_a_python.ipynb)"
   ]
  },
  {
   "cell_type": "markdown",
   "id": "8448eb1a",
   "metadata": {},
   "source": [
    "# Introducción a Python, verano 2023\n",
    "\n",
    "\n",
    "En este curso, aprenderemos los comandos básicos de Python que nos permitirán hacer análisis de datos, especialmente para datos más o menos grandes.\n",
    "\n",
    "### Contenido\n",
    "\n",
    "1.  ¿Qué es y cómo funciona Python?\n",
    "2.  ¿Qué es un notebook?\n",
    "3.  Variables\n",
    "4.  Operadores\n",
    "    - Tipos de operadores\n",
    "5.  Comentarios\n",
    "    - Comentario de una sola línea\n",
    "    - Comentario multilinea\n",
    "6.  Tipo de datos\n",
    "    - Numbers\n",
    "    - Strings\n",
    "    - List\n",
    "    - Tuples\n",
    "    - Set\n",
    "    - Dictionaries\n",
    "    Indexing & Slicing\n",
    "8.  Type Conversion\n",
    "9.  Conditionals Loops\n",
    "10. - for\n",
    "       - range\n",
    "       - enumerate \n",
    "    - while \n",
    "    Functions\n",
    "12. - Recursions\n",
    "    - Lambda \n",
    "    Package\n",
    "13. - pip\n",
    "    random module\n",
    "14. Files and Their Operations\n",
    "15. Class & Object16. "
   ]
  },
  {
   "cell_type": "markdown",
   "id": "9eee431a",
   "metadata": {},
   "source": [
    "## 1. ¿Qué es y cómo funciona Python? \n",
    "\n",
    "Python es un lenguaje de programación que interpreta, es decir, es convierte código comprensible para humanos en código comprensible para máquinas. \n",
    "\n",
    "Es un lenguaje de programación muy versátil, que se utiliza para una gran variedad de tareas que van desde el análisis de datos hasta el desarrollo de páginas web y software. "
   ]
  },
  {
   "cell_type": "markdown",
   "id": "e44d6978",
   "metadata": {},
   "source": [
    "## 2. ¿Qué es un notebook? \n",
    "\n",
    "Los notebooks son un tipo de archivo que nos permite ejecutar código de Python (principalmente). Están compuestos de celdas. En términos generales, existen dos tipos de celdas: las de texto (como esta, en la que nos encontramos) y las de código (como la siguiente). En los notebooks, las celdas de texto nos ayudan a mantener una historia, explicar e interpretar las tablas y gráficas que resulten del análisis, y en general mantener una estructura amigable para compartir nuestro trabajo con otras personas.\n",
    "\n",
    "Existe otro tipo de archivos comúnmente utilizado para código de python: aquellos terminados en `.py`, que solamente contienen código ejecutable. Este formato es el más amigable para la computadora, que no necesita las interpretaciones sino solamente las instrucciones.\n",
    "\n",
    "Para este curso, utilizaremos **Google Colab**. Es una plataforma que permite correr Python en servidores de Google. Para poder trabajar sobre ellos, es decir, \"correr el código\", es necesario presionar el botón \"Open in Colab\" que se encuentra al principio de cada uno. Esto abrirá una nueva ventana con una copia del notebook que es solamente para ustedes, que podrán editar con su propio trabajo. Para poder guardarla, deben hacerlo de manera explícita en Google Drive: por medio del menú Archivo->Guardar una copia en Drive."
   ]
  },
  {
   "cell_type": "code",
   "execution_count": 2,
   "id": "0e48b5d9",
   "metadata": {},
   "outputs": [
    {
     "name": "stdout",
     "output_type": "stream",
     "text": [
      "¡Hola, mundo!\n"
     ]
    }
   ],
   "source": [
    "print(\"¡Hola, mundo!\")"
   ]
  },
  {
   "cell_type": "markdown",
   "id": "fb6b548c",
   "metadata": {},
   "source": [
    "## 3. Variables\n",
    "\n",
    "En Python, una variable es guardar en memoria la asignación de un nombre a algún valor."
   ]
  },
  {
   "cell_type": "code",
   "execution_count": 3,
   "id": "553ab56e",
   "metadata": {},
   "outputs": [],
   "source": [
    "a = 5"
   ]
  },
  {
   "cell_type": "code",
   "execution_count": 4,
   "id": "506b623e",
   "metadata": {},
   "outputs": [
    {
     "data": {
      "text/plain": [
       "5"
      ]
     },
     "execution_count": 4,
     "metadata": {},
     "output_type": "execute_result"
    }
   ],
   "source": [
    "a"
   ]
  },
  {
   "cell_type": "code",
   "execution_count": 5,
   "id": "cfa19f60",
   "metadata": {},
   "outputs": [
    {
     "name": "stdout",
     "output_type": "stream",
     "text": [
      "5\n"
     ]
    }
   ],
   "source": [
    "print(a)"
   ]
  },
  {
   "cell_type": "code",
   "execution_count": 15,
   "id": "274c5d5e",
   "metadata": {},
   "outputs": [],
   "source": [
    "b = 10"
   ]
  },
  {
   "cell_type": "code",
   "execution_count": 16,
   "id": "7042c385",
   "metadata": {},
   "outputs": [
    {
     "data": {
      "text/plain": [
       "10"
      ]
     },
     "execution_count": 16,
     "metadata": {},
     "output_type": "execute_result"
    }
   ],
   "source": [
    "b"
   ]
  },
  {
   "cell_type": "code",
   "execution_count": 8,
   "id": "c5904761",
   "metadata": {},
   "outputs": [],
   "source": [
    "c = 'Hola'"
   ]
  },
  {
   "cell_type": "code",
   "execution_count": 10,
   "id": "adeab7b2",
   "metadata": {},
   "outputs": [
    {
     "data": {
      "text/plain": [
       "'Hola'"
      ]
     },
     "execution_count": 10,
     "metadata": {},
     "output_type": "execute_result"
    }
   ],
   "source": [
    "c"
   ]
  },
  {
   "cell_type": "markdown",
   "id": "d13b00a0",
   "metadata": {},
   "source": [
    "## 4. Operadores\n",
    "\n",
    "Los operadores son un conjunto de símbolos que se utilizan para definir una tarea computacional entre variables\n",
    "\n",
    "### 4.1 Operaciones aritméticas"
   ]
  },
  {
   "cell_type": "code",
   "execution_count": 27,
   "id": "eb7e601b",
   "metadata": {},
   "outputs": [
    {
     "data": {
      "text/plain": [
       "15"
      ]
     },
     "execution_count": 27,
     "metadata": {},
     "output_type": "execute_result"
    }
   ],
   "source": [
    "# Suma\n",
    "a + b"
   ]
  },
  {
   "cell_type": "code",
   "execution_count": 28,
   "id": "dcb3f042",
   "metadata": {},
   "outputs": [
    {
     "data": {
      "text/plain": [
       "5"
      ]
     },
     "execution_count": 28,
     "metadata": {},
     "output_type": "execute_result"
    }
   ],
   "source": [
    "# Resta\n",
    "b - a"
   ]
  },
  {
   "cell_type": "code",
   "execution_count": 21,
   "id": "458bd9c8",
   "metadata": {},
   "outputs": [
    {
     "data": {
      "text/plain": [
       "50"
      ]
     },
     "execution_count": 21,
     "metadata": {},
     "output_type": "execute_result"
    }
   ],
   "source": [
    "# Multiplicación\n",
    "a * b"
   ]
  },
  {
   "cell_type": "code",
   "execution_count": 24,
   "id": "88c51272",
   "metadata": {},
   "outputs": [
    {
     "data": {
      "text/plain": [
       "2.0"
      ]
     },
     "execution_count": 24,
     "metadata": {},
     "output_type": "execute_result"
    }
   ],
   "source": [
    "# División\n",
    "b / a"
   ]
  },
  {
   "cell_type": "code",
   "execution_count": 34,
   "id": "4e40f2fa",
   "metadata": {},
   "outputs": [
    {
     "data": {
      "text/plain": [
       "9765625"
      ]
     },
     "execution_count": 34,
     "metadata": {},
     "output_type": "execute_result"
    }
   ],
   "source": [
    "# Exponente\n",
    "a**b"
   ]
  },
  {
   "cell_type": "code",
   "execution_count": 32,
   "id": "7b789df3",
   "metadata": {},
   "outputs": [
    {
     "data": {
      "text/plain": [
       "5"
      ]
     },
     "execution_count": 32,
     "metadata": {},
     "output_type": "execute_result"
    }
   ],
   "source": [
    "# Módulo\n",
    "a%b"
   ]
  },
  {
   "cell_type": "markdown",
   "id": "c5ae91cc",
   "metadata": {},
   "source": [
    "### 4.2 Operadores de asignación"
   ]
  },
  {
   "cell_type": "code",
   "execution_count": 58,
   "id": "b4546664",
   "metadata": {},
   "outputs": [],
   "source": [
    "# Asignación del valor derecho a la expresión en el operando izquierdo\n",
    "d = 2"
   ]
  },
  {
   "cell_type": "code",
   "execution_count": 59,
   "id": "974c6ef2",
   "metadata": {},
   "outputs": [
    {
     "data": {
      "text/plain": [
       "2"
      ]
     },
     "execution_count": 59,
     "metadata": {},
     "output_type": "execute_result"
    }
   ],
   "source": [
    "d"
   ]
  },
  {
   "cell_type": "code",
   "execution_count": 54,
   "id": "ebe4f19e",
   "metadata": {},
   "outputs": [],
   "source": [
    "# Agrega y asigna operando izquierdo\n",
    "d += a"
   ]
  },
  {
   "cell_type": "code",
   "execution_count": 55,
   "id": "2c7ab74c",
   "metadata": {},
   "outputs": [
    {
     "data": {
      "text/plain": [
       "7"
      ]
     },
     "execution_count": 55,
     "metadata": {},
     "output_type": "execute_result"
    }
   ],
   "source": [
    "d"
   ]
  },
  {
   "cell_type": "code",
   "execution_count": 56,
   "id": "834c4d76",
   "metadata": {},
   "outputs": [],
   "source": [
    "# Substrae y asigna operando izquierdo\n",
    "d -= a"
   ]
  },
  {
   "cell_type": "code",
   "execution_count": 57,
   "id": "576dc49a",
   "metadata": {},
   "outputs": [
    {
     "data": {
      "text/plain": [
       "2"
      ]
     },
     "execution_count": 57,
     "metadata": {},
     "output_type": "execute_result"
    }
   ],
   "source": [
    "d"
   ]
  },
  {
   "cell_type": "markdown",
   "id": "06c58917",
   "metadata": {},
   "source": [
    "### 4.3 Operadores de comparación"
   ]
  },
  {
   "cell_type": "code",
   "execution_count": 80,
   "id": "aa12b506",
   "metadata": {},
   "outputs": [
    {
     "data": {
      "text/plain": [
       "True"
      ]
     },
     "execution_count": 80,
     "metadata": {},
     "output_type": "execute_result"
    }
   ],
   "source": [
    "1 <= 2 "
   ]
  },
  {
   "cell_type": "code",
   "execution_count": 81,
   "id": "910d579e",
   "metadata": {},
   "outputs": [
    {
     "data": {
      "text/plain": [
       "True"
      ]
     },
     "execution_count": 81,
     "metadata": {},
     "output_type": "execute_result"
    }
   ],
   "source": [
    "1 < 2"
   ]
  },
  {
   "cell_type": "code",
   "execution_count": 82,
   "id": "2592b07f",
   "metadata": {},
   "outputs": [
    {
     "data": {
      "text/plain": [
       "False"
      ]
     },
     "execution_count": 82,
     "metadata": {},
     "output_type": "execute_result"
    }
   ],
   "source": [
    "1 >= 2"
   ]
  },
  {
   "cell_type": "code",
   "execution_count": 83,
   "id": "33e8b3fb",
   "metadata": {},
   "outputs": [
    {
     "data": {
      "text/plain": [
       "False"
      ]
     },
     "execution_count": 83,
     "metadata": {},
     "output_type": "execute_result"
    }
   ],
   "source": [
    "1 > 2"
   ]
  },
  {
   "cell_type": "code",
   "execution_count": 77,
   "id": "2b5b786d",
   "metadata": {},
   "outputs": [
    {
     "data": {
      "text/plain": [
       "False"
      ]
     },
     "execution_count": 77,
     "metadata": {},
     "output_type": "execute_result"
    }
   ],
   "source": [
    "1 != 1"
   ]
  },
  {
   "cell_type": "code",
   "execution_count": 84,
   "id": "48415b02",
   "metadata": {},
   "outputs": [
    {
     "data": {
      "text/plain": [
       "True"
      ]
     },
     "execution_count": 84,
     "metadata": {},
     "output_type": "execute_result"
    }
   ],
   "source": [
    "1 != 2"
   ]
  },
  {
   "cell_type": "code",
   "execution_count": 85,
   "id": "2b3dc345",
   "metadata": {},
   "outputs": [
    {
     "data": {
      "text/plain": [
       "True"
      ]
     },
     "execution_count": 85,
     "metadata": {},
     "output_type": "execute_result"
    }
   ],
   "source": [
    "1 == 1"
   ]
  },
  {
   "cell_type": "markdown",
   "id": "1a664720",
   "metadata": {},
   "source": [
    "### Otros operadores:"
   ]
  },
  {
   "cell_type": "code",
   "execution_count": 97,
   "id": "5835aa19",
   "metadata": {},
   "outputs": [
    {
     "name": "stdout",
     "output_type": "stream",
     "text": [
      "False\n",
      "True\n"
     ]
    }
   ],
   "source": [
    "# Identity operators: Para comparar objetos en memoria.\n",
    "x = 6; y = 4\n",
    "print(x is y)\n",
    "print(x is not y)"
   ]
  },
  {
   "cell_type": "code",
   "execution_count": 107,
   "id": "3a75c4b4",
   "metadata": {},
   "outputs": [
    {
     "name": "stdout",
     "output_type": "stream",
     "text": [
      "\n",
      "    Logical operators\n",
      "    -----------------\n",
      "    - and\n",
      "    - or \n",
      "    - not\n",
      "    \n",
      "    \n"
     ]
    }
   ],
   "source": [
    "print(\n",
    "    '''\n",
    "    Logical operators\n",
    "    -----------------\n",
    "    - and\n",
    "    - or \n",
    "    - not\n",
    "    \n",
    "    '''\n",
    ")"
   ]
  },
  {
   "cell_type": "code",
   "execution_count": 108,
   "id": "2b2f5765",
   "metadata": {},
   "outputs": [
    {
     "name": "stdout",
     "output_type": "stream",
     "text": [
      "\n",
      "    Membership operators\n",
      "    ----------\n",
      "    - in\n",
      "    - not in\n",
      "    \n"
     ]
    }
   ],
   "source": [
    "print(\n",
    "    '''\n",
    "    Membership operators\n",
    "    ----------\n",
    "    - in\n",
    "    - not in\n",
    "    '''\n",
    ")"
   ]
  },
  {
   "cell_type": "markdown",
   "id": "f7d4b47c",
   "metadata": {},
   "source": [
    "## 5. Comentarios\n",
    "\n",
    "Comentarios son parte del código que se ignora a la hora de compilar. Se usa principalmente para explicar el código."
   ]
  },
  {
   "cell_type": "code",
   "execution_count": 111,
   "id": "34cfa59b",
   "metadata": {},
   "outputs": [],
   "source": [
    "# Esto es un comentario de una línea"
   ]
  },
  {
   "cell_type": "code",
   "execution_count": 112,
   "id": "661c3501",
   "metadata": {},
   "outputs": [],
   "source": [
    "## Comentario de otra línea también"
   ]
  },
  {
   "cell_type": "code",
   "execution_count": 110,
   "id": "1ae87772",
   "metadata": {},
   "outputs": [
    {
     "data": {
      "text/plain": [
       "'Comentario de una línea'"
      ]
     },
     "execution_count": 110,
     "metadata": {},
     "output_type": "execute_result"
    }
   ],
   "source": [
    "'''Comentario de una línea'''"
   ]
  },
  {
   "cell_type": "code",
   "execution_count": 113,
   "id": "5141a74f",
   "metadata": {},
   "outputs": [],
   "source": [
    "# Comentario\n",
    "## de\n",
    "### múltiples\n",
    "#### líneas"
   ]
  },
  {
   "cell_type": "code",
   "execution_count": 116,
   "id": "a6821a14",
   "metadata": {},
   "outputs": [
    {
     "data": {
      "text/plain": [
       "'\\nComentario \\nde \\nmúltiples\\nlíneas\\n'"
      ]
     },
     "execution_count": 116,
     "metadata": {},
     "output_type": "execute_result"
    }
   ],
   "source": [
    "'''\n",
    "Comentario \n",
    "de \n",
    "múltiples\n",
    "líneas\n",
    "'''"
   ]
  },
  {
   "cell_type": "markdown",
   "id": "1eba5092",
   "metadata": {},
   "source": [
    "## 6. Tipos de datos\n",
    "\n",
    "Esto explica el tipo de valor que tiene una variable. \n",
    "\n",
    "Son básicamente 6:"
   ]
  },
  {
   "cell_type": "markdown",
   "id": "29ec52cb",
   "metadata": {},
   "source": [
    "### 1. Números\n",
    "\n",
    "Enteros, flotantes y números complejos, para revisar el tipo de dato usa `type()`"
   ]
  },
  {
   "cell_type": "code",
   "execution_count": 130,
   "id": "a1cb3a65",
   "metadata": {},
   "outputs": [
    {
     "name": "stdout",
     "output_type": "stream",
     "text": [
      "Tipo de dato a: <class 'int'> ; valor: 10\n",
      "Tipo de dato b: <class 'float'> ; valor: 4.5\n",
      "Tipo de dato b: <class 'complex'> ; valor: (1+6j)\n"
     ]
    }
   ],
   "source": [
    "a = 10\n",
    "print('Tipo de dato a:', type(a), '; valor:',a)\n",
    "\n",
    "b = 4.5\n",
    "print('Tipo de dato b:', type(b), '; valor:',b)\n",
    "\n",
    "c = 1+6j\n",
    "print('Tipo de dato b:', type(c), '; valor:',c)"
   ]
  },
  {
   "cell_type": "markdown",
   "id": "2f8963f6",
   "metadata": {},
   "source": [
    "###  2. Strings\n",
    "\n",
    "Secuencia de caracteres."
   ]
  },
  {
   "cell_type": "code",
   "execution_count": 131,
   "id": "c5792fa6",
   "metadata": {},
   "outputs": [],
   "source": [
    "a = 'Hola'"
   ]
  },
  {
   "cell_type": "code",
   "execution_count": 134,
   "id": "525a5acd",
   "metadata": {},
   "outputs": [
    {
     "data": {
      "text/plain": [
       "str"
      ]
     },
     "execution_count": 134,
     "metadata": {},
     "output_type": "execute_result"
    }
   ],
   "source": [
    "type(a)"
   ]
  },
  {
   "cell_type": "markdown",
   "id": "74794565",
   "metadata": {},
   "source": [
    "### 3. Listas\n",
    "\n",
    "Las listas son una secuencia de elementos ordenados. Se dice que las listas son **mutables**, por lo que puedes modificarlas, eliminar o agregar elementos. Se definen con el uso de `[ ]`."
   ]
  },
  {
   "cell_type": "code",
   "execution_count": 135,
   "id": "0741a68c",
   "metadata": {},
   "outputs": [],
   "source": [
    "mi_lista = [98, 'David', 8.6, 98]"
   ]
  },
  {
   "cell_type": "code",
   "execution_count": 136,
   "id": "1ebe8814",
   "metadata": {},
   "outputs": [
    {
     "data": {
      "text/plain": [
       "list"
      ]
     },
     "execution_count": 136,
     "metadata": {},
     "output_type": "execute_result"
    }
   ],
   "source": [
    "type(mi_lista)"
   ]
  },
  {
   "cell_type": "markdown",
   "id": "b8a9b6a5",
   "metadata": {},
   "source": [
    "### 4. Tuplas\n",
    "\n",
    "Una tupla es similar a la lista pero estas son **inmutables**, por lo que NO puedes cambiar los elementos de la tupla. Dependiento del contexto utilizas tuplas en lugar de listas, sobre todo si no quieres modificar tus datos. Éstas se definen como `( )`."
   ]
  },
  {
   "cell_type": "code",
   "execution_count": 137,
   "id": "b22e7973",
   "metadata": {},
   "outputs": [],
   "source": [
    "mi_tupla = (99, 'Andrea', 7.6, 99)"
   ]
  },
  {
   "cell_type": "code",
   "execution_count": 138,
   "id": "86957b71",
   "metadata": {},
   "outputs": [
    {
     "data": {
      "text/plain": [
       "tuple"
      ]
     },
     "execution_count": 138,
     "metadata": {},
     "output_type": "execute_result"
    }
   ],
   "source": [
    "type(mi_tupla)"
   ]
  },
  {
   "cell_type": "code",
   "execution_count": null,
   "id": "2da3cc75",
   "metadata": {},
   "outputs": [],
   "source": []
  }
 ],
 "metadata": {
  "kernelspec": {
   "display_name": "Python 3 (ipykernel)",
   "language": "python",
   "name": "python3"
  },
  "language_info": {
   "codemirror_mode": {
    "name": "ipython",
    "version": 3
   },
   "file_extension": ".py",
   "mimetype": "text/x-python",
   "name": "python",
   "nbconvert_exporter": "python",
   "pygments_lexer": "ipython3",
   "version": "3.8.13"
  }
 },
 "nbformat": 4,
 "nbformat_minor": 5
}

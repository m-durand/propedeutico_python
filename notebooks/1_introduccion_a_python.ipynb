{
 "cells": [
  {
   "cell_type": "markdown",
   "id": "e44d6978",
   "metadata": {},
   "source": [
    "# Introducción a Python, verano 2023\n",
    "\n",
    "\n",
    "En este curso, aprenderemos los comandos básicos de Python que nos permitirán hacer análisis de datos, especialmente para datos más o menos grandes.\n",
    "\n",
    "## ¿Qué es Python?\n",
    "\n",
    "Python es un lenguaje de programación muy versátil, que se utiliza para tareas diversas que van desde el análisis de datos hasta el desarrollo de páginas web y software. \n",
    "\n",
    "\n",
    "## ¿Qué haremos en este curso?\n",
    "\n",
    "Durante las próximas dos semanas, utilizaremos las siguientes bases de datos, ambas provenientes de datos abiertos de México:\n",
    "* Base 1\n",
    "* Base 2\n",
    "\n",
    "¡Vamos a empezar!\n",
    "\n",
    "Antes que nada: estaremos trabajando en jupyter notebooks.\n",
    "\n",
    "## ¿Qué es un notebook?\n",
    "\n",
    "Los notebooks son un tipo de archivo que nos permite ejecutar código de Python (principalmente). Están compuestos de celdas. En términos generales, existen dos tipos de celdas: las de texto (como esta, en la que nos encontramos) y las de código (como la siguiente). En los notebooks, las celdas de texto nos ayudan a mantener una historia, explicar e interpretar las tablas y gráficas que resulten del análisis, y en general mantener una estructura amigable para compartir nuestro trabajo con otras personas.\n",
    "\n",
    "Existe otro tipo de archivos comúnmente utilizado para código de python: aquellos terminados en `.py`, que solamente contienen código ejecutable. Este formato es el más amigable para la computadora, que no necesita las interpretaciones sino solamente las instrucciones."
   ]
  },
  {
   "cell_type": "code",
   "execution_count": 1,
   "id": "108212c5",
   "metadata": {},
   "outputs": [],
   "source": [
    "# Este es un ejemplo de celda con código. Específicamente, esta es una línea de comentario.\n",
    "\n",
    "# Esto es una variable:\n",
    "x = 5"
   ]
  },
  {
   "cell_type": "markdown",
   "id": "37003e0f",
   "metadata": {},
   "source": [
    "El comando \"print\" puede mostrar, en el espacio justo después de la celda donde se ejecuta, un texto:"
   ]
  },
  {
   "cell_type": "code",
   "execution_count": 2,
   "id": "aa77079e",
   "metadata": {},
   "outputs": [
    {
     "name": "stdout",
     "output_type": "stream",
     "text": [
      "¡Hola, mundo!\n"
     ]
    }
   ],
   "source": [
    "print(\"¡Hola, mundo!\")"
   ]
  },
  {
   "cell_type": "markdown",
   "id": "8c61aee2",
   "metadata": {},
   "source": [
    "O, también, puede mostrar el contenido de una variable:"
   ]
  },
  {
   "cell_type": "code",
   "execution_count": 3,
   "id": "5de304f0",
   "metadata": {},
   "outputs": [
    {
     "name": "stdout",
     "output_type": "stream",
     "text": [
      "5\n"
     ]
    }
   ],
   "source": [
    "print(x)"
   ]
  }
 ],
 "metadata": {
  "kernelspec": {
   "display_name": "Python 3 (ipykernel)",
   "language": "python",
   "name": "python3"
  },
  "language_info": {
   "codemirror_mode": {
    "name": "ipython",
    "version": 3
   },
   "file_extension": ".py",
   "mimetype": "text/x-python",
   "name": "python",
   "nbconvert_exporter": "python",
   "pygments_lexer": "ipython3",
   "version": "3.9.6"
  }
 },
 "nbformat": 4,
 "nbformat_minor": 5
}

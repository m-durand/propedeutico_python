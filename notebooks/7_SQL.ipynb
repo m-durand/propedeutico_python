{
 "cells": [
  {
   "cell_type": "markdown",
   "id": "a74215cb",
   "metadata": {},
   "source": [
    "[![Open In Colab](https://colab.research.google.com/assets/colab-badge.svg)](https://colab.research.google.com/github/m-durand/propedeutico_python/blob/main/notebooks/7_SQL.ipynb)"
   ]
  },
  {
   "cell_type": "markdown",
   "id": "17c59b4f",
   "metadata": {},
   "source": [
    "## Ejercicios Sesión 1. Introducción a python."
   ]
  },
  {
   "cell_type": "code",
   "execution_count": 21,
   "id": "95d1a6aa",
   "metadata": {},
   "outputs": [],
   "source": [
    "# ejercicio 1\n",
    "\n",
    "x = 29\n",
    "y = 17\n",
    "z = 30"
   ]
  },
  {
   "cell_type": "code",
   "execution_count": 22,
   "id": "55f0ef23",
   "metadata": {},
   "outputs": [
    {
     "name": "stdout",
     "output_type": "stream",
     "text": [
      "493\n",
      "1.7647058823529411\n",
      "59\n"
     ]
    }
   ],
   "source": [
    "# ejercicio 2\n",
    "\n",
    "print(x*y)\n",
    "print(z/y)\n",
    "print(x+z)"
   ]
  },
  {
   "cell_type": "code",
   "execution_count": 23,
   "id": "5890b986",
   "metadata": {},
   "outputs": [
    {
     "name": "stdout",
     "output_type": "stream",
     "text": [
      "33\n"
     ]
    }
   ],
   "source": [
    "# ejercicio 3\n",
    "\n",
    "w = 3\n",
    "w += z\n",
    "print(w)"
   ]
  },
  {
   "cell_type": "code",
   "execution_count": 24,
   "id": "390a3350",
   "metadata": {},
   "outputs": [
    {
     "name": "stdout",
     "output_type": "stream",
     "text": [
      "Hola, mi nombre es Elena, y tengo 29 años\n",
      "Hay solo 8 vaquitas marinas en el Golfo de California, México\n"
     ]
    }
   ],
   "source": [
    "# ejercicio 4\n",
    "\n",
    "nombre = 'Elena'\n",
    "edad = 29\n",
    "mensaje_1 = 'Hola, mi nombre es {}, y tengo {} años'.format(nombre, edad)\n",
    "print(mensaje_1)\n",
    "\n",
    "vaquitas = 8\n",
    "donde = 'Golfo de California, México'\n",
    "mensaje_2 = 'Hay solo {} vaquitas marinas en el {}'.format(vaquitas,donde)\n",
    "print(mensaje_2)"
   ]
  },
  {
   "cell_type": "code",
   "execution_count": 25,
   "id": "ab65364b",
   "metadata": {},
   "outputs": [
    {
     "name": "stdout",
     "output_type": "stream",
     "text": [
      "1. Lista: [('Ale', 20), ('Pedro', 22), ('Luis', 19), ('Diana', 21), ('Eva', 20)]\n",
      "2. Tercer estudiante en lista: Luis\n",
      "3. Son 5 estudiantes, y el 2do estudiante es Pedro, y tiene 22 años\n",
      "4. Lista actualizada: [('Ale', 20), ('Pedro', 22), ('Luis', 19), ('Diana', 21), ('Eva', 20), ('Juan', 25)]\n",
      "5. Último estudiante: ('Juan', 25)\n",
      "6. ¿El 4to Estudiante tiene más de 22 años? False\n"
     ]
    }
   ],
   "source": [
    "# ejercicio 5\n",
    "# 1. \n",
    "lista_estudiantes = [(\"Ale\", 20), (\"Pedro\", 22), (\"Luis\", 19), (\"Diana\", 21), (\"Eva\", 20)]\n",
    "print('1. Lista:', lista_estudiantes)\n",
    "\n",
    "# 2. \n",
    "print('2. Tercer estudiante en lista:', lista_estudiantes[2][0])\n",
    "\n",
    "# 3. \n",
    "num = len(lista_estudiantes)\n",
    "est2 = lista_estudiantes[1][0]\n",
    "edd2 = lista_estudiantes[1][1]\n",
    "mensaje = '3. Son {} estudiantes, y el 2do estudiante es {}, y tiene {} años'.format(num,est2,edd2)\n",
    "print(mensaje)\n",
    "\n",
    "# 4.\n",
    "lista_estudiantes.append(('Juan',25))\n",
    "print('4. Lista actualizada:',lista_estudiantes)\n",
    "\n",
    "# 5. \n",
    "print('5. Último estudiante:', lista_estudiantes[-1])\n",
    "\n",
    "# 6.\n",
    "mas22 = lista_estudiantes[3][1]>22\n",
    "print('6. ¿El 4to Estudiante tiene más de 22 años?', mas22)"
   ]
  },
  {
   "cell_type": "markdown",
   "id": "f58509e1",
   "metadata": {},
   "source": [
    "## Ejercicios 2. Más introducción a python"
   ]
  },
  {
   "cell_type": "code",
   "execution_count": 29,
   "id": "9300a38f",
   "metadata": {},
   "outputs": [
    {
     "name": "stdout",
     "output_type": "stream",
     "text": [
      "¡Vamos a la alberca! :D\n"
     ]
    }
   ],
   "source": [
    "temperatura = 30\n",
    "clima = 'nublado'\n",
    "\n",
    "if temperatura >= 30:\n",
    "    print(\"¡Vamos a la alberca! :D\")\n",
    "elif temperatura <= 18:\n",
    "    print('Ponte el sueter')\n",
    "elif clima != 'nublado':\n",
    "    print('Lleva \\U00002602')\n",
    "else:\n",
    "    print('Clima chido', '\\U0001F324 \\U0001F600')"
   ]
  },
  {
   "cell_type": "code",
   "execution_count": null,
   "id": "b44c40c1",
   "metadata": {},
   "outputs": [],
   "source": []
  }
 ],
 "metadata": {
  "kernelspec": {
   "display_name": "Python 3 (ipykernel)",
   "language": "python",
   "name": "python3"
  },
  "language_info": {
   "codemirror_mode": {
    "name": "ipython",
    "version": 3
   },
   "file_extension": ".py",
   "mimetype": "text/x-python",
   "name": "python",
   "nbconvert_exporter": "python",
   "pygments_lexer": "ipython3",
   "version": "3.8.13"
  }
 },
 "nbformat": 4,
 "nbformat_minor": 5
}
